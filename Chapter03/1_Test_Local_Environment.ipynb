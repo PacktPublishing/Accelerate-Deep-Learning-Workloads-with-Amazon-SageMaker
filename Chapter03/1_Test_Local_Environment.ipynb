{
 "cells": [
  {
   "cell_type": "markdown",
   "id": "5b84e0fc",
   "metadata": {},
   "source": [
    "## Testing Local Environment \n",
    "\n",
    "Once we installed Conda environment and JupyterLab, we can test that we can programmatically interact with SageMaker from local notebook. Please make sure to select to select appropriate `sagemaker` kernel before running cells below.\n",
    "\n",
    "Let's start by establishing SageMaker session and specifying SageMaker execution role. Please note, that you will need to manually define your execution role. For SageMaker managed environments such as SageMaker Studio or SageMaker Notebooks you get use method `get_execution_role()` to retrieve execution role."
   ]
  },
  {
   "cell_type": "code",
   "execution_count": null,
   "id": "fad2c296",
   "metadata": {},
   "outputs": [],
   "source": [
    "import sagemaker, boto3\n",
    "from sagemaker import get_execution_role\n",
    "\n",
    "session = sagemaker.Session()\n",
    "account = boto3.client('sts').get_caller_identity().get('Account')\n",
    "role = f\"arn:aws:iam::{account}:role/service-role/AmazonSageMaker-ExecutionRole-<YOUR_ROLE_ID>\" \n",
    "# role = get_execution_role() # this method allows to automatically get attached role from SageMaker managed runtimes. Will not work on local environment."
   ]
  },
  {
   "cell_type": "code",
   "execution_count": null,
   "id": "34ac5d6d",
   "metadata": {},
   "outputs": [],
   "source": [
    "from sagemaker.pytorch import PyTorch\n",
    "import os\n",
    "\n",
    "pytorch_estimator = PyTorch(\n",
    "                        session=session,\n",
    "                        entry_point=f'{os.getcwd()}/sources/cifar10.py',\n",
    "                        role=role,\n",
    "                        instance_type=\"ml.m4.xlarge\",\n",
    "                        instance_count=1,\n",
    "                        job_name=\"test\",\n",
    "                        framework_version=\"1.9.0\",\n",
    "                        py_version=\"py38\",\n",
    "                        hyperparameters={\n",
    "                            \"epochs\": 1,\n",
    "                            \"batch-size\": 16\n",
    "                            }\n",
    "                        )\n",
    "\n",
    "pytorch_estimator.fit()\n"
   ]
  },
  {
   "cell_type": "markdown",
   "id": "54974983",
   "metadata": {},
   "source": [
    "Once training job is done, you can explore locally training results and where output artifacts have been stored."
   ]
  },
  {
   "cell_type": "code",
   "execution_count": null,
   "id": "b1e83e4b",
   "metadata": {},
   "outputs": [],
   "source": [
    "pytorch_estimator.latest_training_job.describe()"
   ]
  }
 ],
 "metadata": {
  "interpreter": {
   "hash": "cae6ef5e525c6d5a8daa33565a4e32326fcdb22bb4405c41032726ef6ebbb77e"
  },
  "kernelspec": {
   "display_name": "conda_pytorch_p36",
   "language": "python",
   "name": "python3"
  },
  "language_info": {
   "codemirror_mode": {
    "name": "ipython",
    "version": 3
   },
   "file_extension": ".py",
   "mimetype": "text/x-python",
   "name": "python",
   "nbconvert_exporter": "python",
   "pygments_lexer": "ipython3",
   "version": "3.9.7"
  }
 },
 "nbformat": 4,
 "nbformat_minor": 5
}
