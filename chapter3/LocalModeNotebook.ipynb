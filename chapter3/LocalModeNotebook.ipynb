{
 "cells": [
  {
   "cell_type": "code",
   "execution_count": null,
   "id": "fad2c296",
   "metadata": {},
   "outputs": [],
   "source": [
    "import sagemaker, boto3\n",
    "# from sagemaker import get_execution_role\n",
    "\n",
    "session = sagemaker.Session()\n",
    "# this should be changed to get_execution_role() for book\n",
    "role = \"arn:aws:iam::941656036254:role/service-role/AmazonSageMaker-ExecutionRole-20210904T193230\" \n",
    "account = boto3.client('sts').get_caller_identity().get('Account')"
   ]
  },
  {
   "cell_type": "code",
   "execution_count": null,
   "id": "232c994d",
   "metadata": {},
   "outputs": [],
   "source": [
    "# loging to Sagemaker ECR with Deep Learning Containers, so SageMaker can pull images in local mode\n",
    "!aws ecr get-login-password --region us-east-1 | docker login --username AWS --password-stdin 763104351884.dkr.ecr.us-east-1.amazonaws.com"
   ]
  },
  {
   "cell_type": "code",
   "execution_count": null,
   "id": "270c5bc8",
   "metadata": {},
   "outputs": [],
   "source": [
    "from sagemaker.local import LocalSession\n",
    "\n",
    "sagemaker_local_session = LocalSession()\n",
    "sagemaker_local_session.config = {'local': {'local_code': True}}"
   ]
  },
  {
   "cell_type": "code",
   "execution_count": null,
   "id": "2bd68435",
   "metadata": {},
   "outputs": [],
   "source": [
    "import os\n",
    "import subprocess\n",
    "\n",
    "instance_type = \"local\"\n",
    "\n",
    "try:\n",
    "    if subprocess.call(\"nvidia-smi\") == 0:\n",
    "        ## Set type to GPU if one is present\n",
    "        instance_type = \"local_gpu\"\n",
    "except:\n",
    "    pass\n",
    "\n",
    "print(\"Instance type = \" + instance_type)"
   ]
  },
  {
   "cell_type": "code",
   "execution_count": null,
   "id": "34ac5d6d",
   "metadata": {},
   "outputs": [],
   "source": [
    "from sagemaker.pytorch import PyTorch\n",
    "import os\n",
    "\n",
    "# Configure an MXNet Estimator (no training happens yet)\n",
    "pytorch_estimator = PyTorch(\n",
    "                        session=sagemaker_local_session,\n",
    "                        entry_point=f'{os.getcwd()}/x_local_mode/train.py',\n",
    "                        role=role,\n",
    "                        instance_type=instance_type,\n",
    "                        instance_count=1,\n",
    "                        job_name=\"test\",\n",
    "                        framework_version=\"1.9.0\",\n",
    "                        py_version=\"py38\",\n",
    "                        hyperparameters={\n",
    "                            \"epochs\": 1,\n",
    "                            \"batch-size\": 16\n",
    "                            }\n",
    "                        )\n",
    "\n",
    "pytorch_estimator.fit()\n"
   ]
  },
  {
   "cell_type": "code",
   "execution_count": null,
   "id": "4c6d0cd3",
   "metadata": {},
   "outputs": [],
   "source": [
    "endpoint = pytorch_estimator.deploy(initial_instance_count=1, instance_type=instance_type)"
   ]
  },
  {
   "cell_type": "code",
   "execution_count": null,
   "id": "b1e83e4b",
   "metadata": {},
   "outputs": [],
   "source": []
  },
  {
   "cell_type": "code",
   "execution_count": null,
   "id": "acdba22a",
   "metadata": {},
   "outputs": [],
   "source": [
    "# move this down on inference test\n",
    "\n",
    "import torchvision\n",
    "import torchvision.transforms as transforms\n",
    "\n",
    "transform = transforms.Compose(\n",
    "    [transforms.ToTensor(), transforms.Normalize((0.5, 0.5, 0.5), (0.5, 0.5, 0.5))]\n",
    ")\n",
    "\n",
    "trainset = torchvision.datasets.CIFAR10(\n",
    "    root=os.getenv(\"SM_CHANNEL_TRAINING\", \"./\"),\n",
    "    train=True,\n",
    "    download=True,\n",
    "    transform=transform,\n",
    ")\n",
    "\n"
   ]
  },
  {
   "cell_type": "code",
   "execution_count": null,
   "id": "01e00981",
   "metadata": {},
   "outputs": [],
   "source": [
    "import torch \n",
    "\n",
    "def _get_data_loader():\n",
    "    transform = transforms.Compose(\n",
    "        [transforms.ToTensor(), transforms.Normalize((0.5, 0.5, 0.5), (0.5, 0.5, 0.5))]\n",
    "    )\n",
    "\n",
    "    trainset = torchvision.datasets.CIFAR10(\n",
    "        root=\".\",\n",
    "        train=True,\n",
    "        download=True,\n",
    "        transform=transform,\n",
    "    )\n",
    "    trainloader = torch.utils.data.DataLoader(\n",
    "        trainset, batch_size=1, shuffle=True, num_workers=2\n",
    "    )\n",
    "\n",
    "    return trainloader\n",
    "\n",
    "\n",
    "dataloader = _get_data_loader()"
   ]
  },
  {
   "cell_type": "code",
   "execution_count": null,
   "id": "0c04fefd",
   "metadata": {},
   "outputs": [],
   "source": [
    "item, label = next(iter(dataloader))"
   ]
  },
  {
   "cell_type": "code",
   "execution_count": null,
   "id": "22cbd44a",
   "metadata": {},
   "outputs": [],
   "source": [
    "import requests\n",
    "import json \n",
    "\n",
    "\n",
    "payload = trainset[0][0].numpy().tobytes()\n",
    "url = 'http://127.0.0.1:8080/invocations'\n",
    "content_type = 'application/x-npy'\n",
    "accept_type = \"application/json\"\n",
    "headers = {'content-type': content_type, 'accept': accept_type}\n",
    "\n",
    "response = requests.post(url, data=payload, headers=headers)\n",
    "print(json.loads(response.content)[0])\n"
   ]
  }
 ],
 "metadata": {
  "interpreter": {
   "hash": "cae6ef5e525c6d5a8daa33565a4e32326fcdb22bb4405c41032726ef6ebbb77e"
  },
  "kernelspec": {
   "display_name": "conda_pytorch_p36",
   "language": "python",
   "name": "python3"
  },
  "language_info": {
   "codemirror_mode": {
    "name": "ipython",
    "version": 3
   },
   "file_extension": ".py",
   "mimetype": "text/x-python",
   "name": "python",
   "nbconvert_exporter": "python",
   "pygments_lexer": "ipython3",
   "version": "3.9.7"
  }
 },
 "nbformat": 4,
 "nbformat_minor": 5
}
