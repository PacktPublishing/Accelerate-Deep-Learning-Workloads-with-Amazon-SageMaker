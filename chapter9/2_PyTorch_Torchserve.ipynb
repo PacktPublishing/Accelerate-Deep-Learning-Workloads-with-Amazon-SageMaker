{
 "cells": [
  {
   "cell_type": "markdown",
   "metadata": {},
   "source": [
    "# Torchserve\n",
    "\n",
    "## Installing"
   ]
  },
  {
   "cell_type": "code",
   "execution_count": 2,
   "metadata": {},
   "outputs": [
    {
     "name": "stdout",
     "output_type": "stream",
     "text": [
      "Requirement already satisfied: torchserve in /Users/vdabravolski/miniconda/envs/sagemaker2/lib/python3.9/site-packages (0.6.0)\n",
      "Requirement already satisfied: torch-model-archiver in /Users/vdabravolski/miniconda/envs/sagemaker2/lib/python3.9/site-packages (0.6.0)\n",
      "Requirement already satisfied: torch-workflow-archiver in /Users/vdabravolski/miniconda/envs/sagemaker2/lib/python3.9/site-packages (0.2.4)\n",
      "Requirement already satisfied: psutil in /Users/vdabravolski/miniconda/envs/sagemaker2/lib/python3.9/site-packages (from torchserve) (5.9.1)\n",
      "Requirement already satisfied: wheel in /Users/vdabravolski/miniconda/envs/sagemaker2/lib/python3.9/site-packages (from torchserve) (0.37.1)\n",
      "Requirement already satisfied: future in /Users/vdabravolski/miniconda/envs/sagemaker2/lib/python3.9/site-packages (from torchserve) (0.18.2)\n",
      "Requirement already satisfied: packaging in /Users/vdabravolski/miniconda/envs/sagemaker2/lib/python3.9/site-packages (from torchserve) (21.3)\n",
      "Requirement already satisfied: Pillow in /Users/vdabravolski/miniconda/envs/sagemaker2/lib/python3.9/site-packages (from torchserve) (9.1.1)\n",
      "Requirement already satisfied: enum-compat in /Users/vdabravolski/miniconda/envs/sagemaker2/lib/python3.9/site-packages (from torch-model-archiver) (0.0.3)\n",
      "Requirement already satisfied: pyparsing!=3.0.5,>=2.0.2 in /Users/vdabravolski/miniconda/envs/sagemaker2/lib/python3.9/site-packages (from packaging->torchserve) (3.0.4)\n"
     ]
    }
   ],
   "source": [
    "! pip install torchserve torch-model-archiver torch-workflow-archiver\n",
    "# or for conda environments\n",
    "! conda install -c pytorch torchserve torch-model-archiver torch-workflow-archiver"
   ]
  },
  {
   "cell_type": "markdown",
   "metadata": {},
   "source": [
    "After proper installation you should be able to call torcheserve and its utils from console like `torchserve ...`"
   ]
  },
  {
   "cell_type": "code",
   "execution_count": 5,
   "metadata": {},
   "outputs": [
    {
     "name": "stdout",
     "output_type": "stream",
     "text": [
      "Cloning into 'torchserve-examples'...\n",
      "remote: Enumerating objects: 31558, done.\u001b[K\n",
      "remote: Counting objects: 100% (242/242), done.\u001b[K\n",
      "remote: Compressing objects: 100% (94/94), done.\u001b[K\n",
      "remote: Total 31558 (delta 150), reused 217 (delta 138), pack-reused 31316\u001b[K\n",
      "Receiving objects: 100% (31558/31558), 57.86 MiB | 19.49 MiB/s, done.\n",
      "Resolving deltas: 100% (18885/18885), done.\n"
     ]
    }
   ],
   "source": [
    "! mkdir torchserve-examples\n",
    "! git clone https://github.com/pytorch/serve.git torchserve-examples"
   ]
  },
  {
   "cell_type": "markdown",
   "metadata": {},
   "source": [
    "\n",
    "## Model Packaging"
   ]
  },
  {
   "cell_type": "code",
   "execution_count": 6,
   "metadata": {},
   "outputs": [],
   "source": [
    "! mkdir Transformer_model\n",
    "! mv 2_src/setup_config.json torchserve-examples/examples/Huggingface_Transformers/setup_config.json"
   ]
  },
  {
   "cell_type": "code",
   "execution_count": 10,
   "metadata": {},
   "outputs": [
    {
     "name": "stdout",
     "output_type": "stream",
     "text": [
      "Traceback (most recent call last):\n",
      "  File \"/Users/vdabravolski/repos/Accelerate-Deep-Learning-Workloads-with-Amazon-SageMaker/chapter9/torchserve-examples/examples/Huggingface_Transformers/Download_Transformer_models.py\", line 1, in <module>\n",
      "    import transformers\n",
      "ModuleNotFoundError: No module named 'transformers'\n"
     ]
    }
   ],
   "source": [
    "# Download the model according to provided config\n",
    "! python torchserve-examples/examples/Huggingface_Transformers/Download_Transformer_models.py"
   ]
  },
  {
   "cell_type": "code",
   "execution_count": 14,
   "metadata": {},
   "outputs": [],
   "source": [
    "! torch-model-archiver --model-name BERTQA --version 1.0 --serialized-file Transformer_model/pytorch_model.bin --handler torchserve-examples/examples/Huggingface_Transformers/Transformer_handler_generalized.py --extra-files \"Transformer_model/config.json,./torchserve-examples/examples/Huggingface_Transformers/setup_config.json\"\n",
    "\n",
    "# This produces BERTQA.mar archive"
   ]
  },
  {
   "cell_type": "code",
   "execution_count": 9,
   "metadata": {},
   "outputs": [],
   "source": [
    "\n",
    "import sagemaker\n",
    "from sagemaker import get_execution_role\n",
    "\n",
    "sagemaker_session = sagemaker.Session()\n",
    "#role = get_execution_role()  # TODO: replace it\n",
    "role=\"arn:aws:iam::941656036254:role/service-role/AmazonSageMaker-ExecutionRole-20210904T193230\" # TODO: this has to be replaced\n",
    "\n",
    "bucket = sagemaker_session.default_bucket()\n",
    "prefix = 'torchserve'\n",
    "s3_path = 's3://{}/{}'.format(bucket, prefix)\n"
   ]
  },
  {
   "cell_type": "code",
   "execution_count": 10,
   "metadata": {},
   "outputs": [],
   "source": [
    "\n",
    "model_data = sagemaker_session.upload_data('distilbert-base-uncased-distilled-squad',\n",
    "                                           bucket,\n",
    "                                           os.path.join(prefix, 'model-artifacts'))"
   ]
  },
  {
   "cell_type": "code",
   "execution_count": 11,
   "metadata": {},
   "outputs": [
    {
     "data": {
      "text/plain": [
       "'s3://sagemaker-us-east-1-941656036254/torchserve/model-artifacts'"
      ]
     },
     "execution_count": 11,
     "metadata": {},
     "output_type": "execute_result"
    }
   ],
   "source": [
    "model_data"
   ]
  },
  {
   "cell_type": "code",
   "execution_count": 1,
   "metadata": {},
   "outputs": [],
   "source": [
    "model_data = \"s3://sagemaker-us-east-1-941656036254/torchserve/model-artifacts\""
   ]
  },
  {
   "cell_type": "markdown",
   "metadata": {},
   "source": [
    "# Local Mode"
   ]
  },
  {
   "cell_type": "code",
   "execution_count": 2,
   "metadata": {},
   "outputs": [
    {
     "name": "stderr",
     "output_type": "stream",
     "text": [
      "/Users/vdabravolski/miniconda/envs/sagemaker2/lib/python3.9/site-packages/sagemaker/local/local_session.py:562: YAMLLoadWarning: calling yaml.load() without Loader=... is deprecated, as the default Loader is unsafe. Please read https://msg.pyyaml.org/load for full details.\n",
      "  self.config = yaml.load(open(sagemaker_config_file, \"r\"))\n"
     ]
    }
   ],
   "source": [
    "import boto3\n",
    "from sagemaker.local import LocalSession\n",
    "\n",
    "sagemaker_local_session = LocalSession()\n",
    "sagemaker_local_session.config = {'local': {'local_code': True}}\n",
    "account = boto3.client('sts').get_caller_identity().get('Account')\n",
    "role = \"arn:aws:iam::941656036254:role/service-role/AmazonSageMaker-ExecutionRole-20210904T193230\""
   ]
  },
  {
   "cell_type": "code",
   "execution_count": 3,
   "metadata": {},
   "outputs": [
    {
     "name": "stdout",
     "output_type": "stream",
     "text": [
      "Instance type = local\n"
     ]
    }
   ],
   "source": [
    "import os\n",
    "import subprocess\n",
    "\n",
    "instance_type = \"local\"\n",
    "\n",
    "try:\n",
    "    if subprocess.call(\"nvidia-smi\") == 0:\n",
    "        ## Set type to GPU if one is present\n",
    "        instance_type = \"local_gpu\"\n",
    "except:\n",
    "    pass\n",
    "\n",
    "print(\"Instance type = \" + instance_type)"
   ]
  },
  {
   "cell_type": "markdown",
   "metadata": {},
   "source": [
    "# Create Inference script"
   ]
  },
  {
   "cell_type": "markdown",
   "metadata": {},
   "source": []
  },
  {
   "cell_type": "code",
   "execution_count": 25,
   "metadata": {},
   "outputs": [
    {
     "name": "stdout",
     "output_type": "stream",
     "text": [
      "\u001b[34mimport\u001b[39;49;00m \u001b[04m\u001b[36mtorch\u001b[39;49;00m\n",
      "\u001b[34mimport\u001b[39;49;00m \u001b[04m\u001b[36mos\u001b[39;49;00m\n",
      "\u001b[34mimport\u001b[39;49;00m \u001b[04m\u001b[36mjson\u001b[39;49;00m\n",
      "\u001b[34mfrom\u001b[39;49;00m \u001b[04m\u001b[36mtransformers\u001b[39;49;00m \u001b[34mimport\u001b[39;49;00m pipeline\n",
      "\n",
      "\n",
      "JSON_CONTENT_TYPE = \u001b[33m\"\u001b[39;49;00m\u001b[33mapplication/json\u001b[39;49;00m\u001b[33m\"\u001b[39;49;00m\n",
      "\n",
      "\n",
      "\u001b[34mdef\u001b[39;49;00m \u001b[32mmodel_fn\u001b[39;49;00m(model_dir):\n",
      "    \u001b[36mprint\u001b[39;49;00m(\u001b[33mf\u001b[39;49;00m\u001b[33m\"\u001b[39;49;00m\u001b[33m!!!!!!!!! loading model from \u001b[39;49;00m\u001b[33m{\u001b[39;49;00mmodel_dir\u001b[33m}\u001b[39;49;00m\u001b[33m\"\u001b[39;49;00m)\n",
      "    model_pipeline = pipeline(\n",
      "        \u001b[33m\"\u001b[39;49;00m\u001b[33mquestion-answering\u001b[39;49;00m\u001b[33m\"\u001b[39;49;00m,\n",
      "        model=os.path.join(model_dir, \u001b[33m\"\u001b[39;49;00m\u001b[33mdistilbert-base-uncased-distilled-squad\u001b[39;49;00m\u001b[33m\"\u001b[39;49;00m),\n",
      "    )\n",
      "    \u001b[34mreturn\u001b[39;49;00m model_pipeline\n",
      "\n",
      "\n",
      "\u001b[34mdef\u001b[39;49;00m \u001b[32minput_fn\u001b[39;49;00m(serialized_input_data, content_type=JSON_CONTENT_TYPE):\n",
      "    \u001b[36mprint\u001b[39;49;00m(\u001b[33m\"\u001b[39;49;00m\u001b[33m****************\u001b[39;49;00m\u001b[33m\"\u001b[39;49;00m)\n",
      "    \u001b[36mprint\u001b[39;49;00m(content_type)\n",
      "    \u001b[34mif\u001b[39;49;00m content_type == JSON_CONTENT_TYPE:\n",
      "        \u001b[37m# input_data = json.loads(serialized_input_data)\u001b[39;49;00m\n",
      "        \u001b[36mprint\u001b[39;49;00m(\u001b[33m\"\u001b[39;49;00m\u001b[33minside deser if\u001b[39;49;00m\u001b[33m\"\u001b[39;49;00m)\n",
      "        \u001b[36mprint\u001b[39;49;00m(\u001b[36mtype\u001b[39;49;00m(serialized_input_data))\n",
      "        input_data = json.loads(serialized_input_data)\n",
      "        \u001b[36mprint\u001b[39;49;00m(\u001b[33mf\u001b[39;49;00m\u001b[33m\"\u001b[39;49;00m\u001b[33m!!!!!!!!! deser input data \u001b[39;49;00m\u001b[33m{\u001b[39;49;00minput_data\u001b[33m}\u001b[39;49;00m\u001b[33m\"\u001b[39;49;00m)\n",
      "        \u001b[34mreturn\u001b[39;49;00m input_data\n",
      "    \u001b[34melse\u001b[39;49;00m:\n",
      "        \u001b[36mException\u001b[39;49;00m(\u001b[33m\"\u001b[39;49;00m\u001b[33mRequested unsupported ContentType in Accept: \u001b[39;49;00m\u001b[33m\"\u001b[39;49;00m + content_type)\n",
      "\n",
      "\n",
      "\u001b[34mdef\u001b[39;49;00m \u001b[32mpredict_fn\u001b[39;49;00m(input_data, model_pipeline):\n",
      "    \u001b[36mprint\u001b[39;49;00m(\u001b[33m\"\u001b[39;49;00m\u001b[33mInside predict_fn\u001b[39;49;00m\u001b[33m\"\u001b[39;49;00m)\n",
      "    \u001b[36mprint\u001b[39;49;00m(input_data)\n",
      "    \u001b[34mtry\u001b[39;49;00m:\n",
      "        results = model_pipeline(\n",
      "            question=input_data[\u001b[33m\"\u001b[39;49;00m\u001b[33mquestion\u001b[39;49;00m\u001b[33m\"\u001b[39;49;00m], context=input_data[\u001b[33m\"\u001b[39;49;00m\u001b[33mcontext\u001b[39;49;00m\u001b[33m\"\u001b[39;49;00m]\n",
      "        )\n",
      "    \u001b[34mexcept\u001b[39;49;00m \u001b[36mException\u001b[39;49;00m \u001b[34mas\u001b[39;49;00m e:\n",
      "        \u001b[36mprint\u001b[39;49;00m(e)\n",
      "        \u001b[34mreturn\u001b[39;49;00m \u001b[36mstr\u001b[39;49;00m(e)\n",
      "    \u001b[36mprint\u001b[39;49;00m(\u001b[33mf\u001b[39;49;00m\u001b[33m\"\u001b[39;49;00m\u001b[33m!!!!! results \u001b[39;49;00m\u001b[33m{\u001b[39;49;00mresults\u001b[33m}\u001b[39;49;00m\u001b[33m\"\u001b[39;49;00m)\n",
      "    \u001b[34mreturn\u001b[39;49;00m results\n",
      "\n",
      "\n",
      "\u001b[34mdef\u001b[39;49;00m \u001b[32moutput_fn\u001b[39;49;00m(prediction_output, accept=JSON_CONTENT_TYPE):\n",
      "    \u001b[36mprint\u001b[39;49;00m(\u001b[33mf\u001b[39;49;00m\u001b[33m\"\u001b[39;49;00m\u001b[33m!!!!! Accept \u001b[39;49;00m\u001b[33m{\u001b[39;49;00maccept\u001b[33m}\u001b[39;49;00m\u001b[33m\"\u001b[39;49;00m)\n",
      "    \u001b[36mprint\u001b[39;49;00m(\u001b[33mf\u001b[39;49;00m\u001b[33m\"\u001b[39;49;00m\u001b[33m!!!!! Pred output \u001b[39;49;00m\u001b[33m{\u001b[39;49;00mprediction_output\u001b[33m}\u001b[39;49;00m\u001b[33m\"\u001b[39;49;00m)\n",
      "\n",
      "    \u001b[34mif\u001b[39;49;00m accept == JSON_CONTENT_TYPE:\n",
      "        \u001b[34mreturn\u001b[39;49;00m json.dumps(prediction_output), accept\n",
      "    \u001b[34mraise\u001b[39;49;00m \u001b[36mException\u001b[39;49;00m(\u001b[33m\"\u001b[39;49;00m\u001b[33mRequested unsupported ContentType in Accept: \u001b[39;49;00m\u001b[33m\"\u001b[39;49;00m + accept)\n",
      "\u001b[36m06s8ui5cf3-algo-1-97ynt |\u001b[0m 2022-08-09 15:05:44,421 [INFO ] pool-2-thread-2 TS_METRICS - CPUUtilization.Percent:0.0|#Level:Host|#hostname:d17bd63b9d77,timestamp:1660057544\n",
      "\u001b[36m06s8ui5cf3-algo-1-97ynt |\u001b[0m 2022-08-09 15:05:44,422 [INFO ] pool-2-thread-2 TS_METRICS - DiskAvailable.Gigabytes:136.19491958618164|#Level:Host|#hostname:d17bd63b9d77,timestamp:1660057544\n",
      "\u001b[36m06s8ui5cf3-algo-1-97ynt |\u001b[0m 2022-08-09 15:05:44,422 [INFO ] pool-2-thread-2 TS_METRICS - DiskUsage.Gigabytes:147.56745147705078|#Level:Host|#hostname:d17bd63b9d77,timestamp:1660057544\n",
      "\u001b[36m06s8ui5cf3-algo-1-97ynt |\u001b[0m 2022-08-09 15:05:44,422 [INFO ] pool-2-thread-2 TS_METRICS - DiskUtilization.Percent:52.0|#Level:Host|#hostname:d17bd63b9d77,timestamp:1660057544\n",
      "\u001b[36m06s8ui5cf3-algo-1-97ynt |\u001b[0m 2022-08-09 15:05:44,423 [INFO ] pool-2-thread-2 TS_METRICS - MemoryAvailable.Megabytes:2387.51171875|#Level:Host|#hostname:d17bd63b9d77,timestamp:1660057544\n",
      "\u001b[36m06s8ui5cf3-algo-1-97ynt |\u001b[0m 2022-08-09 15:05:44,423 [INFO ] pool-2-thread-2 TS_METRICS - MemoryUsed.Megabytes:2954.45703125|#Level:Host|#hostname:d17bd63b9d77,timestamp:1660057544\n",
      "\u001b[36m06s8ui5cf3-algo-1-97ynt |\u001b[0m 2022-08-09 15:05:44,424 [INFO ] pool-2-thread-2 TS_METRICS - MemoryUtilization.Percent:59.8|#Level:Host|#hostname:d17bd63b9d77,timestamp:1660057544\n",
      "\u001b[36m06s8ui5cf3-algo-1-97ynt |\u001b[0m 2022-08-09 15:06:44,374 [INFO ] pool-2-thread-2 TS_METRICS - CPUUtilization.Percent:100.0|#Level:Host|#hostname:d17bd63b9d77,timestamp:1660057604\n",
      "\u001b[36m06s8ui5cf3-algo-1-97ynt |\u001b[0m 2022-08-09 15:06:44,376 [INFO ] pool-2-thread-2 TS_METRICS - DiskAvailable.Gigabytes:136.19491577148438|#Level:Host|#hostname:d17bd63b9d77,timestamp:1660057604\n",
      "\u001b[36m06s8ui5cf3-algo-1-97ynt |\u001b[0m 2022-08-09 15:06:44,376 [INFO ] pool-2-thread-2 TS_METRICS - DiskUsage.Gigabytes:147.56745529174805|#Level:Host|#hostname:d17bd63b9d77,timestamp:1660057604\n",
      "\u001b[36m06s8ui5cf3-algo-1-97ynt |\u001b[0m 2022-08-09 15:06:44,376 [INFO ] pool-2-thread-2 TS_METRICS - DiskUtilization.Percent:52.0|#Level:Host|#hostname:d17bd63b9d77,timestamp:1660057604\n",
      "\u001b[36m06s8ui5cf3-algo-1-97ynt |\u001b[0m 2022-08-09 15:06:44,376 [INFO ] pool-2-thread-2 TS_METRICS - MemoryAvailable.Megabytes:2388.0625|#Level:Host|#hostname:d17bd63b9d77,timestamp:1660057604\n",
      "\u001b[36m06s8ui5cf3-algo-1-97ynt |\u001b[0m 2022-08-09 15:06:44,376 [INFO ] pool-2-thread-2 TS_METRICS - MemoryUsed.Megabytes:2953.90625|#Level:Host|#hostname:d17bd63b9d77,timestamp:1660057604\n",
      "\u001b[36m06s8ui5cf3-algo-1-97ynt |\u001b[0m 2022-08-09 15:06:44,377 [INFO ] pool-2-thread-2 TS_METRICS - MemoryUtilization.Percent:59.8|#Level:Host|#hostname:d17bd63b9d77,timestamp:1660057604\n",
      "\u001b[36m06s8ui5cf3-algo-1-97ynt |\u001b[0m 2022-08-09 15:07:44,337 [INFO ] pool-2-thread-1 TS_METRICS - CPUUtilization.Percent:0.0|#Level:Host|#hostname:d17bd63b9d77,timestamp:1660057664\n",
      "\u001b[36m06s8ui5cf3-algo-1-97ynt |\u001b[0m 2022-08-09 15:07:44,338 [INFO ] pool-2-thread-1 TS_METRICS - DiskAvailable.Gigabytes:136.19491577148438|#Level:Host|#hostname:d17bd63b9d77,timestamp:1660057664\n",
      "\u001b[36m06s8ui5cf3-algo-1-97ynt |\u001b[0m 2022-08-09 15:07:44,338 [INFO ] pool-2-thread-1 TS_METRICS - DiskUsage.Gigabytes:147.56745529174805|#Level:Host|#hostname:d17bd63b9d77,timestamp:1660057664\n",
      "\u001b[36m06s8ui5cf3-algo-1-97ynt |\u001b[0m 2022-08-09 15:07:44,338 [INFO ] pool-2-thread-1 TS_METRICS - DiskUtilization.Percent:52.0|#Level:Host|#hostname:d17bd63b9d77,timestamp:1660057664\n",
      "\u001b[36m06s8ui5cf3-algo-1-97ynt |\u001b[0m 2022-08-09 15:07:44,338 [INFO ] pool-2-thread-1 TS_METRICS - MemoryAvailable.Megabytes:2388.0625|#Level:Host|#hostname:d17bd63b9d77,timestamp:1660057664\n",
      "\u001b[36m06s8ui5cf3-algo-1-97ynt |\u001b[0m 2022-08-09 15:07:44,338 [INFO ] pool-2-thread-1 TS_METRICS - MemoryUsed.Megabytes:2953.90625|#Level:Host|#hostname:d17bd63b9d77,timestamp:1660057664\n",
      "\u001b[36m06s8ui5cf3-algo-1-97ynt |\u001b[0m 2022-08-09 15:07:44,338 [INFO ] pool-2-thread-1 TS_METRICS - MemoryUtilization.Percent:59.8|#Level:Host|#hostname:d17bd63b9d77,timestamp:1660057664\n",
      "\u001b[36m06s8ui5cf3-algo-1-97ynt |\u001b[0m 2022-08-09 15:08:44,292 [INFO ] pool-2-thread-1 TS_METRICS - CPUUtilization.Percent:0.0|#Level:Host|#hostname:d17bd63b9d77,timestamp:1660057724\n",
      "\u001b[36m06s8ui5cf3-algo-1-97ynt |\u001b[0m 2022-08-09 15:08:44,292 [INFO ] pool-2-thread-1 TS_METRICS - DiskAvailable.Gigabytes:136.19491577148438|#Level:Host|#hostname:d17bd63b9d77,timestamp:1660057724\n",
      "\u001b[36m06s8ui5cf3-algo-1-97ynt |\u001b[0m 2022-08-09 15:08:44,292 [INFO ] pool-2-thread-1 TS_METRICS - DiskUsage.Gigabytes:147.56745529174805|#Level:Host|#hostname:d17bd63b9d77,timestamp:1660057724\n",
      "\u001b[36m06s8ui5cf3-algo-1-97ynt |\u001b[0m 2022-08-09 15:08:44,295 [INFO ] pool-2-thread-1 TS_METRICS - DiskUtilization.Percent:52.0|#Level:Host|#hostname:d17bd63b9d77,timestamp:1660057724\n",
      "\u001b[36m06s8ui5cf3-algo-1-97ynt |\u001b[0m 2022-08-09 15:08:44,295 [INFO ] pool-2-thread-1 TS_METRICS - MemoryAvailable.Megabytes:2387.6015625|#Level:Host|#hostname:d17bd63b9d77,timestamp:1660057724\n",
      "\u001b[36m06s8ui5cf3-algo-1-97ynt |\u001b[0m 2022-08-09 15:08:44,296 [INFO ] pool-2-thread-1 TS_METRICS - MemoryUsed.Megabytes:2954.3671875|#Level:Host|#hostname:d17bd63b9d77,timestamp:1660057724\n",
      "\u001b[36m06s8ui5cf3-algo-1-97ynt |\u001b[0m 2022-08-09 15:08:44,296 [INFO ] pool-2-thread-1 TS_METRICS - MemoryUtilization.Percent:59.8|#Level:Host|#hostname:d17bd63b9d77,timestamp:1660057724\n"
     ]
    }
   ],
   "source": [
    "! pygmentize 2_src/pipeline-predictor.py"
   ]
  },
  {
   "cell_type": "markdown",
   "metadata": {},
   "source": [
    "# Packaging model artifacts"
   ]
  },
  {
   "cell_type": "code",
   "execution_count": null,
   "metadata": {},
   "outputs": [],
   "source": [
    "# Download artifacts for Q&A model\n",
    "\n",
    "! mkdir distilbert-base-uncased-distilled-squad\n",
    "! wget https://huggingface.co/distilbert-base-uncased-distilled-squad/resolve/main/pytorch_model.bin -P distilbert-base-uncased-distilled-squad\n",
    "! wget https://huggingface.co/distilbert-base-uncased-distilled-squad/resolve/main/tokenizer.json -P distilbert-base-uncased-distilled-squad\n",
    "! wget https://huggingface.co/distilbert-base-uncased-distilled-squad/resolve/main/tokenizer_config.json -P distilbert-base-uncased-distilled-squad\n",
    "! wget https://huggingface.co/distilbert-base-uncased-distilled-squad/resolve/main/vocab.txt -P distilbert-base-uncased-distilled-squad\n",
    "! wget https://huggingface.co/distilbert-base-uncased-distilled-squad/resolve/main/config.json -P distilbert-base-uncased-distilled-squad"
   ]
  },
  {
   "cell_type": "markdown",
   "metadata": {},
   "source": [
    "Then package it into TAR archive. "
   ]
  },
  {
   "cell_type": "code",
   "execution_count": 10,
   "metadata": {},
   "outputs": [
    {
     "name": "stdout",
     "output_type": "stream",
     "text": [
      "huggingface/tokenizers: The current process just got forked, after parallelism has already been used. Disabling parallelism to avoid deadlocks...\n",
      "To disable this warning, you can either:\n",
      "\t- Avoid using `tokenizers` before the fork if possible\n",
      "\t- Explicitly set the environment variable TOKENIZERS_PARALLELISM=(true | false)\n"
     ]
    }
   ],
   "source": [
    "!tar -C \"$PWD\" -czf distilbert-base-uncased-distilled-squad.tar.gz  distilbert-base-uncased-distilled-squad/"
   ]
  },
  {
   "cell_type": "code",
   "execution_count": 27,
   "metadata": {},
   "outputs": [],
   "source": [
    "\n",
    "import sagemaker\n",
    "from sagemaker import get_execution_role\n",
    "\n",
    "sagemaker_session = sagemaker.Session()\n",
    "#role = get_execution_role()  # TODO: replace it\n",
    "role=\"arn:aws:iam::941656036254:role/service-role/AmazonSageMaker-ExecutionRole-20210904T193230\" # TODO: this has to be replaced\n",
    "\n",
    "bucket = sagemaker_session.default_bucket()\n",
    "prefix = 'torchserve'\n",
    "s3_path = 's3://{}/{}'.format(bucket, prefix)\n"
   ]
  },
  {
   "cell_type": "code",
   "execution_count": 28,
   "metadata": {},
   "outputs": [
    {
     "name": "stdout",
     "output_type": "stream",
     "text": [
      "\u001b[36m06s8ui5cf3-algo-1-97ynt |\u001b[0m 2022-08-09 15:12:44,116 [INFO ] pool-2-thread-1 TS_METRICS - CPUUtilization.Percent:0.0|#Level:Host|#hostname:d17bd63b9d77,timestamp:1660057964\n",
      "\u001b[36m06s8ui5cf3-algo-1-97ynt |\u001b[0m 2022-08-09 15:12:44,117 [INFO ] pool-2-thread-1 TS_METRICS - DiskAvailable.Gigabytes:136.1949005126953|#Level:Host|#hostname:d17bd63b9d77,timestamp:1660057964\n",
      "\u001b[36m06s8ui5cf3-algo-1-97ynt |\u001b[0m 2022-08-09 15:12:44,117 [INFO ] pool-2-thread-1 TS_METRICS - DiskUsage.Gigabytes:147.5674705505371|#Level:Host|#hostname:d17bd63b9d77,timestamp:1660057964\n",
      "\u001b[36m06s8ui5cf3-algo-1-97ynt |\u001b[0m 2022-08-09 15:12:44,117 [INFO ] pool-2-thread-1 TS_METRICS - DiskUtilization.Percent:52.0|#Level:Host|#hostname:d17bd63b9d77,timestamp:1660057964\n",
      "\u001b[36m06s8ui5cf3-algo-1-97ynt |\u001b[0m 2022-08-09 15:12:44,117 [INFO ] pool-2-thread-1 TS_METRICS - MemoryAvailable.Megabytes:2387.6875|#Level:Host|#hostname:d17bd63b9d77,timestamp:1660057964\n",
      "\u001b[36m06s8ui5cf3-algo-1-97ynt |\u001b[0m 2022-08-09 15:12:44,117 [INFO ] pool-2-thread-1 TS_METRICS - MemoryUsed.Megabytes:2954.28125|#Level:Host|#hostname:d17bd63b9d77,timestamp:1660057964\n",
      "\u001b[36m06s8ui5cf3-algo-1-97ynt |\u001b[0m 2022-08-09 15:12:44,118 [INFO ] pool-2-thread-1 TS_METRICS - MemoryUtilization.Percent:59.8|#Level:Host|#hostname:d17bd63b9d77,timestamp:1660057964\n",
      "\u001b[36m06s8ui5cf3-algo-1-97ynt |\u001b[0m 2022-08-09 15:13:44,079 [INFO ] pool-2-thread-1 TS_METRICS - CPUUtilization.Percent:0.0|#Level:Host|#hostname:d17bd63b9d77,timestamp:1660058024\n",
      "\u001b[36m06s8ui5cf3-algo-1-97ynt |\u001b[0m 2022-08-09 15:13:44,079 [INFO ] pool-2-thread-1 TS_METRICS - DiskAvailable.Gigabytes:136.1949005126953|#Level:Host|#hostname:d17bd63b9d77,timestamp:1660058024\n",
      "\u001b[36m06s8ui5cf3-algo-1-97ynt |\u001b[0m 2022-08-09 15:13:44,079 [INFO ] pool-2-thread-1 TS_METRICS - DiskUsage.Gigabytes:147.5674705505371|#Level:Host|#hostname:d17bd63b9d77,timestamp:1660058024\n",
      "\u001b[36m06s8ui5cf3-algo-1-97ynt |\u001b[0m 2022-08-09 15:13:44,080 [INFO ] pool-2-thread-1 TS_METRICS - DiskUtilization.Percent:52.0|#Level:Host|#hostname:d17bd63b9d77,timestamp:1660058024\n",
      "\u001b[36m06s8ui5cf3-algo-1-97ynt |\u001b[0m 2022-08-09 15:13:44,080 [INFO ] pool-2-thread-1 TS_METRICS - MemoryAvailable.Megabytes:2387.68359375|#Level:Host|#hostname:d17bd63b9d77,timestamp:1660058024\n",
      "\u001b[36m06s8ui5cf3-algo-1-97ynt |\u001b[0m 2022-08-09 15:13:44,080 [INFO ] pool-2-thread-1 TS_METRICS - MemoryUsed.Megabytes:2954.28515625|#Level:Host|#hostname:d17bd63b9d77,timestamp:1660058024\n",
      "\u001b[36m06s8ui5cf3-algo-1-97ynt |\u001b[0m 2022-08-09 15:13:44,081 [INFO ] pool-2-thread-1 TS_METRICS - MemoryUtilization.Percent:59.8|#Level:Host|#hostname:d17bd63b9d77,timestamp:1660058024\n",
      "\u001b[36m06s8ui5cf3-algo-1-97ynt |\u001b[0m 2022-08-09 15:14:44,042 [INFO ] pool-2-thread-1 TS_METRICS - CPUUtilization.Percent:0.0|#Level:Host|#hostname:d17bd63b9d77,timestamp:1660058084\n",
      "\u001b[36m06s8ui5cf3-algo-1-97ynt |\u001b[0m 2022-08-09 15:14:44,043 [INFO ] pool-2-thread-1 TS_METRICS - DiskAvailable.Gigabytes:136.19489288330078|#Level:Host|#hostname:d17bd63b9d77,timestamp:1660058084\n",
      "\u001b[36m06s8ui5cf3-algo-1-97ynt |\u001b[0m 2022-08-09 15:14:44,043 [INFO ] pool-2-thread-1 TS_METRICS - DiskUsage.Gigabytes:147.56747817993164|#Level:Host|#hostname:d17bd63b9d77,timestamp:1660058084\n",
      "\u001b[36m06s8ui5cf3-algo-1-97ynt |\u001b[0m 2022-08-09 15:14:44,043 [INFO ] pool-2-thread-1 TS_METRICS - DiskUtilization.Percent:52.0|#Level:Host|#hostname:d17bd63b9d77,timestamp:1660058084\n",
      "\u001b[36m06s8ui5cf3-algo-1-97ynt |\u001b[0m 2022-08-09 15:14:44,043 [INFO ] pool-2-thread-1 TS_METRICS - MemoryAvailable.Megabytes:2386.49609375|#Level:Host|#hostname:d17bd63b9d77,timestamp:1660058084\n",
      "\u001b[36m06s8ui5cf3-algo-1-97ynt |\u001b[0m 2022-08-09 15:14:44,043 [INFO ] pool-2-thread-1 TS_METRICS - MemoryUsed.Megabytes:2955.47265625|#Level:Host|#hostname:d17bd63b9d77,timestamp:1660058084\n",
      "\u001b[36m06s8ui5cf3-algo-1-97ynt |\u001b[0m 2022-08-09 15:14:44,043 [INFO ] pool-2-thread-1 TS_METRICS - MemoryUtilization.Percent:59.8|#Level:Host|#hostname:d17bd63b9d77,timestamp:1660058084\n",
      "\u001b[36m06s8ui5cf3-algo-1-97ynt |\u001b[0m 2022-08-09 15:15:43,989 [INFO ] pool-2-thread-1 TS_METRICS - CPUUtilization.Percent:0.0|#Level:Host|#hostname:d17bd63b9d77,timestamp:1660058143\n",
      "\u001b[36m06s8ui5cf3-algo-1-97ynt |\u001b[0m 2022-08-09 15:15:43,989 [INFO ] pool-2-thread-1 TS_METRICS - DiskAvailable.Gigabytes:136.19489288330078|#Level:Host|#hostname:d17bd63b9d77,timestamp:1660058143\n",
      "\u001b[36m06s8ui5cf3-algo-1-97ynt |\u001b[0m 2022-08-09 15:15:43,990 [INFO ] pool-2-thread-1 TS_METRICS - DiskUsage.Gigabytes:147.56747817993164|#Level:Host|#hostname:d17bd63b9d77,timestamp:1660058143\n",
      "\u001b[36m06s8ui5cf3-algo-1-97ynt |\u001b[0m 2022-08-09 15:15:43,990 [INFO ] pool-2-thread-1 TS_METRICS - DiskUtilization.Percent:52.0|#Level:Host|#hostname:d17bd63b9d77,timestamp:1660058143\n",
      "\u001b[36m06s8ui5cf3-algo-1-97ynt |\u001b[0m 2022-08-09 15:15:43,990 [INFO ] pool-2-thread-1 TS_METRICS - MemoryAvailable.Megabytes:2386.265625|#Level:Host|#hostname:d17bd63b9d77,timestamp:1660058143\n",
      "\u001b[36m06s8ui5cf3-algo-1-97ynt |\u001b[0m 2022-08-09 15:15:43,990 [INFO ] pool-2-thread-1 TS_METRICS - MemoryUsed.Megabytes:2955.703125|#Level:Host|#hostname:d17bd63b9d77,timestamp:1660058143\n",
      "\u001b[36m06s8ui5cf3-algo-1-97ynt |\u001b[0m 2022-08-09 15:15:43,990 [INFO ] pool-2-thread-1 TS_METRICS - MemoryUtilization.Percent:59.9|#Level:Host|#hostname:d17bd63b9d77,timestamp:1660058143\n",
      "\u001b[36m06s8ui5cf3-algo-1-97ynt |\u001b[0m 2022-08-09 15:16:43,946 [INFO ] pool-2-thread-2 TS_METRICS - CPUUtilization.Percent:0.0|#Level:Host|#hostname:d17bd63b9d77,timestamp:1660058203\n",
      "\u001b[36m06s8ui5cf3-algo-1-97ynt |\u001b[0m 2022-08-09 15:16:43,947 [INFO ] pool-2-thread-2 TS_METRICS - DiskAvailable.Gigabytes:136.19489288330078|#Level:Host|#hostname:d17bd63b9d77,timestamp:1660058203\n",
      "\u001b[36m06s8ui5cf3-algo-1-97ynt |\u001b[0m 2022-08-09 15:16:43,947 [INFO ] pool-2-thread-2 TS_METRICS - DiskUsage.Gigabytes:147.56747817993164|#Level:Host|#hostname:d17bd63b9d77,timestamp:1660058203\n",
      "\u001b[36m06s8ui5cf3-algo-1-97ynt |\u001b[0m 2022-08-09 15:16:43,947 [INFO ] pool-2-thread-2 TS_METRICS - DiskUtilization.Percent:52.0|#Level:Host|#hostname:d17bd63b9d77,timestamp:1660058203\n",
      "\u001b[36m06s8ui5cf3-algo-1-97ynt |\u001b[0m 2022-08-09 15:16:43,947 [INFO ] pool-2-thread-2 TS_METRICS - MemoryAvailable.Megabytes:2386.04296875|#Level:Host|#hostname:d17bd63b9d77,timestamp:1660058203\n",
      "\u001b[36m06s8ui5cf3-algo-1-97ynt |\u001b[0m 2022-08-09 15:16:43,947 [INFO ] pool-2-thread-2 TS_METRICS - MemoryUsed.Megabytes:2955.92578125|#Level:Host|#hostname:d17bd63b9d77,timestamp:1660058203\n",
      "\u001b[36m06s8ui5cf3-algo-1-97ynt |\u001b[0m 2022-08-09 15:16:43,947 [INFO ] pool-2-thread-2 TS_METRICS - MemoryUtilization.Percent:59.9|#Level:Host|#hostname:d17bd63b9d77,timestamp:1660058203\n",
      "\u001b[36m06s8ui5cf3-algo-1-97ynt |\u001b[0m 2022-08-09 15:17:43,928 [INFO ] pool-2-thread-2 TS_METRICS - CPUUtilization.Percent:0.0|#Level:Host|#hostname:d17bd63b9d77,timestamp:1660058263\n",
      "\u001b[36m06s8ui5cf3-algo-1-97ynt |\u001b[0m 2022-08-09 15:17:43,928 [INFO ] pool-2-thread-2 TS_METRICS - DiskAvailable.Gigabytes:136.19488906860352|#Level:Host|#hostname:d17bd63b9d77,timestamp:1660058263\n",
      "\u001b[36m06s8ui5cf3-algo-1-97ynt |\u001b[0m 2022-08-09 15:17:43,929 [INFO ] pool-2-thread-2 TS_METRICS - DiskUsage.Gigabytes:147.5674819946289|#Level:Host|#hostname:d17bd63b9d77,timestamp:1660058263\n",
      "\u001b[36m06s8ui5cf3-algo-1-97ynt |\u001b[0m 2022-08-09 15:17:43,930 [INFO ] pool-2-thread-2 TS_METRICS - DiskUtilization.Percent:52.0|#Level:Host|#hostname:d17bd63b9d77,timestamp:1660058263\n",
      "\u001b[36m06s8ui5cf3-algo-1-97ynt |\u001b[0m 2022-08-09 15:17:43,931 [INFO ] pool-2-thread-2 TS_METRICS - MemoryAvailable.Megabytes:2387.7890625|#Level:Host|#hostname:d17bd63b9d77,timestamp:1660058263\n",
      "\u001b[36m06s8ui5cf3-algo-1-97ynt |\u001b[0m 2022-08-09 15:17:43,931 [INFO ] pool-2-thread-2 TS_METRICS - MemoryUsed.Megabytes:2954.1796875|#Level:Host|#hostname:d17bd63b9d77,timestamp:1660058263\n",
      "\u001b[36m06s8ui5cf3-algo-1-97ynt |\u001b[0m 2022-08-09 15:17:43,931 [INFO ] pool-2-thread-2 TS_METRICS - MemoryUtilization.Percent:59.8|#Level:Host|#hostname:d17bd63b9d77,timestamp:1660058263\n",
      "\u001b[36m06s8ui5cf3-algo-1-97ynt |\u001b[0m 2022-08-09 15:18:43,854 [INFO ] pool-2-thread-2 TS_METRICS - CPUUtilization.Percent:0.0|#Level:Host|#hostname:d17bd63b9d77,timestamp:1660058323\n",
      "\u001b[36m06s8ui5cf3-algo-1-97ynt |\u001b[0m 2022-08-09 15:18:43,855 [INFO ] pool-2-thread-2 TS_METRICS - DiskAvailable.Gigabytes:136.19488906860352|#Level:Host|#hostname:d17bd63b9d77,timestamp:1660058323\n",
      "\u001b[36m06s8ui5cf3-algo-1-97ynt |\u001b[0m 2022-08-09 15:18:43,855 [INFO ] pool-2-thread-2 TS_METRICS - DiskUsage.Gigabytes:147.5674819946289|#Level:Host|#hostname:d17bd63b9d77,timestamp:1660058323\n",
      "\u001b[36m06s8ui5cf3-algo-1-97ynt |\u001b[0m 2022-08-09 15:18:43,855 [INFO ] pool-2-thread-2 TS_METRICS - DiskUtilization.Percent:52.0|#Level:Host|#hostname:d17bd63b9d77,timestamp:1660058323\n",
      "\u001b[36m06s8ui5cf3-algo-1-97ynt |\u001b[0m 2022-08-09 15:18:43,855 [INFO ] pool-2-thread-2 TS_METRICS - MemoryAvailable.Megabytes:2388.4296875|#Level:Host|#hostname:d17bd63b9d77,timestamp:1660058323\n",
      "\u001b[36m06s8ui5cf3-algo-1-97ynt |\u001b[0m 2022-08-09 15:18:43,855 [INFO ] pool-2-thread-2 TS_METRICS - MemoryUsed.Megabytes:2953.5390625|#Level:Host|#hostname:d17bd63b9d77,timestamp:1660058323\n",
      "\u001b[36m06s8ui5cf3-algo-1-97ynt |\u001b[0m 2022-08-09 15:18:43,855 [INFO ] pool-2-thread-2 TS_METRICS - MemoryUtilization.Percent:59.8|#Level:Host|#hostname:d17bd63b9d77,timestamp:1660058323\n"
     ]
    }
   ],
   "source": [
    "\n",
    "model_data = sagemaker_session.upload_data('distilbert-base-uncased-distilled-squad',\n",
    "                                           bucket,\n",
    "                                           os.path.join(prefix, 'model-artifacts'))"
   ]
  },
  {
   "cell_type": "code",
   "execution_count": 32,
   "metadata": {},
   "outputs": [],
   "source": [
    "#model_data = \"s3://sagemaker-us-east-1-941656036254/torchserve/model/distilbert-base-uncased-distilled-squad.tar.gz\""
   ]
  },
  {
   "cell_type": "markdown",
   "metadata": {},
   "source": [
    "# Deployed Locally"
   ]
  },
  {
   "cell_type": "code",
   "execution_count": 4,
   "metadata": {},
   "outputs": [
    {
     "name": "stderr",
     "output_type": "stream",
     "text": [
      "/Users/vdabravolski/miniconda/envs/sagemaker2/lib/python3.9/site-packages/sagemaker/local/local_session.py:562: YAMLLoadWarning: calling yaml.load() without Loader=... is deprecated, as the default Loader is unsafe. Please read https://msg.pyyaml.org/load for full details.\n",
      "  self.config = yaml.load(open(sagemaker_config_file, \"r\"))\n"
     ]
    }
   ],
   "source": [
    "import boto3\n",
    "from sagemaker.local import LocalSession\n",
    "\n",
    "sagemaker_local_session = LocalSession()\n",
    "sagemaker_local_session.config = {'local': {'local_code': True}}"
   ]
  },
  {
   "cell_type": "code",
   "execution_count": 5,
   "metadata": {},
   "outputs": [
    {
     "name": "stdout",
     "output_type": "stream",
     "text": [
      "Instance type = local\n"
     ]
    }
   ],
   "source": [
    "import os\n",
    "import subprocess\n",
    "\n",
    "instance_type = \"local\"\n",
    "\n",
    "try:\n",
    "    if subprocess.call(\"nvidia-smi\") == 0:\n",
    "        ## Set type to GPU if one is present\n",
    "        instance_type = \"local_gpu\"\n",
    "except:\n",
    "    pass\n",
    "\n",
    "print(\"Instance type = \" + instance_type)"
   ]
  },
  {
   "cell_type": "code",
   "execution_count": 23,
   "metadata": {},
   "outputs": [],
   "source": [
    "from sagemaker.pytorch import PyTorchModel\n",
    "\n",
    "env = {    \"SAGEMAKER_TS_BATCH_SIZE\": \"3\",\n",
    "    \"SAGEMAKER_TS_MAX_BATCH_DELAY\": \"100000\"\n",
    "    }\n",
    "\n",
    "\n",
    "# Note: You can update the 'torchserve-predictor.py' file as needed according to the model you want to use (ie BERT) \n",
    "model = PyTorchModel(model_data=model_data,\n",
    "                   role=role, \n",
    "                   entry_point='pipeline-predictor.py',\n",
    "                   source_dir='2_src',\n",
    "                   framework_version='1.9.0',\n",
    "                   py_version='py38',\n",
    "                   env=env,\n",
    "                   sagemaker_session=sagemaker_local_session)"
   ]
  },
  {
   "cell_type": "code",
   "execution_count": 24,
   "metadata": {},
   "outputs": [
    {
     "name": "stdout",
     "output_type": "stream",
     "text": [
      "\u001b[36m06s8ui5cf3-algo-1-97ynt |\u001b[0m 2022-08-09 14:55:44,911 [INFO ] pool-2-thread-2 TS_METRICS - CPUUtilization.Percent:0.0|#Level:Host|#hostname:d17bd63b9d77,timestamp:1660056944\n",
      "\u001b[36m06s8ui5cf3-algo-1-97ynt |\u001b[0m 2022-08-09 14:55:44,911 [INFO ] pool-2-thread-2 TS_METRICS - DiskAvailable.Gigabytes:136.1950569152832|#Level:Host|#hostname:d17bd63b9d77,timestamp:1660056944\n",
      "\u001b[36m06s8ui5cf3-algo-1-97ynt |\u001b[0m 2022-08-09 14:55:44,912 [INFO ] pool-2-thread-2 TS_METRICS - DiskUsage.Gigabytes:147.56731414794922|#Level:Host|#hostname:d17bd63b9d77,timestamp:1660056944\n",
      "\u001b[36m06s8ui5cf3-algo-1-97ynt |\u001b[0m 2022-08-09 14:55:44,912 [INFO ] pool-2-thread-2 TS_METRICS - DiskUtilization.Percent:52.0|#Level:Host|#hostname:d17bd63b9d77,timestamp:1660056944\n",
      "\u001b[36m06s8ui5cf3-algo-1-97ynt |\u001b[0m 2022-08-09 14:55:44,912 [INFO ] pool-2-thread-2 TS_METRICS - MemoryAvailable.Megabytes:2359.63671875|#Level:Host|#hostname:d17bd63b9d77,timestamp:1660056944\n",
      "\u001b[36m06s8ui5cf3-algo-1-97ynt |\u001b[0m 2022-08-09 14:55:44,912 [INFO ] pool-2-thread-2 TS_METRICS - MemoryUsed.Megabytes:2937.640625|#Level:Host|#hostname:d17bd63b9d77,timestamp:1660056944\n",
      "\u001b[36m06s8ui5cf3-algo-1-97ynt |\u001b[0m 2022-08-09 14:55:44,912 [INFO ] pool-2-thread-2 TS_METRICS - MemoryUtilization.Percent:60.3|#Level:Host|#hostname:d17bd63b9d77,timestamp:1660056944\n",
      "\u001b[36m06s8ui5cf3-algo-1-97ynt |\u001b[0m 2022-08-09 14:56:09,050 [INFO ] pool-1-thread-8 ACCESS_LOG - /172.18.0.1:61876 \"GET /ping HTTP/1.1\" 200 2\n",
      "!\u001b[36m06s8ui5cf3-algo-1-97ynt |\u001b[0m 2022-08-09 14:56:09,050 [INFO ] pool-1-thread-8 TS_METRICS - Requests2XX.Count:1|#Level:Host|#hostname:d17bd63b9d77,timestamp:null\n"
     ]
    },
    {
     "name": "stderr",
     "output_type": "stream",
     "text": [
      "Exception in thread Thread-9:\n",
      "Traceback (most recent call last):\n",
      "  File \"/Users/vdabravolski/miniconda/envs/sagemaker2/lib/python3.9/site-packages/sagemaker/local/image.py\", line 854, in run\n",
      "    _stream_output(self.process)\n",
      "  File \"/Users/vdabravolski/miniconda/envs/sagemaker2/lib/python3.9/site-packages/sagemaker/local/image.py\", line 916, in _stream_output\n",
      "    raise RuntimeError(\"Process exited with code: %s\" % exit_code)\n",
      "RuntimeError: Process exited with code: 1\n",
      "\n",
      "During handling of the above exception, another exception occurred:\n",
      "\n",
      "Traceback (most recent call last):\n",
      "  File \"/Users/vdabravolski/miniconda/envs/sagemaker2/lib/python3.9/threading.py\", line 973, in _bootstrap_inner\n",
      "    self.run()\n",
      "  File \"/Users/vdabravolski/miniconda/envs/sagemaker2/lib/python3.9/site-packages/sagemaker/local/image.py\", line 859, in run\n",
      "    raise RuntimeError(msg)\n",
      "RuntimeError: Failed to run: ['docker-compose', '-f', '/private/var/folders/zm/7yczzhb529xff1v0_ps_8k4h0000gp/T/tmpz0veqmxo/docker-compose.yaml', 'up', '--build', '--abort-on-container-exit'], Process exited with code: 1\n"
     ]
    },
    {
     "name": "stdout",
     "output_type": "stream",
     "text": [
      "\u001b[36m06s8ui5cf3-algo-1-97ynt |\u001b[0m 2022-08-09 14:56:44,888 [INFO ] pool-2-thread-2 TS_METRICS - CPUUtilization.Percent:0.0|#Level:Host|#hostname:d17bd63b9d77,timestamp:1660057004\n",
      "\u001b[36m06s8ui5cf3-algo-1-97ynt |\u001b[0m 2022-08-09 14:56:44,889 [INFO ] pool-2-thread-2 TS_METRICS - DiskAvailable.Gigabytes:136.19493865966797|#Level:Host|#hostname:d17bd63b9d77,timestamp:1660057004\n",
      "\u001b[36m06s8ui5cf3-algo-1-97ynt |\u001b[0m 2022-08-09 14:56:44,889 [INFO ] pool-2-thread-2 TS_METRICS - DiskUsage.Gigabytes:147.56743240356445|#Level:Host|#hostname:d17bd63b9d77,timestamp:1660057004\n",
      "\u001b[36m06s8ui5cf3-algo-1-97ynt |\u001b[0m 2022-08-09 14:56:44,890 [INFO ] pool-2-thread-2 TS_METRICS - DiskUtilization.Percent:52.0|#Level:Host|#hostname:d17bd63b9d77,timestamp:1660057004\n",
      "\u001b[36m06s8ui5cf3-algo-1-97ynt |\u001b[0m 2022-08-09 14:56:44,890 [INFO ] pool-2-thread-2 TS_METRICS - MemoryAvailable.Megabytes:2375.84375|#Level:Host|#hostname:d17bd63b9d77,timestamp:1660057004\n",
      "\u001b[36m06s8ui5cf3-algo-1-97ynt |\u001b[0m 2022-08-09 14:56:44,891 [INFO ] pool-2-thread-2 TS_METRICS - MemoryUsed.Megabytes:2966.125|#Level:Host|#hostname:d17bd63b9d77,timestamp:1660057004\n",
      "\u001b[36m06s8ui5cf3-algo-1-97ynt |\u001b[0m 2022-08-09 14:56:44,892 [INFO ] pool-2-thread-2 TS_METRICS - MemoryUtilization.Percent:60.0|#Level:Host|#hostname:d17bd63b9d77,timestamp:1660057004\n",
      "\u001b[36m06s8ui5cf3-algo-1-97ynt |\u001b[0m 2022-08-09 14:57:44,839 [INFO ] pool-2-thread-2 TS_METRICS - CPUUtilization.Percent:0.0|#Level:Host|#hostname:d17bd63b9d77,timestamp:1660057064\n",
      "\u001b[36m06s8ui5cf3-algo-1-97ynt |\u001b[0m 2022-08-09 14:57:44,839 [INFO ] pool-2-thread-2 TS_METRICS - DiskAvailable.Gigabytes:136.19493865966797|#Level:Host|#hostname:d17bd63b9d77,timestamp:1660057064\n",
      "\u001b[36m06s8ui5cf3-algo-1-97ynt |\u001b[0m 2022-08-09 14:57:44,840 [INFO ] pool-2-thread-2 TS_METRICS - DiskUsage.Gigabytes:147.56743240356445|#Level:Host|#hostname:d17bd63b9d77,timestamp:1660057064\n",
      "\u001b[36m06s8ui5cf3-algo-1-97ynt |\u001b[0m 2022-08-09 14:57:44,841 [INFO ] pool-2-thread-2 TS_METRICS - DiskUtilization.Percent:52.0|#Level:Host|#hostname:d17bd63b9d77,timestamp:1660057064\n",
      "\u001b[36m06s8ui5cf3-algo-1-97ynt |\u001b[0m 2022-08-09 14:57:44,842 [INFO ] pool-2-thread-2 TS_METRICS - MemoryAvailable.Megabytes:2375.0625|#Level:Host|#hostname:d17bd63b9d77,timestamp:1660057064\n",
      "\u001b[36m06s8ui5cf3-algo-1-97ynt |\u001b[0m 2022-08-09 14:57:44,842 [INFO ] pool-2-thread-2 TS_METRICS - MemoryUsed.Megabytes:2966.90625|#Level:Host|#hostname:d17bd63b9d77,timestamp:1660057064\n",
      "\u001b[36m06s8ui5cf3-algo-1-97ynt |\u001b[0m 2022-08-09 14:57:44,849 [INFO ] pool-2-thread-2 TS_METRICS - MemoryUtilization.Percent:60.0|#Level:Host|#hostname:d17bd63b9d77,timestamp:1660057064\n"
     ]
    }
   ],
   "source": [
    "from sagemaker.serializers import JSONSerializer\n",
    "from sagemaker.deserializers import JSONDeserializer\n",
    "\n",
    "local_predictor = model.deploy(initial_instance_count=1, instance_type=instance_type, serializer=JSONSerializer(), deserializer=JSONDeserializer())"
   ]
  },
  {
   "cell_type": "code",
   "execution_count": 22,
   "metadata": {},
   "outputs": [
    {
     "name": "stdout",
     "output_type": "stream",
     "text": [
      "{'question': 'What kind of forest is Amazon?', 'context': '\\nThe Amazon rainforest (Portuguese: Floresta Amazônica or Amazônia; Spanish: Selva Amazónica, Amazonía or usually Amazonia; French: Forêt amazonienne; Dutch: Amazoneregenwoud), also known in English as Amazonia or the Amazon Jungle, is a moist broadleaf forest that covers most of the Amazon basin of South America. This basin encompasses 7,000,000 square kilometres (2,700,000 sq mi), of which 5,500,000 square kilometres (2,100,000 sq mi) are covered by the rainforest. This region includes territory belonging to nine nations. The majority of the forest is contained within Brazil, with 60% of the rainforest, followed by Peru with 13%, Colombia with 10%, and with minor amounts in Venezuela, Ecuador, Bolivia, Guyana, Suriname and French Guiana. States or departments in four nations contain \"Amazonas\" in their names. The Amazon represents over half of the planet\\'s remaining rainforests, and comprises the largest and most biodiverse tract of tropical rainforest in the world, with an estimated 390 billion individual trees divided into 16,000 species.\\n'}\n",
      "\u001b[36m06s8ui5cf3-algo-1-97ynt |\u001b[0m 2022-08-09 14:47:43,118 [INFO ] W-9001-model_1 org.pytorch.serve.wlm.WorkerThread - Backend response time: 270\n",
      "\u001b[36m06s8ui5cf3-algo-1-97ynt |\u001b[0m 2022-08-09 14:47:43,116 [INFO ] W-9001-model_1-stdout MODEL_LOG - !!!!!!!!! loading model from /home/model-server/tmp/models/c62721db80b34a57b00375de9e624189\n",
      "\u001b[36m06s8ui5cf3-algo-1-97ynt |\u001b[0m 2022-08-09 14:47:43,121 [INFO ] W-9001-model_1 ACCESS_LOG - /172.18.0.1:61874 \"POST /invocations HTTP/1.1\" 200 276\n",
      "\u001b[36m06s8ui5cf3-algo-1-97ynt |\u001b[0m 2022-08-09 14:47:43,122 [INFO ] W-9001-model_1 TS_METRICS - Requests2XX.Count:1|#Level:Host|#hostname:d17bd63b9d77,timestamp:null\n",
      "\u001b[36m06s8ui5cf3-algo-1-97ynt |\u001b[0m 2022-08-09 14:47:43,121 [INFO ] W-9001-model_1-stdout MODEL_LOG - ****************\n",
      "\u001b[36m06s8ui5cf3-algo-1-97ynt |\u001b[0m 2022-08-09 14:47:43,122 [INFO ] W-9001-model_1 TS_METRICS - QueueTime.ms:0|#Level:Host|#hostname:d17bd63b9d77,timestamp:null\n",
      "\u001b[36m06s8ui5cf3-algo-1-97ynt |\u001b[0m 2022-08-09 14:47:43,123 [INFO ] W-9001-model_1-stdout MODEL_LOG - application/json\n",
      "\u001b[36m06s8ui5cf3-algo-1-97ynt |\u001b[0m 2022-08-09 14:47:43,125 [INFO ] W-9001-model_1-stdout MODEL_LOG - inside deser if\n",
      "\u001b[36m06s8ui5cf3-algo-1-97ynt |\u001b[0m 2022-08-09 14:47:43,124 [INFO ] W-9001-model_1 TS_METRICS - WorkerThreadTime.ms:7|#Level:Host|#hostname:d17bd63b9d77,timestamp:null\n",
      "\u001b[36m06s8ui5cf3-algo-1-97ynt |\u001b[0m 2022-08-09 14:47:43,126 [INFO ] W-9001-model_1-stdout MODEL_LOG - <class 'str'>\n"
     ]
    },
    {
     "data": {
      "text/plain": [
       "{'score': 0.4394713044166565,\n",
       " 'start': 238,\n",
       " 'end': 253,\n",
       " 'answer': 'moist broadleaf'}"
      ]
     },
     "execution_count": 22,
     "metadata": {},
     "output_type": "execute_result"
    },
    {
     "name": "stdout",
     "output_type": "stream",
     "text": [
      "\u001b[36m06s8ui5cf3-algo-1-97ynt |\u001b[0m 2022-08-09 14:47:43,128 [INFO ] W-9001-model_1-stdout MODEL_LOG - !!!!!!!!! deser input data {'question': 'What kind of forest is Amazon?', 'context': '\\nThe Amazon rainforest (Portuguese: Floresta Amazônica or Amazônia; Spanish: Selva Amazónica, Amazonía or usually Amazonia; French: Forêt amazonienne; Dutch: Amazoneregenwoud), also known in English as Amazonia or the Amazon Jungle, is a moist broadleaf forest that covers most of the Amazon basin of South America. This basin encompasses 7,000,000 square kilometres (2,700,000 sq mi), of which 5,500,000 square kilometres (2,100,000 sq mi) are covered by the rainforest. This region includes territory belonging to nine nations. The majority of the forest is contained within Brazil, with 60% of the rainforest, followed by Peru with 13%, Colombia with 10%, and with minor amounts in Venezuela, Ecuador, Bolivia, Guyana, Suriname and French Guiana. States or departments in four nations contain \"Amazonas\" in their names. The Amazon represents over half of the planet\\'s remaining rainforests, and comprises the largest and most biodiverse tract of tropical rainforest in the world, with an estimated 390 billion individual trees divided into 16,000 species.\\n'}\n",
      "\u001b[36m06s8ui5cf3-algo-1-97ynt |\u001b[0m 2022-08-09 14:47:43,129 [INFO ] W-9001-model_1-stdout MODEL_LOG - Inside predict_fn\n",
      "\u001b[36m06s8ui5cf3-algo-1-97ynt |\u001b[0m 2022-08-09 14:47:43,130 [INFO ] W-9001-model_1-stdout MODEL_LOG - {'question': 'What kind of forest is Amazon?', 'context': '\\nThe Amazon rainforest (Portuguese: Floresta Amazônica or Amazônia; Spanish: Selva Amazónica, Amazonía or usually Amazonia; French: Forêt amazonienne; Dutch: Amazoneregenwoud), also known in English as Amazonia or the Amazon Jungle, is a moist broadleaf forest that covers most of the Amazon basin of South America. This basin encompasses 7,000,000 square kilometres (2,700,000 sq mi), of which 5,500,000 square kilometres (2,100,000 sq mi) are covered by the rainforest. This region includes territory belonging to nine nations. The majority of the forest is contained within Brazil, with 60% of the rainforest, followed by Peru with 13%, Colombia with 10%, and with minor amounts in Venezuela, Ecuador, Bolivia, Guyana, Suriname and French Guiana. States or departments in four nations contain \"Amazonas\" in their names. The Amazon represents over half of the planet\\'s remaining rainforests, and comprises the largest and most biodiverse tract of tropical rainforest in the world, with an estimated 390 billion individual trees divided into 16,000 species.\\n'}\n",
      "\u001b[36m06s8ui5cf3-algo-1-97ynt |\u001b[0m 2022-08-09 14:47:43,130 [INFO ] W-9001-model_1-stdout MODEL_LOG - !!!!! results {'score': 0.4394713044166565, 'start': 238, 'end': 253, 'answer': 'moist broadleaf'}\n",
      "\u001b[36m06s8ui5cf3-algo-1-97ynt |\u001b[0m 2022-08-09 14:47:43,130 [INFO ] W-9001-model_1-stdout MODEL_LOG - !!!!! Accept application/json\n",
      "\u001b[36m06s8ui5cf3-algo-1-97ynt |\u001b[0m 2022-08-09 14:47:43,130 [INFO ] W-9001-model_1-stdout MODEL_LOG - !!!!! Pred output {'score': 0.4394713044166565, 'start': 238, 'end': 253, 'answer': 'moist broadleaf'}\n",
      "\u001b[36m06s8ui5cf3-algo-1-97ynt |\u001b[0m 2022-08-09 14:47:43,131 [INFO ] W-9001-model_1-stdout MODEL_METRICS - PredictionTime.Milliseconds:265.46|#ModelName:model,Level:Model|#hostname:d17bd63b9d77,requestID:74cd05d0-1762-4d83-b348-b3cbe40e7617,timestamp:1660056463\n",
      "\u001b[36m06s8ui5cf3-algo-1-97ynt |\u001b[0m 2022-08-09 14:47:45,255 [INFO ] pool-2-thread-1 TS_METRICS - CPUUtilization.Percent:0.0|#Level:Host|#hostname:d17bd63b9d77,timestamp:1660056465\n",
      "\u001b[36m06s8ui5cf3-algo-1-97ynt |\u001b[0m 2022-08-09 14:47:45,256 [INFO ] pool-2-thread-1 TS_METRICS - DiskAvailable.Gigabytes:136.19507598876953|#Level:Host|#hostname:d17bd63b9d77,timestamp:1660056465\n",
      "\u001b[36m06s8ui5cf3-algo-1-97ynt |\u001b[0m 2022-08-09 14:47:45,257 [INFO ] pool-2-thread-1 TS_METRICS - DiskUsage.Gigabytes:147.5672950744629|#Level:Host|#hostname:d17bd63b9d77,timestamp:1660056465\n",
      "\u001b[36m06s8ui5cf3-algo-1-97ynt |\u001b[0m 2022-08-09 14:47:45,257 [INFO ] pool-2-thread-1 TS_METRICS - DiskUtilization.Percent:52.0|#Level:Host|#hostname:d17bd63b9d77,timestamp:1660056465\n",
      "\u001b[36m06s8ui5cf3-algo-1-97ynt |\u001b[0m 2022-08-09 14:47:45,258 [INFO ] pool-2-thread-1 TS_METRICS - MemoryAvailable.Megabytes:2331.9296875|#Level:Host|#hostname:d17bd63b9d77,timestamp:1660056465\n",
      "\u001b[36m06s8ui5cf3-algo-1-97ynt |\u001b[0m 2022-08-09 14:47:45,258 [INFO ] pool-2-thread-1 TS_METRICS - MemoryUsed.Megabytes:2965.31640625|#Level:Host|#hostname:d17bd63b9d77,timestamp:1660056465\n",
      "\u001b[36m06s8ui5cf3-algo-1-97ynt |\u001b[0m 2022-08-09 14:47:45,259 [INFO ] pool-2-thread-1 TS_METRICS - MemoryUtilization.Percent:60.8|#Level:Host|#hostname:d17bd63b9d77,timestamp:1660056465\n",
      "\u001b[36m06s8ui5cf3-algo-1-97ynt |\u001b[0m 2022-08-09 14:48:45,208 [INFO ] pool-2-thread-1 TS_METRICS - CPUUtilization.Percent:0.0|#Level:Host|#hostname:d17bd63b9d77,timestamp:1660056525\n",
      "\u001b[36m06s8ui5cf3-algo-1-97ynt |\u001b[0m 2022-08-09 14:48:45,208 [INFO ] pool-2-thread-1 TS_METRICS - DiskAvailable.Gigabytes:136.19507217407227|#Level:Host|#hostname:d17bd63b9d77,timestamp:1660056525\n",
      "\u001b[36m06s8ui5cf3-algo-1-97ynt |\u001b[0m 2022-08-09 14:48:45,208 [INFO ] pool-2-thread-1 TS_METRICS - DiskUsage.Gigabytes:147.56729888916016|#Level:Host|#hostname:d17bd63b9d77,timestamp:1660056525\n",
      "\u001b[36m06s8ui5cf3-algo-1-97ynt |\u001b[0m 2022-08-09 14:48:45,208 [INFO ] pool-2-thread-1 TS_METRICS - DiskUtilization.Percent:52.0|#Level:Host|#hostname:d17bd63b9d77,timestamp:1660056525\n",
      "\u001b[36m06s8ui5cf3-algo-1-97ynt |\u001b[0m 2022-08-09 14:48:45,208 [INFO ] pool-2-thread-1 TS_METRICS - MemoryAvailable.Megabytes:2336.93359375|#Level:Host|#hostname:d17bd63b9d77,timestamp:1660056525\n",
      "\u001b[36m06s8ui5cf3-algo-1-97ynt |\u001b[0m 2022-08-09 14:48:45,209 [INFO ] pool-2-thread-1 TS_METRICS - MemoryUsed.Megabytes:2960.34375|#Level:Host|#hostname:d17bd63b9d77,timestamp:1660056525\n",
      "\u001b[36m06s8ui5cf3-algo-1-97ynt |\u001b[0m 2022-08-09 14:48:45,209 [INFO ] pool-2-thread-1 TS_METRICS - MemoryUtilization.Percent:60.7|#Level:Host|#hostname:d17bd63b9d77,timestamp:1660056525\n",
      "\u001b[36m06s8ui5cf3-algo-1-97ynt |\u001b[0m 2022-08-09 14:49:45,170 [INFO ] pool-2-thread-1 TS_METRICS - CPUUtilization.Percent:0.0|#Level:Host|#hostname:d17bd63b9d77,timestamp:1660056585\n",
      "\u001b[36m06s8ui5cf3-algo-1-97ynt |\u001b[0m 2022-08-09 14:49:45,171 [INFO ] pool-2-thread-1 TS_METRICS - DiskAvailable.Gigabytes:136.195068359375|#Level:Host|#hostname:d17bd63b9d77,timestamp:1660056585\n",
      "\u001b[36m06s8ui5cf3-algo-1-97ynt |\u001b[0m 2022-08-09 14:49:45,171 [INFO ] pool-2-thread-1 TS_METRICS - DiskUsage.Gigabytes:147.56730270385742|#Level:Host|#hostname:d17bd63b9d77,timestamp:1660056585\n",
      "\u001b[36m06s8ui5cf3-algo-1-97ynt |\u001b[0m 2022-08-09 14:49:45,172 [INFO ] pool-2-thread-1 TS_METRICS - DiskUtilization.Percent:52.0|#Level:Host|#hostname:d17bd63b9d77,timestamp:1660056585\n",
      "\u001b[36m06s8ui5cf3-algo-1-97ynt |\u001b[0m 2022-08-09 14:49:45,173 [INFO ] pool-2-thread-1 TS_METRICS - MemoryAvailable.Megabytes:2344.1015625|#Level:Host|#hostname:d17bd63b9d77,timestamp:1660056585\n",
      "\u001b[36m06s8ui5cf3-algo-1-97ynt |\u001b[0m 2022-08-09 14:49:45,173 [INFO ] pool-2-thread-1 TS_METRICS - MemoryUsed.Megabytes:2953.18359375|#Level:Host|#hostname:d17bd63b9d77,timestamp:1660056585\n",
      "\u001b[36m06s8ui5cf3-algo-1-97ynt |\u001b[0m 2022-08-09 14:49:45,174 [INFO ] pool-2-thread-1 TS_METRICS - MemoryUtilization.Percent:60.6|#Level:Host|#hostname:d17bd63b9d77,timestamp:1660056585\n",
      "\u001b[36m06s8ui5cf3-algo-1-97ynt |\u001b[0m 2022-08-09 14:50:45,123 [INFO ] pool-2-thread-1 TS_METRICS - CPUUtilization.Percent:0.0|#Level:Host|#hostname:d17bd63b9d77,timestamp:1660056645\n",
      "\u001b[36m06s8ui5cf3-algo-1-97ynt |\u001b[0m 2022-08-09 14:50:45,124 [INFO ] pool-2-thread-1 TS_METRICS - DiskAvailable.Gigabytes:136.195068359375|#Level:Host|#hostname:d17bd63b9d77,timestamp:1660056645\n",
      "\u001b[36m06s8ui5cf3-algo-1-97ynt |\u001b[0m 2022-08-09 14:50:45,125 [INFO ] pool-2-thread-1 TS_METRICS - DiskUsage.Gigabytes:147.56730270385742|#Level:Host|#hostname:d17bd63b9d77,timestamp:1660056645\n",
      "\u001b[36m06s8ui5cf3-algo-1-97ynt |\u001b[0m 2022-08-09 14:50:45,125 [INFO ] pool-2-thread-1 TS_METRICS - DiskUtilization.Percent:52.0|#Level:Host|#hostname:d17bd63b9d77,timestamp:1660056645\n",
      "\u001b[36m06s8ui5cf3-algo-1-97ynt |\u001b[0m 2022-08-09 14:50:45,127 [INFO ] pool-2-thread-1 TS_METRICS - MemoryAvailable.Megabytes:2355.69140625|#Level:Host|#hostname:d17bd63b9d77,timestamp:1660056645\n",
      "\u001b[36m06s8ui5cf3-algo-1-97ynt |\u001b[0m 2022-08-09 14:50:45,127 [INFO ] pool-2-thread-1 TS_METRICS - MemoryUsed.Megabytes:2941.58984375|#Level:Host|#hostname:d17bd63b9d77,timestamp:1660056645\n",
      "\u001b[36m06s8ui5cf3-algo-1-97ynt |\u001b[0m 2022-08-09 14:50:45,127 [INFO ] pool-2-thread-1 TS_METRICS - MemoryUtilization.Percent:60.4|#Level:Host|#hostname:d17bd63b9d77,timestamp:1660056645\n",
      "\u001b[36m06s8ui5cf3-algo-1-97ynt |\u001b[0m 2022-08-09 14:51:45,085 [INFO ] pool-2-thread-1 TS_METRICS - CPUUtilization.Percent:0.0|#Level:Host|#hostname:d17bd63b9d77,timestamp:1660056705\n",
      "\u001b[36m06s8ui5cf3-algo-1-97ynt |\u001b[0m 2022-08-09 14:51:45,085 [INFO ] pool-2-thread-1 TS_METRICS - DiskAvailable.Gigabytes:136.19506454467773|#Level:Host|#hostname:d17bd63b9d77,timestamp:1660056705\n",
      "\u001b[36m06s8ui5cf3-algo-1-97ynt |\u001b[0m 2022-08-09 14:51:45,086 [INFO ] pool-2-thread-1 TS_METRICS - DiskUsage.Gigabytes:147.5673065185547|#Level:Host|#hostname:d17bd63b9d77,timestamp:1660056705\n",
      "\u001b[36m06s8ui5cf3-algo-1-97ynt |\u001b[0m 2022-08-09 14:51:45,086 [INFO ] pool-2-thread-1 TS_METRICS - DiskUtilization.Percent:52.0|#Level:Host|#hostname:d17bd63b9d77,timestamp:1660056705\n",
      "\u001b[36m06s8ui5cf3-algo-1-97ynt |\u001b[0m 2022-08-09 14:51:45,086 [INFO ] pool-2-thread-1 TS_METRICS - MemoryAvailable.Megabytes:2358.93359375|#Level:Host|#hostname:d17bd63b9d77,timestamp:1660056705\n",
      "\u001b[36m06s8ui5cf3-algo-1-97ynt |\u001b[0m 2022-08-09 14:51:45,087 [INFO ] pool-2-thread-1 TS_METRICS - MemoryUsed.Megabytes:2938.34375|#Level:Host|#hostname:d17bd63b9d77,timestamp:1660056705\n",
      "\u001b[36m06s8ui5cf3-algo-1-97ynt |\u001b[0m 2022-08-09 14:51:45,087 [INFO ] pool-2-thread-1 TS_METRICS - MemoryUtilization.Percent:60.3|#Level:Host|#hostname:d17bd63b9d77,timestamp:1660056705\n",
      "\u001b[36m06s8ui5cf3-algo-1-97ynt |\u001b[0m 2022-08-09 14:52:45,044 [INFO ] pool-2-thread-1 TS_METRICS - CPUUtilization.Percent:0.0|#Level:Host|#hostname:d17bd63b9d77,timestamp:1660056765\n",
      "\u001b[36m06s8ui5cf3-algo-1-97ynt |\u001b[0m 2022-08-09 14:52:45,044 [INFO ] pool-2-thread-1 TS_METRICS - DiskAvailable.Gigabytes:136.19506454467773|#Level:Host|#hostname:d17bd63b9d77,timestamp:1660056765\n",
      "\u001b[36m06s8ui5cf3-algo-1-97ynt |\u001b[0m 2022-08-09 14:52:45,044 [INFO ] pool-2-thread-1 TS_METRICS - DiskUsage.Gigabytes:147.5673065185547|#Level:Host|#hostname:d17bd63b9d77,timestamp:1660056765\n",
      "\u001b[36m06s8ui5cf3-algo-1-97ynt |\u001b[0m 2022-08-09 14:52:45,045 [INFO ] pool-2-thread-1 TS_METRICS - DiskUtilization.Percent:52.0|#Level:Host|#hostname:d17bd63b9d77,timestamp:1660056765\n",
      "\u001b[36m06s8ui5cf3-algo-1-97ynt |\u001b[0m 2022-08-09 14:52:45,045 [INFO ] pool-2-thread-1 TS_METRICS - MemoryAvailable.Megabytes:2359.44921875|#Level:Host|#hostname:d17bd63b9d77,timestamp:1660056765\n",
      "\u001b[36m06s8ui5cf3-algo-1-97ynt |\u001b[0m 2022-08-09 14:52:45,045 [INFO ] pool-2-thread-1 TS_METRICS - MemoryUsed.Megabytes:2937.82421875|#Level:Host|#hostname:d17bd63b9d77,timestamp:1660056765\n",
      "\u001b[36m06s8ui5cf3-algo-1-97ynt |\u001b[0m 2022-08-09 14:52:45,045 [INFO ] pool-2-thread-1 TS_METRICS - MemoryUtilization.Percent:60.3|#Level:Host|#hostname:d17bd63b9d77,timestamp:1660056765\n",
      "\u001b[36m06s8ui5cf3-algo-1-97ynt |\u001b[0m 2022-08-09 14:53:44,993 [INFO ] pool-2-thread-1 TS_METRICS - CPUUtilization.Percent:0.0|#Level:Host|#hostname:d17bd63b9d77,timestamp:1660056824\n",
      "\u001b[36m06s8ui5cf3-algo-1-97ynt |\u001b[0m 2022-08-09 14:53:44,993 [INFO ] pool-2-thread-1 TS_METRICS - DiskAvailable.Gigabytes:136.19506072998047|#Level:Host|#hostname:d17bd63b9d77,timestamp:1660056824\n",
      "\u001b[36m06s8ui5cf3-algo-1-97ynt |\u001b[0m 2022-08-09 14:53:44,993 [INFO ] pool-2-thread-1 TS_METRICS - DiskUsage.Gigabytes:147.56731033325195|#Level:Host|#hostname:d17bd63b9d77,timestamp:1660056824\n",
      "\u001b[36m06s8ui5cf3-algo-1-97ynt |\u001b[0m 2022-08-09 14:53:44,994 [INFO ] pool-2-thread-1 TS_METRICS - DiskUtilization.Percent:52.0|#Level:Host|#hostname:d17bd63b9d77,timestamp:1660056824\n",
      "\u001b[36m06s8ui5cf3-algo-1-97ynt |\u001b[0m 2022-08-09 14:53:44,994 [INFO ] pool-2-thread-1 TS_METRICS - MemoryAvailable.Megabytes:2359.2265625|#Level:Host|#hostname:d17bd63b9d77,timestamp:1660056824\n",
      "\u001b[36m06s8ui5cf3-algo-1-97ynt |\u001b[0m 2022-08-09 14:53:44,994 [INFO ] pool-2-thread-1 TS_METRICS - MemoryUsed.Megabytes:2938.05859375|#Level:Host|#hostname:d17bd63b9d77,timestamp:1660056824\n",
      "\u001b[36m06s8ui5cf3-algo-1-97ynt |\u001b[0m 2022-08-09 14:53:44,995 [INFO ] pool-2-thread-1 TS_METRICS - MemoryUtilization.Percent:60.3|#Level:Host|#hostname:d17bd63b9d77,timestamp:1660056824\n",
      "\u001b[36m06s8ui5cf3-algo-1-97ynt |\u001b[0m 2022-08-09 14:54:44,951 [INFO ] pool-2-thread-2 TS_METRICS - CPUUtilization.Percent:0.0|#Level:Host|#hostname:d17bd63b9d77,timestamp:1660056884\n",
      "\u001b[36m06s8ui5cf3-algo-1-97ynt |\u001b[0m 2022-08-09 14:54:44,951 [INFO ] pool-2-thread-2 TS_METRICS - DiskAvailable.Gigabytes:136.1950569152832|#Level:Host|#hostname:d17bd63b9d77,timestamp:1660056884\n",
      "\u001b[36m06s8ui5cf3-algo-1-97ynt |\u001b[0m 2022-08-09 14:54:44,952 [INFO ] pool-2-thread-2 TS_METRICS - DiskUsage.Gigabytes:147.56731414794922|#Level:Host|#hostname:d17bd63b9d77,timestamp:1660056884\n",
      "\u001b[36m06s8ui5cf3-algo-1-97ynt |\u001b[0m 2022-08-09 14:54:44,952 [INFO ] pool-2-thread-2 TS_METRICS - DiskUtilization.Percent:52.0|#Level:Host|#hostname:d17bd63b9d77,timestamp:1660056884\n",
      "\u001b[36m06s8ui5cf3-algo-1-97ynt |\u001b[0m 2022-08-09 14:54:44,952 [INFO ] pool-2-thread-2 TS_METRICS - MemoryAvailable.Megabytes:2359.359375|#Level:Host|#hostname:d17bd63b9d77,timestamp:1660056884\n",
      "\u001b[36m06s8ui5cf3-algo-1-97ynt |\u001b[0m 2022-08-09 14:54:44,952 [INFO ] pool-2-thread-2 TS_METRICS - MemoryUsed.Megabytes:2937.92578125|#Level:Host|#hostname:d17bd63b9d77,timestamp:1660056884\n",
      "\u001b[36m06s8ui5cf3-algo-1-97ynt |\u001b[0m 2022-08-09 14:54:44,952 [INFO ] pool-2-thread-2 TS_METRICS - MemoryUtilization.Percent:60.3|#Level:Host|#hostname:d17bd63b9d77,timestamp:1660056884\n"
     ]
    }
   ],
   "source": [
    "import json\n",
    "\n",
    "context = r\"\"\"\n",
    "The Amazon rainforest (Portuguese: Floresta Amazônica or Amazônia; Spanish: Selva Amazónica, Amazonía or usually Amazonia; French: Forêt amazonienne; Dutch: Amazoneregenwoud), also known in English as Amazonia or the Amazon Jungle, is a moist broadleaf forest that covers most of the Amazon basin of South America. This basin encompasses 7,000,000 square kilometres (2,700,000 sq mi), of which 5,500,000 square kilometres (2,100,000 sq mi) are covered by the rainforest. This region includes territory belonging to nine nations. The majority of the forest is contained within Brazil, with 60% of the rainforest, followed by Peru with 13%, Colombia with 10%, and with minor amounts in Venezuela, Ecuador, Bolivia, Guyana, Suriname and French Guiana. States or departments in four nations contain \"Amazonas\" in their names. The Amazon represents over half of the planet's remaining rainforests, and comprises the largest and most biodiverse tract of tropical rainforest in the world, with an estimated 390 billion individual trees divided into 16,000 species.\n",
    "\"\"\"\n",
    "\n",
    "question=\"What kind of forest is Amazon?\"\n",
    "\n",
    "\n",
    "data = {\"question\":question, \"context\":context}\n",
    "print(data)\n",
    "local_predictor.predict(data)\n"
   ]
  },
  {
   "cell_type": "code",
   "execution_count": 33,
   "metadata": {},
   "outputs": [
    {
     "name": "stdout",
     "output_type": "stream",
     "text": [
      "\u001b[36m06s8ui5cf3-algo-1-97ynt |\u001b[0m 2022-08-09 15:20:43,767 [INFO ] pool-2-thread-2 TS_METRICS - CPUUtilization.Percent:0.0|#Level:Host|#hostname:d17bd63b9d77,timestamp:1660058443\n",
      "\u001b[36m06s8ui5cf3-algo-1-97ynt |\u001b[0m 2022-08-09 15:20:43,768 [INFO ] pool-2-thread-2 TS_METRICS - DiskAvailable.Gigabytes:136.19488143920898|#Level:Host|#hostname:d17bd63b9d77,timestamp:1660058443\n",
      "\u001b[36m06s8ui5cf3-algo-1-97ynt |\u001b[0m 2022-08-09 15:20:43,768 [INFO ] pool-2-thread-2 TS_METRICS - DiskUsage.Gigabytes:147.56748962402344|#Level:Host|#hostname:d17bd63b9d77,timestamp:1660058443\n",
      "\u001b[36m06s8ui5cf3-algo-1-97ynt |\u001b[0m 2022-08-09 15:20:43,768 [INFO ] pool-2-thread-2 TS_METRICS - DiskUtilization.Percent:52.0|#Level:Host|#hostname:d17bd63b9d77,timestamp:1660058443\n",
      "\u001b[36m06s8ui5cf3-algo-1-97ynt |\u001b[0m 2022-08-09 15:20:43,768 [INFO ] pool-2-thread-2 TS_METRICS - MemoryAvailable.Megabytes:2386.640625|#Level:Host|#hostname:d17bd63b9d77,timestamp:1660058443\n",
      "\u001b[36m06s8ui5cf3-algo-1-97ynt |\u001b[0m 2022-08-09 15:20:43,768 [INFO ] pool-2-thread-2 TS_METRICS - MemoryUsed.Megabytes:2955.328125|#Level:Host|#hostname:d17bd63b9d77,timestamp:1660058443\n",
      "\u001b[36m06s8ui5cf3-algo-1-97ynt |\u001b[0m 2022-08-09 15:20:43,769 [INFO ] pool-2-thread-2 TS_METRICS - MemoryUtilization.Percent:59.8|#Level:Host|#hostname:d17bd63b9d77,timestamp:1660058443\n"
     ]
    }
   ],
   "source": [
    "from sagemaker.pytorch import PyTorchModel\n",
    "\n",
    "env = {    \"SAGEMAKER_TS_BATCH_SIZE\": \"3\",\n",
    "    \"SAGEMAKER_TS_MAX_BATCH_DELAY\": \"100000\"\n",
    "    }\n",
    "\n",
    "\n",
    "# Note: You can update the 'torchserve-predictor.py' file as needed according to the model you want to use (ie BERT) \n",
    "model = PyTorchModel(model_data=model_data,\n",
    "                   role=role, \n",
    "                   entry_point='pipeline-predictor.py',\n",
    "                   source_dir='2_src',\n",
    "                   framework_version='1.9.0',\n",
    "                   py_version='py38',\n",
    "                   env=env,\n",
    "                   sagemaker_session=sagemaker_session)"
   ]
  },
  {
   "cell_type": "code",
   "execution_count": 34,
   "metadata": {},
   "outputs": [
    {
     "name": "stdout",
     "output_type": "stream",
     "text": [
      "-\u001b[36m06s8ui5cf3-algo-1-97ynt |\u001b[0m 2022-08-09 15:21:43,730 [INFO ] pool-2-thread-1 TS_METRICS - CPUUtilization.Percent:0.0|#Level:Host|#hostname:d17bd63b9d77,timestamp:1660058503\n",
      "\u001b[36m06s8ui5cf3-algo-1-97ynt |\u001b[0m 2022-08-09 15:21:43,731 [INFO ] pool-2-thread-1 TS_METRICS - DiskAvailable.Gigabytes:136.19488143920898|#Level:Host|#hostname:d17bd63b9d77,timestamp:1660058503\n",
      "\u001b[36m06s8ui5cf3-algo-1-97ynt |\u001b[0m 2022-08-09 15:21:43,731 [INFO ] pool-2-thread-1 TS_METRICS - DiskUsage.Gigabytes:147.56748962402344|#Level:Host|#hostname:d17bd63b9d77,timestamp:1660058503\n",
      "\u001b[36m06s8ui5cf3-algo-1-97ynt |\u001b[0m 2022-08-09 15:21:43,731 [INFO ] pool-2-thread-1 TS_METRICS - DiskUtilization.Percent:52.0|#Level:Host|#hostname:d17bd63b9d77,timestamp:1660058503\n",
      "\u001b[36m06s8ui5cf3-algo-1-97ynt |\u001b[0m 2022-08-09 15:21:43,731 [INFO ] pool-2-thread-1 TS_METRICS - MemoryAvailable.Megabytes:2386.42578125|#Level:Host|#hostname:d17bd63b9d77,timestamp:1660058503\n",
      "\u001b[36m06s8ui5cf3-algo-1-97ynt |\u001b[0m 2022-08-09 15:21:43,731 [INFO ] pool-2-thread-1 TS_METRICS - MemoryUsed.Megabytes:2955.53515625|#Level:Host|#hostname:d17bd63b9d77,timestamp:1660058503\n",
      "\u001b[36m06s8ui5cf3-algo-1-97ynt |\u001b[0m 2022-08-09 15:21:43,731 [INFO ] pool-2-thread-1 TS_METRICS - MemoryUtilization.Percent:59.9|#Level:Host|#hostname:d17bd63b9d77,timestamp:1660058503\n",
      "--\u001b[36m06s8ui5cf3-algo-1-97ynt |\u001b[0m 2022-08-09 15:22:43,686 [INFO ] pool-2-thread-1 TS_METRICS - CPUUtilization.Percent:0.0|#Level:Host|#hostname:d17bd63b9d77,timestamp:1660058563\n",
      "\u001b[36m06s8ui5cf3-algo-1-97ynt |\u001b[0m 2022-08-09 15:22:43,690 [INFO ] pool-2-thread-1 TS_METRICS - DiskAvailable.Gigabytes:136.19487762451172|#Level:Host|#hostname:d17bd63b9d77,timestamp:1660058563\n",
      "\u001b[36m06s8ui5cf3-algo-1-97ynt |\u001b[0m 2022-08-09 15:22:43,690 [INFO ] pool-2-thread-1 TS_METRICS - DiskUsage.Gigabytes:147.5674934387207|#Level:Host|#hostname:d17bd63b9d77,timestamp:1660058563\n",
      "\u001b[36m06s8ui5cf3-algo-1-97ynt |\u001b[0m 2022-08-09 15:22:43,690 [INFO ] pool-2-thread-1 TS_METRICS - DiskUtilization.Percent:52.0|#Level:Host|#hostname:d17bd63b9d77,timestamp:1660058563\n",
      "\u001b[36m06s8ui5cf3-algo-1-97ynt |\u001b[0m 2022-08-09 15:22:43,690 [INFO ] pool-2-thread-1 TS_METRICS - MemoryAvailable.Megabytes:2386.2421875|#Level:Host|#hostname:d17bd63b9d77,timestamp:1660058563\n",
      "\u001b[36m06s8ui5cf3-algo-1-97ynt |\u001b[0m 2022-08-09 15:22:43,690 [INFO ] pool-2-thread-1 TS_METRICS - MemoryUsed.Megabytes:2955.71875|#Level:Host|#hostname:d17bd63b9d77,timestamp:1660058563\n",
      "\u001b[36m06s8ui5cf3-algo-1-97ynt |\u001b[0m 2022-08-09 15:22:43,690 [INFO ] pool-2-thread-1 TS_METRICS - MemoryUtilization.Percent:59.9|#Level:Host|#hostname:d17bd63b9d77,timestamp:1660058563\n",
      "--\u001b[36m06s8ui5cf3-algo-1-97ynt |\u001b[0m 2022-08-09 15:23:43,645 [INFO ] pool-2-thread-1 TS_METRICS - CPUUtilization.Percent:100.0|#Level:Host|#hostname:d17bd63b9d77,timestamp:1660058623\n",
      "\u001b[36m06s8ui5cf3-algo-1-97ynt |\u001b[0m 2022-08-09 15:23:43,646 [INFO ] pool-2-thread-1 TS_METRICS - DiskAvailable.Gigabytes:136.19487762451172|#Level:Host|#hostname:d17bd63b9d77,timestamp:1660058623\n",
      "\u001b[36m06s8ui5cf3-algo-1-97ynt |\u001b[0m 2022-08-09 15:23:43,646 [INFO ] pool-2-thread-1 TS_METRICS - DiskUsage.Gigabytes:147.5674934387207|#Level:Host|#hostname:d17bd63b9d77,timestamp:1660058623\n",
      "\u001b[36m06s8ui5cf3-algo-1-97ynt |\u001b[0m 2022-08-09 15:23:43,646 [INFO ] pool-2-thread-1 TS_METRICS - DiskUtilization.Percent:52.0|#Level:Host|#hostname:d17bd63b9d77,timestamp:1660058623\n",
      "\u001b[36m06s8ui5cf3-algo-1-97ynt |\u001b[0m 2022-08-09 15:23:43,646 [INFO ] pool-2-thread-1 TS_METRICS - MemoryAvailable.Megabytes:2386.484375|#Level:Host|#hostname:d17bd63b9d77,timestamp:1660058623\n",
      "\u001b[36m06s8ui5cf3-algo-1-97ynt |\u001b[0m 2022-08-09 15:23:43,646 [INFO ] pool-2-thread-1 TS_METRICS - MemoryUsed.Megabytes:2955.4765625|#Level:Host|#hostname:d17bd63b9d77,timestamp:1660058623\n",
      "\u001b[36m06s8ui5cf3-algo-1-97ynt |\u001b[0m 2022-08-09 15:23:43,647 [INFO ] pool-2-thread-1 TS_METRICS - MemoryUtilization.Percent:59.9|#Level:Host|#hostname:d17bd63b9d77,timestamp:1660058623\n",
      "-\u001b[36m06s8ui5cf3-algo-1-97ynt |\u001b[0m 2022-08-09 15:24:07,954 [INFO ] epollEventLoopGroup-2-1 org.pytorch.serve.ModelServer - Inference model server stopped.\n",
      "\u001b[36m06s8ui5cf3-algo-1-97ynt |\u001b[0m 2022-08-09 15:24:07,958 [INFO ] epollEventLoopGroup-2-2 org.pytorch.serve.ModelServer - Metrics model server stopped.\n",
      "\u001b[36m06s8ui5cf3-algo-1-97ynt |\u001b[0m 2022-08-09 15:24:10,003 [INFO ] main org.pytorch.serve.ModelServer - Torchserve stopped.\n",
      "\u001b[36m06s8ui5cf3-algo-1-97ynt |\u001b[0m 2022-08-09 15:24:10,008 [INFO ] Thread-0 org.pytorch.serve.ModelServer - Unregistering model model version 1\n",
      "\u001b[36m06s8ui5cf3-algo-1-97ynt |\u001b[0m 2022-08-09 15:24:10,009 [WARN ] Thread-0 org.pytorch.serve.wlm.WorkerLifeCycle - terminateIOStreams() threadName=W-9005-model_1-stderr\n",
      "\u001b[36m06s8ui5cf3-algo-1-97ynt |\u001b[0m 2022-08-09 15:24:10,009 [WARN ] Thread-0 org.pytorch.serve.wlm.WorkerLifeCycle - terminateIOStreams() threadName=W-9005-model_1-stdout\n",
      "\u001b[36m06s8ui5cf3-algo-1-97ynt |\u001b[0m 2022-08-09 15:24:10,010 [INFO ] epollEventLoopGroup-5-4 org.pytorch.serve.wlm.WorkerThread - 9005 Worker disconnected. WORKER_SCALED_DOWN\n",
      "\u001b[36m06s8ui5cf3-algo-1-97ynt |\u001b[0m 2022-08-09 15:24:10,011 [WARN ] W-9005-model_1 org.pytorch.serve.wlm.WorkerLifeCycle - terminateIOStreams() threadName=W-9005-model_1-stderr\n",
      "\u001b[36m06s8ui5cf3-algo-1-97ynt |\u001b[0m 2022-08-09 15:24:10,012 [INFO ] W-9005-model_1-stdout MODEL_LOG - Frontend disconnected.\n",
      "\u001b[36m06s8ui5cf3-algo-1-97ynt |\u001b[0m 2022-08-09 15:24:10,013 [WARN ] W-9005-model_1 org.pytorch.serve.wlm.WorkerLifeCycle - terminateIOStreams() threadName=W-9005-model_1-stdout\n",
      "\u001b[36m06s8ui5cf3-algo-1-97ynt |\u001b[0m 2022-08-09 15:24:10,014 [INFO ] W-9005-model_1-stdout org.pytorch.serve.wlm.WorkerLifeCycle - Stopped Scanner - W-9005-model_1-stdout\n",
      "\u001b[36m06s8ui5cf3-algo-1-97ynt |\u001b[0m 2022-08-09 15:24:10,029 [WARN ] Thread-0 org.pytorch.serve.wlm.WorkerLifeCycle - terminateIOStreams() threadName=W-9004-model_1-stderr\n",
      "\u001b[36m06s8ui5cf3-algo-1-97ynt |\u001b[0m 2022-08-09 15:24:10,029 [WARN ] Thread-0 org.pytorch.serve.wlm.WorkerLifeCycle - terminateIOStreams() threadName=W-9004-model_1-stdout\n",
      "\u001b[36m06s8ui5cf3-algo-1-97ynt |\u001b[0m 2022-08-09 15:24:10,029 [INFO ] epollEventLoopGroup-5-5 org.pytorch.serve.wlm.WorkerThread - 9004 Worker disconnected. WORKER_SCALED_DOWN\n",
      "\u001b[36m06s8ui5cf3-algo-1-97ynt |\u001b[0m 2022-08-09 15:24:10,030 [WARN ] W-9004-model_1 org.pytorch.serve.wlm.WorkerLifeCycle - terminateIOStreams() threadName=W-9004-model_1-stderr\n",
      "\u001b[36m06s8ui5cf3-algo-1-97ynt |\u001b[0m 2022-08-09 15:24:10,030 [WARN ] W-9004-model_1 org.pytorch.serve.wlm.WorkerLifeCycle - terminateIOStreams() threadName=W-9004-model_1-stdout\n",
      "\u001b[36m06s8ui5cf3-algo-1-97ynt |\u001b[0m 2022-08-09 15:24:10,039 [WARN ] Thread-0 org.pytorch.serve.wlm.WorkerLifeCycle - terminateIOStreams() threadName=W-9003-model_1-stderr\n",
      "\u001b[36m06s8ui5cf3-algo-1-97ynt |\u001b[0m 2022-08-09 15:24:10,039 [WARN ] Thread-0 org.pytorch.serve.wlm.WorkerLifeCycle - terminateIOStreams() threadName=W-9003-model_1-stdout\n",
      "\u001b[36m06s8ui5cf3-algo-1-97ynt |\u001b[0m 2022-08-09 15:24:10,041 [INFO ] epollEventLoopGroup-5-1 org.pytorch.serve.wlm.WorkerThread - 9003 Worker disconnected. WORKER_SCALED_DOWN\n",
      "\u001b[36m06s8ui5cf3-algo-1-97ynt |\u001b[0m 2022-08-09 15:24:10,042 [WARN ] W-9003-model_1 org.pytorch.serve.wlm.WorkerLifeCycle - terminateIOStreams() threadName=W-9003-model_1-stderr\n",
      "\u001b[36m06s8ui5cf3-algo-1-97ynt |\u001b[0m 2022-08-09 15:24:10,042 [WARN ] W-9003-model_1 org.pytorch.serve.wlm.WorkerLifeCycle - terminateIOStreams() threadName=W-9003-model_1-stdout\n",
      "\u001b[36m06s8ui5cf3-algo-1-97ynt |\u001b[0m 2022-08-09 15:24:10,049 [WARN ] Thread-0 org.pytorch.serve.wlm.WorkerLifeCycle - terminateIOStreams() threadName=W-9002-model_1-stderr\n",
      "\u001b[36m06s8ui5cf3-algo-1-97ynt |\u001b[0m 2022-08-09 15:24:10,049 [WARN ] Thread-0 org.pytorch.serve.wlm.WorkerLifeCycle - terminateIOStreams() threadName=W-9002-model_1-stdout\n",
      "\u001b[36m06s8ui5cf3-algo-1-97ynt |\u001b[0m 2022-08-09 15:24:10,053 [WARN ] W-9002-model_1 org.pytorch.serve.wlm.WorkerLifeCycle - terminateIOStreams() threadName=W-9002-model_1-stderr\n",
      "\u001b[36m06s8ui5cf3-algo-1-97ynt |\u001b[0m 2022-08-09 15:24:10,054 [WARN ] W-9002-model_1 org.pytorch.serve.wlm.WorkerLifeCycle - terminateIOStreams() threadName=W-9002-model_1-stdout\n",
      "\u001b[36m06s8ui5cf3-algo-1-97ynt |\u001b[0m 2022-08-09 15:24:10,054 [WARN ] Thread-0 org.pytorch.serve.wlm.WorkerLifeCycle - terminateIOStreams() threadName=W-9001-model_1-stderr\n",
      "\u001b[36m06s8ui5cf3-algo-1-97ynt |\u001b[0m 2022-08-09 15:24:10,055 [WARN ] Thread-0 org.pytorch.serve.wlm.WorkerLifeCycle - terminateIOStreams() threadName=W-9001-model_1-stdout\n",
      "\u001b[36m06s8ui5cf3-algo-1-97ynt |\u001b[0m 2022-08-09 15:24:10,072 [INFO ] epollEventLoopGroup-5-6 org.pytorch.serve.wlm.WorkerThread - 9002 Worker disconnected. WORKER_SCALED_DOWN\n",
      "\u001b[36m06s8ui5cf3-algo-1-97ynt |\u001b[0m 2022-08-09 15:24:10,073 [WARN ] Thread-0 org.pytorch.serve.wlm.WorkerLifeCycle - terminateIOStreams() threadName=W-9000-model_1-stderr\n",
      "\u001b[36m06s8ui5cf3-algo-1-97ynt |\u001b[0m 2022-08-09 15:24:10,073 [WARN ] Thread-0 org.pytorch.serve.wlm.WorkerLifeCycle - terminateIOStreams() threadName=W-9000-model_1-stdout\n",
      "\u001b[36m06s8ui5cf3-algo-1-97ynt |\u001b[0m 2022-08-09 15:24:10,074 [INFO ] epollEventLoopGroup-5-3 org.pytorch.serve.wlm.WorkerThread - 9001 Worker disconnected. WORKER_SCALED_DOWN\n",
      "\u001b[36m06s8ui5cf3-algo-1-97ynt |\u001b[0m 2022-08-09 15:24:10,074 [WARN ] W-9001-model_1 org.pytorch.serve.wlm.WorkerLifeCycle - terminateIOStreams() threadName=W-9001-model_1-stderr\n",
      "\u001b[36m06s8ui5cf3-algo-1-97ynt |\u001b[0m 2022-08-09 15:24:10,074 [WARN ] W-9001-model_1 org.pytorch.serve.wlm.WorkerLifeCycle - terminateIOStreams() threadName=W-9001-model_1-stdout\n",
      "\u001b[36m06s8ui5cf3-algo-1-97ynt |\u001b[0m 2022-08-09 15:24:10,074 [WARN ] W-9000-model_1 org.pytorch.serve.wlm.WorkerLifeCycle - terminateIOStreams() threadName=W-9000-model_1-stderr\n",
      "\u001b[36m06s8ui5cf3-algo-1-97ynt |\u001b[0m 2022-08-09 15:24:10,074 [WARN ] W-9000-model_1 org.pytorch.serve.wlm.WorkerLifeCycle - terminateIOStreams() threadName=W-9000-model_1-stdout\n",
      "\u001b[36m06s8ui5cf3-algo-1-97ynt |\u001b[0m 2022-08-09 15:24:10,075 [INFO ] W-9001-model_1-stdout org.pytorch.serve.wlm.WorkerLifeCycle - Stopped Scanner - W-9001-model_1-stdout\n",
      "\u001b[36m06s8ui5cf3-algo-1-97ynt |\u001b[0m 2022-08-09 15:24:10,075 [INFO ] epollEventLoopGroup-5-2 org.pytorch.serve.wlm.WorkerThread - 9000 Worker disconnected. WORKER_SCALED_DOWN\n",
      "\u001b[36m06s8ui5cf3-algo-1-97ynt |\u001b[0m 2022-08-09 15:24:10,443 [INFO ] W-9003-model_1-stdout org.pytorch.serve.wlm.WorkerLifeCycle - Stopped Scanner - W-9003-model_1-stdout\n",
      "\u001b[36m06s8ui5cf3-algo-1-97ynt |\u001b[0m 2022-08-09 15:24:10,443 [INFO ] W-9003-model_1-stderr org.pytorch.serve.wlm.WorkerLifeCycle - Stopped Scanner - W-9003-model_1-stderr\n",
      "\u001b[36m06s8ui5cf3-algo-1-97ynt |\u001b[0m 2022-08-09 15:24:10,443 [INFO ] W-9005-model_1-stderr org.pytorch.serve.wlm.WorkerLifeCycle - Stopped Scanner - W-9005-model_1-stderr\n",
      "\u001b[36m06s8ui5cf3-algo-1-97ynt |\u001b[0m 2022-08-09 15:24:10,466 [INFO ] W-9002-model_1-stderr org.pytorch.serve.wlm.WorkerLifeCycle - Stopped Scanner - W-9002-model_1-stderr\n",
      "\u001b[36m06s8ui5cf3-algo-1-97ynt |\u001b[0m 2022-08-09 15:24:10,466 [INFO ] W-9002-model_1-stdout org.pytorch.serve.wlm.WorkerLifeCycle - Stopped Scanner - W-9002-model_1-stdout\n",
      "\u001b[36m06s8ui5cf3-algo-1-97ynt |\u001b[0m 2022-08-09 15:24:10,510 [INFO ] W-9001-model_1-stderr org.pytorch.serve.wlm.WorkerLifeCycle - Stopped Scanner - W-9001-model_1-stderr\n",
      "\u001b[36m06s8ui5cf3-algo-1-97ynt |\u001b[0m 2022-08-09 15:24:10,524 [INFO ] W-9004-model_1-stdout org.pytorch.serve.wlm.WorkerLifeCycle - Stopped Scanner - W-9004-model_1-stdout\n",
      "\u001b[36m06s8ui5cf3-algo-1-97ynt |\u001b[0m 2022-08-09 15:24:10,525 [INFO ] W-9004-model_1-stderr org.pytorch.serve.wlm.WorkerLifeCycle - Stopped Scanner - W-9004-model_1-stderr\n",
      "\u001b[36m06s8ui5cf3-algo-1-97ynt |\u001b[0m 2022-08-09 15:24:10,608 [INFO ] W-9000-model_1-stderr org.pytorch.serve.wlm.WorkerLifeCycle - Stopped Scanner - W-9000-model_1-stderr\n",
      "\u001b[36m06s8ui5cf3-algo-1-97ynt |\u001b[0m 2022-08-09 15:24:10,608 [INFO ] W-9000-model_1-stdout org.pytorch.serve.wlm.WorkerLifeCycle - Stopped Scanner - W-9000-model_1-stdout\n",
      "\u001b[36m06s8ui5cf3-algo-1-97ynt |\u001b[0m 2022-08-09 15:24:10,614 [INFO ] Thread-0 org.pytorch.serve.wlm.ModelManager - Model model unregistered.\n",
      "\u001b[36m06s8ui5cf3-algo-1-97ynt exited with code 137\n",
      "\u001b[0mAborting on container exit...\n"
     ]
    },
    {
     "name": "stderr",
     "output_type": "stream",
     "text": [
      "Exception in thread Thread-8:\n",
      "Traceback (most recent call last):\n",
      "  File \"/Users/vdabravolski/miniconda/envs/sagemaker2/lib/python3.9/site-packages/sagemaker/local/image.py\", line 854, in run\n",
      "    _stream_output(self.process)\n",
      "  File \"/Users/vdabravolski/miniconda/envs/sagemaker2/lib/python3.9/site-packages/sagemaker/local/image.py\", line 916, in _stream_output\n",
      "    raise RuntimeError(\"Process exited with code: %s\" % exit_code)\n",
      "RuntimeError: Process exited with code: 137\n",
      "\n",
      "During handling of the above exception, another exception occurred:\n",
      "\n",
      "Traceback (most recent call last):\n",
      "  File \"/Users/vdabravolski/miniconda/envs/sagemaker2/lib/python3.9/threading.py\", line 973, in _bootstrap_inner\n",
      "    self.run()\n",
      "  File \"/Users/vdabravolski/miniconda/envs/sagemaker2/lib/python3.9/site-packages/sagemaker/local/image.py\", line 859, in run\n",
      "    raise RuntimeError(msg)\n",
      "RuntimeError: Failed to run: ['docker-compose', '-f', '/private/var/folders/zm/7yczzhb529xff1v0_ps_8k4h0000gp/T/tmpzizybp1m/docker-compose.yaml', 'up', '--build', '--abort-on-container-exit'], Process exited with code: 137\n"
     ]
    },
    {
     "name": "stdout",
     "output_type": "stream",
     "text": [
      "--------!"
     ]
    }
   ],
   "source": [
    "remote_predictor = model.deploy(initial_instance_count=1, instance_type=\"ml.g4dn.4xlarge\", serializer=JSONSerializer(), deserializer=JSONDeserializer())"
   ]
  },
  {
   "cell_type": "code",
   "execution_count": 35,
   "metadata": {},
   "outputs": [
    {
     "data": {
      "text/plain": [
       "{'score': 0.4394714832305908,\n",
       " 'start': 238,\n",
       " 'end': 253,\n",
       " 'answer': 'moist broadleaf'}"
      ]
     },
     "execution_count": 35,
     "metadata": {},
     "output_type": "execute_result"
    }
   ],
   "source": [
    "remote_predictor.predict(data)"
   ]
  },
  {
   "cell_type": "code",
   "execution_count": null,
   "metadata": {},
   "outputs": [],
   "source": [
    "from time import perf_counter\n",
    "\n",
    "def timer(f,*args):   \n",
    "    \n",
    "    start = perf_counter()\n",
    "    f(*args)\n",
    "    return (1000 * (perf_counter() - start))\n",
    "\n",
    "\n",
    "stats = np.array([timer(predict_f, local_predictor) for _ in range(10)])\n",
    "print(stats)\n",
    "\n",
    "for i in range(100):\n",
    "    local_predictor.predict(data)"
   ]
  },
  {
   "cell_type": "code",
   "execution_count": 11,
   "metadata": {},
   "outputs": [
    {
     "data": {
      "text/plain": [
       "'pytorch-inference-2022-08-09-03-08-44-728'"
      ]
     },
     "execution_count": 11,
     "metadata": {},
     "output_type": "execute_result"
    }
   ],
   "source": [
    "local_predictor.endpoint_name"
   ]
  },
  {
   "cell_type": "code",
   "execution_count": null,
   "metadata": {},
   "outputs": [],
   "source": []
  }
 ],
 "metadata": {
  "interpreter": {
   "hash": "02fb69b38420c3d4e00e3a2af627e83f052bc85ba6fe46654fe57240b48dcaee"
  },
  "kernelspec": {
   "display_name": "Python 3.9.12 ('sagemaker2')",
   "language": "python",
   "name": "python3"
  },
  "language_info": {
   "codemirror_mode": {
    "name": "ipython",
    "version": 3
   },
   "file_extension": ".py",
   "mimetype": "text/x-python",
   "name": "python",
   "nbconvert_exporter": "python",
   "pygments_lexer": "ipython3",
   "version": "3.9.12"
  },
  "orig_nbformat": 4
 },
 "nbformat": 4,
 "nbformat_minor": 2
}
