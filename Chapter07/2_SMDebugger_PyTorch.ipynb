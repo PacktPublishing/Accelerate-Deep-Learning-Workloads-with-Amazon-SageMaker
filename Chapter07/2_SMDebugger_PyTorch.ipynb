{
 "cells": [
  {
   "cell_type": "markdown",
   "metadata": {},
   "source": [
    "# Initial setup"
   ]
  },
  {
   "cell_type": "code",
   "execution_count": 30,
   "metadata": {},
   "outputs": [
    {
     "name": "stdout",
     "output_type": "stream",
     "text": [
      "Bucket:\n",
      "sagemaker-us-east-1-941656036254\n"
     ]
    }
   ],
   "source": [
    "import sagemaker\n",
    "from sagemaker import get_execution_role\n",
    "\n",
    "sagemaker_session = sagemaker.Session()\n",
    "role = \"arn:aws:iam::941656036254:role/service-role/AmazonSageMaker-ExecutionRole-20210904T193230\"\n",
    "\n",
    "bucket = sagemaker_session.default_bucket()\n",
    "prefix = 'sagemaker/sm-modelparallel-distribution-options'\n",
    "print('Bucket:\\n{}'.format(bucket))"
   ]
  },
  {
   "cell_type": "code",
   "execution_count": 31,
   "metadata": {},
   "outputs": [],
   "source": [
    "data_url = \"s3://sagemaker-us-east-1-941656036254/hymenoptera_data\""
   ]
  },
  {
   "cell_type": "code",
   "execution_count": null,
   "metadata": {},
   "outputs": [],
   "source": [
    "bucket"
   ]
  },
  {
   "cell_type": "markdown",
   "metadata": {},
   "source": [
    "## Train Script\n",
    "\n"
   ]
  },
  {
   "cell_type": "code",
   "execution_count": 139,
   "metadata": {},
   "outputs": [
    {
     "name": "stdout",
     "output_type": "stream",
     "text": [
      "\u001b[37m# Example: https://github.com/aws/amazon-sagemaker-examples/blob/main/sagemaker-debugger/pytorch_profiling/entry_point/pt_res50_cifar10_distributed.py\u001b[39;49;00m\n",
      "\n",
      "\u001b[34mfrom\u001b[39;49;00m \u001b[04m\u001b[36m__future__\u001b[39;49;00m \u001b[34mimport\u001b[39;49;00m division, print_function\n",
      "\u001b[34mimport\u001b[39;49;00m \u001b[04m\u001b[36margparse\u001b[39;49;00m\n",
      "\u001b[34mimport\u001b[39;49;00m \u001b[04m\u001b[36mos\u001b[39;49;00m\n",
      "\u001b[34mimport\u001b[39;49;00m \u001b[04m\u001b[36mlogging\u001b[39;49;00m\n",
      "\u001b[34mimport\u001b[39;49;00m \u001b[04m\u001b[36mtorch\u001b[39;49;00m\n",
      "\u001b[34mimport\u001b[39;49;00m \u001b[04m\u001b[36mtorch\u001b[39;49;00m\u001b[04m\u001b[36m.\u001b[39;49;00m\u001b[04m\u001b[36mnn\u001b[39;49;00m \u001b[34mas\u001b[39;49;00m \u001b[04m\u001b[36mnn\u001b[39;49;00m\n",
      "\u001b[34mimport\u001b[39;49;00m \u001b[04m\u001b[36mtorch\u001b[39;49;00m\u001b[04m\u001b[36m.\u001b[39;49;00m\u001b[04m\u001b[36moptim\u001b[39;49;00m \u001b[34mas\u001b[39;49;00m \u001b[04m\u001b[36moptim\u001b[39;49;00m\n",
      "\u001b[34mfrom\u001b[39;49;00m \u001b[04m\u001b[36mtorchvision\u001b[39;49;00m \u001b[34mimport\u001b[39;49;00m datasets, models, transforms\n",
      "\u001b[34mimport\u001b[39;49;00m \u001b[04m\u001b[36mtime\u001b[39;49;00m\n",
      "\u001b[34mfrom\u001b[39;49;00m \u001b[04m\u001b[36mtorch\u001b[39;49;00m\u001b[04m\u001b[36m.\u001b[39;49;00m\u001b[04m\u001b[36moptim\u001b[39;49;00m \u001b[34mimport\u001b[39;49;00m lr_scheduler\n",
      "\u001b[34mfrom\u001b[39;49;00m \u001b[04m\u001b[36msmdebug\u001b[39;49;00m \u001b[34mimport\u001b[39;49;00m modes\n",
      "\n",
      "\u001b[37m# from smdebug.pytorch import get_hook\u001b[39;49;00m\n",
      "\u001b[34mimport\u001b[39;49;00m \u001b[04m\u001b[36msmdebug\u001b[39;49;00m\u001b[04m\u001b[36m.\u001b[39;49;00m\u001b[04m\u001b[36mpytorch\u001b[39;49;00m \u001b[34mas\u001b[39;49;00m \u001b[04m\u001b[36msmd\u001b[39;49;00m\n",
      "\n",
      "\n",
      "logging.basicConfig(level=logging.INFO)\n",
      "LOGGER = logging.getLogger(\u001b[31m__name__\u001b[39;49;00m)\n",
      "\n",
      "NUM_CLASSES = \u001b[34m2\u001b[39;49;00m  \u001b[37m# two classes: ants and bees\u001b[39;49;00m\n",
      "\n",
      "\n",
      "\u001b[34mdef\u001b[39;49;00m \u001b[32mmodel_step\u001b[39;49;00m(model, data, target, criterion):\n",
      "    outputs = model(data)\n",
      "    loss = criterion(outputs, target)\n",
      "    \u001b[34mreturn\u001b[39;49;00m outputs, loss\n",
      "\n",
      "\n",
      "\u001b[34mdef\u001b[39;49;00m \u001b[32mtrain_model\u001b[39;49;00m(\n",
      "    model, device, dataloaders, criterion, optimizer, scheduler, args, hook\n",
      "):\n",
      "\n",
      "    \u001b[34mfor\u001b[39;49;00m epoch \u001b[35min\u001b[39;49;00m \u001b[36mrange\u001b[39;49;00m(\u001b[34m1\u001b[39;49;00m, args.num_epochs + \u001b[34m1\u001b[39;49;00m):\n",
      "        \u001b[34mfor\u001b[39;49;00m phase \u001b[35min\u001b[39;49;00m [\u001b[33m\"\u001b[39;49;00m\u001b[33mtrain\u001b[39;49;00m\u001b[33m\"\u001b[39;49;00m, \u001b[33m\"\u001b[39;49;00m\u001b[33mval\u001b[39;49;00m\u001b[33m\"\u001b[39;49;00m]:\n",
      "            \u001b[34mif\u001b[39;49;00m phase == \u001b[33m\"\u001b[39;49;00m\u001b[33mtrain\u001b[39;49;00m\u001b[33m\"\u001b[39;49;00m:\n",
      "                model.train()  \u001b[37m# Set model to training mode\u001b[39;49;00m\n",
      "                \u001b[34mif\u001b[39;49;00m hook:\n",
      "                    hook.set_mode(modes.TRAIN)\n",
      "            \u001b[34melse\u001b[39;49;00m:\n",
      "                model.eval()  \u001b[37m# Set model to evaluate mode\u001b[39;49;00m\n",
      "                \u001b[34mif\u001b[39;49;00m hook:\n",
      "                    hook.set_mode(modes.EVAL)\n",
      "\n",
      "            running_corrects = \u001b[34m0\u001b[39;49;00m\n",
      "            running_loss = \u001b[34m0.0\u001b[39;49;00m\n",
      "            step_counter = \u001b[34m0\u001b[39;49;00m\n",
      "            epoch_start = time.time()\n",
      "\n",
      "            \u001b[34mfor\u001b[39;49;00m _, (inputs, labels) \u001b[35min\u001b[39;49;00m \u001b[36menumerate\u001b[39;49;00m(dataloaders[phase]):\n",
      "                inputs, labels = inputs.to(device), labels.to(device)\n",
      "                optimizer.zero_grad()\n",
      "\n",
      "                \u001b[34mwith\u001b[39;49;00m torch.set_grad_enabled(phase == \u001b[33m\"\u001b[39;49;00m\u001b[33mtrain\u001b[39;49;00m\u001b[33m\"\u001b[39;49;00m):\n",
      "                    outputs, step_loss = model_step(model, inputs, labels, criterion)\n",
      "                    _, preds = torch.max(outputs, \u001b[34m1\u001b[39;49;00m)\n",
      "                    \u001b[34mif\u001b[39;49;00m phase == \u001b[33m\"\u001b[39;49;00m\u001b[33mtrain\u001b[39;49;00m\u001b[33m\"\u001b[39;49;00m:\n",
      "                        step_loss.backward()\n",
      "                        optimizer.step()\n",
      "\n",
      "                running_corrects += torch.sum(preds == labels.data)\n",
      "                running_loss += step_loss.item() * inputs.size(\u001b[34m0\u001b[39;49;00m)\n",
      "                step_counter += \u001b[34m1\u001b[39;49;00m\n",
      "            \u001b[34mif\u001b[39;49;00m phase == \u001b[33m\"\u001b[39;49;00m\u001b[33mtrain\u001b[39;49;00m\u001b[33m\"\u001b[39;49;00m:\n",
      "                scheduler.step()\n",
      "            epoch_time = time.time() - epoch_start\n",
      "            epoch_accuracy = running_corrects.double() / (\n",
      "                args.batch_size * step_counter\n",
      "            )\n",
      "            epoch_loss = running_loss / (args.batch_size * step_counter)\n",
      "            LOGGER.info(\n",
      "                \u001b[33mf\u001b[39;49;00m\u001b[33m\"\u001b[39;49;00m\u001b[33mEpoch \u001b[39;49;00m\u001b[33m{\u001b[39;49;00mepoch\u001b[33m}\u001b[39;49;00m\u001b[33m: \u001b[39;49;00m\u001b[33m{\u001b[39;49;00mphase\u001b[33m}\u001b[39;49;00m\u001b[33m loss \u001b[39;49;00m\u001b[33m{\u001b[39;49;00mepoch_loss\u001b[33m}\u001b[39;49;00m\u001b[33m, accuracy \u001b[39;49;00m\u001b[33m{\u001b[39;49;00mepoch_accuracy\u001b[33m}\u001b[39;49;00m\u001b[33m,  in \u001b[39;49;00m\u001b[33m{\u001b[39;49;00mepoch_time\u001b[33m}\u001b[39;49;00m\u001b[33m sec. Total number of steps: \u001b[39;49;00m\u001b[33m{\u001b[39;49;00mstep_counter\u001b[33m}\u001b[39;49;00m\u001b[33m\"\u001b[39;49;00m\n",
      "            )\n",
      "\n",
      "\n",
      "\u001b[34mdef\u001b[39;49;00m \u001b[32mset_parameter_requires_grad\u001b[39;49;00m(model, feature_extracting):\n",
      "    \u001b[34mif\u001b[39;49;00m feature_extracting:\n",
      "        \u001b[34mfor\u001b[39;49;00m param \u001b[35min\u001b[39;49;00m model.parameters():\n",
      "            param.requires_grad = \u001b[34mFalse\u001b[39;49;00m\n",
      "\n",
      "\n",
      "\u001b[34mdef\u001b[39;49;00m \u001b[32minitialize_resnet_model\u001b[39;49;00m(num_classes, feature_extract, use_pretrained=\u001b[34mTrue\u001b[39;49;00m):\n",
      "    model_ft = models.resnet18(pretrained=use_pretrained)\n",
      "    set_parameter_requires_grad(model_ft, feature_extract)\n",
      "    num_ftrs = model_ft.fc.in_features\n",
      "    model_ft.fc = nn.Linear(num_ftrs, num_classes)\n",
      "\n",
      "    \u001b[34mreturn\u001b[39;49;00m model_ft\n",
      "\n",
      "\n",
      "\u001b[34mdef\u001b[39;49;00m \u001b[32mparse_args\u001b[39;49;00m():\n",
      "    parser = argparse.ArgumentParser()\n",
      "    parser.add_argument(\u001b[33m\"\u001b[39;49;00m\u001b[33m--num-epochs\u001b[39;49;00m\u001b[33m\"\u001b[39;49;00m, \u001b[36mtype\u001b[39;49;00m=\u001b[36mint\u001b[39;49;00m, default=\u001b[34m15\u001b[39;49;00m)\n",
      "    parser.add_argument(\u001b[33m\"\u001b[39;49;00m\u001b[33m--batch-size\u001b[39;49;00m\u001b[33m\"\u001b[39;49;00m, \u001b[36mtype\u001b[39;49;00m=\u001b[36mint\u001b[39;49;00m, default=\u001b[34m64\u001b[39;49;00m)\n",
      "    parser.add_argument(\u001b[33m\"\u001b[39;49;00m\u001b[33m--feature-extract\u001b[39;49;00m\u001b[33m\"\u001b[39;49;00m, \u001b[36mtype\u001b[39;49;00m=\u001b[36mbool\u001b[39;49;00m, default=\u001b[34mFalse\u001b[39;49;00m)\n",
      "    parser.add_argument(\u001b[33m\"\u001b[39;49;00m\u001b[33m--input-size\u001b[39;49;00m\u001b[33m\"\u001b[39;49;00m, \u001b[36mtype\u001b[39;49;00m=\u001b[36mint\u001b[39;49;00m, default=\u001b[34m224\u001b[39;49;00m)\n",
      "    parser.add_argument(\u001b[33m\"\u001b[39;49;00m\u001b[33m--num-data-workers\u001b[39;49;00m\u001b[33m\"\u001b[39;49;00m, \u001b[36mtype\u001b[39;49;00m=\u001b[36mint\u001b[39;49;00m, default=\u001b[34m4\u001b[39;49;00m)\n",
      "    \u001b[34mreturn\u001b[39;49;00m parser.parse_known_args()\n",
      "\n",
      "\n",
      "\u001b[34mdef\u001b[39;49;00m \u001b[32mget_dataloaders\u001b[39;49;00m(args):\n",
      "    data_transforms = {\n",
      "        \u001b[33m\"\u001b[39;49;00m\u001b[33mtrain\u001b[39;49;00m\u001b[33m\"\u001b[39;49;00m: transforms.Compose(\n",
      "            [\n",
      "                transforms.RandomResizedCrop(args.input_size),\n",
      "                transforms.RandomHorizontalFlip(),\n",
      "                transforms.ToTensor(),\n",
      "                transforms.Normalize([\u001b[34m0.485\u001b[39;49;00m, \u001b[34m0.456\u001b[39;49;00m, \u001b[34m0.406\u001b[39;49;00m], [\u001b[34m0.229\u001b[39;49;00m, \u001b[34m0.224\u001b[39;49;00m, \u001b[34m0.225\u001b[39;49;00m]),\n",
      "            ]\n",
      "        ),\n",
      "        \u001b[33m\"\u001b[39;49;00m\u001b[33mval\u001b[39;49;00m\u001b[33m\"\u001b[39;49;00m: transforms.Compose(\n",
      "            [\n",
      "                transforms.Resize(args.input_size),\n",
      "                transforms.CenterCrop(args.input_size),\n",
      "                transforms.ToTensor(),\n",
      "                transforms.Normalize([\u001b[34m0.485\u001b[39;49;00m, \u001b[34m0.456\u001b[39;49;00m, \u001b[34m0.406\u001b[39;49;00m], [\u001b[34m0.229\u001b[39;49;00m, \u001b[34m0.224\u001b[39;49;00m, \u001b[34m0.225\u001b[39;49;00m]),\n",
      "            ]\n",
      "        ),\n",
      "    }\n",
      "\n",
      "    LOGGER.info(\u001b[33m\"\u001b[39;49;00m\u001b[33mInitializing Datasets and Dataloaders...\u001b[39;49;00m\u001b[33m\"\u001b[39;49;00m)\n",
      "\n",
      "    \u001b[37m# Create training and validation datasets\u001b[39;49;00m\n",
      "    image_datasets = {\n",
      "        x: datasets.ImageFolder(\n",
      "            os.environ[\u001b[33mf\u001b[39;49;00m\u001b[33m\"\u001b[39;49;00m\u001b[33mSM_CHANNEL_\u001b[39;49;00m\u001b[33m{\u001b[39;49;00mx.upper()\u001b[33m}\u001b[39;49;00m\u001b[33m\"\u001b[39;49;00m], data_transforms[x]\n",
      "        )\n",
      "        \u001b[34mfor\u001b[39;49;00m x \u001b[35min\u001b[39;49;00m [\u001b[33m\"\u001b[39;49;00m\u001b[33mtrain\u001b[39;49;00m\u001b[33m\"\u001b[39;49;00m, \u001b[33m\"\u001b[39;49;00m\u001b[33mval\u001b[39;49;00m\u001b[33m\"\u001b[39;49;00m]\n",
      "    }\n",
      "    dataloaders_dict = {}\n",
      "    dataloaders_dict[\u001b[33m\"\u001b[39;49;00m\u001b[33mtrain\u001b[39;49;00m\u001b[33m\"\u001b[39;49;00m] = torch.utils.data.DataLoader(\n",
      "        image_datasets[\u001b[33m\"\u001b[39;49;00m\u001b[33mtrain\u001b[39;49;00m\u001b[33m\"\u001b[39;49;00m],\n",
      "        batch_size=args.batch_size,\n",
      "        num_workers=args.num_data_workers,\n",
      "        shuffle=\u001b[34mTrue\u001b[39;49;00m,\n",
      "        pin_memory=\u001b[34mTrue\u001b[39;49;00m,\n",
      "        drop_last=\u001b[34mTrue\u001b[39;49;00m,\n",
      "    )\n",
      "\n",
      "    dataloaders_dict[\u001b[33m\"\u001b[39;49;00m\u001b[33mval\u001b[39;49;00m\u001b[33m\"\u001b[39;49;00m] = torch.utils.data.DataLoader(\n",
      "        image_datasets[\u001b[33m\"\u001b[39;49;00m\u001b[33mval\u001b[39;49;00m\u001b[33m\"\u001b[39;49;00m],\n",
      "        batch_size=args.batch_size,\n",
      "        num_workers=args.num_data_workers,\n",
      "        shuffle=\u001b[34mTrue\u001b[39;49;00m,\n",
      "        pin_memory=\u001b[34mTrue\u001b[39;49;00m,\n",
      "        drop_last=\u001b[34mTrue\u001b[39;49;00m,\n",
      "    )\n",
      "\n",
      "    \u001b[34mreturn\u001b[39;49;00m dataloaders_dict\n",
      "\n",
      "\n",
      "\u001b[34mdef\u001b[39;49;00m \u001b[32mmain\u001b[39;49;00m():\n",
      "\n",
      "    args, unknown_args = parse_args()\n",
      "    LOGGER.info(\n",
      "        \u001b[33mf\u001b[39;49;00m\u001b[33m\"\u001b[39;49;00m\u001b[33mCollected hyperparameters: \u001b[39;49;00m\u001b[33m{\u001b[39;49;00margs\u001b[33m}\u001b[39;49;00m\u001b[33m.\u001b[39;49;00m\u001b[33m\"\u001b[39;49;00m\n",
      "        \u001b[33mf\u001b[39;49;00m\u001b[33m\"\u001b[39;49;00m\u001b[33mFollowing args are not parsed correctly and won\u001b[39;49;00m\u001b[33m'\u001b[39;49;00m\u001b[33mt be used: \u001b[39;49;00m\u001b[33m{\u001b[39;49;00munknown_args\u001b[33m}\u001b[39;49;00m\u001b[33m.\u001b[39;49;00m\u001b[33m\"\u001b[39;49;00m\n",
      "    )\n",
      "\n",
      "    \u001b[34mif\u001b[39;49;00m \u001b[35mnot\u001b[39;49;00m torch.cuda.is_available():\n",
      "        \u001b[34mraise\u001b[39;49;00m \u001b[36mValueError\u001b[39;49;00m(\u001b[33m\"\u001b[39;49;00m\u001b[33mThe script requires CUDA support, but CUDA not available\u001b[39;49;00m\u001b[33m\"\u001b[39;49;00m)\n",
      "\n",
      "    \u001b[36mprint\u001b[39;49;00m(\u001b[33mf\u001b[39;49;00m\u001b[33m\"\u001b[39;49;00m\u001b[33mDevice count: \u001b[39;49;00m\u001b[33m{\u001b[39;49;00mtorch.cuda.device_count()\u001b[33m}\u001b[39;49;00m\u001b[33m\"\u001b[39;49;00m)\n",
      "    model = initialize_resnet_model(\n",
      "        NUM_CLASSES, feature_extract=\u001b[34mFalse\u001b[39;49;00m, use_pretrained=\u001b[34mTrue\u001b[39;49;00m\n",
      "    )\n",
      "\n",
      "    \u001b[37m# torch.cuda.set_device(0)\u001b[39;49;00m\n",
      "    device = torch.device(\u001b[33m\"\u001b[39;49;00m\u001b[33mcuda\u001b[39;49;00m\u001b[33m\"\u001b[39;49;00m)\n",
      "    model.to(device)\n",
      "\n",
      "    \u001b[37m# TODO: remove it\u001b[39;49;00m\n",
      "    \u001b[36mprint\u001b[39;49;00m(os.environ)\n",
      "\n",
      "    on_cuda = \u001b[36mnext\u001b[39;49;00m(model.parameters()).is_cuda\n",
      "    \u001b[34mif\u001b[39;49;00m \u001b[35mnot\u001b[39;49;00m on_cuda:\n",
      "        \u001b[36mprint\u001b[39;49;00m(\u001b[33mf\u001b[39;49;00m\u001b[33m\"\u001b[39;49;00m\u001b[33mModel is not on cuda. On_cuda is \u001b[39;49;00m\u001b[33m{\u001b[39;49;00mon_cuda\u001b[33m}\u001b[39;49;00m\u001b[33m. Trying something else\u001b[39;49;00m\u001b[33m\"\u001b[39;49;00m)\n",
      "        new_device = torch.device(\u001b[33m\"\u001b[39;49;00m\u001b[33mcuda:0\u001b[39;49;00m\u001b[33m\"\u001b[39;49;00m)\n",
      "        torch.cuda.set_device(new_device)\n",
      "        model.cuda()\n",
      "        on_cuda = \u001b[36mnext\u001b[39;49;00m(model.parameters()).is_cuda\n",
      "        \u001b[34mif\u001b[39;49;00m \u001b[35mnot\u001b[39;49;00m on_cuda:\n",
      "            \u001b[34mraise\u001b[39;49;00m \u001b[36mException\u001b[39;49;00m(\u001b[33mf\u001b[39;49;00m\u001b[33m\"\u001b[39;49;00m\u001b[33mModel is not on cuda. On_cuda is \u001b[39;49;00m\u001b[33m{\u001b[39;49;00mon_cuda\u001b[33m}\u001b[39;49;00m\u001b[33m. We\u001b[39;49;00m\u001b[33m'\u001b[39;49;00m\u001b[33mre done\u001b[39;49;00m\u001b[33m\"\u001b[39;49;00m)\n",
      "\n",
      "    params_to_update = model.parameters()\n",
      "    info_message = \u001b[33m\"\u001b[39;49;00m\u001b[33mParams to learn:\u001b[39;49;00m\u001b[33m\"\u001b[39;49;00m\n",
      "    \u001b[34mif\u001b[39;49;00m args.feature_extract:\n",
      "        params_to_update = []\n",
      "        \u001b[34mfor\u001b[39;49;00m name, param \u001b[35min\u001b[39;49;00m model.named_parameters():\n",
      "            \u001b[34mif\u001b[39;49;00m param.requires_grad == \u001b[34mTrue\u001b[39;49;00m:\n",
      "                params_to_update.append(param)\n",
      "                info_message += \u001b[33mf\u001b[39;49;00m\u001b[33m\"\u001b[39;49;00m\u001b[33m{\u001b[39;49;00mname\u001b[33m}\u001b[39;49;00m\u001b[33m, \u001b[39;49;00m\u001b[33m\"\u001b[39;49;00m\n",
      "    \u001b[34melse\u001b[39;49;00m:\n",
      "        \u001b[34mfor\u001b[39;49;00m name, param \u001b[35min\u001b[39;49;00m model.named_parameters():\n",
      "            \u001b[34mif\u001b[39;49;00m param.requires_grad == \u001b[34mTrue\u001b[39;49;00m:\n",
      "                info_message += \u001b[33mf\u001b[39;49;00m\u001b[33m\"\u001b[39;49;00m\u001b[33m{\u001b[39;49;00mname\u001b[33m}\u001b[39;49;00m\u001b[33m, \u001b[39;49;00m\u001b[33m\"\u001b[39;49;00m\n",
      "    LOGGER.info(info_message)\n",
      "\n",
      "    optimizer = optim.SGD(params_to_update, lr=\u001b[34m0.001\u001b[39;49;00m, momentum=\u001b[34m0.9\u001b[39;49;00m)\n",
      "    criterion = nn.CrossEntropyLoss()\n",
      "    exp_lr_scheduler = lr_scheduler.StepLR(optimizer, step_size=\u001b[34m7\u001b[39;49;00m, gamma=\u001b[34m0.1\u001b[39;49;00m)\n",
      "\n",
      "    \u001b[37m# Init hook\u001b[39;49;00m\n",
      "    \u001b[37m# hook = get_hook()\u001b[39;49;00m\n",
      "    hook = smd.Hook.create_from_json_file()\n",
      "    hook.register_hook(model)\n",
      "    hook.register_loss(criterion)\n",
      "\n",
      "    dataloaders_dict = get_dataloaders(args)\n",
      "    model = train_model(\n",
      "        model,\n",
      "        device,\n",
      "        dataloaders_dict,\n",
      "        criterion,\n",
      "        optimizer,\n",
      "        exp_lr_scheduler,\n",
      "        args,\n",
      "        hook,\n",
      "    )\n",
      "\n",
      "\n",
      "\u001b[34mif\u001b[39;49;00m \u001b[31m__name__\u001b[39;49;00m == \u001b[33m\"\u001b[39;49;00m\u001b[33m__main__\u001b[39;49;00m\u001b[33m\"\u001b[39;49;00m:\n",
      "    main()\n"
     ]
    }
   ],
   "source": [
    "! pygmentize 2_sources/train_resnet_sm.py"
   ]
  },
  {
   "cell_type": "markdown",
   "metadata": {},
   "source": [
    "# Debugging"
   ]
  },
  {
   "cell_type": "code",
   "execution_count": 185,
   "metadata": {},
   "outputs": [],
   "source": [
    "from sagemaker.pytorch import PyTorch\n",
    "from sagemaker.debugger import (\n",
    "    Rule,\n",
    "    DebuggerHookConfig,\n",
    "    TensorBoardOutputConfig,\n",
    "    CollectionConfig,\n",
    "    rule_configs,\n",
    "    ProfilerRule\n",
    ")\n",
    "\n",
    "actions = rule_configs.ActionList(\n",
    "    rule_configs.StopTraining())\n",
    "\n",
    "\n",
    "collection_configs=[\n",
    "        CollectionConfig(\n",
    "            name=\"weights\",\n",
    "            parameters={\n",
    "                \"save_histogram\": \"True\"\n",
    "                }\n",
    "            ),\n",
    "        CollectionConfig(name=\"losses\"),\n",
    "        #CollectionConfig(name=\"relu_input\", parameters={\"end_step\": '0'}),\n",
    "        #CollectionConfig(\n",
    "        #    name=\"gradients\",\n",
    "        #    parameters={\n",
    "        #        \"save_histogram\": \"True\"\n",
    "        #        }\n",
    "        #    ),\n",
    "    ]\n",
    "\n",
    "rules = [\n",
    "    Rule.sagemaker(rule_configs.vanishing_gradient(), actions=actions),\n",
    "    Rule.sagemaker(rule_configs.overfit(), actions=actions),\n",
    "    Rule.sagemaker(rule_configs.overtraining(), actions=actions),\n",
    "    Rule.sagemaker(rule_configs.poor_weight_initialization(), actions=actions),\n",
    "]\n",
    "\n",
    "hook_config = DebuggerHookConfig(\n",
    "    hook_parameters={\"train.save_interval\": \"1\", \"eval.save_interval\": \"1\"},\n",
    "    collection_configs=collection_configs\n",
    ")"
   ]
  },
  {
   "cell_type": "code",
   "execution_count": 186,
   "metadata": {},
   "outputs": [
    {
     "name": "stdout",
     "output_type": "stream",
     "text": [
      "<sagemaker.debugger.debugger.CollectionConfig object at 0x7f8a23cd7370>\n",
      "weights\n",
      "{'save_histogram': 'True'}\n",
      "<sagemaker.debugger.debugger.CollectionConfig object at 0x7f8a2b23b520>\n",
      "losses\n",
      "None\n"
     ]
    }
   ],
   "source": [
    "for collection_config in hook_config.collection_configs:\n",
    "    print(collection_config)\n",
    "    print(collection_config.name)\n",
    "    print(collection_config.parameters)"
   ]
  },
  {
   "cell_type": "markdown",
   "metadata": {},
   "source": [
    "# Remote Mode"
   ]
  },
  {
   "cell_type": "code",
   "execution_count": 201,
   "metadata": {},
   "outputs": [],
   "source": [
    "\n",
    "from sagemaker.pytorch import PyTorch\n",
    "\n",
    "instance_type = 'ml.p2.xlarge'\n",
    "instance_count = 1\n",
    "job_name = \"pytorch-sm-debugging\"\n",
    "tb_debug_path = f\"s3://{bucket}/tensorboard/{job_name}\"\n",
    "\n",
    "tensorboard_output_config = TensorBoardOutputConfig(\n",
    "    s3_output_path=tb_debug_path\n",
    ")\n",
    "\n",
    "\n",
    "debug_estimator = PyTorch(\n",
    "          entry_point=\"train_resnet_sm.py\", # Pick your train script\n",
    "          source_dir='2_sources',\n",
    "          role=role,\n",
    "          instance_type=instance_type,\n",
    "          sagemaker_session=sagemaker_session,\n",
    "          image_uri=\"763104351884.dkr.ecr.us-east-1.amazonaws.com/pytorch-training:1.10.2-gpu-py38-cu113-ubuntu20.04-sagemaker\",\n",
    "          instance_count=instance_count,\n",
    "          hyperparameters={\n",
    "              \"batch-size\":64,\n",
    "              \"num-epochs\":5,\n",
    "              \"input-size\" : 224,\n",
    "              \"num-data-workers\" : 4,\n",
    "              \"feature-extract\":False,\n",
    "          },\n",
    "          disable_profiler=True,\n",
    "          rules=rules,\n",
    "          debugger_hook_config=hook_config,\n",
    "          tensorboard_output_config=tensorboard_output_config,\n",
    "          base_job_name=job_name,\n",
    "      )"
   ]
  },
  {
   "cell_type": "code",
   "execution_count": 202,
   "metadata": {},
   "outputs": [],
   "source": [
    "debug_estimator.fit(inputs={\"train\":f\"{data_url}/train\", \"val\":f\"{data_url}/val\"}, wait=False)"
   ]
  },
  {
   "cell_type": "code",
   "execution_count": 204,
   "metadata": {},
   "outputs": [
    {
     "name": "stdout",
     "output_type": "stream",
     "text": [
      "[2022-06-12 02:00:43.996 C02Y82MBJGH5:2535 INFO s3_trial.py:42] Loading trial debug-output at path s3://sagemaker-us-east-1-941656036254/pytorch-sm-debugging-2022-06-12-05-32-51-033/debug-output\n",
      "Saved these tensors: ['CrossEntropyLoss_output_0', 'ResNet_bn1.weight', 'ResNet_conv1.weight', 'ResNet_fc.weight', 'ResNet_layer1.0.bn1.weight', 'ResNet_layer1.0.bn2.weight', 'ResNet_layer1.0.conv1.weight', 'ResNet_layer1.0.conv2.weight', 'ResNet_layer1.1.bn1.weight', 'ResNet_layer1.1.bn2.weight', 'ResNet_layer1.1.conv1.weight', 'ResNet_layer1.1.conv2.weight', 'ResNet_layer2.0.bn1.weight', 'ResNet_layer2.0.bn2.weight', 'ResNet_layer2.0.conv1.weight', 'ResNet_layer2.0.conv2.weight', 'ResNet_layer2.0.downsample.0.weight', 'ResNet_layer2.0.downsample.1.weight', 'ResNet_layer2.1.bn1.weight', 'ResNet_layer2.1.bn2.weight', 'ResNet_layer2.1.conv1.weight', 'ResNet_layer2.1.conv2.weight', 'ResNet_layer3.0.bn1.weight', 'ResNet_layer3.0.bn2.weight', 'ResNet_layer3.0.conv1.weight', 'ResNet_layer3.0.conv2.weight', 'ResNet_layer3.0.downsample.0.weight', 'ResNet_layer3.0.downsample.1.weight', 'ResNet_layer3.1.bn1.weight', 'ResNet_layer3.1.bn2.weight', 'ResNet_layer3.1.conv1.weight', 'ResNet_layer3.1.conv2.weight', 'ResNet_layer4.0.bn1.weight', 'ResNet_layer4.0.bn2.weight', 'ResNet_layer4.0.conv1.weight', 'ResNet_layer4.0.conv2.weight', 'ResNet_layer4.0.downsample.0.weight', 'ResNet_layer4.0.downsample.1.weight', 'ResNet_layer4.1.bn1.weight', 'ResNet_layer4.1.bn2.weight', 'ResNet_layer4.1.conv1.weight', 'ResNet_layer4.1.conv2.weight', 'gradient/ResNet_bn1.bias', 'gradient/ResNet_bn1.weight', 'gradient/ResNet_conv1.weight', 'gradient/ResNet_fc.bias', 'gradient/ResNet_fc.weight', 'gradient/ResNet_layer1.0.bn1.bias', 'gradient/ResNet_layer1.0.bn1.weight', 'gradient/ResNet_layer1.0.bn2.bias', 'gradient/ResNet_layer1.0.bn2.weight', 'gradient/ResNet_layer1.0.conv1.weight', 'gradient/ResNet_layer1.0.conv2.weight', 'gradient/ResNet_layer1.1.bn1.bias', 'gradient/ResNet_layer1.1.bn1.weight', 'gradient/ResNet_layer1.1.bn2.bias', 'gradient/ResNet_layer1.1.bn2.weight', 'gradient/ResNet_layer1.1.conv1.weight', 'gradient/ResNet_layer1.1.conv2.weight', 'gradient/ResNet_layer2.0.bn1.bias', 'gradient/ResNet_layer2.0.bn1.weight', 'gradient/ResNet_layer2.0.bn2.bias', 'gradient/ResNet_layer2.0.bn2.weight', 'gradient/ResNet_layer2.0.conv1.weight', 'gradient/ResNet_layer2.0.conv2.weight', 'gradient/ResNet_layer2.0.downsample.0.weight', 'gradient/ResNet_layer2.0.downsample.1.bias', 'gradient/ResNet_layer2.0.downsample.1.weight', 'gradient/ResNet_layer2.1.bn1.bias', 'gradient/ResNet_layer2.1.bn1.weight', 'gradient/ResNet_layer2.1.bn2.bias', 'gradient/ResNet_layer2.1.bn2.weight', 'gradient/ResNet_layer2.1.conv1.weight', 'gradient/ResNet_layer2.1.conv2.weight', 'gradient/ResNet_layer3.0.bn1.bias', 'gradient/ResNet_layer3.0.bn1.weight', 'gradient/ResNet_layer3.0.bn2.bias', 'gradient/ResNet_layer3.0.bn2.weight', 'gradient/ResNet_layer3.0.conv1.weight', 'gradient/ResNet_layer3.0.conv2.weight', 'gradient/ResNet_layer3.0.downsample.0.weight', 'gradient/ResNet_layer3.0.downsample.1.bias', 'gradient/ResNet_layer3.0.downsample.1.weight', 'gradient/ResNet_layer3.1.bn1.bias', 'gradient/ResNet_layer3.1.bn1.weight', 'gradient/ResNet_layer3.1.bn2.bias', 'gradient/ResNet_layer3.1.bn2.weight', 'gradient/ResNet_layer3.1.conv1.weight', 'gradient/ResNet_layer3.1.conv2.weight', 'gradient/ResNet_layer4.0.bn1.bias', 'gradient/ResNet_layer4.0.bn1.weight', 'gradient/ResNet_layer4.0.bn2.bias', 'gradient/ResNet_layer4.0.bn2.weight', 'gradient/ResNet_layer4.0.conv1.weight', 'gradient/ResNet_layer4.0.conv2.weight', 'gradient/ResNet_layer4.0.downsample.0.weight', 'gradient/ResNet_layer4.0.downsample.1.bias', 'gradient/ResNet_layer4.0.downsample.1.weight', 'gradient/ResNet_layer4.1.bn1.bias', 'gradient/ResNet_layer4.1.bn1.weight', 'gradient/ResNet_layer4.1.bn2.bias', 'gradient/ResNet_layer4.1.bn2.weight', 'gradient/ResNet_layer4.1.conv1.weight', 'gradient/ResNet_layer4.1.conv2.weight', 'layer1.0.relu_input_0', 'layer1.0.relu_input_1', 'layer1.1.relu_input_0', 'layer1.1.relu_input_1', 'layer2.0.relu_input_0', 'layer2.0.relu_input_1', 'layer2.1.relu_input_0', 'layer2.1.relu_input_1', 'layer3.0.relu_input_0', 'layer3.0.relu_input_1', 'layer3.1.relu_input_0', 'layer3.1.relu_input_1', 'layer4.0.relu_input_0', 'layer4.0.relu_input_1', 'layer4.1.relu_input_0', 'layer4.1.relu_input_1', 'relu_input_0']\n",
      "Loss values during evaluation were {0: array(0.82579345, dtype=float32), 1: array(0.8082963, dtype=float32), 2: array(0.84310794, dtype=float32), 3: array(0.80207384, dtype=float32), 4: array(0.80381393, dtype=float32), 5: array(0.75134647, dtype=float32), 6: array(0.7758622, dtype=float32), 7: array(0.7192397, dtype=float32), 8: array(0.701983, dtype=float32), 9: array(0.7233529, dtype=float32), 10: array(0.6022348, dtype=float32), 11: array(0.579419, dtype=float32), 12: array(0.6026332, dtype=float32), 13: array(0.5155137, dtype=float32), 14: array(0.6158097, dtype=float32), 15: array(0.5284588, dtype=float32), 16: array(0.44018847, dtype=float32), 17: array(0.420817, dtype=float32), 18: array(0.41177034, dtype=float32), 19: array(0.4423441, dtype=float32), 20: array(0.4190725, dtype=float32), 21: array(0.42692956, dtype=float32), 22: array(0.37675717, dtype=float32), 23: array(0.36142123, dtype=float32), 24: array(0.3378783, dtype=float32)}\n"
     ]
    }
   ],
   "source": [
    "tensors_path = debug_estimator.latest_job_debugger_artifacts_path()\n",
    "\n",
    "import smdebug.pytorch as smd\n",
    "from smdebug import trials\n",
    "trial = smd.create_trial(tensors_path)\n",
    "\n",
    "print(f\"Saved these tensors: {trial.tensor_names()}\")\n",
    "print(f\"Loss values during evaluation were {trial.tensor('CrossEntropyLoss_output_0').values()}\")\n",
    "#print(f\"{trial.tensor('relu_input_0').values()}\")\n",
    "# example of plotting values of tensors:\n",
    "#https://sagemaker-examples.readthedocs.io/en/latest/sagemaker-debugger/model_specific_realtime_analysis/autoencoder_mnist/autoencoder_mnist.html\n"
   ]
  },
  {
   "cell_type": "markdown",
   "metadata": {},
   "source": [
    "## Visualize tensors"
   ]
  },
  {
   "cell_type": "code",
   "execution_count": 205,
   "metadata": {},
   "outputs": [],
   "source": [
    "import matplotlib.pyplot as plt\n",
    "from mpl_toolkits.axes_grid1 import host_subplot\n",
    "from smdebug import modes\n",
    "\n",
    "def get_data(trial, tname, mode):\n",
    "    tensor = trial.tensor(tname)\n",
    "    steps = tensor.steps(mode=mode)\n",
    "    vals = []\n",
    "    for s in steps:\n",
    "        vals.append(tensor.value(s, mode=mode))\n",
    "    return steps, vals\n",
    "\n",
    "def plot_tensor(trial, tensor_name):\n",
    "\n",
    "    steps_train, vals_train = get_data(trial, tensor_name, mode=modes.TRAIN)\n",
    "    print(\"loaded TRAIN data\")\n",
    "    steps_eval, vals_eval = get_data(trial, tensor_name, mode=modes.EVAL)\n",
    "    print(\"loaded EVAL data\")\n",
    "\n",
    "    fig = plt.figure(figsize=(10, 7))\n",
    "    host = host_subplot(111)\n",
    "\n",
    "    par = host.twiny()\n",
    "\n",
    "    host.set_xlabel(\"Steps (TRAIN)\")\n",
    "    par.set_xlabel(\"Steps (EVAL)\")\n",
    "    host.set_ylabel(tensor_name)\n",
    "\n",
    "    (p1,) = host.plot(steps_train, vals_train, label=tensor_name)\n",
    "    print(\"completed TRAIN plot\")\n",
    "    (p2,) = par.plot(steps_eval, vals_eval, label=\"val_\" + tensor_name)\n",
    "    print(\"completed EVAL plot\")\n",
    "    leg = plt.legend()\n",
    "\n",
    "    host.xaxis.get_label().set_color(p1.get_color())\n",
    "    leg.texts[0].set_color(p1.get_color())\n",
    "\n",
    "    par.xaxis.get_label().set_color(p2.get_color())\n",
    "    leg.texts[1].set_color(p2.get_color())\n",
    "\n",
    "    plt.ylabel(tensor_name)\n",
    "\n",
    "    plt.show()"
   ]
  },
  {
   "cell_type": "code",
   "execution_count": 206,
   "metadata": {},
   "outputs": [
    {
     "name": "stdout",
     "output_type": "stream",
     "text": [
      "loaded TRAIN data\n",
      "loaded EVAL data\n",
      "completed TRAIN plot\n",
      "completed EVAL plot\n"
     ]
    },
    {
     "data": {
      "image/png": "[encoded data removed]",
      "text/plain": [
       "<Figure size 720x504 with 1 Axes>"
      ]
     },
     "metadata": {
      "needs_background": "light"
     },
     "output_type": "display_data"
    }
   ],
   "source": [
    "plot_tensor(trial, \"CrossEntropyLoss_output_0\")"
   ]
  },
  {
   "cell_type": "markdown",
   "metadata": {},
   "source": [
    "### Rules summary"
   ]
  },
  {
   "cell_type": "code",
   "execution_count": 208,
   "metadata": {},
   "outputs": [
    {
     "name": "stdout",
     "output_type": "stream",
     "text": [
      "Rule: VanishingGradient, status: NoIssuesFound\n",
      "Rule: Overfit, status: NoIssuesFound\n",
      "Rule: Overtraining, status: NoIssuesFound\n",
      "Rule: PoorWeightInitialization, status: NoIssuesFound\n"
     ]
    }
   ],
   "source": [
    "for  summary in debug_estimator.latest_training_job.rule_job_summary():\n",
    "    print(f\"Rule: {summary['RuleConfigurationName']}, status: {summary['RuleEvaluationStatus']}\")"
   ]
  },
  {
   "cell_type": "code",
   "execution_count": 209,
   "metadata": {},
   "outputs": [
    {
     "name": "stdout",
     "output_type": "stream",
     "text": [
      "TensorFlow installation not found - running with reduced feature set.\n",
      "W0612 02:01:23.775732 4709645824 profile_plugin_loader.py:71] Unable to load profiler plugin. Import error: No module named 'wrapt'\n",
      "I0612 02:01:25.044523 123145401819136 plugin.py:429] Monitor runs begin\n",
      "Serving TensorBoard on localhost; to expose to the network, use a proxy or pass --bind_all\n",
      "TensorBoard 2.9.0 at http://localhost:6007/ (Press CTRL+C to quit)\n",
      "^C\n"
     ]
    }
   ],
   "source": [
    "## Checking TensorBoard\n",
    "\n",
    "! tensorboard --logdir  {tb_debug_path}"
   ]
  },
  {
   "cell_type": "markdown",
   "metadata": {},
   "source": [
    "## Profiling Application"
   ]
  },
  {
   "cell_type": "code",
   "execution_count": 176,
   "metadata": {},
   "outputs": [],
   "source": [
    "from sagemaker.pytorch import PyTorch\n",
    "from sagemaker.debugger import (\n",
    "    Rule,\n",
    "    DebuggerHookConfig,\n",
    "    TensorBoardOutputConfig,\n",
    "    CollectionConfig,\n",
    "    rule_configs,\n",
    "    ProfilerRule\n",
    ")\n",
    "\n",
    "actions = rule_configs.ActionList(\n",
    "    rule_configs.StopTraining())\n",
    "\n",
    "\n",
    "#collection_configs=[\n",
    "#        CollectionConfig(\n",
    "#            name=\"weights\",\n",
    "#            parameters={\n",
    "#                \"save_histogram\": \"True\"\n",
    "#                }\n",
    "#            ),\n",
    "#        CollectionConfig(name=\"losses\"),\n",
    "#    ]\n",
    "\n",
    "rules = [\n",
    "    #Rule.sagemaker(rule_configs.vanishing_gradient(), actions=actions),\n",
    "    #Rule.sagemaker(rule_configs.overfit(), actions=actions),\n",
    "    #Rule.sagemaker(rule_configs.overtraining(), actions=actions),\n",
    "    #Rule.sagemaker(rule_configs.poor_weight_initialization(), actions=actions),\n",
    "    ProfilerRule.sagemaker(rule_configs.ProfilerReport()) # TODO: need to review different profiler rules https://docs.aws.amazon.com/sagemaker/latest/dg/debugger-built-in-rules.html#profiler-report\n",
    "]\n",
    "\n",
    "hook_config = DebuggerHookConfig(\n",
    "    hook_parameters={\"train.save_interval\": \"1\", \"eval.save_interval\": \"1\"},\n",
    "    #collection_configs=collection_configs\n",
    ")"
   ]
  },
  {
   "cell_type": "code",
   "execution_count": 177,
   "metadata": {},
   "outputs": [],
   "source": [
    "import time\n",
    "from sagemaker.debugger import (ProfilerConfig, \n",
    "                                FrameworkProfile, \n",
    "                                DetailedProfilingConfig, \n",
    "                                DataloaderProfilingConfig, \n",
    "                                PythonProfilingConfig,\n",
    "                                PythonProfiler, cProfileTimer)\n",
    "\n",
    "profiler_config=ProfilerConfig(\n",
    "    system_monitor_interval_millis=500,\n",
    "    framework_profile_params=FrameworkProfile(\n",
    "        detailed_profiling_config=DetailedProfilingConfig(\n",
    "            start_step=2, \n",
    "            num_steps=1\n",
    "        ),\n",
    "        dataloader_profiling_config=DataloaderProfilingConfig(\n",
    "            start_step=2, \n",
    "            num_steps=1\n",
    "        ),\n",
    "        python_profiling_config=PythonProfilingConfig(\n",
    "            start_step=2, \n",
    "            num_steps=1, \n",
    "            python_profiler=PythonProfiler.CPROFILE, \n",
    "            cprofile_timer=cProfileTimer.TOTAL_TIME\n",
    "        )\n",
    "    )\n",
    ")\n"
   ]
  },
  {
   "cell_type": "code",
   "execution_count": 179,
   "metadata": {},
   "outputs": [],
   "source": [
    "\n",
    "from sagemaker.pytorch import PyTorch\n",
    "\n",
    "instance_type = 'ml.p2.xlarge'\n",
    "instance_count = 1\n",
    "job_name = \"pytorch-sm-profiling-1\"\n",
    "bucket = sagemaker_session.default_bucket()\n",
    "#tb_debug_path = f\"s3://{bucket}/tensorboard/{job_name}\"\n",
    "\n",
    "##tensorboard_output_config = TensorBoardOutputConfig(\n",
    "##    s3_output_path=tb_debug_path\n",
    "##)\n",
    "\n",
    "profiler_estimator = PyTorch(\n",
    "          entry_point=\"train_resnet_sm.py\", # Pick your train script\n",
    "          source_dir='2_sources',\n",
    "          role=role,\n",
    "          instance_type=instance_type,\n",
    "          sagemaker_session=sagemaker_session,\n",
    "          image_uri=\"763104351884.dkr.ecr.us-east-1.amazonaws.com/pytorch-training:1.11.0-gpu-py38-cu113-ubuntu20.04-sagemaker\",\n",
    "          instance_count=instance_count,\n",
    "          hyperparameters={\n",
    "              \"batch-size\":64,\n",
    "              \"num-epochs\":5,\n",
    "              \"input-size\" : 224,\n",
    "              \"num-data-workers\" : 8,\n",
    "              \"feature-extract\":False,\n",
    "          },\n",
    "          disable_profiler=False,\n",
    "          profiler_config=profiler_config,\n",
    "          rules=rules,\n",
    "        #  debugger_hook_config=hook_config,\n",
    "        #  tensorboard_output_config=tensorboard_output_config,\n",
    "          base_job_name=job_name,\n",
    "      )"
   ]
  },
  {
   "cell_type": "code",
   "execution_count": 180,
   "metadata": {},
   "outputs": [],
   "source": [
    "profiler_estimator.fit(inputs={\"train\":f\"{data_url}/train\", \"val\":f\"{data_url}/val\"}, wait=False)"
   ]
  },
  {
   "cell_type": "code",
   "execution_count": 189,
   "metadata": {},
   "outputs": [
    {
     "name": "stdout",
     "output_type": "stream",
     "text": [
      "{'RuleConfigurationName': 'ProfilerReport', 'RuleEvaluationJobArn': 'arn:aws:sagemaker:us-east-1:941656036254:processing-job/pytorch-sm-profiling-1-202-profilerreport-584d1c95', 'RuleEvaluationStatus': 'NoIssuesFound', 'LastModifiedTime': datetime.datetime(2022, 6, 12, 1, 24, 28, 777000, tzinfo=tzlocal())}\n"
     ]
    }
   ],
   "source": [
    "for  summary in profiler_estimator.latest_training_job.rule_job_summary():\n",
    "    print(summary)"
   ]
  },
  {
   "cell_type": "markdown",
   "metadata": {},
   "source": [
    "# Profiling"
   ]
  },
  {
   "cell_type": "code",
   "execution_count": 190,
   "metadata": {},
   "outputs": [
    {
     "name": "stdout",
     "output_type": "stream",
     "text": [
      "ProfilerConfig:{'S3OutputPath': 's3://sagemaker-us-east-1-941656036254/', 'ProfilingIntervalInMilliseconds': 500, 'ProfilingParameters': {'DataloaderProfilingConfig': '{\"StartStep\": 2, \"NumSteps\": 1, \"MetricsRegex\": \".*\", }', 'DetailedProfilingConfig': '{\"StartStep\": 2, \"NumSteps\": 1, }', 'FileOpenFailThreshold': '50', 'LocalPath': '/opt/ml/output/profiler', 'PythonProfilingConfig': '{\"StartStep\": 2, \"NumSteps\": 1, \"ProfilerName\": \"cprofile\", \"cProfileTimer\": \"total_time\", }', 'RotateFileCloseIntervalInSeconds': '60', 'RotateMaxFileSizeInBytes': '10485760'}}\n",
      "s3 path:s3://sagemaker-us-east-1-941656036254/pytorch-sm-profiling-1-2022-06-12-05-14-59-451/profiler-output\n",
      "\n",
      "\n",
      "Profiler data from system is available\n"
     ]
    }
   ],
   "source": [
    "from smdebug.profiler.analysis.notebook_utils.training_job import TrainingJob\n",
    "\n",
    "training_job_name = profiler_estimator.latest_training_job.job_name\n",
    "region = \"us-east-1\"\n",
    "tj = TrainingJob(training_job_name, region)\n",
    "tj.wait_for_sys_profiling_data_to_be_available()"
   ]
  },
  {
   "cell_type": "markdown",
   "metadata": {},
   "source": [
    "Also here there are details on how to do it: https://docs.aws.amazon.com/sagemaker/latest/dg/debugger-access-data-profiling-default-plot.html\n"
   ]
  },
  {
   "cell_type": "code",
   "execution_count": 191,
   "metadata": {},
   "outputs": [
    {
     "name": "stdout",
     "output_type": "stream",
     "text": [
      "[2022-06-12 01:25:56.660 C02Y82MBJGH5:2535 INFO metrics_reader_base.py:134] Getting 9 event files\n",
      "select events:['total']\n",
      "select dimensions:['CPU', 'GPU']\n",
      "filtered_events:{'total'}\n",
      "filtered_dimensions:{'CPUUtilization-nodeid:algo-1', 'GPUMemoryUtilization-nodeid:algo-1', 'GPUUtilization-nodeid:algo-1'}\n"
     ]
    },
    {
     "data": {
      "text/html": [
       "\n",
       "  <div class=\"bk-root\" id=\"d4f037eb-e5ee-4ed0-8874-2c02669f5159\" data-root-id=\"7654\"></div>\n"
      ]
     },
     "metadata": {},
     "output_type": "display_data"
    },
    {
     "data": {
      "application/javascript": "(function(root) {\n  function embed_document(root) {\n  const docs_json = {\"bf666923-90b2-4052-9ace-95c2e865ae41\":{\"defs\":[],\"roots\":{\"references\":[{\"attributes\":{\"children\":[{\"id\":\"7653\"},{\"id\":\"7531\"}]},\"id\":\"7654\",\"type\":\"Row\"},{\"attributes\":{\"coordinates\":null,\"group\":null},\"id\":\"8082\",\"type\":\"Title\"},{\"attributes\":{\"callback\":null,\"renderers\":[{\"id\":\"7649\"}],\"tooltips\":[[\"index\",\"$index\"],[\"(x,y)\",\"($x, $y)\"]]},\"id\":\"7651\",\"type\":\"HoverTool\"},{\"attributes\":{},\"id\":\"8095\",\"type\":\"BasicTickFormatter\"},{\"attributes\":{},\"id\":\"8096\",\"type\":\"AllLabels\"},{\"attributes\":{\"data\":{\"x\":{\"__ndarray__\":\"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\",\"dtype\":\"float64\",\"order\":\"little\",\"shape\":[844]},\"y\":{\"__ndarray__\":\"AAAAAAAAAAAAAAAAAAAAAAAAAAAAAAAAAAAAAAAAAAAAAAAAAAAAAAAAAAAAAAAAAAAAAAAAAAAAAAAAAAAAAAAAAAAAAAAAAAAAAAAAAAAAAAAAAAAAAAAAAAAAAAAAAAAAAAAAAAAAAAAAAAAAAAAAAAAAAAAAAAAAAAAAAAAAAAAAAAAAAAAAAAAAAAAAAAAAAAAAAAAAAAAAAAAAAAAAAAAAAAAAAAAAAAAAAAAAAAAAAAAAAAAAAAAAAAAAAAAAAAAAAAAAAAAAAAAAAAAAAAAAAAAAAAAAAAAAAAAAAAAAAAAAAAAAAAAAAAAAAAAAAAAAAAAAAAAAAAAAAAAAAAAAAAAAAAAAAAAAAAAAAAAAAAAAAAAAAAAAAAAAAAAAAAAAAAAAAAAAAAAAAAAAAAAAAAAAAAAAAAAAAAAAAAAAAAAAAAAAAAAAAAAAAAAAAAAAAAAAAAAAAAAAAAAAAAAAAAAAAAAAAAAAAAAAAAAAAAAAAAAAAAAAAAAAAAAAAAAAAAAAAAAAAAAAAAAAAAAAAAAAAAAAAAAAAAAAAAAAAAAAAAAAAAAAAAAAAAAAAAAAAAAAAAAAAAAAAAAAAAAAAAAAAAAAAAAAAAAAAAAAAAAAAAAAAAAAAAAAAAAAAAAAAAAAAAAAAAAAAAAAAAAAAAAAAAAAAAAAAAAAAAAAAAAAAAAAAAAAAAAAAAAAAAAAAAAAAAAAAAAAAAAAAAAAAAAAAAAAAAAAAAAAAAAAAAAAAAAAAAAAAAAAAAAAAAAAAAAAAAAAAAAAAAAAAAAAAAAAAAAAAAAAAAAAAAAAAAAAAAAAAAAAAAAAAAAAAAAAAAAAAAAAAAAAAAAAAAAAAAAAAAAAAAAAAAAAAAAAAAAAAAAAAAAAAAAAAAAAAAAAAAAAAAAAAAAAAAAAAAAAAAAAAAAAAAAAAAAAAAAAAAAAAAAAAAAAAAAAAAAAAAAAAAAAAAAAAAAAAAAAAAAAAAAAAAAAAAAAAAAAAAAAAAAAAAAAAAAAAAAAAAAAAAAAAAAAAAAAAAAAAAAAAAAAAAAAAAAAAAAAAAAAAAAAAAAAAAAAAAAAAAAAAAAAAAAAAAAAAAAAAAAAAAAAAAAAAAAAAAAAAAAAAAAAAAAAAAAAAAAAAAAAAAAAAAAAAAAAAAAAAAAAAAAAAAAAAAAAAAAAAAAAAAAAAAAAAAAAAAAAAAAAAAAAAAAAAAAAAAAAAAAAAAAAAAAAAAAAAAAAAAAAAAAAAAAAAAAAAAAAAAAAAAAAAAAAAAAAAAAAAAAAAAAAAAAAAAAAAAAAAAAAAAAAAAAAAAAAAAAAAAAAAAAAAAAAAAAAAAAAAAAAAAAAAAAAAAAAAAAAAAAAAAAAAAAAAAAAAAAAAAAAAAAAAAAAAAAAAAAAAAAAAAAAAAAAAAAAAAAAAAAAAAAAAAAAAAAAAAAAAAAAAAAAAAAAAAAAAAAAAAAAAAAAAAAAAAAAAAAAAAAAAAAAAAAAAAAAAAAAAAAAAAAAAAAAAAAAAAAAAAAAAAAAAAAAAAAAAAAAAAAAAAAAAAAAAAAAAAAAAAAAAAAAAAAAAAAAAAAAAAAAAAAAAAAAAAAAAAAAAAAAAAAAAAAAAAAAAAAAAAAAAAAAAAAAAAAAAAAAAAAAAAAAAAAAAAAAAAAAAAAAAAAAAAAAAAAAAAAAAAAAAAAAAAAAAAAAAAAAAAAAAAAAAAAAAAAAAAAAAAAAAAAAAAAAAAAAAAAAAAAAAAAAAAAAAAAAAAAAAAAAAAAAAAAAAAAAAAAAAAAAAAAAAAAAAAAAAAAAAAAAAAAAAAAAAAAAAAAAAAAAAAAAAAAAAAAAAAAAAAAAAAAAAAAAAAAAAAAAAAAAAAAAAAAAAAAAAAAAAAAAAAAAAAAAAAAAAAAAAAAAAAAAAAAAAAAAAAAAAAAAAAAAAAAAAAAAAAAAAAAAAAAAAAAAAAAAAAAAAAAAAAAAAAAAAAAAAAAAAAAAAAAAAAAAAAAAAAAAAAAAAAAAAAAAAAAAAAAAAAAAAAAAAAAAAAAAAAAAAAAAAAAAAAAAAAAAAAAAAAAAAAAAAAAAAAAAAAAAAAAAAAAAAAAAAAAAAAAAAAAAAAAAAAAAAAAAAAAAAAAAAAAAAAAAAAAAAAAAAAAAAAAAAAAAAAAAAAAAAAAAAAAAAAAAAAAAAAAAAAAAAAAAAAAAAAAAAAAAAAAAAAAAAAAAAAAAAAAAAAAAAAAAAAAAAAAAAAAAAAAAAAAAAAAAAAAAAAAAAAAAAAAAAAAAAAAAAAAAAAAAAAAAAAAAAAAAAAAAAAAAAAAAAAAAAAAAAAAAAAAAAAAAAAAAAAAAAAAAAAAAAAAAAAAAAAAAAAAAAAAAAAAAAAAAAAAAAAAAAAAAAAAAAAAAAAAAAAAAAAAAAAAAAAAAAAAAAAAAAAAAAAAAAAAAAAAAAAAAAAAAAAAAAAAAAAAAAAAAAAAAAAAAAAAAAAAAAAAAAAAAAAAAAAAAAAAAAAAAAAAAAAAAAAAAAAAAAAAAAAAAAAAAAAAAAAAAAAAAAAAAAAAAAAAAAAAAAAAAAAAAAAAAAAAAAAAAAAAAAAAAAAAAAAAAAAAAAAAAAAAAAAAAAAAAAAAAAAAAAAAAAAAAAAAAAAAAAAAAAAAAAAAAAAAAAAAAAAAAAAAAAAAAAAAAAAAAAAAAAAAAAAAAAAAAAAAAAAAAAAAAAAAAAAAAAAAAAAAAAAAAAAAAAAAAAAAAAAAAAAAAAAAAAAAAAAAAAAAAAAAAAAAAAAAAAAAAAAAAAAAAAAAAAAAAAAAAAAAAAAAAAAAAAAAAAAAAAAAAAAAAAAAAAAAAAAAAAAAAAAAAAAAAAAAAAAAAAAAAAAAAAAAAAAAAAAAAAAAAAAAAAAAAAAAAAAAAAAAAAAAAAAAAAAAAAAAAAAAAAAAAAAAAAAAAAAAAAAAAAAAAAAAAAAAAAAAAAAAAAAAAAAAAAAAAAAAAAAAAAAAAAAAAAAAAAAAAAAAAAAAAAAAAAAAAAAAAAAAAAAAAAAAAAAAAAAAAAAAAAAAAAAAAAAAAAAAAAAAAAAAAAAAAAAAAAAAAAAAAAAAAAAAAAAAAAAAAAAAAAAAAAAAAAAAAAAAAAAAAAAAAAAAAAAAAAAAAAAAAAAAAAAAAAAAAAAAAAAAAAAAAAAAAAAAAAAAAAAAAAAAAAAAAAAAAAAAAAAAAAAAAAAAAAAAAAAAAAAAAAAAAAAAAAAAAAAAAAAAAAAAAAAAAAAAAAAAAAAAAAAAAAAAAAAAAAAAAAAAAAAAAAAAAAAAAAAAAAAAAAAAAAAAAAAAAAAAAAAAAAAAAAAAAAAAAAAAAAAAAAAAAAAAAAAAAAAAAAAAAAAAAAAAAAAAAAAAAAAAAAAAAAAAAAAAAAAAAAAAAAAAAAAAAAAAAAAAAAAAAAAAAAAAAAAAAAAAAAAAAAAAAAAAAAAAAAAAAAAAAAAAAAAAAAAAAAAAAAAAAAAAAAAAAAAAAAAAAAAAAAAAAAAAAAAAAAAAAAAAAAAAAAAAAAAAAAAAAAAAAAAAAAAAAAAAAAAAAAAAAAAAAAAAAAAAAAAAAAAAAAAAAAAAAAAAAAAAAAAAAAAAAAAAAAAAAAAAAAAAAAAAAAAAAAAAAAAAAAAAAAAAAAAAAAAAAAAAAAAAAAAAAAAAAAAAAAAAAAAAAAAAAAAAAAAAAAAAAAAAAAAAAAAAAAAAAAAAAAAAAAAAAAAAAAAAAAAAAAAAAAAAAAAAAAAAAAAAAAAAAAAAAAAAAAAAAAAAAAAAAAAAAAAAAAAAAAAAAAAAAAAAAAAAAAAAAAAAAAAAAAAAAAAAAAAAAAAAAAAAAAAAAAAAAAAAAAAAAAAAAAAAAAAAAAAAAAAAAAAAAAAAAAAAAAAAAAAAAAAAAAAAAAAAAAAAAAAAAAAAAAAAAAAAAAAAAAAAAAAAAAAAAAAAAAAAAAAAAAAAAAAAAAAAAAAAAAAAAAAAAAAAAAAAAAAAAAAAAAAAAAAAAAAAAAAAAAAAAAAAAAAAAAAAAAAAAAAAAAAAAAAAAAAAAAAAAAAAAAAAAAAAAAAAAAAAAAAAAAAAAAAAAAAAAAAAAAAAAAAAAAAAAAAAAAAAAAAAAAAAAAAAAAAAAAAAAAAAAAAAAAAAAAAAAAAAAAAAAAAAAAAAAAAAAAAAAAAAAAAAAAAAAAAAAAAAAAAAAAAAAAAAAAAAAAAAAAAAAAAAAAAAAAAAAAAAAAAAAAAAAAAAAAAAAAAAAAAAAAAAAAAAAAAAAAAAAAAAAAAAAAAAAAAAAAAAAAAAAAAAAAAAAAAAAAAAAAAAAAAAAAAAAAAAAAAAAAAAAAAAAAAAAAAAAAAAAAAAAAAAAAAAAAAAAAAAAAAAAAAAAAAAAAAAAAAAAAAAAAAAAAAAAAAAAAAAAAAAAAAAAAAAAAAAAAAAAAAAAAAAAAAAAAAAAAAAAAAAAAAAAAAAAAAAAAAAAAAAAAAAAAAAAAAAAAAAAAAAAAAAAAAAAAAAAAAAAAAAAAAAAAAAAAAAAAAAAAAAAAAAAAAAAAAAAAAAAAAAAAAAAAAAAAAAAAAAAAAAAAAAAAAAAAAAAAAAAAAAAAAAAAAAAAAAAAAAAAAAAAAAAAAAAAAAAAAAAAAAAAAAAAAAAAAAAAAAAAAAAAAAAAAAAAAAAAAAAAAAAAAAAAAAAAAAAAAAAAAAAAAAAAAAAAAAAAAAAAAAAAAAAAAAAAAAAAAAAAAAAAAAAAAAAAAAAAAAAAAAAAAAAAAAAAAAAAAAAAAAAAAAAAAAAAAAAAAAAAAAAAAAAAAAAAAAAAAAAAAAAAAAAAAAAAAAAAAAAAAAAAAAAAAAAAAAAAAAAAAAAAAAAAAAAAAAAAAAAAAAAAAAAAAAAAAAAAAAAAAAAAAAAAAAAAAAAAAAAAAAAAAAAAAAAAAAAAAAAAAAAAAAAAAAAAAAAAAAAAAAAAAAAAAAAAAAAAAAAAAAAAAAAAAAAAAAAAAAAAAAAAAAAAAAAAAAAAAAAAAAAAAAAAAAAAAAAAAAAAAAAAAAAAAAAAAAAAAAAAAAAAAAAAAAAAAAAAAAAAAAAAAAAAAAAAAAAAAAAAAAAAAAAAAAAAAAAAAAAAAAAAAAAAAAAAAAAAAAAAAAAAAAAAAAAAAAAAAAAAAAAAAAAAAAAAAAAAAAAAAAAAAAAAAAAAAAAAAAAAAAAAAAAAAAAAAAAAAAAAAAAAAAAAAAAAAAAAAAAAAAAAAAAAAAAAAAAAAAAAAAAAAAAAAAAAAAAAAAAAAAAAAAAAAAAAAAAAAAAAAAAAAAAAAAAAAAAAAAAAAAAAAAAAAAAAAAAAAAAAAAAAAAAAAAAAAAAAAAAAAAAAAAAAAAAAAAAAAAAAAAAAAAAAAAAAAAAAAAAAAAAAAAAAAAAAAAAAAAAAAAAAAAAAAAAAAAAAAAAAAAAAAAAAAAAAAAAAAAAAAAAAAAAAAAAAAAAAAAAAAAAAAAAAAAAAAAAAAAAAAAAAAAAAAAAAAAAAAAAAAAAAAAAAAAAAAAAAAAAAAAAAAAAAAAAAAAAAAAAAAAAAAAAAAAAAAAAAAAAAAAAAAAAAAAAAAAAAAAAAAAAAAAAAAAAAAAAAAAAAAAAAAAAAAAAAAAAAAAAAAAAAAAAAAAAAAAAAAAAAAAAAAAAAAAAAAAAAAAAAAAAAAAAAAAAAAAAAAAAAAAAAAAAAAAAAAAAAAAAAAAAAAAAAAAAAAAAAAAAAAAAAAAAAAAAAAAAAAAAAAAAAAAAAAAAAAAAAAAAAAAAAAAAAAAAAAAAAAAAAAAAAAAAAAAAAAAAAAAAAAAAAAAAAAAAAAAAAAAAAAAAAAAAAAAAAAAAAAAAAAAAAAAAAAAAAAAAAAAAAAAAAAAAAAAAAAAAAAAAAAAAAAAAAAAAAAAAAAAAAAAAAAAAAAAAAAAAAAAAAAAAAAAAAAAAAAAAAAAAAAAAAAAAAAAAAAAAAAAAAAAAAAAAAAAAAAAAAAAAAAAAAAAAAAAAAAAAAAAAAAAAAAAAAAAAAAAAAAAAAAAAAAAAAAAAAAAAAAAAAAAAAAAAAAAAAAAAAAAAAAAAAAAAAAAAAAAAAAAAAAAAAAAAAAAAAAAAAAAAAAAAAAAAAAAAAAAAAAAAAAAAAAAAAAAAAAAAAAAAAAAAAAAAAAAAAAAAAAAAAAAAAAAAAAAAAAAAAAAAAAAAAAAAAAAAAAAAAAAAAAAAAAAAAAAAAAAAAAAAAAAAAAAAAAAAAAAAAAAAAAAAAAAAAAAAAAAAAAAAAAAAAAAAAAAAAAAAAAAAAAAAAAAAAAAAAAAAAAAAAAAAAAAAAAAAAAAAAAAAAAAAAAAAAAAAAAAAAAAAAAAAAAAAAAAAAAAAAAAAAAAAAAAAAAAAAAAAAAAAAAAAAAAAAAAAAAAAAAAAAAAAAAAAAAAAAAAAAAAAAAAAAAAAAAAAAAAAAAAAAAAAAAAAAAAAAAAAAAAAAAAAAAAAAAAAAAAAAAAAAAAAAAAAAAAAAAAAAAAAAAAAAAAAAAAAAAAAAAAAAAAAAAAAAAAAAAAAAAAAAAAAAAAAAAAAAAAAAAAAAAAAAAAAAAAAAAAAAAAAAAAAAAAAAAAAAAAAAAAAAAAAAAAAAAAAAAAAAAAAAAAAAAAAAAAAAAAAAAAAAAAAAAAAAAAAAAAAAAAAAAAAAAAAAAAAAAAAAAAAAAAAAAAAAAAAAAAAAAAAAAAAAAAAAAAAAAAAAAAAAAAAAAAAAAAAAAAAAAAAAAAAAAAAAAAAAAAAAAAAAAAAAAAAAAAAAAAAAAAAAAAAAAAAAAAAAAAAAAAAAAAAAAAAAAAAAAAAAAAAAAAAAAAAAAAAAAAAAAAAAAAAAAAAAAAAAAAAAAAAAAAAAAAAAAAAAAAAAAAAAAAAAAAAAAAAAAAAAAAAAAAAAAAAAAAAAAAAAAAAAAAAAAAAAAAAAAAAAAAAAAAAAAAAAAAAAAAAAAAAAAAAAAAAAAAAAAAAAAAAAAAAAAAAAAAAAAAAAAAAAAAAAAAAAAAAAAAAAAAAAAAAAAAAAAAAAAAAAAAAAAAAAAAAAAAAAAAAAAAAAAAAAAAAAAAAAAAAAAAAAAAAAAAAAAAAAAAAAAAAAAAAAAAAAAAAAAAAAAAAAAAAAAAAAAAAAAAAAAAAAAAAAAAAAAAAAAAAAAAAAAAAAAAAAAAAAAAAAAAAAAAAAAAAAAAAAAAAAAAAAAAAAAAAAAAAAAAAAAAAAAAAAAAAAAAAAAAAAAAAAAAAAAAAAAAAAAAAAAAAAAAAAAAAAAAAAAAAAAAAAAAAAAAAAAAAAAAAAAAAAAAAAAAAAAAAAAAAAAAAAAAAAAAAAAAAAAAAAAAAAAAAAAAAAAAAAAAAAAAAAAAAAAAAAAAAAAAAAAAAAAAAAAAAAAAAAAAAAAAAAAAAAAAAAAAAAAAAAAAAAAAAAAAAAAAAAAAAAAAAAAAAAAAAAAAAAAAAAAAAAAAAAAAAAAAAAAAAAAAAAAAAAAAAAAAAAAAAAAAAAAAAAAAAAAAAAAAAAAAAAAAAAAAAAAAAAAAAAAAAAAAAAAAAAAAAAAAAAAAAAAAAAAAAAAAAAAAAAAAAAAAAAAAAAAAAAAAAAAAAAAAAAAAAAAAAAAAAAAAAAAAAAAAAAAAAAAAAAAAAAAAAAAAAAAAAAAAAAAAAAAAAAAAAAAAAAAAAAAAAAAAAAAAAAAAAAAAAAAAAAAAAAAAAAAAAAAAAAAAAAAAAAAAAAAAAAAAAAAAAAAAAAAAAAAAAAAAAAAAAAAAAAAAAAAAAAAAAAAAAAAAAAAAAAAAAAAAAAAAAAAAAAAAAAAAAAAAAAAAAAAAAAAAAAAAAAAAAAAAAAAAAAAAAAAAAAAAAAAAAAAAAAAAAAAAAAAAAAAAAAAAAAAAAAAAAAAAAAAAAAAAAAAAAAAAAAAAAAAAAAAAAAAAAAAAAAAAAAAAAAAAAAAAAAAAAAAAAAAAAAAAAAAAAAAAAAAAAAAAAAAAAAAAAAAAAAAAAAAAAAAAAAAAAAAAAAAAAAAAAAAAAAAAAAAAAAAAAAAAAAAAAAAAAAAAAAAAAAAAAAAAAAAAAAAAAAAAAAAAAAAAAAAAAAAAAAAAAAAAAAAAAAAAAAAAAAAAAAAAAAAAAAAAAAAAAAAAAAAAAAAAAAAAAAAAAAAAAAAAAAAAAAAAAAAAAAAAAAAAAAAAAAAAAAAAAAAAAAAAAAAAAAAAAAAAAAAAAAAAAAAAAAAAAAAAAAAAAAAAAAAAAAAAAAAAAAAAAAADwPwAAAAAAAAAAAAAAAAAAAEAAAAAAAADwPwAAAAAAAPA/AAAAAAAAAEAAAAAAAADwPwAAAAAAAPA/AAAAAAAA8D8AAAAAAADwPwAAAAAAAABAAAAAAAAA8D8AAAAAAADwPwAAAAAAAABAAAAAAAAA8D8AAAAAAAAIQAAAAAAAAAAAAAAAAAAAAAAAAAAAAAAAQAAAAAAAwFhAAAAAAADAV0AAAAAAAAAAAAAAAAAAAAAAAAAAAAAAAAAAAAAAAAAAAAAAAAAAAAAAAAAAAAAAAAAAAAAAAABYQAAAAAAAAFhAAAAAAAAAAAAAAAAAAAAAAAAAAAAAQFhAAAAAAAAAAAAAAAAAAAAAAAAAAAAAQFhAAAAAAADAV0AAAAAAAAAQQAAAAAAAAAAAAAAAAAAAAAAAAAAAAEBSQAAAAAAAAAAAAAAAAAAAAAAAAAAAAABYQAAAAAAAwFhAAAAAAAAAP0AAAAAAAAAAAAAAAAAAAAAAAAAAAAAAAAAAAAAAAAAAAAAAAAAAAAAAAAAAAABAWEAAAAAAAABYQAAAAAAAAAAAAAAAAAAAAAAAAAAAAABAQAAAAAAAAAAAAAAAAAAAAAAAAAAAAAAAAAAAAAAAAAAAAAAAAAAAAAAAAAAAAAAAAAAAAAAAAAAAAAAAAAAAAAAAAAAAAAAAAAAAAAAAAAAAAAAAAAAAAAAAAAAAAAAAAAAAAAAAAAAAAAAAAAAAAAA=\",\"dtype\":\"float64\",\"order\":\"little\",\"shape\":[844]}},\"selected\":{\"id\":\"8113\"},\"selection_policy\":{\"id\":\"8112\"}},\"id\":\"7643\",\"type\":\"ColumnDataSource\"},{\"attributes\":{\"coordinates\":null,\"group\":null},\"id\":\"8084\",\"type\":\"Title\"},{\"attributes\":{},\"id\":\"8098\",\"type\":\"BasicTickFormatter\"},{\"attributes\":{},\"id\":\"8099\",\"type\":\"AllLabels\"},{\"attributes\":{\"coordinates\":null,\"group\":null},\"id\":\"8086\",\"type\":\"Title\"},{\"attributes\":{},\"id\":\"8109\",\"type\":\"UnionRenderers\"},{\"attributes\":{},\"id\":\"8110\",\"type\":\"Selection\"},{\"attributes\":{\"bottom_units\":\"screen\",\"coordinates\":null,\"fill_alpha\":0.5,\"fill_color\":\"lightgrey\",\"group\":null,\"left_units\":\"screen\",\"level\":\"overlay\",\"line_alpha\":1.0,\"line_color\":\"black\",\"line_dash\":[4,4],\"line_width\":2,\"right_units\":\"screen\",\"syncable\":false,\"top_units\":\"screen\"},\"id\":\"7555\",\"type\":\"BoxAnnotation\"},{\"attributes\":{},\"id\":\"8101\",\"type\":\"BasicTickFormatter\"},{\"attributes\":{},\"id\":\"8089\",\"type\":\"BasicTickFormatter\"},{\"attributes\":{},\"id\":\"8102\",\"type\":\"AllLabels\"},{\"attributes\":{},\"id\":\"8090\",\"type\":\"AllLabels\"},{\"attributes\":{},\"id\":\"8104\",\"type\":\"BasicTickFormatter\"},{\"attributes\":{},\"id\":\"8092\",\"type\":\"BasicTickFormatter\"},{\"attributes\":{},\"id\":\"8105\",\"type\":\"AllLabels\"},{\"attributes\":{},\"id\":\"8093\",\"type\":\"AllLabels\"},{\"attributes\":{},\"id\":\"8106\",\"type\":\"UnionRenderers\"},{\"attributes\":{},\"id\":\"8112\",\"type\":\"UnionRenderers\"},{\"attributes\":{},\"id\":\"8107\",\"type\":\"Selection\"},{\"attributes\":{},\"id\":\"8113\",\"type\":\"Selection\"},{\"attributes\":{\"below\":[{\"id\":\"7541\"}],\"center\":[{\"id\":\"7544\"},{\"id\":\"7548\"}],\"height\":200,\"js_event_callbacks\":{\"selectiongeometry\":[{\"id\":\"7564\"}]},\"left\":[{\"id\":\"7545\"}],\"renderers\":[{\"id\":\"7567\"},{\"id\":\"7569\"}],\"title\":{\"id\":\"8082\"},\"toolbar\":{\"id\":\"7556\"},\"width\":1000,\"x_range\":{\"id\":\"7533\"},\"x_scale\":{\"id\":\"7537\"},\"y_range\":{\"id\":\"7535\"},\"y_scale\":{\"id\":\"7539\"}},\"id\":\"7532\",\"subtype\":\"Figure\",\"type\":\"Plot\"},{\"attributes\":{\"source\":{\"id\":\"7563\"}},\"id\":\"7570\",\"type\":\"CDSView\"},{\"attributes\":{\"children\":[{\"id\":\"7532\"},{\"id\":\"7573\"},{\"id\":\"7613\"}]},\"id\":\"7653\",\"type\":\"Column\"},{\"attributes\":{\"coordinates\":null,\"data_source\":{\"id\":\"7563\"},\"glyph\":{\"id\":\"7566\"},\"group\":null,\"hover_glyph\":null,\"view\":{\"id\":\"7570\"}},\"id\":\"7569\",\"type\":\"GlyphRenderer\"},{\"attributes\":{\"source\":{\"id\":\"7643\"}},\"id\":\"7650\",\"type\":\"CDSView\"},{\"attributes\":{\"end\":102},\"id\":\"7615\",\"type\":\"Range1d\"},{\"attributes\":{},\"id\":\"7619\",\"type\":\"LinearScale\"},{\"attributes\":{\"line_color\":\"blue\",\"x\":{\"field\":\"x\"},\"y\":{\"field\":\"y\"}},\"id\":\"7565\",\"type\":\"Line\"},{\"attributes\":{\"fill_alpha\":{\"value\":0},\"line_width\":{\"value\":0},\"x\":{\"field\":\"x\"},\"y\":{\"field\":\"y\"}},\"id\":\"7566\",\"type\":\"Circle\"},{\"attributes\":{},\"id\":\"7631\",\"type\":\"PanTool\"},{\"attributes\":{},\"id\":\"7622\",\"type\":\"BasicTicker\"},{\"attributes\":{},\"id\":\"7617\",\"type\":\"LinearScale\"},{\"attributes\":{\"coordinates\":null,\"data_source\":{\"id\":\"7563\"},\"glyph\":{\"id\":\"7565\"},\"group\":null,\"hover_glyph\":null,\"view\":{\"id\":\"7568\"}},\"id\":\"7567\",\"type\":\"GlyphRenderer\"},{\"attributes\":{\"axis_label\":\"Time in ms\",\"coordinates\":null,\"formatter\":{\"id\":\"8104\"},\"group\":null,\"major_label_policy\":{\"id\":\"8105\"},\"ticker\":{\"id\":\"7622\"}},\"id\":\"7621\",\"type\":\"LinearAxis\"},{\"attributes\":{\"axis_label\":\"GPUUtilization-nodeid:algo-1_total\",\"coordinates\":null,\"formatter\":{\"id\":\"8101\"},\"group\":null,\"major_label_policy\":{\"id\":\"8102\"},\"ticker\":{\"id\":\"7626\"}},\"id\":\"7625\",\"type\":\"LinearAxis\"},{\"attributes\":{\"source\":{\"id\":\"7563\"}},\"id\":\"7568\",\"type\":\"CDSView\"},{\"attributes\":{\"axis\":{\"id\":\"7621\"},\"coordinates\":null,\"group\":null,\"ticker\":null,\"visible\":false},\"id\":\"7624\",\"type\":\"Grid\"},{\"attributes\":{\"data\":{\"x\":{\"__ndarray__\":\"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\",\"dtype\":\"float64\",\"order\":\"little\",\"shape\":[844]},\"y\":{\"__ndarray__\":\"AAAAAAAAAAAAAAAAAAAAAAAAAAAAAAAAAAAAAAAAAAAAAAAAAAAAAAAAAAAAAAAAAAAAAAAAAAAAAAAAAAAAAAAAAAAAAAAAAAAAAAAAAAAAAAAAAAAAAAAAAAAAAAAAAAAAAAAAAAAAAAAAAAAAAAAAAAAAAAAAAAAAAAAAAAAAAAAAAAAAAAAAAAAAAAAAAAAAAAAAAAAAAAAAAAAAAAAAAAAAAAAAAAAAAAAAAAAAAAAAAAAAAAAAAAAAAAAAAAAAAAAAAAAAAAAAAAAAAAAAAAAAAAAAAAAAAAAAAAAAAAAAAAAAAAAAAAAAAAAAAAAAAAAAAAAAAAAAAAAAAAAAAAAAAAAAAAAAAAAAAAAAAAAAAAAAAAAAAAAAAAAAAAAAAAAAAAAAAAAAAAAAAAAAAAAAAAAAAAAAAAAAAAAAAAAAAAAAAAAAAAAAAAAAAAAAAAAAAAAAAAAAAAAAAAAAAAAAAAAAAAAAAAAAAAAAAAAAAAAAAAAAAAAAAAAAAAAAAAAAAAAAAAAAAAAAAAAAAAAAAAAAAAAAAAAAAAAAAAAAAAAAAAAAAAAAAAAAAAAAAAAAAAAAAAAAAAAAAAAAAAAAAAAAAAAAAAAAAAAAAAAAAAAAAAAAAAAAAAAAAAAAAAAAAAAAAAAAAAAAAAAAAAAAAAAAAAAAAAAAAAAAAAAAAAAAAAAAAAAAAAAAAAAAAAAAAAAAAAAAAAAAAAAAAAAAAAAAAAAAAAAAAAAAAAAAAAAAAAAAAAAAAAAAAAAAAAAAAAAAAAAAAAAAAAAAAAAAAAAAAAAAAAAAAAAAAAAAAAAAAAAAAAAAAAAAAAAAAAAAAAAAAAAAAAAAAAAAAAAAAAAAAAAAAAAAAAAAAAAAAAAAAAAAAAAAAAAAAAAAAAAAAAAAAAAAAAAAAAAAAAAAAAAAAAAAAAAAAAAAAAAAAAAAAAAAAAAAAAAAAAAAAAAAAAAAAAAAAAAAAAAAAAAAAAAAAAAAAAAAAAAAAAAAAAAAAAAAAAAAAAAAAAAAAAAAAAAAAAAAAAAAAAAAAAAAAAAAAAAAAAAAAAAAAAAAAAAAAAAAAAAAAAAAAAAAAAAAAAAAAAAAAAAAAAAAAAAAAAAAAAAAAAAAAAAAAAAAAAAAAAAAAAAAAAAAAAAAAAAAAAAAAAAAAAAAAAAAAAAAAAAAAAAAAAAAAAAAAAAAAAAAAAAAAAAAAAAAAAAAAAAAAAAAAAAAAAAAAAAAAAAAAAAAAAAAAAAAAAAAAAAAAAAAAAAAAAAAAAAAAAAAAAAAAAAAAAAAAAAAAAAAAAAAAAAAAAAAAAAAAAAAAAAAAAAAAAAAAAAAAAAAAAAAAAAAAAAAAAAAAAAAAAAAAAAAAAAAAAAAAAAAAAAAAAAAAAAAAAAAAAAAAAAAAAAAAAAAAAAAAAAAAAAAAAAAAAAAAAAAAAAAAAAAAAAAAAAAAAAAAAAAAAAAAAAAAAAAAAAAAAAAAAAAAAAAAAAAAAAAAAAAAAAAAAAAAAAAAAAAAAAAAAAAAAAAAAAAAAAAAAAAAAAAAAAAAAAAAAAAAAAAAAAAAAAAAAAAAAAAAAAAAAAAAAAAAAAAAAAAAAAAAAAAAAAAAAAAAAAAAAAAAAAAAAAAAAAAAAAAAAAAAAAAAAAAAAAAAAAAAAAAAAAAAAAAAAAAAAAAAAAAAAAAAAAAAAAAAAAAAAAAAAAAAAAAAAAAAAAAAAAAAAAAAAAAAAAAAAAAAAAAAAAAAAAAAAAAAAAAAAAAAAAAAAAAAAAAAAAAAAAAAAAAAAAAAAAAAAAAAAAAAAAAAAAAAAAAAAAAAAAAAAAAAAAAAAAAAAAAAAAAAAAAAAAAAAAAAAAAAAAAAAAAAAAAAAAAAAAAAAAAAAAAAAAAAAAAAAAAAAAAAAAAAAAAAAAAAAAAAAAAAAAAAAAAAAAAAAAAAAAAAAAAAAAAAAAAAAAAAAAAAAAAAAAAAAAAAAAAAAAAAAAAAAAAAAAAAAAAAAAAAAAAAAAAAAAAAAAAAAAAAAAAAAAAAAAAAAAAAAAAAAAAAAAAAAAAAAAAAAAAAAAAAAAAAAAAAAAAAAAAAAAAAAAAAAAAAAAAAAAAAAAAAAAAAAAAAAAAAAAAAAAAAAAAAAAAAAAAAAAAAAAAAAAAAAAAAAAAAAAAAAAAAAAAAAAAAAAAAAAAAAAAAAAAAAAAAAAAAAAAAAAAAAAAAAAAAAAAAAAAAAAAAAAAAAAAAAAAAAAAAAAAAAAAAAAAAAAAAAAAAAAAAAAAAAAAAAAAAAAAAAAAAAAAAAAAAAAAAAAAAAAAAAAAAAAAAAAAAAAAAAAAAAAAAAAAAAAAAAAAAAAAAAAAAAAAAAAAAAAAAAAAAAAAAAAAAAAAAAAAAAAAAAAAAAAAAAAAAAAAAAAAAAAAAAAAAAAAAAAAAAAAAAAAAAAAAAAAAAAAAAAAAAAAAAAAAAAAAAAAAAAAAAAAAAAAAAAAAAAAAAAAAAAAAAAAAAAAAAAAAAAAAAAAAAAAAAAAAAAAAAAAAAAAAAAAAAAAAAAAAAAAAAAAAAAAAAAAAAAAAAAAAAAAAAAAAAAAAAAAAAAAAAAAAAAAAAAAAAAAAAAAAAAAAAAAAAAAAAAAAAAAAAAAAAAAAAAAAAAAAAAAAAAAAAAAAAAAAAAAAAAAAAAAAAAAAAAAAAAAAAAAAAAAAAAAAAAAAAAAAAAAAAAAAAAAAAAAAAAAAAAAAAAAAAAAAAAAAAAAAAAAAAAAAAAAAAAAAAAAAAAAAAAAAAAAAAAAAAAAAAAAAAAAAAAAAAAAAAAAAAAAAAAAAAAAAAAAAAAAAAAAAAAAAAAAAAAAAAAAAAAAAAAAAAAAAAAAAAAAAAAAAAAAAAAAAAAAAAAAAAAAAAAAAAAAAAAAAAAAAAAAAAAAAAAAAAAAAAAAAAAAAAAAAAAAAAAAAAAAAAAAAAAAAAAAAAAAAAAAAAAAAAAAAAAAAAAAAAAAAAAAAAAAAAAAAAAAAAAAAAAAAAAAAAAAAAAAAAAAAAAAAAAAAAAAAAAAAAAAAAAAAAAAAAAAAAAAAAAAAAAAAAAAAAAAAAAAAAAAAAAAAAAAAAAAAAAAAAAAAAAAAAAAAAAAAAAAAAAAAAAAAAAAAAAAAAAAAAAAAAAAAAAAAAAAAAAAAAAAAAAAAAAAAAAAAAAAAAAAAAAAAAAAAAAAAAAAAAAAAAAAAAAAAAAAAAAAAAAAAAAAAAAAAAAAAAAAAAAAAAAAAAAAAAAAAAAAAAAAAAAAAAAAAAAAAAAAAAAAAAAAAAAAAAAAAAAAAAAAAAAAAAAAAAAAAAAAAAAAAAAAAAAAAAAAAAAAAAAAAAAAAAAAAAAAAAAAAAAAAAAAAAAAAAAAAAAAAAAAAAAAAAAAAAAAAAAAAAAAAAAAAAAAAAAAAAAAAAAAAAAAAAAAAAAAAAAAAAAAAAAAAAAAAAAAAAAAAAAAAAAAAAAAAAAAAAAAAAAAAAAAAAAAAAAAAAAAAAAAAAAAAAAAAAAAAAAAAAAAAAAAAAAAAAAAAAAAAAAAAAAAAAAAAAAAAAAAAAAAAAAAAAAAAAAAAAAAAAAAAAAAAAAAAAAAAAAAAAAAAAAAAAAAAAAAAAAAAAAAAAAAAAAAAAAAAAAAAAAAAAAAAAAAAAAAAAAAAAAAAAAAAAAAAAAAAAAAAAAAAAAAAAAAAAAAAAAAAAAAAAAAAAAAAAAAAAAAAAAAAAAAAAAAAAAAAAAAAAAAAAAAAAAAAAAAAAAAAAAAAAAAAAAAAAAAAAAAAAAAAAAAAAAAAAAAAAAAAAAAAAAAAAAAAAAAAAAAAAAAAAAAAAAAAAAAAAAAAAAAAAAAAAAAAAAAAAAAAAAAAAAAAAAAAAAAAAAAAAAAAAAAAAAAAAAAAAAAAAAAAAAAAAAAAAAAAAAAAAAAAAAAAAAAAAAAAAAAAAAAAAAAAAAAAAAAAAAAAAAAAAAAAAAAAAAAAAAAAAAAAAAAAAAAAAAAAAAAAAAAAAAAAAAAAAAAAAAAAAAAAAAAAAAAAAAAAAAAAAAAAAAAAAAAAAAAAAAAAAAAAAAAAAAAAAAAAAAAAAAAAAAAAAAAAAAAAAAAAAAAAAAAAAAAAAAAAAAAAAAAAAAAAAAAAAAAAAAAAAAAAAAAAAAAAAAAAAAAAAAAAAAAAAAAAAAAAAAAAAAAAAAAAAAAAAAAAAAAAAAAAAAAAAAAAAAAAAAAAAAAAAAAAAAAAAAAAAAAAAAAAAAAAAAAAAAAAAAAAAAAAAAAAAAAAAAAAAAAAAAAAAAAAAAAAAAAAAAAAAAAAAAAAAAAAAAAAAAAAAAAAAAAAAAAAAAAAAAAAAAAAAAAAAAAAAAAAAAAAAAAAAAAAAAAAAAAAAAAAAAAAAAAAAAAAAAAAAAAAAAAAAAAAAAAAAAAAAAAAAAAAAAAAAAAAAAAAAAAAAAAAAAAAAAAAAAAAAAAAAAAAAAAAAAAAAAAAAAAAAAAAAAAAAAAAAAAAAAAAAAAAAAAAAAAAAAAAAAAAAAAAAAAAAAAAAAAAAAAAAAAAAAAAAAAAAAAAAAAAAAAAAAAAAAAAAAAAAAAAAAAAAAAAAAAAAAAAAAAAAAAAAAAAAAAAAAAAAAAAAAAAAAAAAAAAAAAAAAAAAAAAAAAAAAAAAAAAAAAAAAAAAAAAAAAAAAAAAAAAAAAAAAAAAAAAAAAAAAAAAAAAAAAAAAAAAAAAAAAAAAAAAAAAAAAAAAAAAAAAAAAAAAAAAAAAAAAAAAAAAAAAAAAAAAAAAAAAAAAAAAAAAAAAAAAAAAAAAAAAAAAAAAAAAAAAAAAAAAAAAAAAAAAAAAAAAAAAAAAAAAAAAAAAAAAAAAAAAAAAAAAAAAAAAAAAAAAAAAAAAAAAAAAAAAAAAAAAAAAAAAAAAAAAAAAAAAAAAAAAAAAAAAAAAAAAAAAAAAAAAAAAAAAAAAAAAAAAAAAAAAAAAAAAAAAAAAAAAAAAAAAAAAAAAAAAAAAAAAAAAAAAAAAAAAAAAAAAAAAAAAAAAAAAAAAAAAAAAAAAAAAAAAAAAAAAAAAAAAAAAAAAAAAAAAAAAAAAAAAAAAAAAAAAAAAAAAAAAAAAAAAAAAAAAAAAAAAAAAAAAAAAAAAAAAAAAAAAAAAAAAAAAAAAAAAAAAAAAAAAAAAAAAAAAAAAAAAAAAAAAAAAAAAAAAAAAAAAAAAAAAAAAAAAAAAAAAAAAAAAAAAAAAAAAAAAAAAAAAAAAAAAAAAAAAAAAAAAAAAAAAAAAAAAAAAAAAAAAAAAAAAAAAAAAAAAAAAAAAAAAAAAAAAAAAAAAAAAAAAAAAAAAAAAAAAAAAAAAAAAAAAAAAAAAAAAAAAAAAAAAAAAAAAAAAAAAAAAAAAAAAAAAAAAAAAAAAAAAAAAAAAAAAAAAAAAAAAAAAAAAAAAAAAAAAAAAAAAAAAAAAAAAAAAAAAAAAAAAAAAAAAAAAAAAAAAAAAAAAAAAAAAAAAAAAAAAAAAAAAAAAAAAAAAAAAAAAAAAAAAAAAAAAAAAAAAAAAAAAAAAAAAAAAAAAAAAAAAAAAAAAAAAAAAAAAAAAAAAAAAAAAAAAAAAAAAAAAAAAAAAAAAAAAAAAAAAAAAAAAAAAAAAAAAAAAAAAAAAAAAAAAAAAAAAAAAAAAAAAAAAAAAAAAAAAAAAAAAAAAAAAAAAAAAAAAAAAAAAAAAAAAAAAAAAAAAAAAAAAAAAAAAAAAAAAAAAAAAAAAAAAAAAAAAAAAAAAAAAAAAAAAAAAAAAAAAAAAAAAAAAAAAAAAAAAAAAAAAAAAAAAAAAAAAAAAAAAAAAAAAAAAAAAAAAAAAAAAAAAAAAAAAAAAAAAAAAAAAAAAAAAAAAAAAAAAAAAAAAAAAAAAAAAAAAAAAAAAAAAAAAAAAAAAAAAAAAAAAAAAAAAAAAAAAAAAAAAAAAAAAAAAAAAAAAAAAAAAAAAAAAAAAAAAAAAAAAAAAAAAAAAAAAAAAAAAAAAAAAAAAAAAAAAAAAAAAAAAAAAAAAAAAAAAAAAAAAAAAAAAAAAAAAAAAAAAAAAAAAAAAAAAAAAAAAAAAAAAAAAAAAAAAAAAAAAAAAAAAAAAAAAAAAAAAAAAAAAAAAAAAAAAAAAAAAAAAAAAAAAAAAAAAAAAAAAAAAAAAAAAAAAAAAAAAAAAAAAAAAAAAAAAAAAAAAAAAAAAAAAAAAAAAAAAAAAAAAAAAAAAAAAAAAAAAAAAAAAAAAAAAAAAAAAAAAAAAAAAAAAAAAAAAAAAAAAAAAAAAAAAAAAAAAAAAAAAAAAAAAAAAAAAAAAAAAAAAAAAAAAAAAAAAAAAAAAAAAAAAAAAAAAAAAAAAAAAAAAAAAAAAAAAAAAAAAAAAAAAAAAAAAAAAAAAAAAAAAAAAAAAAAAAAAAAAAAAAAAAAAAAAAAAAAAAAAAAAAAAAAAAAAAAAAAAAAAAAAAAAAAAAAAAAAAAAAAAAAAAAAAAAAAAAAAAAAAAAAAAAAAAAAAAAAAAAAAAAAAAAAAAAAAAAAAAAAAAAAAAAAAAAAAAAAAAAAAAAAAAAAAAAAAAAAAAAAAAAAAAAAAAAAAAAAAAAAAAAAAAAAAAAAAAAAAAAAAAAAAAAAAAAAAAAAAAAAAAAAAAAAAAAAAAAAAAAAAAAAAAAAAAAAAAAAAAAAAAAAAAAAAAAAAAAAAAAAAAAAAAAAAAAAAAAAAAAAAAAAAAAAAAAAAAAAAAAAAAAAAAAAAAAAAAAAAAAAAAAAAAAAAAAAAAAAAAAAAAAAAAAAAAAAAAAAAAAAAAAAAAAAAAAAAAAAAAAAAAAAAAAAAAAAAAAAAAAAAAAAAAAAAAAAAAAAAAAAAAAAAAAAAAAAAAAAAAAAAAAAAAAAAAAAAAAAAAAAAAAAAAAAAAAAAAAAAAAAAAAAAAAAAAAAAAAAAAAAAAAAAAAAAAAAAAAAAAAAAAAAAAAAAAAAAAAAAAAAAAAAAAAAAAAAAAAAAAAAAAAAAAAAAAAAAAAAAAAAAAAAAAAAAAAAAAAAAAAAAAAAAAAAAAAAAAAAAAAAAAAAAAAAAAAAAAAAAAAAAAAAAAAAAAAAAAAAAAAAAAAAAAAAAAAAAAAAAAAAAAAAAAAAAAAAAAAAAAAAAAAAAAAAAAAAAAAAAAAAAAAAAAAAAAAAAAAAAAAAAAAAAAAAAAAAAAAAAAAAAAAAAAAAAAAAAAAAAAAAAAAAAAAAAAAAAAAAAAAAAAAAAAAAAAAAAAAAAAAAAAAAAAAAAAAAAAAAAAAAAAAAAAAAAAAAAAAAAAAAAAAAAAAAAAAAAAAAAAAAAAAAAAAAAAAAAAAAAAAAAAAAAAAAAAAAAAAAAAAAAAAAAAAAAAAAAAAAAAAAAAAAAAAAAAAAAAAAAAAAAAAAAAAAAAAAAAAAAAAAAAAAAAAAAAAAAAAAAAAAAAAAAAAAAAAAAAAAAAAAAAAAAAAAAAAAAAAAAAAAAAAAAAAAAAAAAAAAAAAAAAAAAAAAAAAAAAAAAAAAAAAAAAAAAAAAAAAAAAAAAAAAAAAAAAAAAAAAAAAAAAAAAAAAAAAAAAAAAAAAAAAAAAAAAAAAAAAAAAAAAAAAAAAAAAAAAAAAAAAAAAAAAAAAAAAAAAAAAAAAAAAAAAAAAAAAAAAAAAAAAAAAAAAAAAAAAAAAAAAAAAAAAAAAAAAAAAAAAAAAAAAAAAAAAAAAAAAAAAAAAAAAAAAAAAAAAAAAAAAAAAAAAAAAAAAAAAAAAAAAAAAAAAAAAAAAAAAAAAAAAAAAAAAAAAAAAAAAAAAAAAAAAAAAAAAAAAAAAAAAAAAAAAAAAAAAAAAAAAAAAAAAAAAAAAAAAAAAAAAAAAAAAAAAAAAAAAAAAAAAAAAAAAAAAAAAAAAAAAAAAAAAAAAAAAAAAAAAAAAAAAAAAAAAAAAAAAAAAAAAAAAAAAAAAAAAAAAAAAAAAAAAAAAAAAAAAAAAAAAAAAAAAAAAAAAAAAAAAAAAAAAAAAAAAAAAAAAAAAAAAAAAAAAAAAAAAAAAAAAAAAAAAAAAAAAAAAAAAAAAAAAAAAAAAAAAAAAAAAAAAAAAAAAAAAAAAAAAAAAAAAAAAAAAAAAAAAAAAAAAAAAAAAAAAAAAAAAAAAAAAAAAAAAAAAAAAAAAAAAAAAAAAAAAAAAAAAAAAAAAAAAAAAAAAAAAAAAAAAAAAAAAAAAAAAAAAAAAAAAAAAAAAAAAAAAAAAAAAAAAAAAAAAAAAAAAAAAAAAAAAAAAAAAAAAAAAAAAAAAAAAAAAAAAAAAAAAAAAAAAAAAAAAAAAAAAAAAAAAAAAAAAAAAAAAAAAAAAAAAAAAAAAAAAAAAAAAAAAAAAAAAAAAAAAAAAAAAAAAAAAAAAAAAAAAAAAAAAAAAAAAAAAAAAAAAAAAAAAAAAAAAAAAAAAAAAAAAAAAAAAAAAAAAAAAAAAAAAAAAAAAAAAAAAAAAAAAAAAAAAAAAAAAQFBAAAAAAACATUAAAAAAAAAAAAAAAAAAAAAAAAAAAAAAAAAAAAAAAAAAAAAAAAAAAAAAAAAAAAAAAAAAAAAAAABOQAAAAAAAgEpAAAAAAAAAAAAAAAAAAAAAAAAAAAAAAFBAAAAAAAAAAAAAAAAAAAAAAAAAAAAAgExAAAAAAAAATUAAAAAAAAAAQAAAAAAAAAAAAAAAAAAAAAAAAAAAAABGQAAAAAAAAAAAAAAAAAAAAAAAAAAAAABLQAAAAAAAQFBAAAAAAAAAMkAAAAAAAAAAAAAAAAAAAAAAAAAAAAAAAAAAAAAAAAAAAAAAAAAAAAAAAAAAAAAATUAAAAAAAIBKQAAAAAAAAAAAAAAAAAAAAAAAAAAAAAA1QAAAAAAAAAAAAAAAAAAAAAAAAAAAAAAAAAAAAAAAAAAAAAAAAAAAAAAAAAAAAAAAAAAAAAAAAAAAAAAAAAAAAAAAAAAAAAAAAAAAAAAAAAAAAAAAAAAAAAAAAAAAAAAAAAAAAAAAAAAAAAAAAAAAAAA=\",\"dtype\":\"float64\",\"order\":\"little\",\"shape\":[844]}},\"selected\":{\"id\":\"8110\"},\"selection_policy\":{\"id\":\"8109\"}},\"id\":\"7603\",\"type\":\"ColumnDataSource\"},{\"attributes\":{\"callback\":null,\"renderers\":[{\"id\":\"7569\"}],\"tooltips\":[[\"index\",\"$index\"],[\"(x,y)\",\"($x, $y)\"]]},\"id\":\"7571\",\"type\":\"HoverTool\"},{\"attributes\":{\"end\":102},\"id\":\"7575\",\"type\":\"Range1d\"},{\"attributes\":{\"bottom_units\":\"screen\",\"coordinates\":null,\"fill_alpha\":0.5,\"fill_color\":\"lightgrey\",\"group\":null,\"left_units\":\"screen\",\"level\":\"overlay\",\"line_alpha\":1.0,\"line_color\":\"black\",\"line_dash\":[4,4],\"line_width\":2,\"right_units\":\"screen\",\"syncable\":false,\"top_units\":\"screen\"},\"id\":\"7635\",\"type\":\"BoxAnnotation\"},{\"attributes\":{},\"id\":\"7626\",\"type\":\"BasicTicker\"},{\"attributes\":{\"args\":{\"div\":{\"id\":\"7531\"},\"s1\":{\"id\":\"7603\"}},\"code\":\"\\n                            console.log('Running CustomJS callback now.');\\n                            var inds = s1.selected.indices;\\n                            console.log(inds);\\n                            var line = \\\"<span style=float:left;clear:left;font_size=13px><b> Selected index range: [\\\" + Math.min.apply(Math,inds) + \\\",\\\" + Math.max.apply(Math,inds) + \\\"]</b></span>\\\\n\\\";\\n                            console.log(line)\\n                            var text = div.text.concat(line);\\n                            var lines = text.split(\\\"\\\\n\\\")\\n                            if (lines.length > 35)\\n                                lines.shift();\\n                            div.text = lines.join(\\\"\\\\n\\\");\"},\"id\":\"7604\",\"type\":\"CustomJS\"},{\"attributes\":{},\"id\":\"7579\",\"type\":\"LinearScale\"},{\"attributes\":{\"coordinates\":null,\"data_source\":{\"id\":\"7643\"},\"glyph\":{\"id\":\"7646\"},\"group\":null,\"hover_glyph\":null,\"view\":{\"id\":\"7650\"}},\"id\":\"7649\",\"type\":\"GlyphRenderer\"},{\"attributes\":{},\"id\":\"7582\",\"type\":\"BasicTicker\"},{\"attributes\":{},\"id\":\"7577\",\"type\":\"LinearScale\"},{\"attributes\":{\"below\":[{\"id\":\"7581\"}],\"center\":[{\"id\":\"7584\"},{\"id\":\"7588\"}],\"height\":200,\"js_event_callbacks\":{\"selectiongeometry\":[{\"id\":\"7604\"}]},\"left\":[{\"id\":\"7585\"}],\"renderers\":[{\"id\":\"7607\"},{\"id\":\"7609\"}],\"title\":{\"id\":\"8084\"},\"toolbar\":{\"id\":\"7596\"},\"width\":1000,\"x_range\":{\"id\":\"7533\"},\"x_scale\":{\"id\":\"7577\"},\"y_range\":{\"id\":\"7575\"},\"y_scale\":{\"id\":\"7579\"}},\"id\":\"7573\",\"subtype\":\"Figure\",\"type\":\"Plot\"},{\"attributes\":{\"axis_label\":\"Time in ms\",\"coordinates\":null,\"formatter\":{\"id\":\"8098\"},\"group\":null,\"major_label_policy\":{\"id\":\"8099\"},\"ticker\":{\"id\":\"7582\"}},\"id\":\"7581\",\"type\":\"LinearAxis\"},{\"attributes\":{\"args\":{\"div\":{\"id\":\"7531\"},\"s1\":{\"id\":\"7643\"}},\"code\":\"\\n                            console.log('Running CustomJS callback now.');\\n                            var inds = s1.selected.indices;\\n                            console.log(inds);\\n                            var line = \\\"<span style=float:left;clear:left;font_size=13px><b> Selected index range: [\\\" + Math.min.apply(Math,inds) + \\\",\\\" + Math.max.apply(Math,inds) + \\\"]</b></span>\\\\n\\\";\\n                            console.log(line)\\n                            var text = div.text.concat(line);\\n                            var lines = text.split(\\\"\\\\n\\\")\\n                            if (lines.length > 35)\\n                                lines.shift();\\n                            div.text = lines.join(\\\"\\\\n\\\");\"},\"id\":\"7644\",\"type\":\"CustomJS\"},{\"attributes\":{},\"id\":\"7593\",\"type\":\"SaveTool\"},{\"attributes\":{\"axis_label\":\"GPUMemoryUtilization-nodeid:algo-1_total\",\"coordinates\":null,\"formatter\":{\"id\":\"8095\"},\"group\":null,\"major_label_policy\":{\"id\":\"8096\"},\"ticker\":{\"id\":\"7586\"}},\"id\":\"7585\",\"type\":\"LinearAxis\"},{\"attributes\":{\"axis\":{\"id\":\"7581\"},\"coordinates\":null,\"group\":null,\"ticker\":null,\"visible\":false},\"id\":\"7584\",\"type\":\"Grid\"},{\"attributes\":{\"axis\":{\"id\":\"7585\"},\"coordinates\":null,\"dimension\":1,\"group\":null,\"ticker\":null,\"visible\":false},\"id\":\"7588\",\"type\":\"Grid\"},{\"attributes\":{},\"id\":\"7586\",\"type\":\"BasicTicker\"},{\"attributes\":{\"callback\":null,\"renderers\":[{\"id\":\"7609\"}],\"tooltips\":[[\"index\",\"$index\"],[\"(x,y)\",\"($x, $y)\"]]},\"id\":\"7611\",\"type\":\"HoverTool\"},{\"attributes\":{},\"id\":\"7591\",\"type\":\"PanTool\"},{\"attributes\":{\"dimensions\":\"width\",\"overlay\":{\"id\":\"7595\"}},\"id\":\"7590\",\"type\":\"BoxSelectTool\"},{\"attributes\":{},\"id\":\"7589\",\"type\":\"CrosshairTool\"},{\"attributes\":{},\"id\":\"7592\",\"type\":\"ResetTool\"},{\"attributes\":{\"dimensions\":\"width\"},\"id\":\"7594\",\"type\":\"WheelZoomTool\"},{\"attributes\":{\"coordinates\":null,\"data_source\":{\"id\":\"7603\"},\"glyph\":{\"id\":\"7606\"},\"group\":null,\"hover_glyph\":null,\"view\":{\"id\":\"7610\"}},\"id\":\"7609\",\"type\":\"GlyphRenderer\"},{\"attributes\":{\"axis\":{\"id\":\"7545\"},\"coordinates\":null,\"dimension\":1,\"group\":null,\"ticker\":null,\"visible\":false},\"id\":\"7548\",\"type\":\"Grid\"},{\"attributes\":{\"bottom_units\":\"screen\",\"coordinates\":null,\"fill_alpha\":0.5,\"fill_color\":\"lightgrey\",\"group\":null,\"left_units\":\"screen\",\"level\":\"overlay\",\"line_alpha\":1.0,\"line_color\":\"black\",\"line_dash\":[4,4],\"line_width\":2,\"right_units\":\"screen\",\"syncable\":false,\"top_units\":\"screen\"},\"id\":\"7595\",\"type\":\"BoxAnnotation\"},{\"attributes\":{},\"id\":\"7546\",\"type\":\"BasicTicker\"},{\"attributes\":{\"axis\":{\"id\":\"7541\"},\"coordinates\":null,\"group\":null,\"ticker\":null,\"visible\":false},\"id\":\"7544\",\"type\":\"Grid\"},{\"attributes\":{\"coordinates\":null,\"data_source\":{\"id\":\"7603\"},\"glyph\":{\"id\":\"7605\"},\"group\":null,\"hover_glyph\":null,\"view\":{\"id\":\"7608\"}},\"id\":\"7607\",\"type\":\"GlyphRenderer\"},{\"attributes\":{\"axis_label\":\"Time in ms\",\"coordinates\":null,\"formatter\":{\"id\":\"8092\"},\"group\":null,\"major_label_policy\":{\"id\":\"8093\"},\"ticker\":{\"id\":\"7542\"}},\"id\":\"7541\",\"type\":\"LinearAxis\"},{\"attributes\":{},\"id\":\"7537\",\"type\":\"LinearScale\"},{\"attributes\":{\"fill_alpha\":{\"value\":0},\"line_width\":{\"value\":0},\"x\":{\"field\":\"x\"},\"y\":{\"field\":\"y\"}},\"id\":\"7606\",\"type\":\"Circle\"},{\"attributes\":{\"axis_label\":\"CPUUtilization-nodeid:algo-1_total\",\"coordinates\":null,\"formatter\":{\"id\":\"8089\"},\"group\":null,\"major_label_policy\":{\"id\":\"8090\"},\"ticker\":{\"id\":\"7546\"}},\"id\":\"7545\",\"type\":\"LinearAxis\"},{\"attributes\":{\"dimensions\":\"width\",\"overlay\":{\"id\":\"7635\"}},\"id\":\"7630\",\"type\":\"BoxSelectTool\"},{\"attributes\":{},\"id\":\"7542\",\"type\":\"BasicTicker\"},{\"attributes\":{},\"id\":\"7539\",\"type\":\"LinearScale\"},{\"attributes\":{\"end\":102},\"id\":\"7535\",\"type\":\"Range1d\"},{\"attributes\":{\"dimensions\":\"width\"},\"id\":\"7634\",\"type\":\"WheelZoomTool\"},{\"attributes\":{\"end\":1655011439.510617,\"start\":1655011019.020976},\"id\":\"7533\",\"type\":\"Range1d\"},{\"attributes\":{\"tools\":[{\"id\":\"7629\"},{\"id\":\"7630\"},{\"id\":\"7631\"},{\"id\":\"7632\"},{\"id\":\"7633\"},{\"id\":\"7634\"},{\"id\":\"7651\"}]},\"id\":\"7636\",\"type\":\"Toolbar\"},{\"attributes\":{\"args\":{\"div\":{\"id\":\"7531\"},\"s1\":{\"id\":\"7563\"}},\"code\":\"\\n                            console.log('Running CustomJS callback now.');\\n                            var inds = s1.selected.indices;\\n                            console.log(inds);\\n                            var line = \\\"<span style=float:left;clear:left;font_size=13px><b> Selected index range: [\\\" + Math.min.apply(Math,inds) + \\\",\\\" + Math.max.apply(Math,inds) + \\\"]</b></span>\\\\n\\\";\\n                            console.log(line)\\n                            var text = div.text.concat(line);\\n                            var lines = text.split(\\\"\\\\n\\\")\\n                            if (lines.length > 35)\\n                                lines.shift();\\n                            div.text = lines.join(\\\"\\\\n\\\");\"},\"id\":\"7564\",\"type\":\"CustomJS\"},{\"attributes\":{},\"id\":\"7551\",\"type\":\"PanTool\"},{\"attributes\":{\"height\":100,\"height_policy\":\"fixed\",\"width\":250},\"id\":\"7531\",\"type\":\"Div\"},{\"attributes\":{\"tools\":[{\"id\":\"7589\"},{\"id\":\"7590\"},{\"id\":\"7591\"},{\"id\":\"7592\"},{\"id\":\"7593\"},{\"id\":\"7594\"},{\"id\":\"7611\"}]},\"id\":\"7596\",\"type\":\"Toolbar\"},{\"attributes\":{\"data\":{\"x\":{\"__ndarray__\":\"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\",\"dtype\":\"float64\",\"order\":\"little\",\"shape\":[843]},\"y\":{\"__ndarray__\":\"exSuR+GqVkDXo3A9CidWQPYoXI/CKVdAPQrXo3BhVUDsUbgehStWQKRwPQrXR1RArkfhehTWVUBwPQrXo4BXQPcoXI/C3VdA9ihcj8KtV0AehetRuHpXQAAAAAAAgFVApHA9CtdzVkBmZmZmZqZTQDQzMzMzb1RAzczMzMyMV0BnZmZmZqJWQK5H4XoUVldAZmZmZmaWV0DrUbgehUdXQIXrUbgemVZAFK5H4XooVkC4HoXrUQBVQIbrUbgetVVAPQrXo3DRU0CjcD0K1xNVQDQzMzMz71VAhetRuB4FVEBSuB6F65VXQAAAAAAAIEtAkML1KFwnR0AzMzMzM5tIQLgehetRuEVA16NwPQonTECG61G4Hg1IQDMzMzMzw0xAAAAAAABkUUAfhetRuPJTQB+F61G4llJASOF6FK43U0CPwvUoXGdUQK5H4XoUTlRAXI/C9ShoUkAfhetRuGJTQEjhehSuE1RAXI/C9SisUUC4HoXrUWxTQBWuR+F6dFdA4noUrkfpU0CPwvUoXPtQQJqZmZmZmVNAcD0K16OkU0CuR+F6FNpUQDMzMzMzN1JAhetRuB4VU0CPwvUoXDtTQGZmZmZmslRASOF6FK7PU0DC9Shcj/5SQFyPwvUoZFNACtejcD0aU0CamZmZmSVRQM3MzMzMzFNAmpmZmZnlVEBmZmZmZrJRQNejcD0KL1VANDMzMzMLVECuR+F6FMJRQIXrUbgemVJAAAAAAACMUEB7FK5H4VJJQD4K16Nw6VBAcD0K16OsU0BxPQrXoyBQQJqZmZmZGVFAuB6F61HEUUAAAAAAAEBRQNejcD0Kh1NAMzMzMzN7UEBI4XoUrm9TQDMzMzMzS1JAexSuR+F+U0DC9Shcj35SQKRwPQrXc1JA2KNwPQprVEBSuB6F60VQQArXo3A9tlJA9ihcj8JtT0CF61G4HiVSQHA9CtejlFNAFa5H4Xr4UkB7FK5H4UJTQJDC9Shc11FAXI/C9Si4UUAAAAAAADBHQIXrUbgeYVJAMzMzMzPrUkBI4XoUrltUQBSuR+F6OFRAAAAAAAAAWUCQwvUoXMtXQEjhehSuM1NAAAAAAAAAU0DhehSuR7lSQML1KFyPKk1ArkfhehQOUUB7FK5H4QpTQJDC9Shcv1hA4XoUrkchU0AfhetRuAZTQPYoXI/CqVFAzczMzMwAVEBH4XoUrjNSQKRwPQrXT1FAKVyPwvV0U0DD9Shcj+pSQPYoXI/CgVNAPQrXo3AtTkCjcD0K1zNJQK5H4XoUFkZAZmZmZmY+R0DMzMzMzCxIQHA9CtejQEVAwvUoXI8yR0BmZmZmZq5KQEjhehSuL0dAPgrXo3B1R0BI4XoUrrdRQMP1KFyPblFAPQrXo3B1U0DMzMzMzJRXQOF6FK5HrVVAw/UoXI9SUUBSuB6F6wVRQKRwPQrXD1FAKVyPwvVwUkDNzMzMzNBTQHsUrkfhPlJAcT0K16NMVEDsUbgehdtTQMzMzMzMLFVAZmZmZmbuU0ApXI/C9WxTQI/C9Shcl1NA16NwPQq/UkAzMzMzM9NSQKRwPQrXB1NAuB6F61HcU0A+CtejcMVSQAAAAAAADFNAZmZmZmayUkDC9Shcj5JRQFG4HoXrwVJAAAAAAABAU0CF61G4HllSQGdmZmZm0lJApHA9CtdPUkAAAAAAAJBOQAAAAAAAkFFAXI/C9SjcUEAAAAAAAHBOQF2PwvUoKFZAPgrXo3C5VUCG61G4HkFUQIXrUbgejVZAexSuR+E6VkDXo3A9CotWQHE9CtejLFZA9ihcj8L1VUAfhetRuOJUQKRwPQrXM1ZAwvUoXI+yV0CQwvUoXG9YQEjhehSuz1ZAuB6F61HgU0D2KFyPwi1WQBSuR+F6PFRA9ihcj8I1UUAUrkfheqBTQAAAAAAAoFRAXI/C9SiET0CF61G4HilXQM3MzMzMSFdAmpmZmZm5V0AK16NwPRZXQHA9Ctej9FRAAAAAAAAAWUAAAAAAAABWQPYoXI/CYVdAFa5H4XpMV0BSuB6F68VWQFK4HoXrPVVA4XoUrkf5VUCkcD0K199VQClcj8L1IFVAmZmZmZmxVUAK16NwPVZWQBSuR+F6NFZAPQrXo3CRVkC5HoXrUVhWQD4K16NwLVZArkfhehTaVkBdj8L1KMxXQM3MzMzMWFZAuB6F61FYVkC4HoXrUVBWQD0K16NwIVZAAAAAAACUVEAzMzMzM6NUQChcj8L1bFVAj8L1KFzfVUA9CtejcClXQB+F61G4ulJAPgrXo3C1TUAfhetRuGJUQHoUrkfhalRAPgrXo3DVVEApXI/C9fRUQIXrUbgeEVVAAAAAAABgVkCQwvUoXGNWQB+F61G4SlVAAAAAAAC0VEBcj8L1KERTQJqZmZmZCVRAmpmZmZm1UkC4HoXrUfBUQNejcD0Kb1NAZmZmZmYKVUA+CtejcBFUQFyPwvUovFVAH4XrUbh6VEDXo3A9CqdVQOF6FK5HQVVArkfhehTiVEDXo3A9CgdVQPYoXI/CkVNAMzMzMzODVEAAAAAAAHBSQHA9CtejsFRAHoXrUbh+UkBcj8L1KABTQNejcD0Kj1JAPgrXo3DFVUBI4XoUrnNRQFyPwvUoFE5AmpmZmZklVEDNzMzMzFhWQJqZmZmZ8VVArkfhehQSVUCamZmZmcVUQOF6FK5HnVVAFK5H4Xp0VUDsUbgehedUQBWuR+F6kFVASOF6FK7PVUDhehSuR3VWQD4K16NwsVVA4noUrkdFVEAK16NwPc5TQB+F61G4UlNAuR6F61HsU0BmZmZmZrZUQIXrUbgegVRArkfhehQWU0Bcj8L1KNRSQNejcD0Kr1JAPgrXo3CtU0DNzMzMzORTQKRwPQrXC1RA4noUrkcVVEB7FK5H4ZJUQHsUrkfhclRAFa5H4XqIVEB8FK5H4SZUQOF6FK5HrVRAPgrXo3B9VEDXo3A9CgtUQML1KFyPklRAAAAAAADUVEA+CtejcKFWQBSuR+F6CFVApHA9Cte/VEBSuB6F63VVQIXrUbgeJVZAw/UoXI+WVUAfhetRuMJVQJqZmZmZbVNAFK5H4Xr0UkAehetRuLZTQK5H4XoUolRAFa5H4Xq0U0BxPQrXozRTQGZmZmZm6lNAmpmZmZlRU0D2KFyPwuFSQOxRuB6Fo1NAuB6F61G0U0CamZmZmUFUQGZmZmZmylRAAAAAAADEVEAAAAAAABxUQJDC9Shcp1RAuB6F61F8VEA9CtejcHFUQHA9CtejHFRAhetRuB4pVEBSuB6F67VTQFyPwvUopFRAexSuR+FWVECuR+F6FFZUQNejcD0KZ1NAj8L1KFwvVUA+CtejcKVWQDMzMzMzL1NAFK5H4XpMVEA0MzMzM1tUQEjhehSuA1RAuB6F61FQU0BwPQrXo6hUQOF6FK5H6VNA4XoUrkexVEBSuB6F62FUQAAAAAAAaFJAAAAAAAC8UUCG61G4HqFRQBSuR+F6OFBAmpmZmZntUECkcD0K14dQQIXrUbgeUVRA4XoUrkchVECF61G4HrVUQB+F61G4klRA9ihcj8LRVEDhehSuR7VRQB+F61G4OlNAKVyPwvXQVEBcj8L1KHxTQHsUrkfh8lNA7FG4HoWfVEApXI/C9fBUQNejcD0Kr1VAAAAAAABAVUAAAAAAAEBXQOF6FK5HyVZApHA9CtcbVUCF61G4HmlUQK5H4XoU8lBA7FG4HoWTUUAAAAAAAOBTQHE9CtejhFJASOF6FK7nVUAAAAAAAOBVQHsUrkfhtlZAFK5H4XpMVUAAAAAAAIBVQOF6FK5HBVJA4XoUrkfVVEBmZmZmZqJUQFK4HoXrnVJAAAAAAAA4VUBSuB6F6x1VQBSuR+F6eFFAexSuR+HuUUCkcD0K1xdRQAAAAAAAXFJAPgrXo3BJUkBnZmZmZqJSQJqZmZmZ+VNAZmZmZmYuVkAAAAAAAEBWQOF6FK5HAVZAAAAAAACgVUAAAAAAAAxXQDMzMzMzf1hAKVyPwvUcV0CuR+F6FKpVQIXrUbgeJU5AKVyPwvXUUUDhehSuR7lVQD4K16NwiVVAzczMzMyIVUAfhetRuOJWQJDC9Shc61JAAAAAAABcUkAAAAAAANxRQHsUrkfhTlRAPgrXo3BFVUC4HoXrUQBJQD4K16NwiVBAAAAAAACMUUDXo3A9CtNSQAvXo3A9qlRACtejcD2aS0BwPQrXoyBMQJqZmZmZiUtAAAAAAABoT0AzMzMzMy9RQD0K16NwqVRAcD0K16NIVEA+CtejcIlUQBWuR+F6UFNAcT0K16OQVECkcD0K16dUQML1KFyPLlRA1qNwPQpHVEA9CtejcGlUQD0K16NwLVVAexSuR+H2VEDhehSuR01UQFK4HoXraVRAmpmZmZnlVEBSuB6F68lUQLgehetRkFNA16NwPQrLUECZmZmZmRVTQML1KFyPqlBAZmZmZmYOUkBI4XoUrhNRQPYoXI/CSVFA9ihcj8JNU0DXo3A9CitSQEjhehSur1JAZmZmZmZOU0ApXI/C9QxRQD4K16Nw8VFA1qNwPQp3S0AAAAAAAJxTQOF6FK5HQUpAKFyPwvXoT0BI4XoUrm9SQOxRuB6F51JAuR6F61HEU0DD9Shcj5ZTQEjhehSu61NAXI/C9ShwVEBSuB6F601UQKRwPQrX+1NA16NwPQr/U0CZmZmZmXFTQAAAAAAA5FNA16NwPQq/U0BSuB6F631TQHsUrkfhWlNApHA9CtdzU0DXo3A9Cs9TQAAAAAAAWFNAkML1KFyPU0ApXI/C9bhTQD4K16NwwVNASOF6FK7vVEAK16NwPb5VQFyPwvUoZFZApHA9Cte/VUB7FK5H4Z5WQHE9Ctej8FZAzczMzMx0VkAfhetRuFpVQArXo3A9NlZAXY/C9ShYVkCF61G4HlFUQD4K16NwnVRASOF6FK5PVEA+CtejcPFTQKRwPQrX51NA4XoUrkfNU0AAAAAAAJxTQMP1KFyPglRAuB6F61HQU0B8FK5H4bZTQFyPwvUo0FNAcD0K16MkVEBnZmZmZtJTQML1KFyP3lNAR+F6FK4bVEAUrkfhehRUQNejcD0Kh1NAXI/C9ShoU0CF61G4HpVUQOtRuB6FC1RAwvUoXI9aUkDhehSuR0FTQHsUrkfhjlFAC9ejcD0KVkDD9Shcj+pTQDQzMzMzp1JAwvUoXI86UkBwPQrXo+BSQArXo3A98lRAUrgehevBVEAAAAAAAIBXQEjhehSu/1ZAUrgeheuNVkAAAAAAAABVQB+F61G4hlZACtejcD1yVUDhehSuRw1UQAAAAAAAQFRAFK5H4XosVUCPwvUoXN9YQAAAAAAAIFZAAAAAAADAVkDhehSuR9VUQOF6FK5HwVVAAAAAAACgVUD2KFyPwqlUQAAAAAAA4FVAAAAAAAB8VUAfhetRuL5VQClcj8L1EFZAH4XrUbgiVkAAAAAAAMBYQBSuR+F6KFVAcD0K16MEUUCamZmZmcFHQB+F61G4OlNAUrgehesBVkDNzMzMzHRVQK5H4XoUdlNAC9ejcD2eVEDhehSuR3FWQHsUrkfhilVAexSuR+GWVUBxPQrXo7hUQArXo3A9flJAcT0K16N0U0C4HoXrUQBUQJqZmZmZLVNAcT0K16OIUUDhehSuR0FPQPYoXI/C9VBAcD0K16OgTUCF61G4HsVPQPYoXI/CIVBAuB6F61EMUUBcj8L1KHxOQB6F61G4Dk5AXI/C9ShESEAAAAAAALhFQIXrUbge9UxAcT0K16P4U0DC9Shcj35UQKRwPQrX91RAehSuR+E2VECamZmZmZ1TQJDC9Shcj1NApHA9Cte7U0DXo3A9CrNTQIXrUbgeoVNACtejcD3iU0A+CtejcM1SQDMzMzMz31JAhetRuB75UkD2KFyPwuFSQOxRuB6FV1JAUrgehetxU0B7FK5H4TpTQClcj8L1PFNAH4XrUbhSU0CuR+F6FB5TQOF6FK5HAVZASOF6FK4/VkAAAAAAAPRVQB6F61G4ClZA16NwPQpnVkAoXI/C9ZxVQJDC9Shcy1VAwvUoXI+aVUD2KFyPwmFVQDMzMzMzL1NAMzMzMzPnU0Bcj8L1KFRUQClcj8L1FFRArkfhehRSVEA+CtejcE1UQM3MzMzMiFRAzczMzMxoVED2KFyPwmFUQEjhehSuH1RApHA9CteXVEAfhetRuFJUQB+F61G4olRAZmZmZmZmVEBI4XoUrsNTQIXrUbge4VJAKVyPwvXYUkB6FK5H4RpSQLgehetRnFJAhetRuB4tVECkcD0K1ztUQChcj8L1nFRAHoXrUbgSVEBSuB6F64VUQClcj8L1WFRANDMzMzOHVECuR+F6FHpUQLgehetRpFRA4noUrkdlVEDMzMzMzJRUQLkehetRcFRArkfhehSKVEAK16NwPXZTQArXo3A9mlNA16NwPQqjVECuR+F6FE5TQNejcD0K71JAcT0K16PkU0AzMzMzM7NWQML1KFyPnlVAKVyPwvUwU0AzMzMzM4NTQBSuR+F6eFVAmpmZmZl5VUAAAAAAAJBVQJqZmZmZoVRA16NwPQqTUkA+CtejcAFTQClcj8L1qFBAmpmZmZm1UECuR+F6FGpTQB+F61G4RlNAAAAAAACgU0AehetRuDJTQAAAAAAAYFNAKVyPwvWQUkAoXI/C9QhSQFyPwvUoSFJApHA9Ctc/UUBcj8L1KGRQQB6F61G4llBArkfhehReUkAK16NwPZpRQAAAAAAA4FRAzczMzMwkU0DrUbgehU9TQLgehetRzFZAcD0K16NUUUAAAAAAAMBSQK5H4XoUOlNAFK5H4XpIVEBI4XoUrhtUQArXo3A9clNAXI/C9SjYU0DNzMzMzEBUQAAAAAAAgFRAmpmZmZnxUkAfhetRuMJSQI/C9ShcS1BAPQrXo3B9U0DhehSuR9VRQAAAAAAADFBAwvUoXI86UkC5HoXrUbRTQAAAAAAAGFVAPQrXo3D5VUBI4XoUrq9UQOxRuB6Fq09AcT0K16M0U0CamZmZmaFRQClcj8L11FRAFK5H4XpYUkBSuB6F641RQClcj8L1lFFAMzMzMzObUkAfhetRuEpTQNejcD0Kc1BAuB6F61G0UUCF61G4Hl1RQFK4HoXrmUtAUrgehev5UED//////7NVQD4K16NwTVNAfBSuR+HSSEAK16NwPTpSQK5H4XoUDkZAwvUoXI9KS0AUrkfheuREQOxRuB6FD1JAKlyPwvV0VEAUrkfheqBUQKRwPQrXe1RAKVyPwvVkU0BI4XoUrjtRQAAAAAAAwFJAuB6F61HcUUDNzMzMzGhRQJDC9Shcb09AuB6F61EASkAUrkfheqxMQIXrUbgecVNAPgrXo3DZUkAUrkfheoBTQIbrUbgebU9AZmZmZmYOS0AehetRuN5QQK5H4XoUKlRACtejcD0aVECPwvUoXH9TQKRwPQrX11NAHoXrUbieU0BwPQrXo0RUQEjhehSuS1JAFK5H4XokUEDNzMzMzIRRQHsUrkfh8k5A7FG4HoVzSECG61G4HiVGQFyPwvUoPEZA2KNwPQq3UUAzMzMzM99TQOxRuB6Fw1NAKVyPwvVAUkAK16NwPfpOQM3MzMzM3ElAPgrXo3B1SUD2KFyPwu1TQJDC9Shch1NAFa5H4XrsU0AfhetRuM5TQFyPwvUovFNAcD0K16N4U0DXo3A9CoNTQDMzMzMzr1NAmpmZmZlxU0AUrkfhesBTQHA9CtejIFRAFK5H4XoAVUApXI/C9TBVQJDC9ShcX1dAhetRuB7VVUA9CtejcCFVQB+F61G4IlVAKFyPwvXsVEDsUbgehRdUQIXrUbgeeVBAZmZmZmZ+UkDXo3A9CkdPQBSuR+F6NFFAH4XrUbgGTUCkcD0K15dQQOF6FK5H6VJAhOtRuB4FT0DhehSuR91SQEjhehSuS1NASOF6FK43UECF61G4Hs1MQClcj8L1GFBAXI/C9SiYU0DNzMzMzPhVQPYoXI/C/VFAKFyPwvUoT0C4HoXrURBTQHoUrkfhakhAFK5H4XoUSUAUrkfheqRBQKRwPQrX60VAwvUoXI+qQ0AK16NwPZJKQDQzMzMzQ0hA16NwPQr3S0A0MzMzMzNKQNejcD0KT0hAwvUoXI9qSkAAAAAAAGhKQOxRuB6F00lAcD0K16P4UECuR+F6FP5LQLgehetR6FFASOF6FK7nSkCuR+F6FAZLQFyPwvUoRElAMzMzMzNbS0DNzMzMzBxMQB6F61G4Rk1ApHA9CtcLS0A9CtejcDVMQDMzMzMzW0tAXI/C9SgMS0BwPQrXo2hLQMzMzMzMjEtAKVyPwvV4SkD2KFyPwu1KQHE9CtejwEtAAAAAAAAAS0AK16NwPQpLQFO4HoXruUtAhOtRuB5lTEBxPQrXoxBLQOF6FK5HkUpAH4XrUbiOS0DrUbgehT9TQI/C9Shc31hArkfhehT2VUAUrkfheiROQPYoXI/CFUxA61G4HoWDUED2KFyPwilTQEjhehSum1NAMzMzMzNrUECtR+F6FL5XQD4K16NwnVdAw/UoXI9qTEB8FK5H4WJNQAAAAAAAkFBAPQrXo3DNU0CkcD0K1xNRQArXo3A9BlNAH4XrUbgqWECG61G4Ho1OQAAAAAAAAExA7FG4HoVrTkAK16NwPYpSQAAAAAAAYFNAMzMzMzObTkC4HoXrUZxSQK5H4XoUoldAuB6F61HwTkDYo3A9CrdLQDQzMzMzm09AmpmZmZmlU0AzMzMzM/tRQOF6FK5HjVBAFa5H4XqUVkCamZmZme1SQHA9CtejyEtA9ihcj8KNTEDC9Shcj3ZSQArXo3A91lNAuB6F61HQTkCuR+F6FNZNQBWuR+F6rEpAzczMzMykSkCkcD0K12M8QOtRuB6FGz1ANDMzMzOTPEDYo3A9Cjc9QEjhehSuxz1AXI/C9SgsP0AK16NwPVo/QBSuR+F6ND1ACtejcD2aO0CE61G4HqU8QDIzMzMzoz1A\",\"dtype\":\"float64\",\"order\":\"little\",\"shape\":[843]}},\"selected\":{\"id\":\"8107\"},\"selection_policy\":{\"id\":\"8106\"}},\"id\":\"7563\",\"type\":\"ColumnDataSource\"},{\"attributes\":{},\"id\":\"7553\",\"type\":\"SaveTool\"},{\"attributes\":{},\"id\":\"7552\",\"type\":\"ResetTool\"},{\"attributes\":{\"fill_alpha\":{\"value\":0},\"line_width\":{\"value\":0},\"x\":{\"field\":\"x\"},\"y\":{\"field\":\"y\"}},\"id\":\"7646\",\"type\":\"Circle\"},{\"attributes\":{},\"id\":\"7549\",\"type\":\"CrosshairTool\"},{\"attributes\":{\"line_color\":\"blue\",\"x\":{\"field\":\"x\"},\"y\":{\"field\":\"y\"}},\"id\":\"7645\",\"type\":\"Line\"},{\"attributes\":{\"coordinates\":null,\"data_source\":{\"id\":\"7643\"},\"glyph\":{\"id\":\"7645\"},\"group\":null,\"hover_glyph\":null,\"view\":{\"id\":\"7648\"}},\"id\":\"7647\",\"type\":\"GlyphRenderer\"},{\"attributes\":{\"line_color\":\"blue\",\"x\":{\"field\":\"x\"},\"y\":{\"field\":\"y\"}},\"id\":\"7605\",\"type\":\"Line\"},{\"attributes\":{\"below\":[{\"id\":\"7621\"}],\"center\":[{\"id\":\"7624\"},{\"id\":\"7628\"}],\"height\":200,\"js_event_callbacks\":{\"selectiongeometry\":[{\"id\":\"7644\"}]},\"left\":[{\"id\":\"7625\"}],\"renderers\":[{\"id\":\"7647\"},{\"id\":\"7649\"}],\"title\":{\"id\":\"8086\"},\"toolbar\":{\"id\":\"7636\"},\"width\":1000,\"x_range\":{\"id\":\"7533\"},\"x_scale\":{\"id\":\"7617\"},\"y_range\":{\"id\":\"7615\"},\"y_scale\":{\"id\":\"7619\"}},\"id\":\"7613\",\"subtype\":\"Figure\",\"type\":\"Plot\"},{\"attributes\":{\"dimensions\":\"width\",\"overlay\":{\"id\":\"7555\"}},\"id\":\"7550\",\"type\":\"BoxSelectTool\"},{\"attributes\":{\"dimensions\":\"width\"},\"id\":\"7554\",\"type\":\"WheelZoomTool\"},{\"attributes\":{\"source\":{\"id\":\"7603\"}},\"id\":\"7608\",\"type\":\"CDSView\"},{\"attributes\":{\"source\":{\"id\":\"7643\"}},\"id\":\"7648\",\"type\":\"CDSView\"},{\"attributes\":{\"source\":{\"id\":\"7603\"}},\"id\":\"7610\",\"type\":\"CDSView\"},{\"attributes\":{\"tools\":[{\"id\":\"7549\"},{\"id\":\"7550\"},{\"id\":\"7551\"},{\"id\":\"7552\"},{\"id\":\"7553\"},{\"id\":\"7554\"},{\"id\":\"7571\"}]},\"id\":\"7556\",\"type\":\"Toolbar\"},{\"attributes\":{},\"id\":\"7629\",\"type\":\"CrosshairTool\"},{\"attributes\":{},\"id\":\"7632\",\"type\":\"ResetTool\"},{\"attributes\":{\"axis\":{\"id\":\"7625\"},\"coordinates\":null,\"dimension\":1,\"group\":null,\"ticker\":null,\"visible\":false},\"id\":\"7628\",\"type\":\"Grid\"},{\"attributes\":{},\"id\":\"7633\",\"type\":\"SaveTool\"}],\"root_ids\":[\"7654\"]},\"title\":\"Bokeh Application\",\"version\":\"2.4.3\"}};\n  const render_items = [{\"docid\":\"bf666923-90b2-4052-9ace-95c2e865ae41\",\"notebook_comms_target\":\"8115\",\"root_ids\":[\"7654\"],\"roots\":{\"7654\":\"d4f037eb-e5ee-4ed0-8874-2c02669f5159\"}}];\n  root.Bokeh.embed.embed_items_notebook(docs_json, render_items);\n  }\n  if (root.Bokeh !== undefined) {\n    embed_document(root);\n  } else {\n    let attempts = 0;\n    const timer = setInterval(function(root) {\n      if (root.Bokeh !== undefined) {\n        clearInterval(timer);\n        embed_document(root);\n      } else {\n        attempts++;\n        if (attempts > 100) {\n          clearInterval(timer);\n          console.log(\"Bokeh: ERROR: Unable to run BokehJS code because BokehJS library is missing\");\n        }\n      }\n    }, 10, root)\n  }\n})(window);",
      "application/vnd.bokehjs_exec.v0+json": ""
     },
     "metadata": {
      "application/vnd.bokehjs_exec.v0+json": {
       "id": "7654"
      }
     },
     "output_type": "display_data"
    }
   ],
   "source": [
    "from smdebug.profiler.analysis.notebook_utils.timeline_charts import TimelineCharts\n",
    "\n",
    "system_metrics_reader = tj.get_systems_metrics_reader()\n",
    "system_metrics_reader.refresh_event_file_list()\n",
    "\n",
    "view_timeline_charts = TimelineCharts(\n",
    "    system_metrics_reader,\n",
    "    framework_metrics_reader=None,\n",
    "    select_dimensions=[\"CPU\", \"GPU\"],\n",
    "    select_events=[\"total\"],\n",
    ")"
   ]
  },
  {
   "cell_type": "code",
   "execution_count": 192,
   "metadata": {},
   "outputs": [],
   "source": [
    "framework_metrics_reader = tj.get_framework_metrics_reader()"
   ]
  },
  {
   "cell_type": "code",
   "execution_count": 193,
   "metadata": {},
   "outputs": [
    {
     "name": "stdout",
     "output_type": "stream",
     "text": [
      "Found 15149 system metrics events from timestamp_in_us:0 to timestamp_in_us:1655011440000000\n",
      "select events:['total']\n",
      "select dimensions:['CPU', 'GPU', 'I/O']\n",
      "filtered_events:{'total'}\n",
      "filtered_dimensions:{'CPUUtilization-nodeid:algo-1', 'GPUMemoryUtilization-nodeid:algo-1', 'I/OWaitPercentage-nodeid:algo-1', 'GPUUtilization-nodeid:algo-1'}\n"
     ]
    },
    {
     "data": {
      "text/html": [
       "\n",
       "  <div class=\"bk-root\" id=\"dc734d1e-dfc2-49f2-9cd7-7074b29f7d90\" data-root-id=\"8484\"></div>\n"
      ]
     },
     "metadata": {},
     "output_type": "display_data"
    },
    {
     "data": {
      "application/javascript": "(function(root) {\n  function embed_document(root) {\n  const docs_json = {\"c31828e4-51f7-40a8-b635-c6c07f33260c\":{\"defs\":[],\"roots\":{\"references\":[{\"attributes\":{\"children\":[{\"id\":\"8483\"},{\"id\":\"8481\"}]},\"id\":\"8484\",\"type\":\"Column\"},{\"attributes\":{},\"id\":\"8298\",\"type\":\"PanTool\"},{\"attributes\":{},\"id\":\"8452\",\"type\":\"AllLabels\"},{\"attributes\":{\"bottom_units\":\"screen\",\"coordinates\":null,\"fill_alpha\":0.5,\"fill_color\":\"lightgrey\",\"group\":null,\"left_units\":\"screen\",\"level\":\"overlay\",\"line_alpha\":1.0,\"line_color\":\"black\",\"line_dash\":[4,4],\"line_width\":2,\"right_units\":\"screen\",\"syncable\":false,\"top_units\":\"screen\"},\"id\":\"8304\",\"type\":\"BoxAnnotation\"},{\"attributes\":{\"coordinates\":null,\"data_source\":{\"id\":\"8350\"},\"glyph\":{\"id\":\"8352\"},\"group\":null,\"hover_glyph\":null,\"muted_glyph\":{\"id\":\"8354\"},\"nonselection_glyph\":{\"id\":\"8353\"},\"view\":{\"id\":\"8356\"}},\"id\":\"8355\",\"type\":\"GlyphRenderer\"},{\"attributes\":{},\"id\":\"8326\",\"type\":\"LinearScale\"},{\"attributes\":{},\"id\":\"8453\",\"type\":\"UnionRenderers\"},{\"attributes\":{\"axis_label\":\"GPUMemoryUtilization-nodeid:algo-1_total\",\"coordinates\":null,\"formatter\":{\"id\":\"8451\"},\"group\":null,\"major_label_policy\":{\"id\":\"8452\"},\"ticker\":{\"id\":\"8329\"}},\"id\":\"8328\",\"type\":\"LinearAxis\"},{\"attributes\":{},\"id\":\"8454\",\"type\":\"Selection\"},{\"attributes\":{\"axis\":{\"id\":\"8328\"},\"coordinates\":null,\"grid_line_color\":\"white\",\"group\":null,\"ticker\":null},\"id\":\"8331\",\"type\":\"Grid\"},{\"attributes\":{},\"id\":\"8329\",\"type\":\"BasicTicker\"},{\"attributes\":{\"axis_label\":\"Occurences\",\"coordinates\":null,\"formatter\":{\"id\":\"8448\"},\"group\":null,\"major_label_policy\":{\"id\":\"8449\"},\"ticker\":{\"id\":\"8333\"}},\"id\":\"8332\",\"type\":\"LinearAxis\"},{\"attributes\":{\"axis\":{\"id\":\"8332\"},\"coordinates\":null,\"dimension\":1,\"grid_line_color\":\"white\",\"group\":null,\"ticker\":null},\"id\":\"8335\",\"type\":\"Grid\"},{\"attributes\":{\"data\":{\"left\":[0,2,4,6,8,10,12,14,16,18,20,22,24,26,28,30,32,34,36,38,40,42,44,46,48,50,52,54,56,58,60,62,64,66,68,70,72,74,76,78,80,82,84,86,88,90,92,94,96],\"right\":[2,4,6,8,10,12,14,16,18,20,22,24,26,28,30,32,34,36,38,40,42,44,46,48,50,52,54,56,58,60,62,64,66,68,70,72,74,76,78,80,82,84,86,88,90,92,94,96,98],\"top\":[0,0,0,0,0,0,0,0,0,0,0,0,0,1,8,2,0,1,0,1,1,4,4,7,9,8,13,24,13,7,15,13,14,21,27,33,38,51,82,91,88,76,40,49,40,23,15,15,3]},\"selected\":{\"id\":\"8442\"},\"selection_policy\":{\"id\":\"8441\"}},\"id\":\"8312\",\"type\":\"ColumnDataSource\"},{\"attributes\":{},\"id\":\"8333\",\"type\":\"BasicTicker\"},{\"attributes\":{\"tools\":[{\"id\":\"8336\"},{\"id\":\"8337\"},{\"id\":\"8338\"},{\"id\":\"8339\"},{\"id\":\"8340\"},{\"id\":\"8341\"}]},\"id\":\"8343\",\"type\":\"Toolbar\"},{\"attributes\":{},\"id\":\"8337\",\"type\":\"WheelZoomTool\"},{\"attributes\":{},\"id\":\"8336\",\"type\":\"PanTool\"},{\"attributes\":{\"overlay\":{\"id\":\"8342\"}},\"id\":\"8338\",\"type\":\"BoxZoomTool\"},{\"attributes\":{\"bottom_units\":\"screen\",\"coordinates\":null,\"fill_alpha\":0.5,\"fill_color\":\"lightgrey\",\"group\":null,\"left_units\":\"screen\",\"level\":\"overlay\",\"line_alpha\":1.0,\"line_color\":\"black\",\"line_dash\":[4,4],\"line_width\":2,\"right_units\":\"screen\",\"syncable\":false,\"top_units\":\"screen\"},\"id\":\"8342\",\"type\":\"BoxAnnotation\"},{\"attributes\":{\"source\":{\"id\":\"8350\"}},\"id\":\"8356\",\"type\":\"CDSView\"},{\"attributes\":{},\"id\":\"8301\",\"type\":\"SaveTool\"},{\"attributes\":{\"bottom\":{\"value\":0},\"fill_alpha\":{\"value\":0.1},\"fill_color\":{\"value\":\"navy\"},\"hatch_alpha\":{\"value\":0.1},\"left\":{\"field\":\"left\"},\"line_alpha\":{\"value\":0.1},\"line_color\":{\"value\":\"white\"},\"right\":{\"field\":\"right\"},\"top\":{\"field\":\"top\"}},\"id\":\"8353\",\"type\":\"Quad\"},{\"attributes\":{\"axis_label\":\"Occurences\",\"coordinates\":null,\"formatter\":{\"id\":\"8436\"},\"group\":null,\"major_label_policy\":{\"id\":\"8437\"},\"ticker\":{\"id\":\"8295\"}},\"id\":\"8294\",\"type\":\"LinearAxis\"},{\"attributes\":{\"tools\":[{\"id\":\"8298\"},{\"id\":\"8299\"},{\"id\":\"8300\"},{\"id\":\"8301\"},{\"id\":\"8302\"},{\"id\":\"8303\"}]},\"id\":\"8305\",\"type\":\"Toolbar\"},{\"attributes\":{},\"id\":\"8303\",\"type\":\"HelpTool\"},{\"attributes\":{\"data\":{\"left\":[0,2,4,6,8,10,12,14,16,18,20,22,24,26,28,30,32,34,36,38,40,42,44,46,48,50,52,54,56,58,60,62,64,66,68,70,72,74,76,78,80,82,84,86,88,90,92,94,96],\"right\":[2,4,6,8,10,12,14,16,18,20,22,24,26,28,30,32,34,36,38,40,42,44,46,48,50,52,54,56,58,60,62,64,66,68,70,72,74,76,78,80,82,84,86,88,90,92,94,96,98],\"top\":[313,37,26,23,25,27,11,12,7,8,12,16,21,23,13,10,15,16,17,24,19,16,27,17,13,16,24,16,14,6,10,4,1,0,1,1,2,0,0,0,0,0,0,0,0,0,0,0,0]},\"selected\":{\"id\":\"8466\"},\"selection_policy\":{\"id\":\"8465\"}},\"id\":\"8388\",\"type\":\"ColumnDataSource\"},{\"attributes\":{},\"id\":\"8341\",\"type\":\"HelpTool\"},{\"attributes\":{\"coordinates\":null,\"group\":null},\"id\":\"8457\",\"type\":\"Title\"},{\"attributes\":{},\"id\":\"8295\",\"type\":\"BasicTicker\"},{\"attributes\":{\"axis\":{\"id\":\"8294\"},\"coordinates\":null,\"dimension\":1,\"grid_line_color\":\"white\",\"group\":null,\"ticker\":null},\"id\":\"8297\",\"type\":\"Grid\"},{\"attributes\":{\"below\":[{\"id\":\"8366\"}],\"center\":[{\"id\":\"8369\"},{\"id\":\"8373\"}],\"height\":250,\"left\":[{\"id\":\"8370\"}],\"renderers\":[{\"id\":\"8393\"}],\"title\":{\"id\":\"8457\"},\"toolbar\":{\"id\":\"8381\"},\"toolbar_location\":null,\"width\":250,\"x_range\":{\"id\":\"8358\"},\"x_scale\":{\"id\":\"8362\"},\"y_range\":{\"id\":\"8360\"},\"y_scale\":{\"id\":\"8364\"}},\"id\":\"8357\",\"subtype\":\"Figure\",\"type\":\"Plot\"},{\"attributes\":{\"bottom\":{\"value\":0},\"fill_alpha\":{\"value\":0.2},\"fill_color\":{\"value\":\"navy\"},\"hatch_alpha\":{\"value\":0.2},\"left\":{\"field\":\"left\"},\"line_alpha\":{\"value\":0.2},\"line_color\":{\"value\":\"white\"},\"right\":{\"field\":\"right\"},\"top\":{\"field\":\"top\"}},\"id\":\"8354\",\"type\":\"Quad\"},{\"attributes\":{\"bottom\":{\"value\":0},\"fill_alpha\":{\"value\":0.5},\"fill_color\":{\"value\":\"navy\"},\"left\":{\"field\":\"left\"},\"line_color\":{\"value\":\"white\"},\"right\":{\"field\":\"right\"},\"top\":{\"field\":\"top\"}},\"id\":\"8352\",\"type\":\"Quad\"},{\"attributes\":{},\"id\":\"8417\",\"type\":\"HelpTool\"},{\"attributes\":{\"axis_label\":\"Occurences\",\"coordinates\":null,\"formatter\":{\"id\":\"8460\"},\"group\":null,\"major_label_policy\":{\"id\":\"8461\"},\"ticker\":{\"id\":\"8371\"}},\"id\":\"8370\",\"type\":\"LinearAxis\"},{\"attributes\":{},\"id\":\"8442\",\"type\":\"Selection\"},{\"attributes\":{\"start\":0},\"id\":\"8360\",\"type\":\"DataRange1d\"},{\"attributes\":{},\"id\":\"8460\",\"type\":\"BasicTickFormatter\"},{\"attributes\":{\"axis_label\":\"I/OWaitPercentage-nodeid:algo-1_total\",\"coordinates\":null,\"formatter\":{\"id\":\"8463\"},\"group\":null,\"major_label_policy\":{\"id\":\"8464\"},\"ticker\":{\"id\":\"8367\"}},\"id\":\"8366\",\"type\":\"LinearAxis\"},{\"attributes\":{},\"id\":\"8358\",\"type\":\"DataRange1d\"},{\"attributes\":{\"bottom_units\":\"screen\",\"coordinates\":null,\"fill_alpha\":0.5,\"fill_color\":\"lightgrey\",\"group\":null,\"left_units\":\"screen\",\"level\":\"overlay\",\"line_alpha\":1.0,\"line_color\":\"black\",\"line_dash\":[4,4],\"line_width\":2,\"right_units\":\"screen\",\"syncable\":false,\"top_units\":\"screen\"},\"id\":\"8418\",\"type\":\"BoxAnnotation\"},{\"attributes\":{\"bottom\":{\"value\":0},\"fill_alpha\":{\"value\":0.5},\"fill_color\":{\"value\":\"navy\"},\"left\":{\"field\":\"left\"},\"line_color\":{\"value\":\"white\"},\"right\":{\"field\":\"right\"},\"top\":{\"field\":\"top\"}},\"id\":\"8390\",\"type\":\"Quad\"},{\"attributes\":{},\"id\":\"8364\",\"type\":\"LinearScale\"},{\"attributes\":{},\"id\":\"8461\",\"type\":\"AllLabels\"},{\"attributes\":{},\"id\":\"8362\",\"type\":\"LinearScale\"},{\"attributes\":{},\"id\":\"8379\",\"type\":\"HelpTool\"},{\"attributes\":{},\"id\":\"8463\",\"type\":\"BasicTickFormatter\"},{\"attributes\":{},\"id\":\"8367\",\"type\":\"BasicTicker\"},{\"attributes\":{\"coordinates\":null,\"group\":null},\"id\":\"8433\",\"type\":\"Title\"},{\"attributes\":{\"axis\":{\"id\":\"8366\"},\"coordinates\":null,\"grid_line_color\":\"white\",\"group\":null,\"ticker\":null},\"id\":\"8369\",\"type\":\"Grid\"},{\"attributes\":{},\"id\":\"8464\",\"type\":\"AllLabels\"},{\"attributes\":{\"bottom\":{\"value\":0},\"fill_alpha\":{\"value\":0.2},\"fill_color\":{\"value\":\"navy\"},\"hatch_alpha\":{\"value\":0.2},\"left\":{\"field\":\"left\"},\"line_alpha\":{\"value\":0.2},\"line_color\":{\"value\":\"white\"},\"right\":{\"field\":\"right\"},\"top\":{\"field\":\"top\"}},\"id\":\"8430\",\"type\":\"Quad\"},{\"attributes\":{\"axis\":{\"id\":\"8370\"},\"coordinates\":null,\"dimension\":1,\"grid_line_color\":\"white\",\"group\":null,\"ticker\":null},\"id\":\"8373\",\"type\":\"Grid\"},{\"attributes\":{},\"id\":\"8371\",\"type\":\"BasicTicker\"},{\"attributes\":{},\"id\":\"8302\",\"type\":\"ResetTool\"},{\"attributes\":{},\"id\":\"8472\",\"type\":\"BasicTickFormatter\"},{\"attributes\":{},\"id\":\"8375\",\"type\":\"WheelZoomTool\"},{\"attributes\":{},\"id\":\"8374\",\"type\":\"PanTool\"},{\"attributes\":{},\"id\":\"8473\",\"type\":\"AllLabels\"},{\"attributes\":{\"overlay\":{\"id\":\"8380\"}},\"id\":\"8376\",\"type\":\"BoxZoomTool\"},{\"attributes\":{\"bottom\":{\"value\":0},\"fill_alpha\":{\"value\":0.1},\"fill_color\":{\"value\":\"navy\"},\"hatch_alpha\":{\"value\":0.1},\"left\":{\"field\":\"left\"},\"line_alpha\":{\"value\":0.1},\"line_color\":{\"value\":\"white\"},\"right\":{\"field\":\"right\"},\"top\":{\"field\":\"top\"}},\"id\":\"8429\",\"type\":\"Quad\"},{\"attributes\":{\"toolbar\":{\"id\":\"8482\"},\"toolbar_location\":\"above\"},\"id\":\"8483\",\"type\":\"ToolbarBox\"},{\"attributes\":{},\"id\":\"8377\",\"type\":\"SaveTool\"},{\"attributes\":{},\"id\":\"8378\",\"type\":\"ResetTool\"},{\"attributes\":{},\"id\":\"8475\",\"type\":\"BasicTickFormatter\"},{\"attributes\":{},\"id\":\"8465\",\"type\":\"UnionRenderers\"},{\"attributes\":{\"bottom_units\":\"screen\",\"coordinates\":null,\"fill_alpha\":0.5,\"fill_color\":\"lightgrey\",\"group\":null,\"left_units\":\"screen\",\"level\":\"overlay\",\"line_alpha\":1.0,\"line_color\":\"black\",\"line_dash\":[4,4],\"line_width\":2,\"right_units\":\"screen\",\"syncable\":false,\"top_units\":\"screen\"},\"id\":\"8380\",\"type\":\"BoxAnnotation\"},{\"attributes\":{},\"id\":\"8476\",\"type\":\"AllLabels\"},{\"attributes\":{},\"id\":\"8466\",\"type\":\"Selection\"},{\"attributes\":{\"coordinates\":null,\"data_source\":{\"id\":\"8388\"},\"glyph\":{\"id\":\"8390\"},\"group\":null,\"hover_glyph\":null,\"muted_glyph\":{\"id\":\"8392\"},\"nonselection_glyph\":{\"id\":\"8391\"},\"view\":{\"id\":\"8394\"}},\"id\":\"8393\",\"type\":\"GlyphRenderer\"},{\"attributes\":{\"bottom\":{\"value\":0},\"fill_alpha\":{\"value\":0.2},\"fill_color\":{\"value\":\"navy\"},\"hatch_alpha\":{\"value\":0.2},\"left\":{\"field\":\"left\"},\"line_alpha\":{\"value\":0.2},\"line_color\":{\"value\":\"white\"},\"right\":{\"field\":\"right\"},\"top\":{\"field\":\"top\"}},\"id\":\"8392\",\"type\":\"Quad\"},{\"attributes\":{\"overlay\":{\"id\":\"8418\"}},\"id\":\"8414\",\"type\":\"BoxZoomTool\"},{\"attributes\":{},\"id\":\"8405\",\"type\":\"BasicTicker\"},{\"attributes\":{\"source\":{\"id\":\"8388\"}},\"id\":\"8394\",\"type\":\"CDSView\"},{\"attributes\":{},\"id\":\"8416\",\"type\":\"ResetTool\"},{\"attributes\":{},\"id\":\"8477\",\"type\":\"UnionRenderers\"},{\"attributes\":{},\"id\":\"8478\",\"type\":\"Selection\"},{\"attributes\":{\"axis\":{\"id\":\"8404\"},\"coordinates\":null,\"grid_line_color\":\"white\",\"group\":null,\"ticker\":null},\"id\":\"8407\",\"type\":\"Grid\"},{\"attributes\":{\"toolbars\":[{\"id\":\"8305\"},{\"id\":\"8343\"},{\"id\":\"8381\"},{\"id\":\"8419\"}],\"tools\":[{\"id\":\"8298\"},{\"id\":\"8299\"},{\"id\":\"8300\"},{\"id\":\"8301\"},{\"id\":\"8302\"},{\"id\":\"8303\"},{\"id\":\"8336\"},{\"id\":\"8337\"},{\"id\":\"8338\"},{\"id\":\"8339\"},{\"id\":\"8340\"},{\"id\":\"8341\"},{\"id\":\"8374\"},{\"id\":\"8375\"},{\"id\":\"8376\"},{\"id\":\"8377\"},{\"id\":\"8378\"},{\"id\":\"8379\"},{\"id\":\"8412\"},{\"id\":\"8413\"},{\"id\":\"8414\"},{\"id\":\"8415\"},{\"id\":\"8416\"},{\"id\":\"8417\"}]},\"id\":\"8482\",\"type\":\"ProxyToolbar\"},{\"attributes\":{\"axis\":{\"id\":\"8408\"},\"coordinates\":null,\"dimension\":1,\"grid_line_color\":\"white\",\"group\":null,\"ticker\":null},\"id\":\"8411\",\"type\":\"Grid\"},{\"attributes\":{},\"id\":\"8409\",\"type\":\"BasicTicker\"},{\"attributes\":{\"coordinates\":null,\"data_source\":{\"id\":\"8426\"},\"glyph\":{\"id\":\"8428\"},\"group\":null,\"hover_glyph\":null,\"muted_glyph\":{\"id\":\"8430\"},\"nonselection_glyph\":{\"id\":\"8429\"},\"view\":{\"id\":\"8432\"}},\"id\":\"8431\",\"type\":\"GlyphRenderer\"},{\"attributes\":{},\"id\":\"8412\",\"type\":\"PanTool\"},{\"attributes\":{\"coordinates\":null,\"group\":null},\"id\":\"8445\",\"type\":\"Title\"},{\"attributes\":{},\"id\":\"8402\",\"type\":\"LinearScale\"},{\"attributes\":{},\"id\":\"8299\",\"type\":\"WheelZoomTool\"},{\"attributes\":{\"bottom\":{\"value\":0},\"fill_alpha\":{\"value\":0.5},\"fill_color\":{\"value\":\"navy\"},\"left\":{\"field\":\"left\"},\"line_color\":{\"value\":\"white\"},\"right\":{\"field\":\"right\"},\"top\":{\"field\":\"top\"}},\"id\":\"8428\",\"type\":\"Quad\"},{\"attributes\":{\"children\":[[{\"id\":\"8281\"},0,0],[{\"id\":\"8319\"},0,1],[{\"id\":\"8357\"},0,2],[{\"id\":\"8395\"},0,3]]},\"id\":\"8481\",\"type\":\"GridBox\"},{\"attributes\":{},\"id\":\"8400\",\"type\":\"LinearScale\"},{\"attributes\":{\"source\":{\"id\":\"8312\"}},\"id\":\"8318\",\"type\":\"CDSView\"},{\"attributes\":{\"bottom\":{\"value\":0},\"fill_alpha\":{\"value\":0.2},\"fill_color\":{\"value\":\"navy\"},\"hatch_alpha\":{\"value\":0.2},\"left\":{\"field\":\"left\"},\"line_alpha\":{\"value\":0.2},\"line_color\":{\"value\":\"white\"},\"right\":{\"field\":\"right\"},\"top\":{\"field\":\"top\"}},\"id\":\"8316\",\"type\":\"Quad\"},{\"attributes\":{\"below\":[{\"id\":\"8328\"}],\"center\":[{\"id\":\"8331\"},{\"id\":\"8335\"}],\"height\":250,\"left\":[{\"id\":\"8332\"}],\"renderers\":[{\"id\":\"8355\"}],\"title\":{\"id\":\"8445\"},\"toolbar\":{\"id\":\"8343\"},\"toolbar_location\":null,\"width\":250,\"x_range\":{\"id\":\"8320\"},\"x_scale\":{\"id\":\"8324\"},\"y_range\":{\"id\":\"8322\"},\"y_scale\":{\"id\":\"8326\"}},\"id\":\"8319\",\"subtype\":\"Figure\",\"type\":\"Plot\"},{\"attributes\":{},\"id\":\"8324\",\"type\":\"LinearScale\"},{\"attributes\":{},\"id\":\"8320\",\"type\":\"DataRange1d\"},{\"attributes\":{},\"id\":\"8396\",\"type\":\"DataRange1d\"},{\"attributes\":{\"axis_label\":\"GPUUtilization-nodeid:algo-1_total\",\"coordinates\":null,\"formatter\":{\"id\":\"8475\"},\"group\":null,\"major_label_policy\":{\"id\":\"8476\"},\"ticker\":{\"id\":\"8405\"}},\"id\":\"8404\",\"type\":\"LinearAxis\"},{\"attributes\":{},\"id\":\"8440\",\"type\":\"AllLabels\"},{\"attributes\":{\"bottom\":{\"value\":0},\"fill_alpha\":{\"value\":0.1},\"fill_color\":{\"value\":\"navy\"},\"hatch_alpha\":{\"value\":0.1},\"left\":{\"field\":\"left\"},\"line_alpha\":{\"value\":0.1},\"line_color\":{\"value\":\"white\"},\"right\":{\"field\":\"right\"},\"top\":{\"field\":\"top\"}},\"id\":\"8315\",\"type\":\"Quad\"},{\"attributes\":{\"axis_label\":\"Occurences\",\"coordinates\":null,\"formatter\":{\"id\":\"8472\"},\"group\":null,\"major_label_policy\":{\"id\":\"8473\"},\"ticker\":{\"id\":\"8409\"}},\"id\":\"8408\",\"type\":\"LinearAxis\"},{\"attributes\":{\"start\":0},\"id\":\"8398\",\"type\":\"DataRange1d\"},{\"attributes\":{\"source\":{\"id\":\"8426\"}},\"id\":\"8432\",\"type\":\"CDSView\"},{\"attributes\":{},\"id\":\"8340\",\"type\":\"ResetTool\"},{\"attributes\":{\"coordinates\":null,\"data_source\":{\"id\":\"8312\"},\"glyph\":{\"id\":\"8314\"},\"group\":null,\"hover_glyph\":null,\"muted_glyph\":{\"id\":\"8316\"},\"nonselection_glyph\":{\"id\":\"8315\"},\"view\":{\"id\":\"8318\"}},\"id\":\"8317\",\"type\":\"GlyphRenderer\"},{\"attributes\":{},\"id\":\"8439\",\"type\":\"BasicTickFormatter\"},{\"attributes\":{\"tools\":[{\"id\":\"8412\"},{\"id\":\"8413\"},{\"id\":\"8414\"},{\"id\":\"8415\"},{\"id\":\"8416\"},{\"id\":\"8417\"}]},\"id\":\"8419\",\"type\":\"Toolbar\"},{\"attributes\":{\"tools\":[{\"id\":\"8374\"},{\"id\":\"8375\"},{\"id\":\"8376\"},{\"id\":\"8377\"},{\"id\":\"8378\"},{\"id\":\"8379\"}]},\"id\":\"8381\",\"type\":\"Toolbar\"},{\"attributes\":{\"data\":{\"left\":[0,2,4,6,8,10,12,14,16,18,20,22,24,26,28,30,32,34,36,38,40,42,44,46,48,50,52,54,56,58,60,62,64,66,68,70,72,74,76,78,80,82,84,86,88,90,92,94,96],\"right\":[2,4,6,8,10,12,14,16,18,20,22,24,26,28,30,32,34,36,38,40,42,44,46,48,50,52,54,56,58,60,62,64,66,68,70,72,74,76,78,80,82,84,86,88,90,92,94,96,98],\"top\":[829,1,0,0,0,0,0,0,0,1,1,0,0,0,0,0,0,0,0,0,0,0,1,0,0,0,2,1,1,3,1,0,3,0,0,0,0,0,0,0,0,0,0,0,0,0,0,0,0]},\"selected\":{\"id\":\"8454\"},\"selection_policy\":{\"id\":\"8453\"}},\"id\":\"8350\",\"type\":\"ColumnDataSource\"},{\"attributes\":{},\"id\":\"8339\",\"type\":\"SaveTool\"},{\"attributes\":{},\"id\":\"8437\",\"type\":\"AllLabels\"},{\"attributes\":{\"below\":[{\"id\":\"8404\"}],\"center\":[{\"id\":\"8407\"},{\"id\":\"8411\"}],\"height\":250,\"left\":[{\"id\":\"8408\"}],\"renderers\":[{\"id\":\"8431\"}],\"title\":{\"id\":\"8469\"},\"toolbar\":{\"id\":\"8419\"},\"toolbar_location\":null,\"width\":250,\"x_range\":{\"id\":\"8396\"},\"x_scale\":{\"id\":\"8400\"},\"y_range\":{\"id\":\"8398\"},\"y_scale\":{\"id\":\"8402\"}},\"id\":\"8395\",\"subtype\":\"Figure\",\"type\":\"Plot\"},{\"attributes\":{\"below\":[{\"id\":\"8290\"}],\"center\":[{\"id\":\"8293\"},{\"id\":\"8297\"}],\"height\":250,\"left\":[{\"id\":\"8294\"}],\"renderers\":[{\"id\":\"8317\"}],\"title\":{\"id\":\"8433\"},\"toolbar\":{\"id\":\"8305\"},\"toolbar_location\":null,\"width\":250,\"x_range\":{\"id\":\"8282\"},\"x_scale\":{\"id\":\"8286\"},\"y_range\":{\"id\":\"8284\"},\"y_scale\":{\"id\":\"8288\"}},\"id\":\"8281\",\"subtype\":\"Figure\",\"type\":\"Plot\"},{\"attributes\":{\"overlay\":{\"id\":\"8304\"}},\"id\":\"8300\",\"type\":\"BoxZoomTool\"},{\"attributes\":{},\"id\":\"8415\",\"type\":\"SaveTool\"},{\"attributes\":{\"start\":0},\"id\":\"8322\",\"type\":\"DataRange1d\"},{\"attributes\":{},\"id\":\"8413\",\"type\":\"WheelZoomTool\"},{\"attributes\":{},\"id\":\"8282\",\"type\":\"DataRange1d\"},{\"attributes\":{\"coordinates\":null,\"group\":null},\"id\":\"8469\",\"type\":\"Title\"},{\"attributes\":{\"bottom\":{\"value\":0},\"fill_alpha\":{\"value\":0.5},\"fill_color\":{\"value\":\"navy\"},\"left\":{\"field\":\"left\"},\"line_color\":{\"value\":\"white\"},\"right\":{\"field\":\"right\"},\"top\":{\"field\":\"top\"}},\"id\":\"8314\",\"type\":\"Quad\"},{\"attributes\":{},\"id\":\"8448\",\"type\":\"BasicTickFormatter\"},{\"attributes\":{},\"id\":\"8441\",\"type\":\"UnionRenderers\"},{\"attributes\":{\"start\":0},\"id\":\"8284\",\"type\":\"DataRange1d\"},{\"attributes\":{},\"id\":\"8449\",\"type\":\"AllLabels\"},{\"attributes\":{},\"id\":\"8436\",\"type\":\"BasicTickFormatter\"},{\"attributes\":{\"data\":{\"left\":[0,2,4,6,8,10,12,14,16,18,20,22,24,26,28,30,32,34,36,38,40,42,44,46,48,50,52,54,56,58,60,62,64,66,68,70,72,74,76,78,80,82,84,86,88,90,92,94,96],\"right\":[2,4,6,8,10,12,14,16,18,20,22,24,26,28,30,32,34,36,38,40,42,44,46,48,50,52,54,56,58,60,62,64,66,68,70,72,74,76,78,80,82,84,86,88,90,92,94,96,98],\"top\":[823,6,1,0,0,0,0,0,0,0,0,0,0,0,0,1,1,0,0,0,0,0,0,0,0,0,0,0,0,0,0,0,0,0,0,0,1,0,0,0,0,0,0,0,0,0,0,2,7]},\"selected\":{\"id\":\"8478\"},\"selection_policy\":{\"id\":\"8477\"}},\"id\":\"8426\",\"type\":\"ColumnDataSource\"},{\"attributes\":{\"axis_label\":\"CPUUtilization-nodeid:algo-1_total\",\"coordinates\":null,\"formatter\":{\"id\":\"8439\"},\"group\":null,\"major_label_policy\":{\"id\":\"8440\"},\"ticker\":{\"id\":\"8291\"}},\"id\":\"8290\",\"type\":\"LinearAxis\"},{\"attributes\":{\"bottom\":{\"value\":0},\"fill_alpha\":{\"value\":0.1},\"fill_color\":{\"value\":\"navy\"},\"hatch_alpha\":{\"value\":0.1},\"left\":{\"field\":\"left\"},\"line_alpha\":{\"value\":0.1},\"line_color\":{\"value\":\"white\"},\"right\":{\"field\":\"right\"},\"top\":{\"field\":\"top\"}},\"id\":\"8391\",\"type\":\"Quad\"},{\"attributes\":{},\"id\":\"8288\",\"type\":\"LinearScale\"},{\"attributes\":{},\"id\":\"8451\",\"type\":\"BasicTickFormatter\"},{\"attributes\":{},\"id\":\"8286\",\"type\":\"LinearScale\"},{\"attributes\":{},\"id\":\"8291\",\"type\":\"BasicTicker\"},{\"attributes\":{\"axis\":{\"id\":\"8290\"},\"coordinates\":null,\"grid_line_color\":\"white\",\"group\":null,\"ticker\":null},\"id\":\"8293\",\"type\":\"Grid\"}],\"root_ids\":[\"8484\"]},\"title\":\"Bokeh Application\",\"version\":\"2.4.3\"}};\n  const render_items = [{\"docid\":\"c31828e4-51f7-40a8-b635-c6c07f33260c\",\"notebook_comms_target\":\"8989\",\"root_ids\":[\"8484\"],\"roots\":{\"8484\":\"dc734d1e-dfc2-49f2-9cd7-7074b29f7d90\"}}];\n  root.Bokeh.embed.embed_items_notebook(docs_json, render_items);\n  }\n  if (root.Bokeh !== undefined) {\n    embed_document(root);\n  } else {\n    let attempts = 0;\n    const timer = setInterval(function(root) {\n      if (root.Bokeh !== undefined) {\n        clearInterval(timer);\n        embed_document(root);\n      } else {\n        attempts++;\n        if (attempts > 100) {\n          clearInterval(timer);\n          console.log(\"Bokeh: ERROR: Unable to run BokehJS code because BokehJS library is missing\");\n        }\n      }\n    }, 10, root)\n  }\n})(window);",
      "application/vnd.bokehjs_exec.v0+json": ""
     },
     "metadata": {
      "application/vnd.bokehjs_exec.v0+json": {
       "id": "8484"
      }
     },
     "output_type": "display_data"
    },
    {
     "name": "stdout",
     "output_type": "stream",
     "text": [
      "filtered_dimensions:{'CPUUtilization-nodeid:algo-1', 'GPUMemoryUtilization-nodeid:algo-1', 'I/OWaitPercentage-nodeid:algo-1', 'GPUUtilization-nodeid:algo-1'}\n"
     ]
    }
   ],
   "source": [
    "from smdebug.profiler.analysis.notebook_utils.metrics_histogram import MetricsHistogram\n",
    "\n",
    "metrics_histogram = MetricsHistogram(system_metrics_reader)\n",
    "metrics_histogram.plot(\n",
    "    starttime=0, \n",
    "    endtime=system_metrics_reader.get_timestamp_of_latest_available_file(), \n",
    "    select_dimensions=[\"CPU\", \"GPU\", \"I/O\"], # optional\n",
    "    select_events=[\"total\"]                  # optional\n",
    ")"
   ]
  },
  {
   "cell_type": "code",
   "execution_count": 194,
   "metadata": {},
   "outputs": [
    {
     "name": "stdout",
     "output_type": "stream",
     "text": [
      "You will find the profiler report in s3://sagemaker-us-east-1-941656036254/pytorch-sm-profiling-1-2022-06-12-05-14-59-451/rule-output\n"
     ]
    }
   ],
   "source": [
    "#rule_output_path = estimator.output_path + estimator.latest_training_job.job_name + \"/rule-output\"\n",
    "rule_output_path = f\"s3://{bucket}/{training_job_name}/rule-output\"\n",
    "print(f\"You will find the profiler report in {rule_output_path}\")"
   ]
  },
  {
   "cell_type": "code",
   "execution_count": null,
   "metadata": {},
   "outputs": [],
   "source": []
  }
 ],
 "metadata": {
  "interpreter": {
   "hash": "02fb69b38420c3d4e00e3a2af627e83f052bc85ba6fe46654fe57240b48dcaee"
  },
  "kernelspec": {
   "display_name": "Python 3.9.12 ('sagemaker2')",
   "language": "python",
   "name": "python3"
  },
  "language_info": {
   "codemirror_mode": {
    "name": "ipython",
    "version": 3
   },
   "file_extension": ".py",
   "mimetype": "text/x-python",
   "name": "python",
   "nbconvert_exporter": "python",
   "pygments_lexer": "ipython3",
   "version": "3.9.12"
  }
 },
 "nbformat": 4,
 "nbformat_minor": 4
}
