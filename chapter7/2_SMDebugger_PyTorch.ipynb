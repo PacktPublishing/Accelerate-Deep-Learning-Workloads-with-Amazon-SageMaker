{
 "cells": [
  {
   "cell_type": "markdown",
   "metadata": {},
   "source": [
    "# Initial setup"
   ]
  },
  {
   "cell_type": "code",
   "execution_count": 30,
   "metadata": {},
   "outputs": [
    {
     "name": "stdout",
     "output_type": "stream",
     "text": [
      "Bucket:\n",
      "sagemaker-us-east-1-941656036254\n"
     ]
    }
   ],
   "source": [
    "import sagemaker\n",
    "from sagemaker import get_execution_role\n",
    "\n",
    "sagemaker_session = sagemaker.Session()\n",
    "role = \"arn:aws:iam::941656036254:role/service-role/AmazonSageMaker-ExecutionRole-20210904T193230\"\n",
    "\n",
    "bucket = sagemaker_session.default_bucket()\n",
    "prefix = 'sagemaker/sm-modelparallel-distribution-options'\n",
    "print('Bucket:\\n{}'.format(bucket))"
   ]
  },
  {
   "cell_type": "code",
   "execution_count": null,
   "metadata": {},
   "outputs": [],
   "source": [
    "sagemaker.__version__   "
   ]
  },
  {
   "cell_type": "code",
   "execution_count": 31,
   "metadata": {},
   "outputs": [],
   "source": [
    "data_url = \"s3://sagemaker-us-east-1-941656036254/hymenoptera_data\""
   ]
  },
  {
   "cell_type": "code",
   "execution_count": null,
   "metadata": {},
   "outputs": [],
   "source": [
    "bucket"
   ]
  },
  {
   "cell_type": "markdown",
   "metadata": {},
   "source": [
    "## Train Script\n",
    "\n"
   ]
  },
  {
   "cell_type": "code",
   "execution_count": null,
   "metadata": {},
   "outputs": [],
   "source": [
    "! pygmentize 1_sources/train_resnet.py"
   ]
  },
  {
   "cell_type": "markdown",
   "metadata": {},
   "source": [
    "## Debugger Config"
   ]
  },
  {
   "cell_type": "code",
   "execution_count": 62,
   "metadata": {},
   "outputs": [],
   "source": [
    "from sagemaker.pytorch import PyTorch\n",
    "from sagemaker.debugger import (\n",
    "    Rule,\n",
    "    DebuggerHookConfig,\n",
    "    TensorBoardOutputConfig,\n",
    "    CollectionConfig,\n",
    "    rule_configs,\n",
    "    ProfilerRule\n",
    ")\n",
    "\n",
    "rules = [\n",
    "    Rule.sagemaker(rule_configs.vanishing_gradient()),\n",
    "    Rule.sagemaker(rule_configs.overfit()),\n",
    "    Rule.sagemaker(rule_configs.overtraining()),\n",
    "    Rule.sagemaker(rule_configs.poor_weight_initialization()),\n",
    "    ProfilerRule.sagemaker(rule_configs.ProfilerReport())\n",
    "\n",
    "hook_config = DebuggerHookConfig(\n",
    "    hook_parameters={\"train.save_interval\": \"2\", \"eval.save_interval\": \"1\"},\n",
    "    #collection_configs=[CollectionConfig(\n",
    "    #    name=\"custom_collection\",\n",
    "    #    parameters={\n",
    "    #        \"include_regex\": \".*weight|.*bias|.*CrossEntropyLoss\",\n",
    "    #        \"save_interval\": \"1\",\n",
    "    #    }\n",
    "    #)]\n",
    ")"
   ]
  },
  {
   "cell_type": "markdown",
   "metadata": {},
   "source": [
    "# Remote Mode"
   ]
  },
  {
   "cell_type": "code",
   "execution_count": 83,
   "metadata": {},
   "outputs": [],
   "source": [
    "\n",
    "from sagemaker.pytorch import PyTorch\n",
    "\n",
    "instance_type = 'ml.p2.xlarge'\n",
    "instance_count = 1\n",
    "job_name = \"pytorch-smdebug-debug-profile-6\"\n",
    "\n",
    "estimator = PyTorch(\n",
    "          entry_point=\"train_resnet_sm.py\", # Pick your train script\n",
    "          source_dir='2_sources',\n",
    "          role=role,\n",
    "          instance_type=instance_type,\n",
    "          sagemaker_session=sagemaker_session,\n",
    "          image_uri=\"763104351884.dkr.ecr.us-east-1.amazonaws.com/pytorch-training:1.10.2-gpu-py38-cu113-ubuntu20.04-sagemaker\",\n",
    "          instance_count=instance_count,\n",
    "          hyperparameters={\n",
    "              \"batch-size\":64,\n",
    "              \"num-epochs\":5,\n",
    "              \"input-size\" : 224,\n",
    "              \"num-data-workers\" : 8,\n",
    "              \"feature-extract\":False,\n",
    "          },\n",
    "          disable_profiler=False,\n",
    "          rules=rules,\n",
    "          debugger_hook_config=hook_config,\n",
    "          base_job_name=job_name,\n",
    "      )"
   ]
  },
  {
   "cell_type": "code",
   "execution_count": 84,
   "metadata": {},
   "outputs": [
    {
     "name": "stdout",
     "output_type": "stream",
     "text": [
      "2022-06-12 01:21:28 Starting - Starting the training job...\n",
      "2022-06-12 01:21:58 Starting - Preparing the instances for trainingVanishingGradient: InProgress\n",
      "Overfit: InProgress\n",
      "Overtraining: InProgress\n",
      "PoorWeightInitialization: InProgress\n",
      "ProfilerReport: InProgress\n",
      ".........\n",
      "2022-06-12 01:23:21 Downloading - Downloading input data...\n",
      "2022-06-12 01:23:59 Training - Downloading the training image.................................\n",
      "2022-06-12 01:29:34 Training - Training image download completed. Training in progress.bash: cannot set terminal process group (-1): Inappropriate ioctl for device\n",
      "bash: no job control in this shell\n",
      "2022-06-12 01:29:26,972 sagemaker-training-toolkit INFO     Imported framework sagemaker_pytorch_container.training\n",
      "2022-06-12 01:29:26,998 sagemaker_pytorch_container.training INFO     Block until all host DNS lookups succeed.\n",
      "2022-06-12 01:29:27,006 sagemaker_pytorch_container.training INFO     Invoking user training script.\n",
      "2022-06-12 01:29:27,622 sagemaker-training-toolkit INFO     Invoking user script\n",
      "Training Env:\n",
      "{\n",
      "    \"additional_framework_parameters\": {},\n",
      "    \"channel_input_dirs\": {\n",
      "        \"train\": \"/opt/ml/input/data/train\",\n",
      "        \"val\": \"/opt/ml/input/data/val\"\n",
      "    },\n",
      "    \"current_host\": \"algo-1\",\n",
      "    \"framework_module\": \"sagemaker_pytorch_container.training:main\",\n",
      "    \"hosts\": [\n",
      "        \"algo-1\"\n",
      "    ],\n",
      "    \"hyperparameters\": {\n",
      "        \"batch-size\": 64,\n",
      "        \"feature-extract\": false,\n",
      "        \"input-size\": 224,\n",
      "        \"num-data-workers\": 8,\n",
      "        \"num-epochs\": 5\n",
      "    },\n",
      "    \"input_config_dir\": \"/opt/ml/input/config\",\n",
      "    \"input_data_config\": {\n",
      "        \"train\": {\n",
      "            \"TrainingInputMode\": \"File\",\n",
      "            \"S3DistributionType\": \"FullyReplicated\",\n",
      "            \"RecordWrapperType\": \"None\"\n",
      "        },\n",
      "        \"val\": {\n",
      "            \"TrainingInputMode\": \"File\",\n",
      "            \"S3DistributionType\": \"FullyReplicated\",\n",
      "            \"RecordWrapperType\": \"None\"\n",
      "        }\n",
      "    },\n",
      "    \"input_dir\": \"/opt/ml/input\",\n",
      "    \"is_master\": true,\n",
      "    \"job_name\": \"pytorch-smdebug-debug-profile-6-2022-06-12-01-21-25-803\",\n",
      "    \"log_level\": 20,\n",
      "    \"master_hostname\": \"algo-1\",\n",
      "    \"model_dir\": \"/opt/ml/model\",\n",
      "    \"module_dir\": \"s3://sagemaker-us-east-1-941656036254/pytorch-smdebug-debug-profile-6-2022-06-12-01-21-25-803/source/sourcedir.tar.gz\",\n",
      "    \"module_name\": \"train_resnet_sm\",\n",
      "    \"network_interface_name\": \"eth0\",\n",
      "    \"num_cpus\": 4,\n",
      "    \"num_gpus\": 1,\n",
      "    \"output_data_dir\": \"/opt/ml/output/data\",\n",
      "    \"output_dir\": \"/opt/ml/output\",\n",
      "    \"output_intermediate_dir\": \"/opt/ml/output/intermediate\",\n",
      "    \"resource_config\": {\n",
      "        \"current_host\": \"algo-1\",\n",
      "        \"current_instance_type\": \"ml.p2.xlarge\",\n",
      "        \"current_group_name\": \"homogeneousCluster\",\n",
      "        \"hosts\": [\n",
      "            \"algo-1\"\n",
      "        ],\n",
      "        \"instance_groups\": [\n",
      "            {\n",
      "                \"instance_group_name\": \"homogeneousCluster\",\n",
      "                \"instance_type\": \"ml.p2.xlarge\",\n",
      "                \"hosts\": [\n",
      "                    \"algo-1\"\n",
      "                ]\n",
      "            }\n",
      "        ],\n",
      "        \"network_interface_name\": \"eth0\"\n",
      "    },\n",
      "    \"user_entry_point\": \"train_resnet_sm.py\"\n",
      "}\n",
      "Environment variables:\n",
      "SM_HOSTS=[\"algo-1\"]\n",
      "SM_NETWORK_INTERFACE_NAME=eth0\n",
      "SM_HPS={\"batch-size\":64,\"feature-extract\":false,\"input-size\":224,\"num-data-workers\":8,\"num-epochs\":5}\n",
      "SM_USER_ENTRY_POINT=train_resnet_sm.py\n",
      "SM_FRAMEWORK_PARAMS={}\n",
      "SM_RESOURCE_CONFIG={\"current_group_name\":\"homogeneousCluster\",\"current_host\":\"algo-1\",\"current_instance_type\":\"ml.p2.xlarge\",\"hosts\":[\"algo-1\"],\"instance_groups\":[{\"hosts\":[\"algo-1\"],\"instance_group_name\":\"homogeneousCluster\",\"instance_type\":\"ml.p2.xlarge\"}],\"network_interface_name\":\"eth0\"}\n",
      "SM_INPUT_DATA_CONFIG={\"train\":{\"RecordWrapperType\":\"None\",\"S3DistributionType\":\"FullyReplicated\",\"TrainingInputMode\":\"File\"},\"val\":{\"RecordWrapperType\":\"None\",\"S3DistributionType\":\"FullyReplicated\",\"TrainingInputMode\":\"File\"}}\n",
      "SM_OUTPUT_DATA_DIR=/opt/ml/output/data\n",
      "SM_CHANNELS=[\"train\",\"val\"]\n",
      "SM_CURRENT_HOST=algo-1\n",
      "SM_MODULE_NAME=train_resnet_sm\n",
      "SM_LOG_LEVEL=20\n",
      "SM_FRAMEWORK_MODULE=sagemaker_pytorch_container.training:main\n",
      "SM_INPUT_DIR=/opt/ml/input\n",
      "SM_INPUT_CONFIG_DIR=/opt/ml/input/config\n",
      "SM_OUTPUT_DIR=/opt/ml/output\n",
      "SM_NUM_CPUS=4\n",
      "SM_NUM_GPUS=1\n",
      "SM_MODEL_DIR=/opt/ml/model\n",
      "SM_MODULE_DIR=s3://sagemaker-us-east-1-941656036254/pytorch-smdebug-debug-profile-6-2022-06-12-01-21-25-803/source/sourcedir.tar.gz\n",
      "SM_TRAINING_ENV={\"additional_framework_parameters\":{},\"channel_input_dirs\":{\"train\":\"/opt/ml/input/data/train\",\"val\":\"/opt/ml/input/data/val\"},\"current_host\":\"algo-1\",\"framework_module\":\"sagemaker_pytorch_container.training:main\",\"hosts\":[\"algo-1\"],\"hyperparameters\":{\"batch-size\":64,\"feature-extract\":false,\"input-size\":224,\"num-data-workers\":8,\"num-epochs\":5},\"input_config_dir\":\"/opt/ml/input/config\",\"input_data_config\":{\"train\":{\"RecordWrapperType\":\"None\",\"S3DistributionType\":\"FullyReplicated\",\"TrainingInputMode\":\"File\"},\"val\":{\"RecordWrapperType\":\"None\",\"S3DistributionType\":\"FullyReplicated\",\"TrainingInputMode\":\"File\"}},\"input_dir\":\"/opt/ml/input\",\"is_master\":true,\"job_name\":\"pytorch-smdebug-debug-profile-6-2022-06-12-01-21-25-803\",\"log_level\":20,\"master_hostname\":\"algo-1\",\"model_dir\":\"/opt/ml/model\",\"module_dir\":\"s3://sagemaker-us-east-1-941656036254/pytorch-smdebug-debug-profile-6-2022-06-12-01-21-25-803/source/sourcedir.tar.gz\",\"module_name\":\"train_resnet_sm\",\"network_interface_name\":\"eth0\",\"num_cpus\":4,\"num_gpus\":1,\"output_data_dir\":\"/opt/ml/output/data\",\"output_dir\":\"/opt/ml/output\",\"output_intermediate_dir\":\"/opt/ml/output/intermediate\",\"resource_config\":{\"current_group_name\":\"homogeneousCluster\",\"current_host\":\"algo-1\",\"current_instance_type\":\"ml.p2.xlarge\",\"hosts\":[\"algo-1\"],\"instance_groups\":[{\"hosts\":[\"algo-1\"],\"instance_group_name\":\"homogeneousCluster\",\"instance_type\":\"ml.p2.xlarge\"}],\"network_interface_name\":\"eth0\"},\"user_entry_point\":\"train_resnet_sm.py\"}\n",
      "SM_USER_ARGS=[\"--batch-size\",\"64\",\"--feature-extract\",\"False\",\"--input-size\",\"224\",\"--num-data-workers\",\"8\",\"--num-epochs\",\"5\"]\n",
      "SM_OUTPUT_INTERMEDIATE_DIR=/opt/ml/output/intermediate\n",
      "SM_CHANNEL_TRAIN=/opt/ml/input/data/train\n",
      "SM_CHANNEL_VAL=/opt/ml/input/data/val\n",
      "SM_HP_BATCH-SIZE=64\n",
      "SM_HP_FEATURE-EXTRACT=false\n",
      "SM_HP_INPUT-SIZE=224\n",
      "SM_HP_NUM-DATA-WORKERS=8\n",
      "SM_HP_NUM-EPOCHS=5\n",
      "PYTHONPATH=/opt/ml/code:/opt/conda/bin:/opt/conda/lib/python38.zip:/opt/conda/lib/python3.8:/opt/conda/lib/python3.8/lib-dynload:/opt/conda/lib/python3.8/site-packages:/opt/conda/lib/python3.8/site-packages/smdebug-1.0.13b20220524-py3.8.egg:/opt/conda/lib/python3.8/site-packages/pyinstrument-3.4.2-py3.8.egg:/opt/conda/lib/python3.8/site-packages/pyinstrument_cext-0.2.4-py3.8-linux-x86_64.egg\n",
      "Invoking script with the following command:\n",
      "/opt/conda/bin/python3.8 train_resnet_sm.py --batch-size 64 --feature-extract False --input-size 224 --num-data-workers 8 --num-epochs 5\n",
      "/opt/conda/lib/python3.8/site-packages/torchvision/io/image.py:11: UserWarning: Failed to load image Python extension: \n",
      "  warn(f\"Failed to load image Python extension: {e}\")\n",
      "[2022-06-12 01:29:32.000 algo-1:26 INFO utils.py:27] RULE_JOB_STOP_SIGNAL_FILENAME: None\n",
      "/opt/conda/lib/python3.8/site-packages/smdebug-1.0.13b20220524-py3.8.egg/smdebug/profiler/system_metrics_reader.py:63: SyntaxWarning: \"is not\" with a literal. Did you mean \"!=\"?\n",
      "/opt/conda/lib/python3.8/site-packages/smdebug-1.0.13b20220524-py3.8.egg/smdebug/profiler/system_metrics_reader.py:63: SyntaxWarning: \"is not\" with a literal. Did you mean \"!=\"?\n",
      "[2022-06-12 01:29:32.250 algo-1:26 INFO profiler_config_parser.py:111] User has disabled profiler.\n",
      "INFO:__main__:Collected hyperparameters: Namespace(batch_size=64, feature_extract=True, input_size=224, num_data_workers=8, num_epochs=5).Following args are not parsed correctly and won't be used: [].\n",
      "Device count: 1\n",
      "Downloading: \"https://download.pytorch.org/models/resnet18-f37072fd.pth\" to /root/.cache/torch/hub/checkpoints/resnet18-f37072fd.pth\n",
      "0%|          | 0.00/44.7M [00:00<?, ?B/s]\n",
      "10%|█         | 4.56M/44.7M [00:00<00:00, 47.6MB/s]\n",
      "20%|██        | 9.10M/44.7M [00:00<00:00, 39.5MB/s]\n",
      "29%|██▉       | 13.0M/44.7M [00:00<00:01, 32.7MB/s]\n",
      "37%|███▋      | 16.6M/44.7M [00:00<00:00, 34.6MB/s]\n",
      "45%|████▍     | 20.1M/44.7M [00:00<00:00, 34.2MB/s]\n",
      "55%|█████▍    | 24.5M/44.7M [00:00<00:00, 37.9MB/s]\n",
      "66%|██████▌   | 29.4M/44.7M [00:00<00:00, 42.0MB/s]\n",
      "75%|███████▌  | 33.5M/44.7M [00:00<00:00, 41.5MB/s]\n",
      "85%|████████▌ | 38.1M/44.7M [00:01<00:00, 43.6MB/s]\n",
      "97%|█████████▋| 43.3M/44.7M [00:01<00:00, 46.8MB/s]\n",
      "100%|██████████| 44.7M/44.7M [00:01<00:00, 41.5MB/s]\n",
      "environ({'SM_INPUT_DIR': '/opt/ml/input', 'PYTHONIOENCODING': 'UTF-8', 'NV_CUDA_COMPAT_PACKAGE': 'cuda-compat-11-3', 'NCCL_DEBUG': 'WARN', 'HOROVOD_VERSION': '0.21.3', 'NCCL_SOCKET_IFNAME': 'eth0', 'SM_USER_ENTRY_POINT': 'train_resnet_sm.py', 'SM_RESOURCE_CONFIG': '{\"current_group_name\":\"homogeneousCluster\",\"current_host\":\"algo-1\",\"current_instance_type\":\"ml.p2.xlarge\",\"hosts\":[\"algo-1\"],\"instance_groups\":[{\"hosts\":[\"algo-1\"],\"instance_group_name\":\"homogeneousCluster\",\"instance_type\":\"ml.p2.xlarge\"}],\"network_interface_name\":\"eth0\"}', 'EFA_VERSION': '1.15.2', 'MASTER_ADDR': 'algo-1', 'SM_MODULE_NAME': 'train_resnet_sm', 'HOSTNAME': 'ip-10-0-152-47.ec2.internal', 'CURRENT_HOST': 'algo-1', 'SHLVL': '1', 'LD_LIBRARY_PATH': '/opt/conda/lib/python3.8/site-packages/smdistributed/dataparallel/lib:/opt/amazon/openmpi/lib/:/opt/amazon/efa/lib/:/opt/conda/lib:/usr/local/lib:/usr/local/nvidia/lib:/usr/local/nvidia/lib64', 'HOME': '/root', 'MASTER_PORT': '7777', 'SM_OUTPUT_DATA_DIR': '/opt/ml/output/data', 'TORCH_NVCC_FLAGS': '-Xfatbin -compress-all', 'SM_INPUT_DATA_CONFIG': '{\"train\":{\"RecordWrapperType\":\"None\",\"S3DistributionType\":\"FullyReplicated\",\"TrainingInputMode\":\"File\"},\"val\":{\"RecordWrapperType\":\"None\",\"S3DistributionType\":\"FullyReplicated\",\"TrainingInputMode\":\"File\"}}', 'PYTHONUNBUFFERED': '1', 'TRAINING_JOB_ARN': 'arn:aws:sagemaker:us-east-1:941656036254:training-job/pytorch-smdebug-debug-profile-6-2022-06-12-01-21-25-803', 'SM_FRAMEWORK_PARAMS': '{}', 'SM_CURRENT_HOST': 'algo-1', 'SM_MODEL_DIR': '/opt/ml/model', 'BRANCH_OFI': '1.2.0-aws', 'AWS_CONTAINER_CREDENTIALS_RELATIVE_URI': '/v2/credentials/proxy-f90616b3db703be72aac24c0e9d8abecbb0017e6a096207e8bf346a8c32aebb7-customer', 'SM_FRAMEWORK_MODULE': 'sagemaker_pytorch_container.training:main', 'SM_NUM_CPUS': '4', 'CUDA_VERSION': '11.3.1', 'TORCH_CUDA_ARCH_LIST': '3.7 5.0 7.0+PTX 8.0', 'SM_NUM_GPUS': '1', 'PYTHONDONTWRITEBYTECODE': '1', 'SM_MODULE_DIR': 's3://sagemaker-us-east-1-941656036254/pytorch-smdebug-debug-profile-6-2022-06-12-01-21-25-803/source/sourcedir.tar.gz', 'NVIDIA_REQUIRE_CUDA': 'cuda>=11.3 brand=tesla,driver>=418,driver<419 driver>=450', 'RDMAV_FORK_SAFE': '1', '_': '/opt/conda/bin/train', 'NVIDIA_DRIVER_CAPABILITIES': 'compute,utility,compat32,graphics,video', 'SM_LOG_LEVEL': '20', 'NV_CUDA_CUDART_VERSION': '11.3.109-1', 'SM_OUTPUT_DIR': '/opt/ml/output', 'SM_TRAINING_ENV': '{\"additional_framework_parameters\":{},\"channel_input_dirs\":{\"train\":\"/opt/ml/input/data/train\",\"val\":\"/opt/ml/input/data/val\"},\"current_host\":\"algo-1\",\"framework_module\":\"sagemaker_pytorch_container.training:main\",\"hosts\":[\"algo-1\"],\"hyperparameters\":{\"batch-size\":64,\"feature-extract\":false,\"input-size\":224,\"num-data-workers\":8,\"num-epochs\":5},\"input_config_dir\":\"/opt/ml/input/config\",\"input_data_config\":{\"train\":{\"RecordWrapperType\":\"None\",\"S3DistributionType\":\"FullyReplicated\",\"TrainingInputMode\":\"File\"},\"val\":{\"RecordWrapperType\":\"None\",\"S3DistributionType\":\"FullyReplicated\",\"TrainingInputMode\":\"File\"}},\"input_dir\":\"/opt/ml/input\",\"is_master\":true,\"job_name\":\"pytorch-smdebug-debug-profile-6-2022-06-12-01-21-25-803\",\"log_level\":20,\"master_hostname\":\"algo-1\",\"model_dir\":\"/opt/ml/model\",\"module_dir\":\"s3://sagemaker-us-east-1-941656036254/pytorch-smdebug-debug-profile-6-2022-06-12-01-21-25-803/source/sourcedir.tar.gz\",\"module_name\":\"train_resnet_sm\",\"network_interface_name\":\"eth0\",\"num_cpus\":4,\"num_gpus\":1,\"output_data_dir\":\"/opt/ml/output/data\",\"output_dir\":\"/opt/ml/output\",\"output_intermediate_dir\":\"/opt/ml/output/intermediate\",\"resource_config\":{\"current_group_name\":\"homogeneousCluster\",\"current_host\":\"algo-1\",\"current_instance_type\":\"ml.p2.xlarge\",\"hosts\":[\"algo-1\"],\"instance_groups\":[{\"hosts\":[\"algo-1\"],\"instance_group_name\":\"homogeneousCluster\",\"instance_type\":\"ml.p2.xlarge\"}],\"network_interface_name\":\"eth0\"},\"user_entry_point\":\"train_resnet_sm.py\"}', 'PATH': '/opt/amazon/openmpi/bin:/opt/conda/bin:/usr/local/nvidia/bin:/usr/local/cuda/bin:/usr/local/sbin:/usr/local/bin:/usr/sbin:/usr/bin:/sbin:/bin', 'NVARCH': 'x86_64', 'DMLC_INTERFACE': 'eth0', 'LD_PRELOAD': '/libchangehostname.so', 'LANG': 'C.UTF-8', 'SM_HPS': '{\"batch-size\":64,\"feature-extract\":false,\"input-size\":224,\"num-data-workers\":8,\"num-epochs\":5}', 'NCCL_IB_DISABLE': '1', 'CUDNN_VERSION': '8.2.0.53', 'SM_CHANNELS': '[\"train\",\"val\"]', 'SM_INPUT_CONFIG_DIR': '/opt/ml/input/config', 'AWS_REGION': 'us-east-1', 'DLC_CONTAINER_TYPE': 'training', 'SAGEMAKER_JOB_NAME': 'pytorch-smdebug-debug-profile-6-2022-06-12-01-21-25-803', 'SM_OUTPUT_INTERMEDIATE_DIR': '/opt/ml/output/intermediate', 'SM_CHANNEL_TRAIN': '/opt/ml/input/data/train', 'SM_CHANNEL_VAL': '/opt/ml/input/data/val', 'PWD': '/opt/ml/code', 'TRAINING_JOB_NAME': 'pytorch-smdebug-debug-profile-6-2022-06-12-01-21-25-803', 'LC_ALL': 'C.UTF-8', 'SAGEMAKER_TRAINING_MODULE': 'sagemaker_pytorch_container.training:main', 'OMPI_VERSION': '4.1.1', 'SM_HOSTS': '[\"algo-1\"]', 'MANUAL_BUILD': '0', 'SAGEMAKER_REGION': 'us-east-1', 'PYTHONPATH': '/opt/ml/code:/opt/conda/bin:/opt/conda/lib/python38.zip:/opt/conda/lib/python3.8:/opt/conda/lib/python3.8/lib-dynload:/opt/conda/lib/python3.8/site-packages:/opt/conda/lib/python3.8/site-packages/smdebug-1.0.13b20220524-py3.8.egg:/opt/conda/lib/python3.8/site-packages/pyinstrument-3.4.2-py3.8.egg:/opt/conda/lib/python3.8/site-packages/pyinstrument_cext-0.2.4-py3.8-linux-x86_64.egg', 'NVIDIA_VISIBLE_DEVICES': 'all', 'NCCL_VERSION': '2.10.3', 'SM_NETWORK_INTERFACE_NAME': 'eth0', 'SM_USER_ARGS': '[\"--batch-size\",\"64\",\"--feature-extract\",\"False\",\"--input-size\",\"224\",\"--num-data-workers\",\"8\",\"--num-epochs\",\"5\"]', 'CMAKE_PREFIX_PATH': '$(dirname $(which conda))/../'})\n",
      "Model is not on cuda. On_cuda is False. Trying something else\n",
      "Traceback (most recent call last):\n",
      "  File \"train_resnet_sm.py\", line 224, in <module>\n",
      "    main()\n",
      "  File \"train_resnet_sm.py\", line 184, in main\n",
      "    raise Exception(f\"Model is not on cuda. On_cuda is {on_cuda}. We're done\")\n",
      "Exception\n",
      ": Model is not on cuda. On_cuda is False. We're done\n",
      "2022-06-12 01:29:38,639 sagemaker-training-toolkit INFO     Reporting training SUCCESS\n",
      "\n",
      "2022-06-12 01:30:01 Uploading - Uploading generated training model\n",
      "2022-06-12 01:30:01 Completed - Training job completed\n",
      "VanishingGradient: InProgress\n",
      "Overfit: InProgress\n",
      "Overtraining: Error\n",
      "PoorWeightInitialization: InProgress\n",
      "ProfilerReport: NoIssuesFound\n",
      "Training seconds: 388\n",
      "Billable seconds: 388\n"
     ]
    }
   ],
   "source": [
    "estimator.fit(inputs={\"train\":f\"{data_url}/train\", \"val\":f\"{data_url}/val\"}, wait=True)"
   ]
  },
  {
   "cell_type": "code",
   "execution_count": 65,
   "metadata": {},
   "outputs": [
    {
     "name": "stdout",
     "output_type": "stream",
     "text": [
      "[2022-06-11 19:36:16.160 C02Y82MBJGH5:2535 INFO s3_trial.py:42] Loading trial debug-output at path s3://sagemaker-us-east-1-941656036254/pytorch-smdebug-debug-profile-5-2022-06-10-18-26-06-872/debug-output\n",
      "Saved these tensors: ['CrossEntropyLoss_output_0', 'gradient/ResNet_bn1.bias', 'gradient/ResNet_bn1.weight', 'gradient/ResNet_conv1.weight', 'gradient/ResNet_fc.bias', 'gradient/ResNet_fc.weight', 'gradient/ResNet_layer1.0.bn1.bias', 'gradient/ResNet_layer1.0.bn1.weight', 'gradient/ResNet_layer1.0.bn2.bias', 'gradient/ResNet_layer1.0.bn2.weight', 'gradient/ResNet_layer1.0.conv1.weight', 'gradient/ResNet_layer1.0.conv2.weight', 'gradient/ResNet_layer1.1.bn1.bias', 'gradient/ResNet_layer1.1.bn1.weight', 'gradient/ResNet_layer1.1.bn2.bias', 'gradient/ResNet_layer1.1.bn2.weight', 'gradient/ResNet_layer1.1.conv1.weight', 'gradient/ResNet_layer1.1.conv2.weight', 'gradient/ResNet_layer2.0.bn1.bias', 'gradient/ResNet_layer2.0.bn1.weight', 'gradient/ResNet_layer2.0.bn2.bias', 'gradient/ResNet_layer2.0.bn2.weight', 'gradient/ResNet_layer2.0.conv1.weight', 'gradient/ResNet_layer2.0.conv2.weight', 'gradient/ResNet_layer2.0.downsample.0.weight', 'gradient/ResNet_layer2.0.downsample.1.bias', 'gradient/ResNet_layer2.0.downsample.1.weight', 'gradient/ResNet_layer2.1.bn1.bias', 'gradient/ResNet_layer2.1.bn1.weight', 'gradient/ResNet_layer2.1.bn2.bias', 'gradient/ResNet_layer2.1.bn2.weight', 'gradient/ResNet_layer2.1.conv1.weight', 'gradient/ResNet_layer2.1.conv2.weight', 'gradient/ResNet_layer3.0.bn1.bias', 'gradient/ResNet_layer3.0.bn1.weight', 'gradient/ResNet_layer3.0.bn2.bias', 'gradient/ResNet_layer3.0.bn2.weight', 'gradient/ResNet_layer3.0.conv1.weight', 'gradient/ResNet_layer3.0.conv2.weight', 'gradient/ResNet_layer3.0.downsample.0.weight', 'gradient/ResNet_layer3.0.downsample.1.bias', 'gradient/ResNet_layer3.0.downsample.1.weight', 'gradient/ResNet_layer3.1.bn1.bias', 'gradient/ResNet_layer3.1.bn1.weight', 'gradient/ResNet_layer3.1.bn2.bias', 'gradient/ResNet_layer3.1.bn2.weight', 'gradient/ResNet_layer3.1.conv1.weight', 'gradient/ResNet_layer3.1.conv2.weight', 'gradient/ResNet_layer4.0.bn1.bias', 'gradient/ResNet_layer4.0.bn1.weight', 'gradient/ResNet_layer4.0.bn2.bias', 'gradient/ResNet_layer4.0.bn2.weight', 'gradient/ResNet_layer4.0.conv1.weight', 'gradient/ResNet_layer4.0.conv2.weight', 'gradient/ResNet_layer4.0.downsample.0.weight', 'gradient/ResNet_layer4.0.downsample.1.bias', 'gradient/ResNet_layer4.0.downsample.1.weight', 'gradient/ResNet_layer4.1.bn1.bias', 'gradient/ResNet_layer4.1.bn1.weight', 'gradient/ResNet_layer4.1.bn2.bias', 'gradient/ResNet_layer4.1.bn2.weight', 'gradient/ResNet_layer4.1.conv1.weight', 'gradient/ResNet_layer4.1.conv2.weight', 'layer1.0.relu_input_0', 'layer1.0.relu_input_1', 'layer1.1.relu_input_0', 'layer1.1.relu_input_1', 'layer2.0.relu_input_0', 'layer2.0.relu_input_1', 'layer2.1.relu_input_0', 'layer2.1.relu_input_1', 'layer3.0.relu_input_0', 'layer3.0.relu_input_1', 'layer3.1.relu_input_0', 'layer3.1.relu_input_1', 'layer4.0.relu_input_0', 'layer4.0.relu_input_1', 'layer4.1.relu_input_0', 'layer4.1.relu_input_1', 'relu_input_0']\n",
      "Loss values during evaluation were {0: array(0.81742215, dtype=float32), 2: array(0.69706064, dtype=float32), 3: array(0.7232791, dtype=float32), 4: array(0.66289246, dtype=float32), 6: array(0.682227, dtype=float32), 8: array(0.62792605, dtype=float32), 9: array(0.5929317, dtype=float32), 10: array(0.63491917, dtype=float32), 12: array(0.5270723, dtype=float32), 13: array(0.56027985, dtype=float32), 14: array(0.48190892, dtype=float32), 16: array(0.48609564, dtype=float32), 18: array(0.322864, dtype=float32), 19: array(0.4287655, dtype=float32), 20: array(0.35153472, dtype=float32), 22: array(0.36186042, dtype=float32), 23: array(0.33200127, dtype=float32), 24: array(0.33662832, dtype=float32)}\n"
     ]
    }
   ],
   "source": [
    "tensors_path = estimator.latest_job_debugger_artifacts_path()\n",
    "\n",
    "import smdebug.pytorch as smd\n",
    "from smdebug import trials\n",
    "trial = smd.create_trial(tensors_path)\n",
    "\n",
    "print(f\"Saved these tensors: {trial.tensor_names()}\")\n",
    "print(f\"Loss values during evaluation were {trial.tensor('CrossEntropyLoss_output_0').values()}\")\n",
    "#print(f\"{trial.tensor('relu_input_0').values()}\")\n",
    "# example of plotting values of tensors:\n",
    "#https://sagemaker-examples.readthedocs.io/en/latest/sagemaker-debugger/model_specific_realtime_analysis/autoencoder_mnist/autoencoder_mnist.html\n"
   ]
  },
  {
   "cell_type": "markdown",
   "metadata": {},
   "source": [
    "## Visualize tensors"
   ]
  },
  {
   "cell_type": "code",
   "execution_count": 66,
   "metadata": {},
   "outputs": [],
   "source": [
    "import matplotlib.pyplot as plt\n",
    "from mpl_toolkits.axes_grid1 import host_subplot\n",
    "from smdebug import modes\n",
    "\n",
    "def get_data(trial, tname, mode):\n",
    "    tensor = trial.tensor(tname)\n",
    "    steps = tensor.steps(mode=mode)\n",
    "    vals = []\n",
    "    for s in steps:\n",
    "        vals.append(tensor.value(s, mode=mode))\n",
    "    return steps, vals\n",
    "\n",
    "def plot_tensor(trial, tensor_name):\n",
    "\n",
    "    steps_train, vals_train = get_data(trial, tensor_name, mode=modes.TRAIN)\n",
    "    print(\"loaded TRAIN data\")\n",
    "    steps_eval, vals_eval = get_data(trial, tensor_name, mode=modes.EVAL)\n",
    "    print(\"loaded EVAL data\")\n",
    "\n",
    "    fig = plt.figure(figsize=(10, 7))\n",
    "    host = host_subplot(111)\n",
    "\n",
    "    par = host.twiny()\n",
    "\n",
    "    host.set_xlabel(\"Steps (TRAIN)\")\n",
    "    par.set_xlabel(\"Steps (EVAL)\")\n",
    "    host.set_ylabel(tensor_name)\n",
    "\n",
    "    (p1,) = host.plot(steps_train, vals_train, label=tensor_name)\n",
    "    print(\"completed TRAIN plot\")\n",
    "    (p2,) = par.plot(steps_eval, vals_eval, label=\"val_\" + tensor_name)\n",
    "    print(\"completed EVAL plot\")\n",
    "    leg = plt.legend()\n",
    "\n",
    "    host.xaxis.get_label().set_color(p1.get_color())\n",
    "    leg.texts[0].set_color(p1.get_color())\n",
    "\n",
    "    par.xaxis.get_label().set_color(p2.get_color())\n",
    "    leg.texts[1].set_color(p2.get_color())\n",
    "\n",
    "    plt.ylabel(tensor_name)\n",
    "\n",
    "    plt.show()"
   ]
  },
  {
   "cell_type": "code",
   "execution_count": 67,
   "metadata": {},
   "outputs": [
    {
     "name": "stdout",
     "output_type": "stream",
     "text": [
      "loaded TRAIN data\n",
      "loaded EVAL data\n",
      "completed TRAIN plot\n",
      "completed EVAL plot\n"
     ]
    },
    {
     "data": {
      "image/png": "[encoded data removed]",
      "text/plain": [
       "<Figure size 720x504 with 1 Axes>"
      ]
     },
     "metadata": {
      "needs_background": "light"
     },
     "output_type": "display_data"
    }
   ],
   "source": [
    "plot_tensor(trial, \"CrossEntropyLoss_output_0\")"
   ]
  },
  {
   "cell_type": "markdown",
   "metadata": {},
   "source": [
    "### Rules summary"
   ]
  },
  {
   "cell_type": "code",
   "execution_count": 68,
   "metadata": {},
   "outputs": [
    {
     "name": "stdout",
     "output_type": "stream",
     "text": [
      "{'RuleConfigurationName': 'PoorWeightInitialization', 'RuleEvaluationJobArn': 'arn:aws:sagemaker:us-east-1:941656036254:processing-job/pytorch-smdebug-debug-prof-poorweightinitialization-56ca289b', 'RuleEvaluationStatus': 'NoIssuesFound', 'LastModifiedTime': datetime.datetime(2022, 6, 10, 14, 36, 0, 883000, tzinfo=tzlocal())}\n",
      "{'RuleConfigurationName': 'VanishingGradient', 'RuleEvaluationJobArn': 'arn:aws:sagemaker:us-east-1:941656036254:processing-job/pytorch-smdebug-debug-prof-vanishinggradient-bc55c339', 'RuleEvaluationStatus': 'NoIssuesFound', 'LastModifiedTime': datetime.datetime(2022, 6, 10, 14, 36, 0, 883000, tzinfo=tzlocal())}\n",
      "Rule: VanishingGradient, status: NoIssuesFound\n",
      "Rule: Overfit, status: NoIssuesFound\n",
      "Rule: Overtraining, status: NoIssuesFound\n",
      "Rule: PoorWeightInitialization, status: NoIssuesFound\n",
      "Rule: ProfilerReport, status: NoIssuesFound\n"
     ]
    }
   ],
   "source": [
    "#estimator.latest_training_job.rule_job_summary()[0][\"RuleConfigurationName\"])\n",
    "#estimator.latest_training_job.rule_job_summary()[0][\"RuleEvaluationStatus\"])\n",
    "print(estimator.latest_training_job.rule_job_summary()[3])\n",
    "print(estimator.latest_training_job.rule_job_summary()[0])\n",
    "\n",
    "for  summary in estimator.latest_training_job.rule_job_summary():\n",
    "    print(f\"Rule: {summary['RuleConfigurationName']}, status: {summary['RuleEvaluationStatus']}\")"
   ]
  },
  {
   "cell_type": "markdown",
   "metadata": {},
   "source": [
    "### Reacting to rules"
   ]
  },
  {
   "cell_type": "code",
   "execution_count": 108,
   "metadata": {},
   "outputs": [],
   "source": [
    "from sagemaker.pytorch import PyTorch\n",
    "from sagemaker.debugger import (\n",
    "    Rule,\n",
    "    DebuggerHookConfig,\n",
    "    TensorBoardOutputConfig,\n",
    "    CollectionConfig,\n",
    "    rule_configs,\n",
    "    ProfilerRule\n",
    ")\n",
    "\n",
    "actions = rule_configs.ActionList(\n",
    "    rule_configs.StopTraining())\n",
    "\n",
    "\n",
    "collection_configs=[\n",
    "        CollectionConfig(\n",
    "            name=\"weights\",\n",
    "            parameters={\n",
    "                \"save_histogram\": \"True\"\n",
    "                }\n",
    "            ),\n",
    "        CollectionConfig(name=\"losses\"),\n",
    "    ]\n",
    "\n",
    "rules = [\n",
    "    Rule.sagemaker(rule_configs.vanishing_gradient(), actions=actions),\n",
    "    Rule.sagemaker(rule_configs.overfit(), actions=actions),\n",
    "    Rule.sagemaker(rule_configs.overtraining(), actions=actions),\n",
    "    Rule.sagemaker(rule_configs.poor_weight_initialization(), actions=actions),\n",
    "    ProfilerRule.sagemaker(rule_configs.ProfilerReport()) # TODO: need to review different profiler rules https://docs.aws.amazon.com/sagemaker/latest/dg/debugger-built-in-rules.html#profiler-report\n",
    "]\n",
    "\n",
    "hook_config = DebuggerHookConfig(\n",
    "    hook_parameters={\"train.save_interval\": \"2\", \"eval.save_interval\": \"1\"},\n",
    "    collection_configs=collection_configs\n",
    ")"
   ]
  },
  {
   "cell_type": "code",
   "execution_count": 127,
   "metadata": {},
   "outputs": [],
   "source": [
    "import time\n",
    "from sagemaker.debugger import (ProfilerConfig, \n",
    "                                FrameworkProfile, \n",
    "                                DetailedProfilingConfig, \n",
    "                                DataloaderProfilingConfig, \n",
    "                                PythonProfilingConfig,\n",
    "                                PythonProfiler, cProfileTimer)\n",
    "\n",
    "profiler_config=ProfilerConfig(\n",
    "    system_monitor_interval_millis=500,\n",
    "    framework_profile_params=FrameworkProfile(\n",
    "        detailed_profiling_config=DetailedProfilingConfig(\n",
    "            start_step=2, \n",
    "            num_steps=1\n",
    "        ),\n",
    "        dataloader_profiling_config=DataloaderProfilingConfig(\n",
    "            start_step=2, \n",
    "            num_steps=1\n",
    "        ),\n",
    "        python_profiling_config=PythonProfilingConfig(\n",
    "            start_step=2, \n",
    "            num_steps=1, \n",
    "            python_profiler=PythonProfiler.CPROFILE, \n",
    "            cprofile_timer=cProfileTimer.TOTAL_TIME\n",
    "        )\n",
    "    )\n",
    ")\n"
   ]
  },
  {
   "cell_type": "code",
   "execution_count": 128,
   "metadata": {},
   "outputs": [],
   "source": [
    "\n",
    "from sagemaker.pytorch import PyTorch\n",
    "\n",
    "instance_type = 'ml.p2.xlarge'\n",
    "instance_count = 1\n",
    "job_name = \"pytorch-smdebug-early-stop-8\"\n",
    "bucket = sagemaker_session.default_bucket()\n",
    "tb_debug_path = f\"s3://{bucket}/tensorboard/{job_name}\"\n",
    "\n",
    "tensorboard_output_config = TensorBoardOutputConfig(\n",
    "    s3_output_path=tb_debug_path\n",
    ")\n",
    "\n",
    "early_stop_estimator = PyTorch(\n",
    "          entry_point=\"train_resnet_sm.py\", # Pick your train script\n",
    "          source_dir='2_sources',\n",
    "          role=role,\n",
    "          instance_type=instance_type,\n",
    "          sagemaker_session=sagemaker_session,\n",
    "          image_uri=\"763104351884.dkr.ecr.us-east-1.amazonaws.com/pytorch-training:1.11.0-gpu-py38-cu113-ubuntu20.04-sagemaker\",\n",
    "          instance_count=instance_count,\n",
    "          hyperparameters={\n",
    "              \"batch-size\":64,\n",
    "              \"num-epochs\":5,\n",
    "              \"input-size\" : 224,\n",
    "              \"num-data-workers\" : 8,\n",
    "              \"feature-extract\":False,\n",
    "          },\n",
    "          disable_profiler=False,\n",
    "          profiler_config=profiler_config,\n",
    "          rules=rules,\n",
    "          debugger_hook_config=hook_config,\n",
    "          tensorboard_output_config=tensorboard_output_config,\n",
    "          base_job_name=job_name,\n",
    "      )"
   ]
  },
  {
   "cell_type": "code",
   "execution_count": 129,
   "metadata": {},
   "outputs": [
    {
     "name": "stdout",
     "output_type": "stream",
     "text": [
      "2022-06-12 03:07:18 Starting - Starting the training job...\n",
      "2022-06-12 03:07:44 Starting - Preparing the instances for trainingVanishingGradient: InProgress\n",
      "Overfit: InProgress\n",
      "Overtraining: InProgress\n",
      "PoorWeightInitialization: InProgress\n",
      "ProfilerReport: InProgress\n",
      ".........\n",
      "2022-06-12 03:09:19 Downloading - Downloading input data...\n",
      "2022-06-12 03:09:47 Training - Downloading the training image.................................\n",
      "2022-06-12 03:15:22 Training - Training image download completed. Training in progress.bash: cannot set terminal process group (-1): Inappropriate ioctl for device\n",
      "bash: no job control in this shell\n",
      "/opt/conda/lib/python3.8/site-packages/paramiko/transport.py:236: CryptographyDeprecationWarning: Blowfish has been deprecated\n",
      "  \"class\": algorithms.Blowfish,\n",
      "2022-06-12 03:15:18,531 sagemaker-training-toolkit INFO     Imported framework sagemaker_pytorch_container.training\n",
      "2022-06-12 03:15:18,555 sagemaker_pytorch_container.training INFO     Block until all host DNS lookups succeed.\n",
      "2022-06-12 03:15:18,566 sagemaker_pytorch_container.training INFO     Invoking user training script.\n",
      "2022-06-12 03:15:19,406 sagemaker-training-toolkit INFO     Invoking user script\n",
      "Training Env:\n",
      "{\n",
      "    \"additional_framework_parameters\": {},\n",
      "    \"channel_input_dirs\": {\n",
      "        \"train\": \"/opt/ml/input/data/train\",\n",
      "        \"val\": \"/opt/ml/input/data/val\"\n",
      "    },\n",
      "    \"current_host\": \"algo-1\",\n",
      "    \"framework_module\": \"sagemaker_pytorch_container.training:main\",\n",
      "    \"hosts\": [\n",
      "        \"algo-1\"\n",
      "    ],\n",
      "    \"hyperparameters\": {\n",
      "        \"batch-size\": 64,\n",
      "        \"feature-extract\": false,\n",
      "        \"input-size\": 224,\n",
      "        \"num-data-workers\": 8,\n",
      "        \"num-epochs\": 5\n",
      "    },\n",
      "    \"input_config_dir\": \"/opt/ml/input/config\",\n",
      "    \"input_data_config\": {\n",
      "        \"train\": {\n",
      "            \"TrainingInputMode\": \"File\",\n",
      "            \"S3DistributionType\": \"FullyReplicated\",\n",
      "            \"RecordWrapperType\": \"None\"\n",
      "        },\n",
      "        \"val\": {\n",
      "            \"TrainingInputMode\": \"File\",\n",
      "            \"S3DistributionType\": \"FullyReplicated\",\n",
      "            \"RecordWrapperType\": \"None\"\n",
      "        }\n",
      "    },\n",
      "    \"input_dir\": \"/opt/ml/input\",\n",
      "    \"is_master\": true,\n",
      "    \"job_name\": \"pytorch-smdebug-early-stop-8-2022-06-12-03-07-15-197\",\n",
      "    \"log_level\": 20,\n",
      "    \"master_hostname\": \"algo-1\",\n",
      "    \"model_dir\": \"/opt/ml/model\",\n",
      "    \"module_dir\": \"s3://sagemaker-us-east-1-941656036254/pytorch-smdebug-early-stop-8-2022-06-12-03-07-15-197/source/sourcedir.tar.gz\",\n",
      "    \"module_name\": \"train_resnet_sm\",\n",
      "    \"network_interface_name\": \"eth0\",\n",
      "    \"num_cpus\": 4,\n",
      "    \"num_gpus\": 1,\n",
      "    \"output_data_dir\": \"/opt/ml/output/data\",\n",
      "    \"output_dir\": \"/opt/ml/output\",\n",
      "    \"output_intermediate_dir\": \"/opt/ml/output/intermediate\",\n",
      "    \"resource_config\": {\n",
      "        \"current_host\": \"algo-1\",\n",
      "        \"current_instance_type\": \"ml.p2.xlarge\",\n",
      "        \"current_group_name\": \"homogeneousCluster\",\n",
      "        \"hosts\": [\n",
      "            \"algo-1\"\n",
      "        ],\n",
      "        \"instance_groups\": [\n",
      "            {\n",
      "                \"instance_group_name\": \"homogeneousCluster\",\n",
      "                \"instance_type\": \"ml.p2.xlarge\",\n",
      "                \"hosts\": [\n",
      "                    \"algo-1\"\n",
      "                ]\n",
      "            }\n",
      "        ],\n",
      "        \"network_interface_name\": \"eth0\"\n",
      "    },\n",
      "    \"user_entry_point\": \"train_resnet_sm.py\"\n",
      "}\n",
      "Environment variables:\n",
      "SM_HOSTS=[\"algo-1\"]\n",
      "SM_NETWORK_INTERFACE_NAME=eth0\n",
      "SM_HPS={\"batch-size\":64,\"feature-extract\":false,\"input-size\":224,\"num-data-workers\":8,\"num-epochs\":5}\n",
      "SM_USER_ENTRY_POINT=train_resnet_sm.py\n",
      "SM_FRAMEWORK_PARAMS={}\n",
      "SM_RESOURCE_CONFIG={\"current_group_name\":\"homogeneousCluster\",\"current_host\":\"algo-1\",\"current_instance_type\":\"ml.p2.xlarge\",\"hosts\":[\"algo-1\"],\"instance_groups\":[{\"hosts\":[\"algo-1\"],\"instance_group_name\":\"homogeneousCluster\",\"instance_type\":\"ml.p2.xlarge\"}],\"network_interface_name\":\"eth0\"}\n",
      "SM_INPUT_DATA_CONFIG={\"train\":{\"RecordWrapperType\":\"None\",\"S3DistributionType\":\"FullyReplicated\",\"TrainingInputMode\":\"File\"},\"val\":{\"RecordWrapperType\":\"None\",\"S3DistributionType\":\"FullyReplicated\",\"TrainingInputMode\":\"File\"}}\n",
      "SM_OUTPUT_DATA_DIR=/opt/ml/output/data\n",
      "SM_CHANNELS=[\"train\",\"val\"]\n",
      "SM_CURRENT_HOST=algo-1\n",
      "SM_MODULE_NAME=train_resnet_sm\n",
      "SM_LOG_LEVEL=20\n",
      "SM_FRAMEWORK_MODULE=sagemaker_pytorch_container.training:main\n",
      "SM_INPUT_DIR=/opt/ml/input\n",
      "SM_INPUT_CONFIG_DIR=/opt/ml/input/config\n",
      "SM_OUTPUT_DIR=/opt/ml/output\n",
      "SM_NUM_CPUS=4\n",
      "SM_NUM_GPUS=1\n",
      "SM_MODEL_DIR=/opt/ml/model\n",
      "SM_MODULE_DIR=s3://sagemaker-us-east-1-941656036254/pytorch-smdebug-early-stop-8-2022-06-12-03-07-15-197/source/sourcedir.tar.gz\n",
      "SM_TRAINING_ENV={\"additional_framework_parameters\":{},\"channel_input_dirs\":{\"train\":\"/opt/ml/input/data/train\",\"val\":\"/opt/ml/input/data/val\"},\"current_host\":\"algo-1\",\"framework_module\":\"sagemaker_pytorch_container.training:main\",\"hosts\":[\"algo-1\"],\"hyperparameters\":{\"batch-size\":64,\"feature-extract\":false,\"input-size\":224,\"num-data-workers\":8,\"num-epochs\":5},\"input_config_dir\":\"/opt/ml/input/config\",\"input_data_config\":{\"train\":{\"RecordWrapperType\":\"None\",\"S3DistributionType\":\"FullyReplicated\",\"TrainingInputMode\":\"File\"},\"val\":{\"RecordWrapperType\":\"None\",\"S3DistributionType\":\"FullyReplicated\",\"TrainingInputMode\":\"File\"}},\"input_dir\":\"/opt/ml/input\",\"is_master\":true,\"job_name\":\"pytorch-smdebug-early-stop-8-2022-06-12-03-07-15-197\",\"log_level\":20,\"master_hostname\":\"algo-1\",\"model_dir\":\"/opt/ml/model\",\"module_dir\":\"s3://sagemaker-us-east-1-941656036254/pytorch-smdebug-early-stop-8-2022-06-12-03-07-15-197/source/sourcedir.tar.gz\",\"module_name\":\"train_resnet_sm\",\"network_interface_name\":\"eth0\",\"num_cpus\":4,\"num_gpus\":1,\"output_data_dir\":\"/opt/ml/output/data\",\"output_dir\":\"/opt/ml/output\",\"output_intermediate_dir\":\"/opt/ml/output/intermediate\",\"resource_config\":{\"current_group_name\":\"homogeneousCluster\",\"current_host\":\"algo-1\",\"current_instance_type\":\"ml.p2.xlarge\",\"hosts\":[\"algo-1\"],\"instance_groups\":[{\"hosts\":[\"algo-1\"],\"instance_group_name\":\"homogeneousCluster\",\"instance_type\":\"ml.p2.xlarge\"}],\"network_interface_name\":\"eth0\"},\"user_entry_point\":\"train_resnet_sm.py\"}\n",
      "SM_USER_ARGS=[\"--batch-size\",\"64\",\"--feature-extract\",\"False\",\"--input-size\",\"224\",\"--num-data-workers\",\"8\",\"--num-epochs\",\"5\"]\n",
      "SM_OUTPUT_INTERMEDIATE_DIR=/opt/ml/output/intermediate\n",
      "SM_CHANNEL_TRAIN=/opt/ml/input/data/train\n",
      "SM_CHANNEL_VAL=/opt/ml/input/data/val\n",
      "SM_HP_BATCH-SIZE=64\n",
      "SM_HP_FEATURE-EXTRACT=false\n",
      "SM_HP_INPUT-SIZE=224\n",
      "SM_HP_NUM-DATA-WORKERS=8\n",
      "SM_HP_NUM-EPOCHS=5\n",
      "PYTHONPATH=/opt/ml/code:/opt/conda/bin:/opt/conda/lib/python38.zip:/opt/conda/lib/python3.8:/opt/conda/lib/python3.8/lib-dynload:/opt/conda/lib/python3.8/site-packages:/opt/conda/lib/python3.8/site-packages/smdebug-1.0.16b20220430-py3.8.egg:/opt/conda/lib/python3.8/site-packages/pyinstrument-3.4.2-py3.8.egg:/opt/conda/lib/python3.8/site-packages/pyinstrument_cext-0.2.4-py3.8-linux-x86_64.egg\n",
      "Invoking script with the following command:\n",
      "/opt/conda/bin/python3.8 train_resnet_sm.py --batch-size 64 --feature-extract False --input-size 224 --num-data-workers 8 --num-epochs 5\n",
      "[2022-06-12 03:15:24.615 algo-1:27 INFO utils.py:27] RULE_JOB_STOP_SIGNAL_FILENAME: None\n",
      "/opt/conda/lib/python3.8/site-packages/smdebug-1.0.16b20220430-py3.8.egg/smdebug/profiler/system_metrics_reader.py:63: SyntaxWarning: \"is not\" with a literal. Did you mean \"!=\"?\n",
      "/opt/conda/lib/python3.8/site-packages/smdebug-1.0.16b20220430-py3.8.egg/smdebug/profiler/system_metrics_reader.py:63: SyntaxWarning: \"is not\" with a literal. Did you mean \"!=\"?\n",
      "[2022-06-12 03:15:24.853 algo-1:27 INFO profiler_config_parser.py:111] Using config at /opt/ml/input/config/profilerconfig.json.\n",
      "INFO:__main__:Collected hyperparameters: Namespace(batch_size=64, feature_extract=True, input_size=224, num_data_workers=8, num_epochs=5).Following args are not parsed correctly and won't be used: [].\n",
      "Device count: 1\n",
      "Downloading: \"https://download.pytorch.org/models/resnet18-f37072fd.pth\" to /root/.cache/torch/hub/checkpoints/resnet18-f37072fd.pth\n",
      "0%|          | 0.00/44.7M [00:00<?, ?B/s]\n",
      "10%|▉         | 4.26M/44.7M [00:00<00:00, 44.6MB/s]\n",
      "20%|█▉        | 8.80M/44.7M [00:00<00:00, 46.4MB/s]\n",
      "32%|███▏      | 14.3M/44.7M [00:00<00:00, 51.5MB/s]\n",
      "45%|████▍     | 19.9M/44.7M [00:00<00:00, 54.3MB/s]\n",
      "56%|█████▌    | 25.1M/44.7M [00:00<00:00, 54.5MB/s]\n",
      "68%|██████▊   | 30.3M/44.7M [00:00<00:00, 50.2MB/s]\n",
      "79%|███████▊  | 35.1M/44.7M [00:00<00:00, 50.1MB/s]\n",
      "90%|████████▉ | 40.2M/44.7M [00:00<00:00, 50.5MB/s]\n",
      "100%|██████████| 44.7M/44.7M [00:00<00:00, 50.1MB/s]\n",
      "environ({'SM_INPUT_DIR': '/opt/ml/input', 'PYTHONIOENCODING': 'UTF-8', 'NV_CUDA_COMPAT_PACKAGE': 'cuda-compat-11-3', 'NCCL_DEBUG': 'WARN', 'HOROVOD_VERSION': '0.24.3', 'NCCL_SOCKET_IFNAME': 'eth0', 'SM_USER_ENTRY_POINT': 'train_resnet_sm.py', 'SM_RESOURCE_CONFIG': '{\"current_group_name\":\"homogeneousCluster\",\"current_host\":\"algo-1\",\"current_instance_type\":\"ml.p2.xlarge\",\"hosts\":[\"algo-1\"],\"instance_groups\":[{\"hosts\":[\"algo-1\"],\"instance_group_name\":\"homogeneousCluster\",\"instance_type\":\"ml.p2.xlarge\"}],\"network_interface_name\":\"eth0\"}', 'EFA_VERSION': '1.15.1', 'MASTER_ADDR': 'algo-1', 'SM_MODULE_NAME': 'train_resnet_sm', 'HOSTNAME': 'ip-10-0-112-73.ec2.internal', 'CURRENT_HOST': 'algo-1', 'SHLVL': '1', 'LD_LIBRARY_PATH': '/opt/conda/lib/python3.8/site-packages/smdistributed/dataparallel/lib:/opt/amazon/openmpi/lib/:/opt/amazon/efa/lib/:/opt/conda/lib:/usr/local/lib:/usr/local/nvidia/lib:/usr/local/nvidia/lib64', 'HOME': '/root', 'MASTER_PORT': '7777', 'SM_OUTPUT_DATA_DIR': '/opt/ml/output/data', 'TORCH_NVCC_FLAGS': '-Xfatbin -compress-all', 'SM_INPUT_DATA_CONFIG': '{\"train\":{\"RecordWrapperType\":\"None\",\"S3DistributionType\":\"FullyReplicated\",\"TrainingInputMode\":\"File\"},\"val\":{\"RecordWrapperType\":\"None\",\"S3DistributionType\":\"FullyReplicated\",\"TrainingInputMode\":\"File\"}}', 'PYTHONUNBUFFERED': '1', 'TRAINING_JOB_ARN': 'arn:aws:sagemaker:us-east-1:941656036254:training-job/pytorch-smdebug-early-stop-8-2022-06-12-03-07-15-197', 'SM_FRAMEWORK_PARAMS': '{}', 'SM_CURRENT_HOST': 'algo-1', 'SM_MODEL_DIR': '/opt/ml/model', 'BRANCH_OFI': '1.2.0-aws', 'AWS_CONTAINER_CREDENTIALS_RELATIVE_URI': '/v2/credentials/proxy-6668d381181a4592c53fe39404738dff5e10b4e2bec429dd928d1c819980f1be-customer', 'SM_FRAMEWORK_MODULE': 'sagemaker_pytorch_container.training:main', 'SM_NUM_CPUS': '4', 'CUDA_VERSION': '11.3.1', 'TORCH_CUDA_ARCH_LIST': '3.7 5.0 7.0+PTX 8.0', 'SM_NUM_GPUS': '1', 'PYTHONDONTWRITEBYTECODE': '1', 'SM_MODULE_DIR': 's3://sagemaker-us-east-1-941656036254/pytorch-smdebug-early-stop-8-2022-06-12-03-07-15-197/source/sourcedir.tar.gz', 'NVIDIA_REQUIRE_CUDA': 'cuda>=11.3 brand=tesla,driver>=418,driver<419 brand=tesla,driver>=440,driver<441 driver>=450', 'RDMAV_FORK_SAFE': '1', '_': '/opt/conda/bin/train', 'NVIDIA_DRIVER_CAPABILITIES': 'compute,utility,compat32,graphics,video', 'SM_LOG_LEVEL': '20', 'NV_CUDA_CUDART_VERSION': '11.3.109-1', 'SM_OUTPUT_DIR': '/opt/ml/output', 'SM_TRAINING_ENV': '{\"additional_framework_parameters\":{},\"channel_input_dirs\":{\"train\":\"/opt/ml/input/data/train\",\"val\":\"/opt/ml/input/data/val\"},\"current_host\":\"algo-1\",\"framework_module\":\"sagemaker_pytorch_container.training:main\",\"hosts\":[\"algo-1\"],\"hyperparameters\":{\"batch-size\":64,\"feature-extract\":false,\"input-size\":224,\"num-data-workers\":8,\"num-epochs\":5},\"input_config_dir\":\"/opt/ml/input/config\",\"input_data_config\":{\"train\":{\"RecordWrapperType\":\"None\",\"S3DistributionType\":\"FullyReplicated\",\"TrainingInputMode\":\"File\"},\"val\":{\"RecordWrapperType\":\"None\",\"S3DistributionType\":\"FullyReplicated\",\"TrainingInputMode\":\"File\"}},\"input_dir\":\"/opt/ml/input\",\"is_master\":true,\"job_name\":\"pytorch-smdebug-early-stop-8-2022-06-12-03-07-15-197\",\"log_level\":20,\"master_hostname\":\"algo-1\",\"model_dir\":\"/opt/ml/model\",\"module_dir\":\"s3://sagemaker-us-east-1-941656036254/pytorch-smdebug-early-stop-8-2022-06-12-03-07-15-197/source/sourcedir.tar.gz\",\"module_name\":\"train_resnet_sm\",\"network_interface_name\":\"eth0\",\"num_cpus\":4,\"num_gpus\":1,\"output_data_dir\":\"/opt/ml/output/data\",\"output_dir\":\"/opt/ml/output\",\"output_intermediate_dir\":\"/opt/ml/output/intermediate\",\"resource_config\":{\"current_group_name\":\"homogeneousCluster\",\"current_host\":\"algo-1\",\"current_instance_type\":\"ml.p2.xlarge\",\"hosts\":[\"algo-1\"],\"instance_groups\":[{\"hosts\":[\"algo-1\"],\"instance_group_name\":\"homogeneousCluster\",\"instance_type\":\"ml.p2.xlarge\"}],\"network_interface_name\":\"eth0\"},\"user_entry_point\":\"train_resnet_sm.py\"}', 'PATH': '/opt/amazon/openmpi/bin:/opt/conda/bin:/usr/local/nvidia/bin:/usr/local/cuda/bin:/usr/local/sbin:/usr/local/bin:/usr/sbin:/usr/bin:/sbin:/bin', 'NVARCH': 'x86_64', 'DMLC_INTERFACE': 'eth0', 'LD_PRELOAD': '/libchangehostname.so', 'LANG': 'C.UTF-8', 'NV_ML_REPO_URL': 'https://developer.download.nvidia.com/compute/machine-learning/repos/ubuntu2004/x86_64', 'SM_HPS': '{\"batch-size\":64,\"feature-extract\":false,\"input-size\":224,\"num-data-workers\":8,\"num-epochs\":5}', 'NCCL_IB_DISABLE': '1', 'CUDNN_VERSION': '8.2.0.53', 'SM_CHANNELS': '[\"train\",\"val\"]', 'SM_INPUT_CONFIG_DIR': '/opt/ml/input/config', 'AWS_REGION': 'us-east-1', 'OPEN_MPI_PATH': '/opt/amazon/openmpi', 'DLC_CONTAINER_TYPE': 'training', 'SAGEMAKER_JOB_NAME': 'pytorch-smdebug-early-stop-8-2022-06-12-03-07-15-197', 'SM_OUTPUT_INTERMEDIATE_DIR': '/opt/ml/output/intermediate', 'SM_CHANNEL_TRAIN': '/opt/ml/input/data/train', 'SM_CHANNEL_VAL': '/opt/ml/input/data/val', 'PWD': '/opt/ml/code', 'TRAINING_JOB_NAME': 'pytorch-smdebug-early-stop-8-2022-06-12-03-07-15-197', 'LC_ALL': 'C.UTF-8', 'SAGEMAKER_TRAINING_MODULE': 'sagemaker_pytorch_container.training:main', 'OMPI_VERSION': '4.1.1', 'SM_HOSTS': '[\"algo-1\"]', 'MANUAL_BUILD': '0', 'SAGEMAKER_REGION': 'us-east-1', 'PYTHONPATH': '/opt/ml/code:/opt/conda/bin:/opt/conda/lib/python38.zip:/opt/conda/lib/python3.8:/opt/conda/lib/python3.8/lib-dynload:/opt/conda/lib/python3.8/site-packages:/opt/conda/lib/python3.8/site-packages/smdebug-1.0.16b20220430-py3.8.egg:/opt/conda/lib/python3.8/site-packages/pyinstrument-3.4.2-py3.8.egg:/opt/conda/lib/python3.8/site-packages/pyinstrument_cext-0.2.4-py3.8-linux-x86_64.egg', 'NVIDIA_VISIBLE_DEVICES': 'all', 'NCCL_VERSION': '2.10.3', 'DGLBACKEND': 'pytorch', 'SM_NETWORK_INTERFACE_NAME': 'eth0', 'SM_USER_ARGS': '[\"--batch-size\",\"64\",\"--feature-extract\",\"False\",\"--input-size\",\"224\",\"--num-data-workers\",\"8\",\"--num-epochs\",\"5\"]', 'NV_ML_REPO_ENABLED': '1', 'CMAKE_PREFIX_PATH': '$(dirname $(which conda))/../'})\n",
      "INFO:__main__:Params to learn:conv1.weight, bn1.weight, bn1.bias, layer1.0.conv1.weight, layer1.0.bn1.weight, layer1.0.bn1.bias, layer1.0.conv2.weight, layer1.0.bn2.weight, layer1.0.bn2.bias, layer1.1.conv1.weight, layer1.1.bn1.weight, layer1.1.bn1.bias, layer1.1.conv2.weight, layer1.1.bn2.weight, layer1.1.bn2.bias, layer2.0.conv1.weight, layer2.0.bn1.weight, layer2.0.bn1.bias, layer2.0.conv2.weight, layer2.0.bn2.weight, layer2.0.bn2.bias, layer2.0.downsample.0.weight, layer2.0.downsample.1.weight, layer2.0.downsample.1.bias, layer2.1.conv1.weight, layer2.1.bn1.weight, layer2.1.bn1.bias, layer2.1.conv2.weight, layer2.1.bn2.weight, layer2.1.bn2.bias, layer3.0.conv1.weight, layer3.0.bn1.weight, layer3.0.bn1.bias, layer3.0.conv2.weight, layer3.0.bn2.weight, layer3.0.bn2.bias, layer3.0.downsample.0.weight, layer3.0.downsample.1.weight, layer3.0.downsample.1.bias, layer3.1.conv1.weight, layer3.1.bn1.weight, layer3.1.bn1.bias, layer3.1.conv2.weight, layer3.1.bn2.weight, layer3.1.bn2.bias, layer4.0.conv1.weight, layer4.0.bn1.weight, layer4.0.bn1.bias, layer4.0.conv2.weight, layer4.0.bn2.weight, layer4.0.bn2.bias, layer4.0.downsample.0.weight, layer4.0.downsample.1.weight, layer4.0.downsample.1.bias, layer4.1.conv1.weight, layer4.1.bn1.weight, layer4.1.bn1.bias, layer4.1.conv2.weight, layer4.1.bn2.weight, layer4.1.bn2.bias, fc.weight, fc.bias,\n",
      "[2022-06-12 03:15:36.959 algo-1:27 INFO json_config.py:91] Creating hook from json_config at /opt/ml/input/config/debughookconfig.json.\n",
      "[2022-06-12 03:15:36.964 algo-1:27 INFO hook.py:254] Saving to /opt/ml/output/tensors\n",
      "[2022-06-12 03:15:36.965 algo-1:27 INFO state_store.py:77] The checkpoint config file /opt/ml/input/config/checkpointconfig.json does not exist.\n",
      "[2022-06-12 03:15:36.984 algo-1:27 INFO hook.py:560] name:conv1.weight count_params:9408\n",
      "[2022-06-12 03:15:36.985 algo-1:27 INFO hook.py:560] name:bn1.weight count_params:64\n",
      "[2022-06-12 03:15:36.985 algo-1:27 INFO hook.py:560] name:bn1.bias count_params:64\n",
      "[2022-06-12 03:15:36.986 algo-1:27 INFO hook.py:560] name:layer1.0.conv1.weight count_params:36864\n",
      "[2022-06-12 03:15:36.986 algo-1:27 INFO hook.py:560] name:layer1.0.bn1.weight count_params:64\n",
      "[2022-06-12 03:15:36.987 algo-1:27 INFO hook.py:560] name:layer1.0.bn1.bias count_params:64\n",
      "[2022-06-12 03:15:36.987 algo-1:27 INFO hook.py:560] name:layer1.0.conv2.weight count_params:36864\n",
      "[2022-06-12 03:15:36.988 algo-1:27 INFO hook.py:560] name:layer1.0.bn2.weight count_params:64\n",
      "[2022-06-12 03:15:36.988 algo-1:27 INFO hook.py:560] name:layer1.0.bn2.bias count_params:64\n",
      "[2022-06-12 03:15:36.989 algo-1:27 INFO hook.py:560] name:layer1.1.conv1.weight count_params:36864\n",
      "[2022-06-12 03:15:36.989 algo-1:27 INFO hook.py:560] name:layer1.1.bn1.weight count_params:64\n",
      "[2022-06-12 03:15:36.990 algo-1:27 INFO hook.py:560] name:layer1.1.bn1.bias count_params:64\n",
      "[2022-06-12 03:15:36.991 algo-1:27 INFO hook.py:560] name:layer1.1.conv2.weight count_params:36864\n",
      "[2022-06-12 03:15:36.991 algo-1:27 INFO hook.py:560] name:layer1.1.bn2.weight count_params:64\n",
      "[2022-06-12 03:15:36.991 algo-1:27 INFO hook.py:560] name:layer1.1.bn2.bias count_params:64\n",
      "[2022-06-12 03:15:36.992 algo-1:27 INFO hook.py:560] name:layer2.0.conv1.weight count_params:73728\n",
      "[2022-06-12 03:15:36.993 algo-1:27 INFO hook.py:560] name:layer2.0.bn1.weight count_params:128\n",
      "[2022-06-12 03:15:36.993 algo-1:27 INFO hook.py:560] name:layer2.0.bn1.bias count_params:128\n",
      "[2022-06-12 03:15:36.994 algo-1:27 INFO hook.py:560] name:layer2.0.conv2.weight count_params:147456\n",
      "[2022-06-12 03:15:36.994 algo-1:27 INFO hook.py:560] name:layer2.0.bn2.weight count_params:128\n",
      "[2022-06-12 03:15:36.995 algo-1:27 INFO hook.py:560] name:layer2.0.bn2.bias count_params:128\n",
      "[2022-06-12 03:15:36.995 algo-1:27 INFO hook.py:560] name:layer2.0.downsample.0.weight count_params:8192\n",
      "[2022-06-12 03:15:36.996 algo-1:27 INFO hook.py:560] name:layer2.0.downsample.1.weight count_params:128\n",
      "[2022-06-12 03:15:36.996 algo-1:27 INFO hook.py:560] name:layer2.0.downsample.1.bias count_params:128\n",
      "[2022-06-12 03:15:36.997 algo-1:27 INFO hook.py:560] name:layer2.1.conv1.weight count_params:147456\n",
      "[2022-06-12 03:15:36.997 algo-1:27 INFO hook.py:560] name:layer2.1.bn1.weight count_params:128\n",
      "[2022-06-12 03:15:36.998 algo-1:27 INFO hook.py:560] name:layer2.1.bn1.bias count_params:128\n",
      "[2022-06-12 03:15:36.998 algo-1:27 INFO hook.py:560] name:layer2.1.conv2.weight count_params:147456\n",
      "[2022-06-12 03:15:36.999 algo-1:27 INFO hook.py:560] name:layer2.1.bn2.weight count_params:128\n",
      "[2022-06-12 03:15:36.999 algo-1:27 INFO hook.py:560] name:layer2.1.bn2.bias count_params:128\n",
      "[2022-06-12 03:15:37.000 algo-1:27 INFO hook.py:560] name:layer3.0.conv1.weight count_params:294912\n",
      "[2022-06-12 03:15:37.000 algo-1:27 INFO hook.py:560] name:layer3.0.bn1.weight count_params:256\n",
      "[2022-06-12 03:15:37.001 algo-1:27 INFO hook.py:560] name:layer3.0.bn1.bias count_params:256\n",
      "[2022-06-12 03:15:37.001 algo-1:27 INFO hook.py:560] name:layer3.0.conv2.weight count_params:589824\n",
      "[2022-06-12 03:15:37.002 algo-1:27 INFO hook.py:560] name:layer3.0.bn2.weight count_params:256\n",
      "[2022-06-12 03:15:37.002 algo-1:27 INFO hook.py:560] name:layer3.0.bn2.bias count_params:256\n",
      "[2022-06-12 03:15:37.003 algo-1:27 INFO hook.py:560] name:layer3.0.downsample.0.weight count_params:32768\n",
      "[2022-06-12 03:15:37.003 algo-1:27 INFO hook.py:560] name:layer3.0.downsample.1.weight count_params:256\n",
      "[2022-06-12 03:15:37.004 algo-1:27 INFO hook.py:560] name:layer3.0.downsample.1.bias count_params:256\n",
      "[2022-06-12 03:15:37.005 algo-1:27 INFO hook.py:560] name:layer3.1.conv1.weight count_params:589824\n",
      "[2022-06-12 03:15:37.005 algo-1:27 INFO hook.py:560] name:layer3.1.bn1.weight count_params:256\n",
      "[2022-06-12 03:15:37.006 algo-1:27 INFO hook.py:560] name:layer3.1.bn1.bias count_params:256\n",
      "[2022-06-12 03:15:37.006 algo-1:27 INFO hook.py:560] name:layer3.1.conv2.weight count_params:589824\n",
      "[2022-06-12 03:15:37.007 algo-1:27 INFO hook.py:560] name:layer3.1.bn2.weight count_params:256\n",
      "[2022-06-12 03:15:37.007 algo-1:27 INFO hook.py:560] name:layer3.1.bn2.bias count_params:256\n",
      "[2022-06-12 03:15:37.008 algo-1:27 INFO hook.py:560] name:layer4.0.conv1.weight count_params:1179648\n",
      "[2022-06-12 03:15:37.008 algo-1:27 INFO hook.py:560] name:layer4.0.bn1.weight count_params:512\n",
      "[2022-06-12 03:15:37.009 algo-1:27 INFO hook.py:560] name:layer4.0.bn1.bias count_params:512\n",
      "[2022-06-12 03:15:37.009 algo-1:27 INFO hook.py:560] name:layer4.0.conv2.weight count_params:2359296\n",
      "[2022-06-12 03:15:37.010 algo-1:27 INFO hook.py:560] name:layer4.0.bn2.weight count_params:512\n",
      "[2022-06-12 03:15:37.010 algo-1:27 INFO hook.py:560] name:layer4.0.bn2.bias count_params:512\n",
      "[2022-06-12 03:15:37.011 algo-1:27 INFO hook.py:560] name:layer4.0.downsample.0.weight count_params:131072\n",
      "[2022-06-12 03:15:37.011 algo-1:27 INFO hook.py:560] name:layer4.0.downsample.1.weight count_params:512\n",
      "[2022-06-12 03:15:37.012 algo-1:27 INFO hook.py:560] name:layer4.0.downsample.1.bias count_params:512\n",
      "[2022-06-12 03:15:37.012 algo-1:27 INFO hook.py:560] name:layer4.1.conv1.weight count_params:2359296\n",
      "[2022-06-12 03:15:37.013 algo-1:27 INFO hook.py:560] name:layer4.1.bn1.weight count_params:512\n",
      "[2022-06-12 03:15:37.013 algo-1:27 INFO hook.py:560] name:layer4.1.bn1.bias count_params:512\n",
      "[2022-06-12 03:15:37.014 algo-1:27 INFO hook.py:560] name:layer4.1.conv2.weight count_params:2359296\n",
      "[2022-06-12 03:15:37.015 algo-1:27 INFO hook.py:560] name:layer4.1.bn2.weight count_params:512\n",
      "[2022-06-12 03:15:37.015 algo-1:27 INFO hook.py:560] name:layer4.1.bn2.bias count_params:512\n",
      "[2022-06-12 03:15:37.016 algo-1:27 INFO hook.py:560] name:fc.weight count_params:1024\n",
      "[2022-06-12 03:15:37.016 algo-1:27 INFO hook.py:560] name:fc.bias count_params:2\n",
      "[2022-06-12 03:15:37.017 algo-1:27 INFO hook.py:562] Total Trainable Params: 11177538\n",
      "INFO:__main__:Initializing Datasets and Dataloaders...\n",
      "/opt/conda/lib/python3.8/site-packages/torch/utils/data/dataloader.py:489: UserWarning: This DataLoader will create 8 worker processes in total. Our suggested max number of worker in current system is 4, which is smaller than what this DataLoader is going to create. Please be aware that excessive worker creation might get DataLoader running slow or even freeze, lower the worker number to avoid potential slowness/freeze if necessary.\n",
      "  warnings.warn(_create_warning_msg(\n",
      "[2022-06-12 03:15:38.561 algo-1:27 INFO hook.py:421] Monitoring the collections: losses, weights, gradients, relu_input\n",
      "[2022-06-12 03:15:38.564 algo-1:27 INFO python_profiler.py:188] Dumping cProfile stats to /opt/ml/output/profiler/framework/pytorch/cprofile/27-algo-1/prestepzero-*-start-1655003724855852.8_train-0-stepstart-1655003738563679.8/python_stats.\n",
      "[2022-06-12 03:15:38.593 algo-1:27 INFO hook.py:485] Hook is writing from the hook with pid: 27\n",
      "[2022-06-12 03:15:59.715 algo-1:27 WARNING hook.py:392] The detailed profiling using autograd profiler is not supported for torch version 1.11.0+cu113\n",
      "[2022-06-12 03:16:01.636 algo-1:27 INFO python_profiler.py:188] Dumping cProfile stats to /opt/ml/output/profiler/framework/pytorch/cprofile/27-algo-1/train-2-stepstart-1655003759712309.0_train-2-forwardpassend-1655003761636092.8/python_stats.\n",
      "INFO:__main__:Epoch 1: train loss 0.7268777887026469, accuracy 0.515625,  in 25.074644804000854 sec. Total number of steps: 3\n",
      "[2022-06-12 03:16:03.706 algo-1:27 INFO python_profiler.py:188] Dumping cProfile stats to /opt/ml/output/profiler/framework/pytorch/cprofile/27-algo-1/train-2-forwardpassend-1655003761642591.2_eval-3-stepstart-1655003763703987.0/python_stats.\n",
      "INFO:__main__:Epoch 1: val loss 0.7186945378780365, accuracy 0.5390625,  in 20.371864318847656 sec. Total number of steps: 2\n",
      "INFO:__main__:Epoch 2: train loss 0.6629638671875, accuracy 0.5989583333333333,  in 4.810916423797607 sec. Total number of steps: 3\n",
      "INFO:__main__:Epoch 2: val loss 0.6292475461959839, accuracy 0.625,  in 5.750540256500244 sec. Total number of steps: 2\n",
      "INFO:__main__:Epoch 3: train loss 0.5234982371330261, accuracy 0.75,  in 5.917828321456909 sec. Total number of steps: 3\n",
      "INFO:__main__:Epoch 3: val loss 0.5153785794973373, accuracy 0.75,  in 5.183099031448364 sec. Total number of steps: 2\n",
      "INFO:__main__:Epoch 4: train loss 0.4637122650941213, accuracy 0.828125,  in 4.450924634933472 sec. Total number of steps: 3\n",
      "INFO:__main__:Epoch 4: val loss 0.42042766511440277, accuracy 0.8671875,  in 5.0139055252075195 sec. Total number of steps: 2\n",
      "INFO:__main__:Epoch 5: train loss 0.37930211424827576, accuracy 0.8697916666666666,  in 6.237402677536011 sec. Total number of steps: 3\n",
      "INFO:__main__:Epoch 5: val loss 0.3568056672811508, accuracy 0.8984375,  in 5.712529420852661 sec. Total number of steps: 2\n",
      "2022-06-12 03:17:06,966 sagemaker-training-toolkit INFO     Reporting training SUCCESS\n",
      "\n",
      "2022-06-12 03:17:23 Uploading - Uploading generated training model\n",
      "2022-06-12 03:17:23 Completed - Training job completed\n",
      "Training seconds: 490\n",
      "Billable seconds: 490\n"
     ]
    }
   ],
   "source": [
    "early_stop_estimator.fit(inputs={\"train\":f\"{data_url}/train\", \"val\":f\"{data_url}/val\"}, wait=True)"
   ]
  },
  {
   "cell_type": "code",
   "execution_count": 130,
   "metadata": {},
   "outputs": [
    {
     "name": "stdout",
     "output_type": "stream",
     "text": [
      "{'RuleConfigurationName': 'VanishingGradient', 'RuleEvaluationJobArn': 'arn:aws:sagemaker:us-east-1:941656036254:processing-job/pytorch-smdebug-early-stop-vanishinggradient-7a7ab260', 'RuleEvaluationStatus': 'NoIssuesFound', 'LastModifiedTime': datetime.datetime(2022, 6, 11, 23, 18, 43, 719000, tzinfo=tzlocal())}\n",
      "{'RuleConfigurationName': 'Overfit', 'RuleEvaluationJobArn': 'arn:aws:sagemaker:us-east-1:941656036254:processing-job/pytorch-smdebug-early-stop-overfit-38ccd9e6', 'RuleEvaluationStatus': 'Error', 'StatusDetails': 'InternalServerError: We encountered an internal error. Please try again.', 'LastModifiedTime': datetime.datetime(2022, 6, 11, 23, 18, 43, 719000, tzinfo=tzlocal())}\n",
      "{'RuleConfigurationName': 'Overtraining', 'RuleEvaluationJobArn': 'arn:aws:sagemaker:us-east-1:941656036254:processing-job/pytorch-smdebug-early-stop-overtraining-5293dc69', 'RuleEvaluationStatus': 'NoIssuesFound', 'LastModifiedTime': datetime.datetime(2022, 6, 11, 23, 18, 43, 719000, tzinfo=tzlocal())}\n",
      "{'RuleConfigurationName': 'PoorWeightInitialization', 'RuleEvaluationJobArn': 'arn:aws:sagemaker:us-east-1:941656036254:processing-job/pytorch-smdebug-early-stop-poorweightinitialization-b77a5345', 'RuleEvaluationStatus': 'IssuesFound', 'StatusDetails': 'RuleEvaluationConditionMet: Evaluation of the rule PoorWeightInitialization at step 0 resulted in the condition being met\\n', 'LastModifiedTime': datetime.datetime(2022, 6, 11, 23, 18, 43, 719000, tzinfo=tzlocal())}\n",
      "{'RuleConfigurationName': 'ProfilerReport', 'RuleEvaluationJobArn': 'arn:aws:sagemaker:us-east-1:941656036254:processing-job/pytorch-smdebug-early-stop-profilerreport-55905a2b', 'RuleEvaluationStatus': 'NoIssuesFound', 'LastModifiedTime': datetime.datetime(2022, 6, 11, 23, 17, 35, 635000, tzinfo=tzlocal())}\n"
     ]
    }
   ],
   "source": [
    "for  summary in early_stop_estimator.latest_training_job.rule_job_summary():\n",
    "    print(summary)"
   ]
  },
  {
   "cell_type": "code",
   "execution_count": 131,
   "metadata": {},
   "outputs": [
    {
     "data": {
      "text/plain": [
       "'s3://sagemaker-us-east-1-941656036254/tensorboard/pytorch-smdebug-early-stop-8'"
      ]
     },
     "execution_count": 131,
     "metadata": {},
     "output_type": "execute_result"
    }
   ],
   "source": [
    "tb_debug_path"
   ]
  },
  {
   "cell_type": "code",
   "execution_count": 118,
   "metadata": {},
   "outputs": [
    {
     "name": "stdout",
     "output_type": "stream",
     "text": [
      "TensorFlow installation not found - running with reduced feature set.\n",
      "W0611 22:58:25.761478 4587847168 profile_plugin_loader.py:71] Unable to load profiler plugin. Import error: No module named 'wrapt'\n",
      "I0611 22:58:26.911773 123145544527872 plugin.py:429] Monitor runs begin\n",
      "Serving TensorBoard on localhost; to expose to the network, use a proxy or pass --bind_all\n",
      "TensorBoard 2.9.0 at http://localhost:6007/ (Press CTRL+C to quit)\n",
      "^C\n"
     ]
    }
   ],
   "source": [
    "## Checking TensorBoard\n",
    "\n",
    "! tensorboard --logdir  {tb_debug_path}"
   ]
  },
  {
   "cell_type": "markdown",
   "metadata": {},
   "source": [
    "# Profiling"
   ]
  },
  {
   "cell_type": "code",
   "execution_count": 132,
   "metadata": {},
   "outputs": [
    {
     "name": "stdout",
     "output_type": "stream",
     "text": [
      "ProfilerConfig:{'S3OutputPath': 's3://sagemaker-us-east-1-941656036254/', 'ProfilingIntervalInMilliseconds': 500, 'ProfilingParameters': {'DataloaderProfilingConfig': '{\"StartStep\": 2, \"NumSteps\": 1, \"MetricsRegex\": \".*\", }', 'DetailedProfilingConfig': '{\"StartStep\": 2, \"NumSteps\": 1, }', 'FileOpenFailThreshold': '50', 'LocalPath': '/opt/ml/output/profiler', 'PythonProfilingConfig': '{\"StartStep\": 2, \"NumSteps\": 1, \"ProfilerName\": \"cprofile\", \"cProfileTimer\": \"total_time\", }', 'RotateFileCloseIntervalInSeconds': '60', 'RotateMaxFileSizeInBytes': '10485760'}}\n",
      "s3 path:s3://sagemaker-us-east-1-941656036254/pytorch-smdebug-early-stop-8-2022-06-12-03-07-15-197/profiler-output\n",
      "\n",
      "\n",
      "Profiler data from system is available\n"
     ]
    }
   ],
   "source": [
    "from smdebug.profiler.analysis.notebook_utils.training_job import TrainingJob\n",
    "\n",
    "training_job_name = early_stop_estimator.latest_training_job.job_name\n",
    "region = \"us-east-1\"\n",
    "tj = TrainingJob(training_job_name, region)\n",
    "tj.wait_for_sys_profiling_data_to_be_available()"
   ]
  },
  {
   "cell_type": "markdown",
   "metadata": {},
   "source": [
    "Also here there are details on how to do it: https://docs.aws.amazon.com/sagemaker/latest/dg/debugger-access-data-profiling-default-plot.html\n"
   ]
  },
  {
   "cell_type": "code",
   "execution_count": 133,
   "metadata": {},
   "outputs": [
    {
     "name": "stdout",
     "output_type": "stream",
     "text": [
      "[2022-06-12 00:42:12.577 C02Y82MBJGH5:2535 INFO metrics_reader_base.py:134] Getting 9 event files\n",
      "select events:['total']\n",
      "select dimensions:['CPU', 'GPU']\n",
      "filtered_events:{'total'}\n",
      "filtered_dimensions:{'CPUUtilization-nodeid:algo-1', 'GPUMemoryUtilization-nodeid:algo-1', 'GPUUtilization-nodeid:algo-1'}\n"
     ]
    },
    {
     "data": {
      "text/html": [
       "\n",
       "  <div class=\"bk-root\" id=\"2de2242a-307d-4a18-b2c4-a232cb18ef88\" data-root-id=\"6129\"></div>\n"
      ]
     },
     "metadata": {},
     "output_type": "display_data"
    },
    {
     "data": {
      "application/javascript": "(function(root) {\n  function embed_document(root) {\n  const docs_json = {\"8b7932f8-f0ce-45f8-aaf0-116f4f77225d\":{\"defs\":[],\"roots\":{\"references\":[{\"attributes\":{\"children\":[{\"id\":\"6128\"},{\"id\":\"6006\"}]},\"id\":\"6129\",\"type\":\"Row\"},{\"attributes\":{\"callback\":null,\"renderers\":[{\"id\":\"6084\"}],\"tooltips\":[[\"index\",\"$index\"],[\"(x,y)\",\"($x, $y)\"]]},\"id\":\"6086\",\"type\":\"HoverTool\"},{\"attributes\":{},\"id\":\"6028\",\"type\":\"SaveTool\"},{\"attributes\":{},\"id\":\"6024\",\"type\":\"CrosshairTool\"},{\"attributes\":{\"end\":102},\"id\":\"6050\",\"type\":\"Range1d\"},{\"attributes\":{},\"id\":\"6092\",\"type\":\"LinearScale\"},{\"attributes\":{\"below\":[{\"id\":\"6056\"}],\"center\":[{\"id\":\"6059\"},{\"id\":\"6063\"}],\"height\":200,\"js_event_callbacks\":{\"selectiongeometry\":[{\"id\":\"6079\"}]},\"left\":[{\"id\":\"6060\"}],\"renderers\":[{\"id\":\"6082\"},{\"id\":\"6084\"}],\"title\":{\"id\":\"6482\"},\"toolbar\":{\"id\":\"6071\"},\"width\":1000,\"x_range\":{\"id\":\"6008\"},\"x_scale\":{\"id\":\"6052\"},\"y_range\":{\"id\":\"6050\"},\"y_scale\":{\"id\":\"6054\"}},\"id\":\"6048\",\"subtype\":\"Figure\",\"type\":\"Plot\"},{\"attributes\":{\"tools\":[{\"id\":\"6104\"},{\"id\":\"6105\"},{\"id\":\"6106\"},{\"id\":\"6107\"},{\"id\":\"6108\"},{\"id\":\"6109\"},{\"id\":\"6126\"}]},\"id\":\"6111\",\"type\":\"Toolbar\"},{\"attributes\":{\"source\":{\"id\":\"6078\"}},\"id\":\"6083\",\"type\":\"CDSView\"},{\"attributes\":{},\"id\":\"6061\",\"type\":\"BasicTicker\"},{\"attributes\":{\"line_color\":\"blue\",\"x\":{\"field\":\"x\"},\"y\":{\"field\":\"y\"}},\"id\":\"6040\",\"type\":\"Line\"},{\"attributes\":{\"axis_label\":\"Time in ms\",\"coordinates\":null,\"formatter\":{\"id\":\"6502\"},\"group\":null,\"major_label_policy\":{\"id\":\"6503\"},\"ticker\":{\"id\":\"6097\"}},\"id\":\"6096\",\"type\":\"LinearAxis\"},{\"attributes\":{},\"id\":\"6014\",\"type\":\"LinearScale\"},{\"attributes\":{\"coordinates\":null,\"group\":null},\"id\":\"6484\",\"type\":\"Title\"},{\"attributes\":{\"args\":{\"div\":{\"id\":\"6006\"},\"s1\":{\"id\":\"6118\"}},\"code\":\"\\n                            console.log('Running CustomJS callback now.');\\n                            var inds = s1.selected.indices;\\n                            console.log(inds);\\n                            var line = \\\"<span style=float:left;clear:left;font_size=13px><b> Selected index range: [\\\" + Math.min.apply(Math,inds) + \\\",\\\" + Math.max.apply(Math,inds) + \\\"]</b></span>\\\\n\\\";\\n                            console.log(line)\\n                            var text = div.text.concat(line);\\n                            var lines = text.split(\\\"\\\\n\\\")\\n                            if (lines.length > 35)\\n                                lines.shift();\\n                            div.text = lines.join(\\\"\\\\n\\\");\"},\"id\":\"6119\",\"type\":\"CustomJS\"},{\"attributes\":{\"callback\":null,\"renderers\":[{\"id\":\"6044\"}],\"tooltips\":[[\"index\",\"$index\"],[\"(x,y)\",\"($x, $y)\"]]},\"id\":\"6046\",\"type\":\"HoverTool\"},{\"attributes\":{\"coordinates\":null,\"data_source\":{\"id\":\"6038\"},\"glyph\":{\"id\":\"6041\"},\"group\":null,\"hover_glyph\":null,\"view\":{\"id\":\"6045\"}},\"id\":\"6044\",\"type\":\"GlyphRenderer\"},{\"attributes\":{},\"id\":\"6027\",\"type\":\"ResetTool\"},{\"attributes\":{\"data\":{\"x\":{\"__ndarray__\":\"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\",\"dtype\":\"float64\",\"order\":\"little\",\"shape\":[896]},\"y\":{\"__ndarray__\":\"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\",\"dtype\":\"float64\",\"order\":\"little\",\"shape\":[896]}},\"selected\":{\"id\":\"6505\"},\"selection_policy\":{\"id\":\"6504\"}},\"id\":\"6038\",\"type\":\"ColumnDataSource\"},{\"attributes\":{},\"id\":\"6021\",\"type\":\"BasicTicker\"},{\"attributes\":{\"dimensions\":\"width\"},\"id\":\"6069\",\"type\":\"WheelZoomTool\"},{\"attributes\":{\"axis\":{\"id\":\"6016\"},\"coordinates\":null,\"group\":null,\"ticker\":null,\"visible\":false},\"id\":\"6019\",\"type\":\"Grid\"},{\"attributes\":{\"axis_label\":\"GPUMemoryUtilization-nodeid:algo-1_total\",\"coordinates\":null,\"formatter\":{\"id\":\"6493\"},\"group\":null,\"major_label_policy\":{\"id\":\"6494\"},\"ticker\":{\"id\":\"6061\"}},\"id\":\"6060\",\"type\":\"LinearAxis\"},{\"attributes\":{},\"id\":\"6106\",\"type\":\"PanTool\"},{\"attributes\":{\"axis\":{\"id\":\"6060\"},\"coordinates\":null,\"dimension\":1,\"group\":null,\"ticker\":null,\"visible\":false},\"id\":\"6063\",\"type\":\"Grid\"},{\"attributes\":{\"fill_alpha\":{\"value\":0},\"line_width\":{\"value\":0},\"x\":{\"field\":\"x\"},\"y\":{\"field\":\"y\"}},\"id\":\"6041\",\"type\":\"Circle\"},{\"attributes\":{},\"id\":\"6490\",\"type\":\"BasicTickFormatter\"},{\"attributes\":{\"tools\":[{\"id\":\"6024\"},{\"id\":\"6025\"},{\"id\":\"6026\"},{\"id\":\"6027\"},{\"id\":\"6028\"},{\"id\":\"6029\"},{\"id\":\"6046\"}]},\"id\":\"6031\",\"type\":\"Toolbar\"},{\"attributes\":{\"source\":{\"id\":\"6078\"}},\"id\":\"6085\",\"type\":\"CDSView\"},{\"attributes\":{\"coordinates\":null,\"data_source\":{\"id\":\"6078\"},\"glyph\":{\"id\":\"6080\"},\"group\":null,\"hover_glyph\":null,\"view\":{\"id\":\"6083\"}},\"id\":\"6082\",\"type\":\"GlyphRenderer\"},{\"attributes\":{},\"id\":\"6026\",\"type\":\"PanTool\"},{\"attributes\":{\"end\":102},\"id\":\"6090\",\"type\":\"Range1d\"},{\"attributes\":{},\"id\":\"6054\",\"type\":\"LinearScale\"},{\"attributes\":{\"axis\":{\"id\":\"6020\"},\"coordinates\":null,\"dimension\":1,\"group\":null,\"ticker\":null,\"visible\":false},\"id\":\"6023\",\"type\":\"Grid\"},{\"attributes\":{\"coordinates\":null,\"data_source\":{\"id\":\"6078\"},\"glyph\":{\"id\":\"6081\"},\"group\":null,\"hover_glyph\":null,\"view\":{\"id\":\"6085\"}},\"id\":\"6084\",\"type\":\"GlyphRenderer\"},{\"attributes\":{\"source\":{\"id\":\"6118\"}},\"id\":\"6123\",\"type\":\"CDSView\"},{\"attributes\":{\"end\":1655003819.501522,\"start\":1655003372.0334},\"id\":\"6008\",\"type\":\"Range1d\"},{\"attributes\":{\"dimensions\":\"width\"},\"id\":\"6029\",\"type\":\"WheelZoomTool\"},{\"attributes\":{\"axis\":{\"id\":\"6096\"},\"coordinates\":null,\"group\":null,\"ticker\":null,\"visible\":false},\"id\":\"6099\",\"type\":\"Grid\"},{\"attributes\":{\"args\":{\"div\":{\"id\":\"6006\"},\"s1\":{\"id\":\"6078\"}},\"code\":\"\\n                            console.log('Running CustomJS callback now.');\\n                            var inds = s1.selected.indices;\\n                            console.log(inds);\\n                            var line = \\\"<span style=float:left;clear:left;font_size=13px><b> Selected index range: [\\\" + Math.min.apply(Math,inds) + \\\",\\\" + Math.max.apply(Math,inds) + \\\"]</b></span>\\\\n\\\";\\n                            console.log(line)\\n                            var text = div.text.concat(line);\\n                            var lines = text.split(\\\"\\\\n\\\")\\n                            if (lines.length > 35)\\n                                lines.shift();\\n                            div.text = lines.join(\\\"\\\\n\\\");\"},\"id\":\"6079\",\"type\":\"CustomJS\"},{\"attributes\":{\"coordinates\":null,\"data_source\":{\"id\":\"6118\"},\"glyph\":{\"id\":\"6121\"},\"group\":null,\"hover_glyph\":null,\"view\":{\"id\":\"6125\"}},\"id\":\"6124\",\"type\":\"GlyphRenderer\"},{\"attributes\":{\"below\":[{\"id\":\"6016\"}],\"center\":[{\"id\":\"6019\"},{\"id\":\"6023\"}],\"height\":200,\"js_event_callbacks\":{\"selectiongeometry\":[{\"id\":\"6039\"}]},\"left\":[{\"id\":\"6020\"}],\"renderers\":[{\"id\":\"6042\"},{\"id\":\"6044\"}],\"title\":{\"id\":\"6480\"},\"toolbar\":{\"id\":\"6031\"},\"width\":1000,\"x_range\":{\"id\":\"6008\"},\"x_scale\":{\"id\":\"6012\"},\"y_range\":{\"id\":\"6010\"},\"y_scale\":{\"id\":\"6014\"}},\"id\":\"6007\",\"subtype\":\"Figure\",\"type\":\"Plot\"},{\"attributes\":{\"source\":{\"id\":\"6038\"}},\"id\":\"6045\",\"type\":\"CDSView\"},{\"attributes\":{},\"id\":\"6064\",\"type\":\"CrosshairTool\"},{\"attributes\":{\"coordinates\":null,\"group\":null},\"id\":\"6482\",\"type\":\"Title\"},{\"attributes\":{\"below\":[{\"id\":\"6096\"}],\"center\":[{\"id\":\"6099\"},{\"id\":\"6103\"}],\"height\":200,\"js_event_callbacks\":{\"selectiongeometry\":[{\"id\":\"6119\"}]},\"left\":[{\"id\":\"6100\"}],\"renderers\":[{\"id\":\"6122\"},{\"id\":\"6124\"}],\"title\":{\"id\":\"6484\"},\"toolbar\":{\"id\":\"6111\"},\"width\":1000,\"x_range\":{\"id\":\"6008\"},\"x_scale\":{\"id\":\"6092\"},\"y_range\":{\"id\":\"6090\"},\"y_scale\":{\"id\":\"6094\"}},\"id\":\"6088\",\"subtype\":\"Figure\",\"type\":\"Plot\"},{\"attributes\":{},\"id\":\"6012\",\"type\":\"LinearScale\"},{\"attributes\":{\"tools\":[{\"id\":\"6064\"},{\"id\":\"6065\"},{\"id\":\"6066\"},{\"id\":\"6067\"},{\"id\":\"6068\"},{\"id\":\"6069\"},{\"id\":\"6086\"}]},\"id\":\"6071\",\"type\":\"Toolbar\"},{\"attributes\":{\"data\":{\"x\":{\"__ndarray__\":\"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\",\"dtype\":\"float64\",\"order\":\"little\",\"shape\":[898]},\"y\":{\"__ndarray__\":\"AAAAAAAAAAAAAAAAAAAAAAAAAAAAAAAAAAAAAAAAAAAAAAAAAAAAAAAAAAAAAAAAAAAAAAAAAAAAAAAAAAAAAAAAAAAAAAAAAAAAAAAAAAAAAAAAAAAAAAAAAAAAAAAAAAAAAAAAAAAAAAAAAAAAAAAAAAAAAAAAAAAAAAAAAAAAAAAAAAAAAAAAAAAAAAAAAAAAAAAAAAAAAAAAAAAAAAAAAAAAAAAAAAAAAAAAAAAAAAAAAAAAAAAAAAAAAAAAAAAAAAAAAAAAAAAAAAAAAAAAAAAAAAAAAAAAAAAAAAAAAAAAAAAAAAAAAAAAAAAAAAAAAAAAAAAAAAAAAAAAAAAAAAAAAAAAAAAAAAAAAAAAAAAAAAAAAAAAAAAAAAAAAAAAAAAAAAAAAAAAAAAAAAAAAAAAAAAAAAAAAAAAAAAAAAAAAAAAAAAAAAAAAAAAAAAAAAAAAAAAAAAAAAAAAAAAAAAAAAAAAAAAAAAAAAAAAAAAAAAAAAAAAAAAAAAAAAAAAAAAAAAAAAAAAAAAAAAAAAAAAAAAAAAAAAAAAAAAAAAAAAAAAAAAAAAAAAAAAAAAAAAAAAAAAAAAAAAAAAAAAAAAAAAAAAAAAAAAAAAAAAAAAAAAAAAAAAAAAAAAAAAAAAAAAAAAAAAAAAAAAAAAAAAAAAAAAAAAAAAAAAAAAAAAAAAAAAAAAAAAAAAAAAAAAAAAAAAAAAAAAAAAAAAAAAAAAAAAAAAAAAAAAAAAAAAAAAAAAAAAAAAAAAAAAAAAAAAAAAAAAAAAAAAAAAAAAAAAAAAAAAAAAAAAAAAAAAAAAAAAAAAAAAAAAAAAAAAAAAAAAAAAAAAAAAAAAAAAAAAAAAAAAAAAAAAAAAAAAAAAAAAAAAAAAAAAAAAAAAAAAAAAAAAAAAAAAAAAAAAAAAAAAAAAAAAAAAAAAAAAAAAAAAAAAAAAAAAAAAAAAAAAAAAAAAAAAAAAAAAAAAAAAAAAAAAAAAAAAAAAAAAAAAAAAAAAAAAAAAAAAAAAAAAAAAAAAAAAAAAAAAAAAAAAAAAAAAAAAAAAAAAAAAAAAAAAAAAAAAAAAAAAAAAAAAAAAAAAAAAAAAAAAAAAAAAAAAAAAAAAAAAAAAAAAAAAAAAAAAAAAAAAAAAAAAAAAAAAAAAAAAAAAAAAAAAAAAAAAAAAAAAAAAAAAAAAAAAAAAAAAAAAAAAAAAAAAAAAAAAAAAAAAAAAAAAAAAAAAAAAAAAAAAAAAAAAAAAAAAAAAAAAAAAAAAAAAAAAAAAAAAAAAAAAAAAAAAAAAAAAAAAAAAAAAAAAAAAAAAAAAAAAAAAAAAAAAAAAAAAAAAAAAAAAAAAAAAAAAAAAAAAAAAAAAAAAAAAAAAAAAAAAAAAAAAAAAAAAAAAAAAAAAAAAAAAAAAAAAAAAAAAAAAAAAAAAAAAAAAAAAAAAAAAAAAAAAAAAAAAAAAAAAAAAAAAAAAAAAAAAAAAAAAAAAAAAAAAAAAAAAAAAAAAAAAAAAAAAAAAAAAAAAAAAAAAAAAAAAAAAAAAAAAAAAAAAAAAAAAAAAAAAAAAAAAAAAAAAAAAAAAAAAAAAAAAAAAAAAAAAAAAAAAAAAAAAAAAAAAAAAAAAAAAAAAAAAAAAAAAAAAAAAAAAAAAAAAAAAAAAAAAAAAAAAAAAAAAAAAAAAAAAAAAAAAAAAAAAAAAAAAAAAAAAAAAAAAAAAAAAAAAAAAAAAAAAAAAAAAAAAAAAAAAAAAAAAAAAAAAAAAAAAAAAAAAAAAAAAAAAAAAAAAAAAAAAAAAAAAAAAAAAAAAAAAAAAAAAAAAAAAAAAAAAAAAAAAAAAAAAAAAAAAAAAAAAAAAAAAAAAAAAAAAAAAAAAAAAAAAAAAAAAAAAAAAAAAAAAAAAAAAAAAAAAAAAAAAAAAAAAAAAAAAAAAAAAAAAAAAAAAAAAAAAAAAAAAAAAAAAAAAAAAAAAAAAAAAAAAAAAAAAAAAAAAAAAAAAAAAAAAAAAAAAAAAAAAAAAAAAAAAAAAAAAAAAAAAAAAAAAAAAAAAAAAAAAAAAAAAAAAAAAAAAAAAAAAAAAAAAAAAAAAAAAAAAAAAAAAAAAAAAAAAAAAAAAAAAAAAAAAAAAAAAAAAAAAAAAAAAAAAAAAAAAAAAAAAAAAAAAAAAAAAAAAAAAAAAAAAAAAAAAAAAAAAAAAAAAAAAAAAAAAAAAAAAAAAAAAAAAAAAAAAAAAAAAAAAAAAAAAAAAAAAAAAAAAAAAAAAAAAAAAAAAAAAAAAAAAAAAAAAAAAAAAAAAAAAAAAAAAAAAAAAAAAAAAAAAAAAAAAAAAAAAAAAAAAAAAAAAAAAAAAAAAAAAAAAAAAAAAAAAAAAAAAAAAAAAAAAAAAAAAAAAAAAAAAAAAAAAAAAAAAAAAAAAAAAAAAAAAAAAAAAAAAAAAAAAAAAAAAAAAAAAAAAAAAAAAAAAAAAAAAAAAAAAAAAAAAAAAAAAAAAAAAAAAAAAAAAAAAAAAAAAAAAAAAAAAAAAAAAAAAAAAAAAAAAAAAAAAAAAAAAAAAAAAAAAAAAAAAAAAAAAAAAAAAAAAAAAAAAAAAAAAAAAAAAAAAAAAAAAAAAAAAAAAAAAAAAAAAAAAAAAAAAAAAAAAAAAAAAAAAAAAAAAAAAAAAAAAAAAAAAAAAAAAAAAAAAAAAAAAAAAAAAAAAAAAAAAAAAAAAAAAAAAAAAAAAAAAAAAAAAAAAAAAAAAAAAAAAAAAAAAAAAAAAAAAAAAAAAAAAAAAAAAAAAAAAAAAAAAAAAAAAAAAAAAAAAAAAAAAAAAAAAAAAAAAAAAAAAAAAAAAAAAAAAAAAAAAAAAAAAAAAAAAAAAAAAAAAAAAAAAAAAAAAAAAAAAAAAAAAAAAAAAAAAAAAAAAAAAAAAAAAAAAAAAAAAAAAAAAAAAAAAAAAAAAAAAAAAAAAAAAAAAAAAAAAAAAAAAAAAAAAAAAAAAAAAAAAAAAAAAAAAAAAAAAAAAAAAAAAAAAAAAAAAAAAAAAAAAAAAAAAAAAAAAAAAAAAAAAAAAAAAAAAAAAAAAAAAAAAAAAAAAAAAAAAAAAAAAAAAAAAAAAAAAAAAAAAAAAAAAAAAAAAAAAAAAAAAAAAAAAAAAAAAAAAAAAAAAAAAAAAAAAAAAAAAAAAAAAAAAAAAAAAAAAAAAAAAAAAAAAAAAAAAAAAAAAAAAAAAAAAAAAAAAAAAAAAAAAAAAAAAAAAAAAAAAAAAAAAAAAAAAAAAAAAAAAAAAAAAAAAAAAAAAAAAAAAAAAAAAAAAAAAAAAAAAAAAAAAAAAAAAAAAAAAAAAAAAAAAAAAAAAAAAAAAAAAAAAAAAAAAAAAAAAAAAAAAAAAAAAAAAAAAAAAAAAAAAAAAAAAAAAAAAAAAAAAAAAAAAAAAAAAAAAAAAAAAAAAAAAAAAAAAAAAAAAAAAAAAAAAAAAAAAAAAAAAAAAAAAAAAAAAAAAAAAAAAAAAAAAAAAAAAAAAAAAAAAAAAAAAAAAAAAAAAAAAAAAAAAAAAAAAAAAAAAAAAAAAAAAAAAAAAAAAAAAAAAAAAAAAAAAAAAAAAAAAAAAAAAAAAAAAAAAAAAAAAAAAAAAAAAAAAAAAAAAAAAAAAAAAAAAAAAAAAAAAAAAAAAAAAAAAAAAAAAAAAAAAAAAAAAAAAAAAAAAAAAAAAAAAAAAAAAAAAAAAAAAAAAAAAAAAAAAAAAAAAAAAAAAAAAAAAAAAAAAAAAAAAAAAAAAAAAAAAAAAAAAAAAAAAAAAAAAAAAAAAAAAAAAAAAAAAAAAAAAAAAAAAAAAAAAAAAAAAAAAAAAAAAAAAAAAAAAAAAAAAAAAAAAAAAAAAAAAAAAAAAAAAAAAAAAAAAAAAAAAAAAAAAAAAAAAAAAAAAAAAAAAAAAAAAAAAAAAAAAAAAAAAAAAAAAAAAAAAAAAAAAAAAAAAAAAAAAAAAAAAAAAAAAAAAAAAAAAAAAAAAAAAAAAAAAAAAAAAAAAAAAAAAAAAAAAAAAAAAAAAAAAAAAAAAAAAAAAAAAAAAAAAAAAAAAAAAAAAAAAAAAAAAAAAAAAAAAAAAAAAAAAAAAAAAAAAAAAAAAAAAAAAAAAAAAAAAAAAAAAAAAAAAAAAAAAAAAAAAAAAAAAAAAAAAAAAAAAAAAAAAAAAAAAAAAAAAAAAAAAAAAAAAAAAAAAAAAAAAAAAAAAAAAAAAAAAAAAAAAAAAAAAAAAAAAAAAAAAAAAAAAAAAAAAAAAAAAAAAAAAAAAAAAAAAAAAAAAAAAAAAAAAAAAAAAAAAAAAAAAAAAAAAAAAAAAAAAAAAAAAAAAAAAAAAAAAAAAAAAAAAAAAAAAAAAAAAAAAAAAAAAAAAAAAAAAAAAAAAAAAAAAAAAAAAAAAAAAAAAAAAAAAAAAAAAAAAAAAAAAAAAAAAAAAAAAAAAAAAAAAAAAAAAAAAAAAAAAAAAAAAAAAAAAAAAAAAAAAAAAAAAAAAAAAAAAAAAAAAAAAAAAAAAAAAAAAAAAAAAAAAAAAAAAAAAAAAAAAAAAAAAAAAAAAAAAAAAAAAAAAAAAAAAAAAAAAAAAAAAAAAAAAAAAAAAAAAAAAAAAAAAAAAAAAAAAAAAAAAAAAAAAAAAAAAAAAAAAAAAAAAAAAAAAAAAAAAAAAAAAAAAAAAAAAAAAAAAAAAAAAAAAAAAAAAAAAAAAAAAAAAAAAAAAAAAAAAAAAAAAAAAAAAAAAAAAAAAAAAAAAAAAAAAAAAAAAAAAAAAAAAAAAAAAAAAAAAAAAAAAAAAAAAAAAAAAAAAAAAAAAAAAAAAAAAAAAAAAAAAAAAAAAAAAAAAAAAAAAAAAAAAAAAAAAAAAAAAAAAAAAAAAAAAAAAAAAAAAAAAAAAAAAAAAAAAAAAAAAAAAAAAAAAAAAAAAAAAAAAAAAAAAAAAAAAAAAAAAAAAAAAAAAAAAAAAAAAAAAAAAAAAAAAAAAAAAAAAAAAAAAAAAAAAAAAAAAAAAAAAAAAAAAAAAAAAAAAAAAAAAAAAAAAAAAAAAAAAAAAAAAAAAAAAAAAAAAAAAAAAAAAAAAAAAAAAAAAAAAAAAAAAAAAAAAAAAAAAAAAAAAAAAAAAAAAAAAAAAAAAAAAAAAAAAAAAAAAAAAAAAAAAAAAAAAAAAAAAAAAAAAAAAAAAAAAAAAAAAAAAAAAAAAAAAAAAAAAAAAAAAAAAAAAAAAAAAAAAAAAAAAAAAAAAAAAAAAAAAAAAAAAAAAAAAAAAAAAAAAAAAAAAAAAAAAAAAAAAAAAAAAAAAAAAAAAAAAAAAAAAAAAAAAAAAAAAAAAAAAAAAAAAAAAAAAAAAAAAAAAAAAAAAAAAAAAAAAAAAAAAAAAAAAAAAAAAAAAAAAAAAAAAAAAAAAAAAAAAAAAAAAAAAAAAAAAAAAAAAAAAAAAAAAAAAAAAAAAAAAAAAAAAAAAAAAAAAAAAAAAAAAAAAAAAAAAAAAAAAAAAAAAAAAAAAAAAAAAAAAAAAAAAAAAAAAAAAAAAAAAAAAAAAAAAAAAAAAAAAAAAAAAAAAAAAAAAAAAAAAAAAAAAAAAAAAAAAAAAAAAAAAAAAAAAAAAAAAAAAAAAAAAAAAAAAAAAAAAAAAAAAAAAAAAAAAAAAAAAAAAAAAAAAAAAAAAAAAAAAAAAAAAAAAAAAAAAAAAAAAAAAAAAAAAAAAAAAAAAAAAAAAAAAAAAAAAAAAAAAAAAAAAAAAAAAAAAAAAAAAAAAAAAAAAAAAAAAAAAAAAAAAAAAAAAAAAAAAAAAAAAAAAAAAAAAAAAAAAAAAAAAAAAAAAAAAAAAAAAAAAAAAAAAAAAAAAAAAAAAAAAAAAAAAAAAAAAAAAAAAAAAAAAAAAAAAAAAAAAAAAAAAAAAAAAAAAAAAAAAAAAAAAAAAAAAAAAAAAAAAAAAAAAAAAAAAAAAAAAAAAAAAAAAAAAAAAAAAAAAAAAAAAAAAAAAAAAAAAAAAAAAAAAAAAAAAAAAAAAAAAAAAAAAAAAAAAAAAAAAAAAAAAAAAAAAAAAAAAAAAAAAAAAAAAAAAAAAAAAAAAAAAAAAAAAAAAAAAAAAAAAAAAAAAAAAAAAAAAAAAAAAAAAAAAAAAAAAAAAAAAAAAAAAAAAAAAAAAAAAAAAAAAAAAAAAAAAAAAAAAAAAAAAAAAAAAAAAAAAAAAAAAAAAAAAAAAAAAAAAAAAAAAAAAAAAAAAAAAAAAAAAAAAAAAAAAAAAAAAAAAAAAAAAAAAAAAAAAAAAAAAAAAAAAAAAAAAAAAAAAAAAAAAAAAAAAAAAAAAAAAAAAAAAAAAAAAAAAAAAAAAAAAAAAAAAAAAAAAAAAAAAAAAAAAAAAAAAAAAAAAAAAAAAAAAAAAAAAAAAAAAAAAAAAAAAAAAAAAAAAAAAAAAAAAAAAAAAAAAAAAAAAAAAAAAAAAAAAAAAAAAAAAAAAAAAAAAAAAAAAAAAAAAAAAAAAAAAAAAAAAAAAAAAAAAAAAAAAAAAAAAAAAAAAAAAAAAAAAAAAAAAAAAAAAAAAAAAAAAAAAAAAAAAAAAAAAAAAAAAAAAAAAAAAAAAAAAAAAAAAAAAAAAAAAAAAAAAAAAAAAAAAAAAAAAAAAAAAAAAAAAAAAAAAAAAAAAAAAAAAAAAAAAAAAAAAAAAAAAAAAAAAAAAAAAAAAAAAAAAAAAAAAAAAAAAAAAAAAAAAAAAAAAAAAAAAAAAAAAAAAAAAAAAAAAAAAAAAAAAAAAAAAAAAAAAAAAAAAAAAAAAAAAAAAAAAAAAAAAAAAAAAAAAAAAAAAAAAAAAAAAAAAAAAAAAAAAAAAAAAAAAAAAAAAAAAAAAAAAAAAAAAAAAAAAAAAAAAAAAAAAAAAAAAAAAAAAAAAAAAAAAAAAAAAAAAAAAAAAAAAAAAAAAAAAAAAAAAAAAAAAAAAAAAAAAAAAAAAAAAAAAAAAAAAAAAAAAAAAAAAAAAAAAAAAAAAAAAAAAAAAAAAAAAAAAAAAAAAAAAAAAAAAAAAAAAAAAAAAAAAAAAAAAAAAAAAAAAAAAAAAAAAAAAAAAAAAAAAAAAAAAAAAAAAAAAAAAAAAAAAAAAAAAAAAAAAAAAAAAAAAAAAAAAAAAAAAAAAAAAAAAAAAAAAAAAAAAAAAAAAAAAAAAAAAAAAAAAAAAAAAAAAAAAAAAAAAAAAAAAAAAAAAAAAAAAAAAAAAAAAAAAAAAAAAAAAAAAAAAAAAAAAAAAAAAAAAAAAAAAAAAAAAAAAAAAAAAAAAAAAAAAAAAAAAAAAAAAAAAAAAAAAAAAAAAAAAAAAAAAAAAAAAAAAAAAAAAAAAAAAAAAAAAAAAAAAAAAAAAAAAAAAAAAAAAAAAAAAAAAAAAAAAAAAAAAAAAAAAAAAAAAAAAAAAAAAAAAAAAAAAAAAAAAAAAAAAAAAAAAAAAAAAAAAAAAAAAAAAAAAAAAAAAAAAAAAAAAAAAAAAAAAAAAAAAAAAAAAAAAAAAAAAAAAAAAAAAAAAAAAAAAAAAAAAAAAAAAAAAAAAAAAAAAAAAAAAAAAAAAAAAAAAAAAAAAAAAAAAAAAAAAAAAAAAAAAAAAAAAAAAAAAAAAAAAAAAAAAAAAAAAAAAAAAAAAAPA/AAAAAAAA8D8AAAAAAADwPwAAAAAAAPA/AAAAAAAA8D8AAAAAAADwPwAAAAAAAPA/AAAAAAAA8D8AAAAAAADwPwAAAAAAAAAAAAAAAAAA8D8AAAAAAADwPwAAAAAAAAAAAAAAAAAA8D8AAAAAAADwPwAAAAAAAPA/AAAAAAAAAAAAAAAAAADwPwAAAAAAAPA/AAAAAAAA8D8AAAAAAAAAAAAAAAAAAAAAAAAAAAAAAAAAAAAAAAAAAAAAAAAAAAAAAAAAAAAA8D8AAAAAAAAAAAAAAAAAAAAAAAAAAAAAAAAAAAAAAAAAAAAAAAAAAAAAAAAAAAAAAAAAAAAAAAAAAAAAAAAAAAAAAAAAAAAAAAAAAAAAAAAAAAAAAAAAAPA/AAAAAAAAAEAAAAAAAAAAQAAAAAAAAAAAAAAAAAAAAAAAAAAAAAAQQAAAAAAAAAAAAAAAAAAAAAAAAAAAAAAUQAAAAAAAAAAAAAAAAAAAAAAAAAAAAAAQQAAAAAAAAAAAAAAAAAAAAAAAAAAAAAAIQAAAAAAAAPA/AAAAAAAAAAAAAAAAAAAUQAAAAAAAAPA/AAAAAAAAFEAAAAAAAAAQQAAAAAAAAAhAAAAAAAAACEAAAAAAAAAQQAAAAAAAAPA/AAAAAAAAAAAAAAAAAAAQQAAAAAAAADxAAAAAAAAASUAAAAAAAAAAAAAAAAAAAAAAAAAAAAAAAAAAAAAAAADwPwAAAAAAgEBAAAAAAAAAAAAAAAAAAAAAAAAAAAAAAAAAAAAAAAAAAAAAAAAAAAAAAAAAAAAAAAAAAAAAAAAAAAAAAAAAAAAAAAAAAAAAAABAAAAAAAAAAAAAAAAAAAAAAAAAAAAAAAAAAAAAAAAAAAAAAAAAAAAAAAAAAAAAAAAAAAAAAAAAAAAAAAAAAAAAAAAAAAAAAAAAAAAAAAAACEAAAAAAAAAAAAAAAAAAAAAAAAAAAAAAEEAAAAAAAAAAAAAAAAAAAAAAAAAAAAAACEAAAAAAAAAAAAAAAAAAABxAAAAAAAAAAAAAAAAAAAAAAAAAAAAAAPA/AAAAAAAAFEAAAAAAAAAUQAAAAAAAABBAAAAAAAAAEEAAAAAAAAAIQAAAAAAAABxAAAAAAAAACEAAAAAAAAAAAAAAAAAAAAAAAAAAAAAA8D8AAAAAAABBQAAAAAAAAAAAAAAAAAAAAAAAAAAAAAAAAAAAAAAAgFhAAAAAAAAAAAAAAAAAAAAAAAAAAAAAAAAAAAAAAACATUAAAAAAAABYQAAAAAAAAAAAAAAAAAAAAAAAAAAAAAAAAAAAAAAAAAAAAAAAAAAAAAAAAAAAAAAAAAAAAAAAAPA/AAAAAAAANEAAAAAAAAAAAAAAAAAAAAAAAAAAAAAA8D8AAAAAAABPQAAAAAAAAAAAAAAAAAAAAAAAAAAAAAAAQAAAAAAAAPA/AAAAAAAAAAAAAAAAAAAAAAAAAAAAwFBAAAAAAAAAWEAAAAAAAADwPwAAAAAAAAAAAAAAAAAA8D8AAAAAAMBYQAAAAAAAAAAAAAAAAAAAAAAAAAAAAAAAQAAAAAAAAAAAAAAAAAAAAAAAAAAAAADwPwAAAAAAAFBAAAAAAAAA8D8AAAAAAADwPwAAAAAAAAAAAAAAAAAAAAAAAAAAAAAAAAAAAAAAAAAAAAAAAACATEAAAAAAAAAAAAAAAAAAAAAAAAAAAAAAAAAAAAAAAMBXQAAAAAAAgFhAAAAAAAAAAAAAAAAAAAAAAAAAAAAAAABAAAAAAAAA8D8AAAAAAAAAAAAAAAAAAAAAAAAAAAAAAAAAAAAAAADwPwAAAAAAAAAAAAAAAAAAKEAAAAAAAAAAAAAAAAAAAAAAAAAAAAAAAEAAAAAAAAAAAAAAAAAAAAAAAAAAAAAAAAAAAAAAAABVQAAAAAAAQFhAAAAAAAAAAAAAAAAAAADwPwAAAAAAAAAAAAAAAAAAQEA=\",\"dtype\":\"float64\",\"order\":\"little\",\"shape\":[898]}},\"selected\":{\"id\":\"6511\"},\"selection_policy\":{\"id\":\"6510\"}},\"id\":\"6118\",\"type\":\"ColumnDataSource\"},{\"attributes\":{\"bottom_units\":\"screen\",\"coordinates\":null,\"fill_alpha\":0.5,\"fill_color\":\"lightgrey\",\"group\":null,\"left_units\":\"screen\",\"level\":\"overlay\",\"line_alpha\":1.0,\"line_color\":\"black\",\"line_dash\":[4,4],\"line_width\":2,\"right_units\":\"screen\",\"syncable\":false,\"top_units\":\"screen\"},\"id\":\"6070\",\"type\":\"BoxAnnotation\"},{\"attributes\":{\"axis_label\":\"CPUUtilization-nodeid:algo-1_total\",\"coordinates\":null,\"formatter\":{\"id\":\"6487\"},\"group\":null,\"major_label_policy\":{\"id\":\"6488\"},\"ticker\":{\"id\":\"6021\"}},\"id\":\"6020\",\"type\":\"LinearAxis\"},{\"attributes\":{\"data\":{\"x\":{\"__ndarray__\":\"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\",\"dtype\":\"float64\",\"order\":\"little\",\"shape\":[898]},\"y\":{\"__ndarray__\":\"AAAAAAAAAAAAAAAAAAAAAAAAAAAAAAAAAAAAAAAAAAAAAAAAAAAAAAAAAAAAAAAAAAAAAAAAAAAAAAAAAAAAAAAAAAAAAAAAAAAAAAAAAAAAAAAAAAAAAAAAAAAAAAAAAAAAAAAAAAAAAAAAAAAAAAAAAAAAAAAAAAAAAAAAAAAAAAAAAAAAAAAAAAAAAAAAAAAAAAAAAAAAAAAAAAAAAAAAAAAAAAAAAAAAAAAAAAAAAAAAAAAAAAAAAAAAAAAAAAAAAAAAAAAAAAAAAAAAAAAAAAAAAAAAAAAAAAAAAAAAAAAAAAAAAAAAAAAAAAAAAAAAAAAAAAAAAAAAAAAAAAAAAAAAAAAAAAAAAAAAAAAAAAAAAAAAAAAAAAAAAAAAAAAAAAAAAAAAAAAAAAAAAAAAAAAAAAAAAAAAAAAAAAAAAAAAAAAAAAAAAAAAAAAAAAAAAAAAAAAAAAAAAAAAAAAAAAAAAAAAAAAAAAAAAAAAAAAAAAAAAAAAAAAAAAAAAAAAAAAAAAAAAAAAAAAAAAAAAAAAAAAAAAAAAAAAAAAAAAAAAAAAAAAAAAAAAAAAAAAAAAAAAAAAAAAAAAAAAAAAAAAAAAAAAAAAAAAAAAAAAAAAAAAAAAAAAAAAAAAAAAAAAAAAAAAAAAAAAAAAAAAAAAAAAAAAAAAAAAAAAAAAAAAAAAAAAAAAAAAAAAAAAAAAAAAAAAAAAAAAAAAAAAAAAAAAAAAAAAAAAAAAAAAAAAAAAAAAAAAAAAAAAAAAAAAAAAAAAAAAAAAAAAAAAAAAAAAAAAAAAAAAAAAAAAAAAAAAAAAAAAAAAAAAAAAAAAAAAAAAAAAAAAAAAAAAAAAAAAAAAAAAAAAAAAAAAAAAAAAAAAAAAAAAAAAAAAAAAAAAAAAAAAAAAAAAAAAAAAAAAAAAAAAAAAAAAAAAAAAAAAAAAAAAAAAAAAAAAAAAAAAAAAAAAAAAAAAAAAAAAAAAAAAAAAAAAAAAAAAAAAAAAAAAAAAAAAAAAAAAAAAAAAAAAAAAAAAAAAAAAAAAAAAAAAAAAAAAAAAAAAAAAAAAAAAAAAAAAAAAAAAAAAAAAAAAAAAAAAAAAAAAAAAAAAAAAAAAAAAAAAAAAAAAAAAAAAAAAAAAAAAAAAAAAAAAAAAAAAAAAAAAAAAAAAAAAAAAAAAAAAAAAAAAAAAAAAAAAAAAAAAAAAAAAAAAAAAAAAAAAAAAAAAAAAAAAAAAAAAAAAAAAAAAAAAAAAAAAAAAAAAAAAAAAAAAAAAAAAAAAAAAAAAAAAAAAAAAAAAAAAAAAAAAAAAAAAAAAAAAAAAAAAAAAAAAAAAAAAAAAAAAAAAAAAAAAAAAAAAAAAAAAAAAAAAAAAAAAAAAAAAAAAAAAAAAAAAAAAAAAAAAAAAAAAAAAAAAAAAAAAAAAAAAAAAAAAAAAAAAAAAAAAAAAAAAAAAAAAAAAAAAAAAAAAAAAAAAAAAAAAAAAAAAAAAAAAAAAAAAAAAAAAAAAAAAAAAAAAAAAAAAAAAAAAAAAAAAAAAAAAAAAAAAAAAAAAAAAAAAAAAAAAAAAAAAAAAAAAAAAAAAAAAAAAAAAAAAAAAAAAAAAAAAAAAAAAAAAAAAAAAAAAAAAAAAAAAAAAAAAAAAAAAAAAAAAAAAAAAAAAAAAAAAAAAAAAAAAAAAAAAAAAAAAAAAAAAAAAAAAAAAAAAAAAAAAAAAAAAAAAAAAAAAAAAAAAAAAAAAAAAAAAAAAAAAAAAAAAAAAAAAAAAAAAAAAAAAAAAAAAAAAAAAAAAAAAAAAAAAAAAAAAAAAAAAAAAAAAAAAAAAAAAAAAAAAAAAAAAAAAAAAAAAAAAAAAAAAAAAAAAAAAAAAAAAAAAAAAAAAAAAAAAAAAAAAAAAAAAAAAAAAAAAAAAAAAAAAAAAAAAAAAAAAAAAAAAAAAAAAAAAAAAAAAAAAAAAAAAAAAAAAAAAAAAAAAAAAAAAAAAAAAAAAAAAAAAAAAAAAAAAAAAAAAAAAAAAAAAAAAAAAAAAAAAAAAAAAAAAAAAAAAAAAAAAAAAAAAAAAAAAAAAAAAAAAAAAAAAAAAAAAAAAAAAAAAAAAAAAAAAAAAAAAAAAAAAAAAAAAAAAAAAAAAAAAAAAAAAAAAAAAAAAAAAAAAAAAAAAAAAAAAAAAAAAAAAAAAAAAAAAAAAAAAAAAAAAAAAAAAAAAAAAAAAAAAAAAAAAAAAAAAAAAAAAAAAAAAAAAAAAAAAAAAAAAAAAAAAAAAAAAAAAAAAAAAAAAAAAAAAAAAAAAAAAAAAAAAAAAAAAAAAAAAAAAAAAAAAAAAAAAAAAAAAAAAAAAAAAAAAAAAAAAAAAAAAAAAAAAAAAAAAAAAAAAAAAAAAAAAAAAAAAAAAAAAAAAAAAAAAAAAAAAAAAAAAAAAAAAAAAAAAAAAAAAAAAAAAAAAAAAAAAAAAAAAAAAAAAAAAAAAAAAAAAAAAAAAAAAAAAAAAAAAAAAAAAAAAAAAAAAAAAAAAAAAAAAAAAAAAAAAAAAAAAAAAAAAAAAAAAAAAAAAAAAAAAAAAAAAAAAAAAAAAAAAAAAAAAAAAAAAAAAAAAAAAAAAAAAAAAAAAAAAAAAAAAAAAAAAAAAAAAAAAAAAAAAAAAAAAAAAAAAAAAAAAAAAAAAAAAAAAAAAAAAAAAAAAAAAAAAAAAAAAAAAAAAAAAAAAAAAAAAAAAAAAAAAAAAAAAAAAAAAAAAAAAAAAAAAAAAAAAAAAAAAAAAAAAAAAAAAAAAAAAAAAAAAAAAAAAAAAAAAAAAAAAAAAAAAAAAAAAAAAAAAAAAAAAAAAAAAAAAAAAAAAAAAAAAAAAAAAAAAAAAAAAAAAAAAAAAAAAAAAAAAAAAAAAAAAAAAAAAAAAAAAAAAAAAAAAAAAAAAAAAAAAAAAAAAAAAAAAAAAAAAAAAAAAAAAAAAAAAAAAAAAAAAAAAAAAAAAAAAAAAAAAAAAAAAAAAAAAAAAAAAAAAAAAAAAAAAAAAAAAAAAAAAAAAAAAAAAAAAAAAAAAAAAAAAAAAAAAAAAAAAAAAAAAAAAAAAAAAAAAAAAAAAAAAAAAAAAAAAAAAAAAAAAAAAAAAAAAAAAAAAAAAAAAAAAAAAAAAAAAAAAAAAAAAAAAAAAAAAAAAAAAAAAAAAAAAAAAAAAAAAAAAAAAAAAAAAAAAAAAAAAAAAAAAAAAAAAAAAAAAAAAAAAAAAAAAAAAAAAAAAAAAAAAAAAAAAAAAAAAAAAAAAAAAAAAAAAAAAAAAAAAAAAAAAAAAAAAAAAAAAAAAAAAAAAAAAAAAAAAAAAAAAAAAAAAAAAAAAAAAAAAAAAAAAAAAAAAAAAAAAAAAAAAAAAAAAAAAAAAAAAAAAAAAAAAAAAAAAAAAAAAAAAAAAAAAAAAAAAAAAAAAAAAAAAAAAAAAAAAAAAAAAAAAAAAAAAAAAAAAAAAAAAAAAAAAAAAAAAAAAAAAAAAAAAAAAAAAAAAAAAAAAAAAAAAAAAAAAAAAAAAAAAAAAAAAAAAAAAAAAAAAAAAAAAAAAAAAAAAAAAAAAAAAAAAAAAAAAAAAAAAAAAAAAAAAAAAAAAAAAAAAAAAAAAAAAAAAAAAAAAAAAAAAAAAAAAAAAAAAAAAAAAAAAAAAAAAAAAAAAAAAAAAAAAAAAAAAAAAAAAAAAAAAAAAAAAAAAAAAAAAAAAAAAAAAAAAAAAAAAAAAAAAAAAAAAAAAAAAAAAAAAAAAAAAAAAAAAAAAAAAAAAAAAAAAAAAAAAAAAAAAAAAAAAAAAAAAAAAAAAAAAAAAAAAAAAAAAAAAAAAAAAAAAAAAAAAAAAAAAAAAAAAAAAAAAAAAAAAAAAAAAAAAAAAAAAAAAAAAAAAAAAAAAAAAAAAAAAAAAAAAAAAAAAAAAAAAAAAAAAAAAAAAAAAAAAAAAAAAAAAAAAAAAAAAAAAAAAAAAAAAAAAAAAAAAAAAAAAAAAAAAAAAAAAAAAAAAAAAAAAAAAAAAAAAAAAAAAAAAAAAAAAAAAAAAAAAAAAAAAAAAAAAAAAAAAAAAAAAAAAAAAAAAAAAAAAAAAAAAAAAAAAAAAAAAAAAAAAAAAAAAAAAAAAAAAAAAAAAAAAAAAAAAAAAAAAAAAAAAAAAAAAAAAAAAAAAAAAAAAAAAAAAAAAAAAAAAAAAAAAAAAAAAAAAAAAAAAAAAAAAAAAAAAAAAAAAAAAAAAAAAAAAAAAAAAAAAAAAAAAAAAAAAAAAAAAAAAAAAAAAAAAAAAAAAAAAAAAAAAAAAAAAAAAAAAAAAAAAAAAAAAAAAAAAAAAAAAAAAAAAAAAAAAAAAAAAAAAAAAAAAAAAAAAAAAAAAAAAAAAAAAAAAAAAAAAAAAAAAAAAAAAAAAAAAAAAAAAAAAAAAAAAAAAAAAAAAAAAAAAAAAAAAAAAAAAAAAAAAAAAAAAAAAAAAAAAAAAAAAAAAAAAAAAAAAAAAAAAAAAAAAAAAAAAAAAAAAAAAAAAAAAAAAAAAAAAAAAAAAAAAAAAAAAAAAAAAAAAAAAAAAAAAAAAAAAAAAAAAAAAAAAAAAAAAAAAAAAAAAAAAAAAAAAAAAAAAAAAAAAAAAAAAAAAAAAAAAAAAAAAAAAAAAAAAAAAAAAAAAAAAAAAAAAAAAAAAAAAAAAAAAAAAAAAAAAAAAAAAAAAAAAAAAAAAAAAAAAAAAAAAAAAAAAAAAAAAAAAAAAAAAAAAAAAAAAAAAAAAAAAAAAAAAAAAAAAAAAAAAAAAAAAAAAAAAAAAAAAAAAAAAAAAAAAAAAAAAAAAAAAAAAAAAAAAAAAAAAAAAAAAAAAAAAAAAAAAAAAAAAAAAAAAAAAAAAAAAAAAAAAAAAAAAAAAAAAAAAAAAAAAAAAAAAAAAAAAAAAAAAAAAAAAAAAAAAAAAAAAAAAAAAAAAAAAAAAAAAAAAAAAAAAAAAAAAAAAAAAAAAAAAAAAAAAAAAAAAAAAAAAAAAAAAAAAAAAAAAAAAAAAAAAAAAAAAAAAAAAAAAAAAAAAAAAAAAAAAAAAAAAAAAAAAAAAAAAAAAAAAAAAAAAAAAAAAAAAAAAAAAAAAAAAAAAAAAAAAAAAAAAAAAAAAAAAAAAAAAAAAAAAAAAAAAAAAAAAAAAAAAAAAAAAAAAAAAAAAAAAAAAAAAAAAAAAAAAAAAAAAAAAAAAAAAAAAAAAAAAAAAAAAAAAAAAAAAAAAAAAAAAAAAAAAAAAAAAAAAAAAAAAAAAAAAAAAAAAAAAAAAAAAAAAAAAAAAAAAAAAAAAAAAAAAAAAAAAAAAAAAAAAAAAAAAAAAAAAAAAAAAAAAAAAAAAAAAAAAAAAAAAAAAAAAAAAAAAAAAAAAAAAAAAAAAAAAAAAAAAAAAAAAAAAAAAAAAAAAAAAAAAAAAAAAAAAAAAAAAAAAAAAAAAAAAAAAAAAAAAAAAAAAAAAAAAAAAAAAAAAAAAAAAAAAAAAAAAAAAAAAAAAAAAAAAAAAAAAAAAAAAAAAAAAAAAAAAAAAAAAAAAAAAAAAAAAAAAAAAAAAAAAAAAAAAAAAAAAAAAAAAAAAAAAAAAAAAAAAAAAAAAAAAAAAAAAAAAAAAAAAAAAAAAAAAAAAAAAAAAAAAAAAAAAAAAAAAAAAAAAAAAAAAAAAAAAAAAAAAAAAAAAAAAAAAAAAAAAAAAAAAAAAAAAAAAAAAAAAAAAAAAAAAAAAAAAAAAAAAAAAAAAAAAAAAAAAAAAAAAAAAAAAAAAAAAAAAAAAAAAAAAAAAAAAAAAAAAAAAAAAAAAAAAAAAAAAAAAAAAAAAAAAAAAAAAAAAAAAAAAAAAAAAAAAAAAAAAAAAAAAAAAAAAAAAAAAAAAAAAAAAAAAAAAAAAAAAAAAAAAAAAAAAAAAAAAAAAAAAAAAAAAAAAAAAAAAAAAAAAAAAAAAAAAAAAAAAAAAAAAAAAAAAAAAAAAAAAAAAAAAAAAAAAAAAAAAAAAAAAAAAAAAAAAAAAAAAAAAAAAAAAAAAAAAAAAAAAAAAAAAAAAAAAAAAAAAAAAAAAAAAAAAAAAAAAAAAAAAAAAAAAAAAAAAAAAAAAAAAAAAAAAAAAAAAAAAAAAAAAAAAAAAAAAAAAAAAAAAAAAAAAAAAAAAAAAAAAAAAAAAAAAAAAAAAAAAAAAAAAAAAAAAAAAAAAAAAAAAAAAAAAAAAAAAAAAAAAAAAAAAAAAAAAAAAAAAAAAAAAAAAAAAAAAAAAAAAAAAAAAAAAAAAAAAAAAAAAAAAAAAAAAAAAAAAAAAAAAAAAAAAAAAAAAAAAAAAAAAAAAAAAAAAAAAAAAAAAAAAAAAAAAAAAAAAAAAAAAAAAAAAAAAAAAAAAAAAAAAAAAAAAAAAAAAAAAAAAAAAAAAAAAAAAAAAAAAAAAAAAAAAAAAAAAAAAAAAAAAAAAAAAAAAAAAAAAAAAAAAAAAAAAAAAAAAAAAAAAAAAAAAAAAAAAAAAAAAAAAAAAAAAAAAAAAAAAAAAAAAAAAAAAAAAAAAAAAAAAAAAAAAAAAAAAAAAAAAAAAAAAAAAAAAAAAAAAAAAAAAAAAAAAAAAAAAAAAAAAAAAAAAAAAAAAAAAAAAAAAAAAAAAAAAAAAAAAAAAAAAAAAAAAAAAAAAAAAAAAAAAAAAAAAAAAAAAAAAAAAAAAAAAAAAAAAAAAAAAAAAAAAAAAAAAAAAAAAAAAAAAAAAAAAAAAAAAAAAAAAAAAAAAAAAAAAAAAAAAAAAAAAAAAAAAAAAAAAAAAAAAAAAAAAAAAAAAAAAAAAAAAAAAAAAAAAAAAAAAAAAAAAAAAAAAAAAAAAAAAAAAAAAAAAAAAAAAAAAAAAAAAAAAAAAAAAAAAAAAAAAAAAAAAAAAAAAAAAAAAAAAAAAAAAAAAAAAAAAAAAAAAAAAAAAAAAAAAAAAAAAAAAAAAAAAAAAAAAAAAAAAAAAAAAAAAAAAAAAAAAAAAAAAAAAAAAAAAAAAAAAAAAAAAAAAAAAAAAAAAAAAAAAAAAAAAAAAAAAAAAAAAAAAAAAAAAAAAAAAAAAAAAAAAAAAAAAAAAAAAAAAAAAAAAAAAAAAAAAAAAAAAAAAAAAAAAAAAAAAAAAAAAAAAAAAAAAAAAAAAAAAAAAAAAAAAAAAAAAAAAAAAAAAAAAAAAAAAAAAAAAAAAAAAAAAAAAAAAAAAAAAAAAAAAAAAAAAAAAAAAAAAAAAAAAAAAAAAAAAAAAAAAAAAAAAAAAAAAAAAAAAAAAAAAAAAAAAAAAAAAAAAAAAAAAAAAAAAAAAAAAAAAAAAAAAAAAAAAAAAAAAAAAAAAAAAAAAAAAAAAAAAAAAAAAAAAAAAAAAAAAAAAAAAAAAAAAAAAAAAAAAAAAAAAAAAAAAAAAAAAAAAAAAAAAAAAAAAAAAAAAAAAAAAAAAAAAAAAAAAAAAAAAAAAAAAAAAAAAAAAAAAAAAAAAAAAAAAAAAAAAAAAAAAAAAAAAAAAAAAAAAAAAAAAAAAAAAAAAAAAAAAAAAAAAAAAAAAAAAAAAAAAAAAAAAAAAAAAAAAAAAAAAAAAAAAAAAAAAAAAAAAAAAAAAAAAAAAAAAAAAAAAAAAAAAAAAAAAAAAAAAAAAAAAAAAAAAAAAAAAAAAAAAAAAAAAAAAAAAAAAAAAAAAAAAAAAAAAAAAAAAAAAAAAAAAAAAAAAAAAAAAAAAAAAAAAAAAAAAAAAAAAAAAAAAAAAAAAAAAAAAAAAAAAAAAAAAAAAAAAAAAAAAAAAAAAAAAAAAAAAAAAAAAAAAAAAAAAAAAAAAAAAAAAAAAAAAAAAAAAAAAAAAAAAAAAAAAAAAAAAAAAAAAAAAAAAAAAAAAAAAAAAAAAAAAAAAAAAAAAAAAAAAAAAAAAAAAAAAAAAAAAAAAAAAAAAAAAAAAAAAAAAAAAAAAAAAAAAAAAAAAAAAAAAAAAAAAAAAAAAAAAAAAAAAAAAAAAAAAAAAAAAAAAAAAAAAAAAAAAAAAAAAAAAAAAAAAAAAAAAAAAAAAAAAAAAAAAA8D8AAAAAAADwPwAAAAAAAAAAAAAAAAAAAAAAAAAAAAAAQAAAAAAAAAAAAAAAAAAAAAAAAAAAAAAAQAAAAAAAAAAAAAAAAAAAAAAAAAAAAADwPwAAAAAAAAAAAAAAAAAAAAAAAAAAAADwPwAAAAAAAAAAAAAAAAAAAAAAAAAAAAAAQAAAAAAAAAAAAAAAAAAACEAAAAAAAAAAQAAAAAAAAPA/AAAAAAAAAEAAAAAAAAAAQAAAAAAAAPA/AAAAAAAAAAAAAAAAAAAIQAAAAAAAADVAAAAAAAAAPEAAAAAAAAAAAAAAAAAAAAAAAAAAAAAAAAAAAAAAAAAAAAAAAAAAADNAAAAAAAAAAAAAAAAAAAAAAAAAAAAAAAAAAAAAAAAAAAAAAAAAAAAAAAAAAAAAAAAAAAAAAAAAAAAAAAAAAAAAAAAAAAAAAAAAAAAAAAAAAAAAAAAAAAAAAAAAAAAAAAAAAAAAAAAAAAAAAAAAAAAAAAAAAAAAAAAAAAAAAAAAAAAAAAAAAAAAAAAAAAAAAAAAAAAAAAAAAEAAAAAAAAAAAAAAAAAAAAAAAAAAAAAAAEAAAAAAAAAAAAAAAAAAAAAAAAAAAAAAAAAAAAAAAAAAAAAAAAAAABBAAAAAAAAAAAAAAAAAAAAAAAAAAAAAAAAAAAAAAAAACEAAAAAAAAAAQAAAAAAAAABAAAAAAAAAAEAAAAAAAADwPwAAAAAAAABAAAAAAAAAAAAAAAAAAAAAAAAAAAAAAAAAAAAAAAAAAAAAAAAAAAA0QAAAAAAAAAAAAAAAAAAAAAAAAAAAAAAAAAAAAAAAgE5AAAAAAAAAAAAAAAAAAAAAAAAAAAAAAAAAAAAAAACAQ0AAAAAAAABKQAAAAAAAAAAAAAAAAAAAAAAAAAAAAAAAAAAAAAAAAAAAAAAAAAAAAAAAAAAAAAAAAAAAAAAAAAAAAAAAAAAAJEAAAAAAAAAAAAAAAAAAAAAAAAAAAAAAAAAAAAAAAABEQAAAAAAAAAAAAAAAAAAAAAAAAAAAAAAAAAAAAAAAAAAAAAAAAAAAAAAAAAAAAAAAAAAAAAAAgEVAAAAAAAAAS0AAAAAAAAAAAAAAAAAAAAAAAAAAAAAAAAAAAAAAAABQQAAAAAAAAAAAAAAAAAAAAAAAAAAAAAAAAAAAAAAAAAAAAAAAAAAAAAAAAAAAAAAAAAAAAAAAAERAAAAAAAAAAAAAAAAAAAAAAAAAAAAAAAAAAAAAAAAAAAAAAAAAAAAAAAAAAAAAAAAAAAAAAACAQUAAAAAAAAAAAAAAAAAAAAAAAAAAAAAAAAAAAAAAAIBKQAAAAAAAAFFAAAAAAAAAAAAAAAAAAAAAAAAAAAAAAAAAAAAAAAAAAAAAAAAAAAAAAAAAAAAAAAAAAAAAAAAAAAAAAAAAAAAAAAAAAAAAAAAAAAAAAAAAFEAAAAAAAAAAAAAAAAAAAAAAAAAAAAAAAAAAAAAAAAAAAAAAAAAAAAAAAAAAAAAAAAAAAAAAAIBJQAAAAAAAgEtAAAAAAAAAAAAAAAAAAAAAAAAAAAAAAAAAAAAAAAAANkA=\",\"dtype\":\"float64\",\"order\":\"little\",\"shape\":[898]}},\"selected\":{\"id\":\"6508\"},\"selection_policy\":{\"id\":\"6507\"}},\"id\":\"6078\",\"type\":\"ColumnDataSource\"},{\"attributes\":{\"fill_alpha\":{\"value\":0},\"line_width\":{\"value\":0},\"x\":{\"field\":\"x\"},\"y\":{\"field\":\"y\"}},\"id\":\"6081\",\"type\":\"Circle\"},{\"attributes\":{\"bottom_units\":\"screen\",\"coordinates\":null,\"fill_alpha\":0.5,\"fill_color\":\"lightgrey\",\"group\":null,\"left_units\":\"screen\",\"level\":\"overlay\",\"line_alpha\":1.0,\"line_color\":\"black\",\"line_dash\":[4,4],\"line_width\":2,\"right_units\":\"screen\",\"syncable\":false,\"top_units\":\"screen\"},\"id\":\"6110\",\"type\":\"BoxAnnotation\"},{\"attributes\":{\"source\":{\"id\":\"6118\"}},\"id\":\"6125\",\"type\":\"CDSView\"},{\"attributes\":{\"args\":{\"div\":{\"id\":\"6006\"},\"s1\":{\"id\":\"6038\"}},\"code\":\"\\n                            console.log('Running CustomJS callback now.');\\n                            var inds = s1.selected.indices;\\n                            console.log(inds);\\n                            var line = \\\"<span style=float:left;clear:left;font_size=13px><b> Selected index range: [\\\" + Math.min.apply(Math,inds) + \\\",\\\" + Math.max.apply(Math,inds) + \\\"]</b></span>\\\\n\\\";\\n                            console.log(line)\\n                            var text = div.text.concat(line);\\n                            var lines = text.split(\\\"\\\\n\\\")\\n                            if (lines.length > 35)\\n                                lines.shift();\\n                            div.text = lines.join(\\\"\\\\n\\\");\"},\"id\":\"6039\",\"type\":\"CustomJS\"},{\"attributes\":{\"end\":102},\"id\":\"6010\",\"type\":\"Range1d\"},{\"attributes\":{\"line_color\":\"blue\",\"x\":{\"field\":\"x\"},\"y\":{\"field\":\"y\"}},\"id\":\"6080\",\"type\":\"Line\"},{\"attributes\":{\"axis_label\":\"Time in ms\",\"coordinates\":null,\"formatter\":{\"id\":\"6490\"},\"group\":null,\"major_label_policy\":{\"id\":\"6491\"},\"ticker\":{\"id\":\"6017\"}},\"id\":\"6016\",\"type\":\"LinearAxis\"},{\"attributes\":{},\"id\":\"6108\",\"type\":\"SaveTool\"},{\"attributes\":{\"coordinates\":null,\"data_source\":{\"id\":\"6118\"},\"glyph\":{\"id\":\"6120\"},\"group\":null,\"hover_glyph\":null,\"view\":{\"id\":\"6123\"}},\"id\":\"6122\",\"type\":\"GlyphRenderer\"},{\"attributes\":{},\"id\":\"6052\",\"type\":\"LinearScale\"},{\"attributes\":{},\"id\":\"6017\",\"type\":\"BasicTicker\"},{\"attributes\":{\"bottom_units\":\"screen\",\"coordinates\":null,\"fill_alpha\":0.5,\"fill_color\":\"lightgrey\",\"group\":null,\"left_units\":\"screen\",\"level\":\"overlay\",\"line_alpha\":1.0,\"line_color\":\"black\",\"line_dash\":[4,4],\"line_width\":2,\"right_units\":\"screen\",\"syncable\":false,\"top_units\":\"screen\"},\"id\":\"6030\",\"type\":\"BoxAnnotation\"},{\"attributes\":{\"axis_label\":\"Time in ms\",\"coordinates\":null,\"formatter\":{\"id\":\"6496\"},\"group\":null,\"major_label_policy\":{\"id\":\"6497\"},\"ticker\":{\"id\":\"6057\"}},\"id\":\"6056\",\"type\":\"LinearAxis\"},{\"attributes\":{\"callback\":null,\"renderers\":[{\"id\":\"6124\"}],\"tooltips\":[[\"index\",\"$index\"],[\"(x,y)\",\"($x, $y)\"]]},\"id\":\"6126\",\"type\":\"HoverTool\"},{\"attributes\":{\"axis_label\":\"GPUUtilization-nodeid:algo-1_total\",\"coordinates\":null,\"formatter\":{\"id\":\"6499\"},\"group\":null,\"major_label_policy\":{\"id\":\"6500\"},\"ticker\":{\"id\":\"6101\"}},\"id\":\"6100\",\"type\":\"LinearAxis\"},{\"attributes\":{\"coordinates\":null,\"data_source\":{\"id\":\"6038\"},\"glyph\":{\"id\":\"6040\"},\"group\":null,\"hover_glyph\":null,\"view\":{\"id\":\"6043\"}},\"id\":\"6042\",\"type\":\"GlyphRenderer\"},{\"attributes\":{},\"id\":\"6094\",\"type\":\"LinearScale\"},{\"attributes\":{},\"id\":\"6057\",\"type\":\"BasicTicker\"},{\"attributes\":{\"height\":100,\"height_policy\":\"fixed\",\"width\":250},\"id\":\"6006\",\"type\":\"Div\"},{\"attributes\":{},\"id\":\"6097\",\"type\":\"BasicTicker\"},{\"attributes\":{\"dimensions\":\"width\",\"overlay\":{\"id\":\"6030\"}},\"id\":\"6025\",\"type\":\"BoxSelectTool\"},{\"attributes\":{\"dimensions\":\"width\"},\"id\":\"6109\",\"type\":\"WheelZoomTool\"},{\"attributes\":{\"axis\":{\"id\":\"6056\"},\"coordinates\":null,\"group\":null,\"ticker\":null,\"visible\":false},\"id\":\"6059\",\"type\":\"Grid\"},{\"attributes\":{\"line_color\":\"blue\",\"x\":{\"field\":\"x\"},\"y\":{\"field\":\"y\"}},\"id\":\"6120\",\"type\":\"Line\"},{\"attributes\":{},\"id\":\"6066\",\"type\":\"PanTool\"},{\"attributes\":{\"fill_alpha\":{\"value\":0},\"line_width\":{\"value\":0},\"x\":{\"field\":\"x\"},\"y\":{\"field\":\"y\"}},\"id\":\"6121\",\"type\":\"Circle\"},{\"attributes\":{\"axis\":{\"id\":\"6100\"},\"coordinates\":null,\"dimension\":1,\"group\":null,\"ticker\":null,\"visible\":false},\"id\":\"6103\",\"type\":\"Grid\"},{\"attributes\":{\"source\":{\"id\":\"6038\"}},\"id\":\"6043\",\"type\":\"CDSView\"},{\"attributes\":{\"dimensions\":\"width\",\"overlay\":{\"id\":\"6070\"}},\"id\":\"6065\",\"type\":\"BoxSelectTool\"},{\"attributes\":{\"children\":[{\"id\":\"6007\"},{\"id\":\"6048\"},{\"id\":\"6088\"}]},\"id\":\"6128\",\"type\":\"Column\"},{\"attributes\":{\"coordinates\":null,\"group\":null},\"id\":\"6480\",\"type\":\"Title\"},{\"attributes\":{},\"id\":\"6104\",\"type\":\"CrosshairTool\"},{\"attributes\":{},\"id\":\"6101\",\"type\":\"BasicTicker\"},{\"attributes\":{},\"id\":\"6068\",\"type\":\"SaveTool\"},{\"attributes\":{\"dimensions\":\"width\",\"overlay\":{\"id\":\"6110\"}},\"id\":\"6105\",\"type\":\"BoxSelectTool\"},{\"attributes\":{},\"id\":\"6067\",\"type\":\"ResetTool\"},{\"attributes\":{},\"id\":\"6107\",\"type\":\"ResetTool\"},{\"attributes\":{},\"id\":\"6494\",\"type\":\"AllLabels\"},{\"attributes\":{},\"id\":\"6511\",\"type\":\"Selection\"},{\"attributes\":{},\"id\":\"6504\",\"type\":\"UnionRenderers\"},{\"attributes\":{},\"id\":\"6493\",\"type\":\"BasicTickFormatter\"},{\"attributes\":{},\"id\":\"6488\",\"type\":\"AllLabels\"},{\"attributes\":{},\"id\":\"6503\",\"type\":\"AllLabels\"},{\"attributes\":{},\"id\":\"6507\",\"type\":\"UnionRenderers\"},{\"attributes\":{},\"id\":\"6487\",\"type\":\"BasicTickFormatter\"},{\"attributes\":{},\"id\":\"6508\",\"type\":\"Selection\"},{\"attributes\":{},\"id\":\"6499\",\"type\":\"BasicTickFormatter\"},{\"attributes\":{},\"id\":\"6497\",\"type\":\"AllLabels\"},{\"attributes\":{},\"id\":\"6491\",\"type\":\"AllLabels\"},{\"attributes\":{},\"id\":\"6496\",\"type\":\"BasicTickFormatter\"},{\"attributes\":{},\"id\":\"6500\",\"type\":\"AllLabels\"},{\"attributes\":{},\"id\":\"6502\",\"type\":\"BasicTickFormatter\"},{\"attributes\":{},\"id\":\"6510\",\"type\":\"UnionRenderers\"},{\"attributes\":{},\"id\":\"6505\",\"type\":\"Selection\"}],\"root_ids\":[\"6129\"]},\"title\":\"Bokeh Application\",\"version\":\"2.4.3\"}};\n  const render_items = [{\"docid\":\"8b7932f8-f0ce-45f8-aaf0-116f4f77225d\",\"notebook_comms_target\":\"6513\",\"root_ids\":[\"6129\"],\"roots\":{\"6129\":\"2de2242a-307d-4a18-b2c4-a232cb18ef88\"}}];\n  root.Bokeh.embed.embed_items_notebook(docs_json, render_items);\n  }\n  if (root.Bokeh !== undefined) {\n    embed_document(root);\n  } else {\n    let attempts = 0;\n    const timer = setInterval(function(root) {\n      if (root.Bokeh !== undefined) {\n        clearInterval(timer);\n        embed_document(root);\n      } else {\n        attempts++;\n        if (attempts > 100) {\n          clearInterval(timer);\n          console.log(\"Bokeh: ERROR: Unable to run BokehJS code because BokehJS library is missing\");\n        }\n      }\n    }, 10, root)\n  }\n})(window);",
      "application/vnd.bokehjs_exec.v0+json": ""
     },
     "metadata": {
      "application/vnd.bokehjs_exec.v0+json": {
       "id": "6129"
      }
     },
     "output_type": "display_data"
    }
   ],
   "source": [
    "from smdebug.profiler.analysis.notebook_utils.timeline_charts import TimelineCharts\n",
    "\n",
    "system_metrics_reader = tj.get_systems_metrics_reader()\n",
    "system_metrics_reader.refresh_event_file_list()\n",
    "\n",
    "view_timeline_charts = TimelineCharts(\n",
    "    system_metrics_reader,\n",
    "    framework_metrics_reader=None,\n",
    "    select_dimensions=[\"CPU\", \"GPU\"],\n",
    "    select_events=[\"total\"],\n",
    ")"
   ]
  },
  {
   "cell_type": "code",
   "execution_count": 134,
   "metadata": {},
   "outputs": [],
   "source": [
    "framework_metrics_reader = tj.get_framework_metrics_reader()"
   ]
  },
  {
   "cell_type": "code",
   "execution_count": 135,
   "metadata": {},
   "outputs": [
    {
     "name": "stdout",
     "output_type": "stream",
     "text": [
      "[2022-06-12 00:42:19.139 C02Y82MBJGH5:2535 INFO metrics_reader_base.py:134] Getting 9 event files\n",
      "Found 16137 system metrics events from timestamp_in_us:0 to timestamp_in_us:1655003820000000\n",
      "select events:['total']\n",
      "select dimensions:['CPU', 'GPU', 'I/O']\n",
      "filtered_events:{'total'}\n",
      "filtered_dimensions:{'CPUUtilization-nodeid:algo-1', 'GPUMemoryUtilization-nodeid:algo-1', 'I/OWaitPercentage-nodeid:algo-1', 'GPUUtilization-nodeid:algo-1'}\n"
     ]
    },
    {
     "data": {
      "text/html": [
       "\n",
       "  <div class=\"bk-root\" id=\"918b89e6-31f8-4f5b-8607-814d6ea8c4cb\" data-root-id=\"6882\"></div>\n"
      ]
     },
     "metadata": {},
     "output_type": "display_data"
    },
    {
     "data": {
      "application/javascript": "(function(root) {\n  function embed_document(root) {\n  const docs_json = {\"0a432371-c657-479b-955f-493154bef657\":{\"defs\":[],\"roots\":{\"references\":[{\"attributes\":{\"children\":[{\"id\":\"6881\"},{\"id\":\"6879\"}]},\"id\":\"6882\",\"type\":\"Column\"},{\"attributes\":{\"axis_label\":\"Occurences\",\"coordinates\":null,\"formatter\":{\"id\":\"6834\"},\"group\":null,\"major_label_policy\":{\"id\":\"6835\"},\"ticker\":{\"id\":\"6693\"}},\"id\":\"6692\",\"type\":\"LinearAxis\"},{\"attributes\":{},\"id\":\"6834\",\"type\":\"BasicTickFormatter\"},{\"attributes\":{},\"id\":\"6701\",\"type\":\"HelpTool\"},{\"attributes\":{},\"id\":\"6689\",\"type\":\"BasicTicker\"},{\"attributes\":{\"axis\":{\"id\":\"6688\"},\"coordinates\":null,\"grid_line_color\":\"white\",\"group\":null,\"ticker\":null},\"id\":\"6691\",\"type\":\"Grid\"},{\"attributes\":{},\"id\":\"6835\",\"type\":\"AllLabels\"},{\"attributes\":{},\"id\":\"6837\",\"type\":\"BasicTickFormatter\"},{\"attributes\":{\"axis\":{\"id\":\"6692\"},\"coordinates\":null,\"dimension\":1,\"grid_line_color\":\"white\",\"group\":null,\"ticker\":null},\"id\":\"6695\",\"type\":\"Grid\"},{\"attributes\":{},\"id\":\"6693\",\"type\":\"BasicTicker\"},{\"attributes\":{\"axis_label\":\"Occurences\",\"coordinates\":null,\"formatter\":{\"id\":\"6846\"},\"group\":null,\"major_label_policy\":{\"id\":\"6847\"},\"ticker\":{\"id\":\"6731\"}},\"id\":\"6730\",\"type\":\"LinearAxis\"},{\"attributes\":{},\"id\":\"6838\",\"type\":\"AllLabels\"},{\"attributes\":{},\"id\":\"6697\",\"type\":\"WheelZoomTool\"},{\"attributes\":{},\"id\":\"6858\",\"type\":\"BasicTickFormatter\"},{\"attributes\":{},\"id\":\"6696\",\"type\":\"PanTool\"},{\"attributes\":{\"overlay\":{\"id\":\"6702\"}},\"id\":\"6698\",\"type\":\"BoxZoomTool\"},{\"attributes\":{},\"id\":\"6699\",\"type\":\"SaveTool\"},{\"attributes\":{},\"id\":\"6700\",\"type\":\"ResetTool\"},{\"attributes\":{},\"id\":\"6859\",\"type\":\"AllLabels\"},{\"attributes\":{\"bottom_units\":\"screen\",\"coordinates\":null,\"fill_alpha\":0.5,\"fill_color\":\"lightgrey\",\"group\":null,\"left_units\":\"screen\",\"level\":\"overlay\",\"line_alpha\":1.0,\"line_color\":\"black\",\"line_dash\":[4,4],\"line_width\":2,\"right_units\":\"screen\",\"syncable\":false,\"top_units\":\"screen\"},\"id\":\"6702\",\"type\":\"BoxAnnotation\"},{\"attributes\":{},\"id\":\"6722\",\"type\":\"LinearScale\"},{\"attributes\":{},\"id\":\"6861\",\"type\":\"BasicTickFormatter\"},{\"attributes\":{},\"id\":\"6684\",\"type\":\"LinearScale\"},{\"attributes\":{},\"id\":\"6862\",\"type\":\"AllLabels\"},{\"attributes\":{},\"id\":\"6724\",\"type\":\"LinearScale\"},{\"attributes\":{},\"id\":\"6727\",\"type\":\"BasicTicker\"},{\"attributes\":{\"start\":0},\"id\":\"6720\",\"type\":\"DataRange1d\"},{\"attributes\":{\"data\":{\"left\":[0,2,4,6,8,10,12,14,16,18,20,22,24,26,28,30,32,34,36,38,40,42,44,46,48,50,52,54,56,58,60,62,64,66,68,70,72,74,76,78,80,82,84,86,88,90,92,94,96],\"right\":[2,4,6,8,10,12,14,16,18,20,22,24,26,28,30,32,34,36,38,40,42,44,46,48,50,52,54,56,58,60,62,64,66,68,70,72,74,76,78,80,82,84,86,88,90,92,94,96,98],\"top\":[862,15,2,0,0,1,0,0,0,1,2,1,0,0,1,0,0,1,0,1,2,1,0,0,0,1,2,2,0,0,1,0,1,0,1,0,0,0,0,0,0,0,0,0,0,0,0,0,0]},\"selected\":{\"id\":\"6852\"},\"selection_policy\":{\"id\":\"6851\"}},\"id\":\"6748\",\"type\":\"ColumnDataSource\"},{\"attributes\":{},\"id\":\"6863\",\"type\":\"UnionRenderers\"},{\"attributes\":{\"tools\":[{\"id\":\"6696\"},{\"id\":\"6697\"},{\"id\":\"6698\"},{\"id\":\"6699\"},{\"id\":\"6700\"},{\"id\":\"6701\"}]},\"id\":\"6703\",\"type\":\"Toolbar\"},{\"attributes\":{},\"id\":\"6864\",\"type\":\"Selection\"},{\"attributes\":{},\"id\":\"6777\",\"type\":\"HelpTool\"},{\"attributes\":{},\"id\":\"6739\",\"type\":\"HelpTool\"},{\"attributes\":{},\"id\":\"6680\",\"type\":\"DataRange1d\"},{\"attributes\":{\"axis_label\":\"CPUUtilization-nodeid:algo-1_total\",\"coordinates\":null,\"formatter\":{\"id\":\"6837\"},\"group\":null,\"major_label_policy\":{\"id\":\"6838\"},\"ticker\":{\"id\":\"6689\"}},\"id\":\"6688\",\"type\":\"LinearAxis\"},{\"attributes\":{},\"id\":\"6686\",\"type\":\"LinearScale\"},{\"attributes\":{\"start\":0},\"id\":\"6682\",\"type\":\"DataRange1d\"},{\"attributes\":{\"bottom_units\":\"screen\",\"coordinates\":null,\"fill_alpha\":0.5,\"fill_color\":\"lightgrey\",\"group\":null,\"left_units\":\"screen\",\"level\":\"overlay\",\"line_alpha\":1.0,\"line_color\":\"black\",\"line_dash\":[4,4],\"line_width\":2,\"right_units\":\"screen\",\"syncable\":false,\"top_units\":\"screen\"},\"id\":\"6740\",\"type\":\"BoxAnnotation\"},{\"attributes\":{\"bottom_units\":\"screen\",\"coordinates\":null,\"fill_alpha\":0.5,\"fill_color\":\"lightgrey\",\"group\":null,\"left_units\":\"screen\",\"level\":\"overlay\",\"line_alpha\":1.0,\"line_color\":\"black\",\"line_dash\":[4,4],\"line_width\":2,\"right_units\":\"screen\",\"syncable\":false,\"top_units\":\"screen\"},\"id\":\"6778\",\"type\":\"BoxAnnotation\"},{\"attributes\":{\"tools\":[{\"id\":\"6734\"},{\"id\":\"6735\"},{\"id\":\"6736\"},{\"id\":\"6737\"},{\"id\":\"6738\"},{\"id\":\"6739\"}]},\"id\":\"6741\",\"type\":\"Toolbar\"},{\"attributes\":{\"tools\":[{\"id\":\"6772\"},{\"id\":\"6773\"},{\"id\":\"6774\"},{\"id\":\"6775\"},{\"id\":\"6776\"},{\"id\":\"6777\"}]},\"id\":\"6779\",\"type\":\"Toolbar\"},{\"attributes\":{\"below\":[{\"id\":\"6688\"}],\"center\":[{\"id\":\"6691\"},{\"id\":\"6695\"}],\"height\":250,\"left\":[{\"id\":\"6692\"}],\"renderers\":[{\"id\":\"6715\"}],\"title\":{\"id\":\"6831\"},\"toolbar\":{\"id\":\"6703\"},\"toolbar_location\":null,\"width\":250,\"x_range\":{\"id\":\"6680\"},\"x_scale\":{\"id\":\"6684\"},\"y_range\":{\"id\":\"6682\"},\"y_scale\":{\"id\":\"6686\"}},\"id\":\"6679\",\"subtype\":\"Figure\",\"type\":\"Plot\"},{\"attributes\":{\"toolbar\":{\"id\":\"6880\"},\"toolbar_location\":\"above\"},\"id\":\"6881\",\"type\":\"ToolbarBox\"},{\"attributes\":{\"coordinates\":null,\"group\":null},\"id\":\"6843\",\"type\":\"Title\"},{\"attributes\":{\"axis_label\":\"GPUMemoryUtilization-nodeid:algo-1_total\",\"coordinates\":null,\"formatter\":{\"id\":\"6849\"},\"group\":null,\"major_label_policy\":{\"id\":\"6850\"},\"ticker\":{\"id\":\"6727\"}},\"id\":\"6726\",\"type\":\"LinearAxis\"},{\"attributes\":{\"axis\":{\"id\":\"6726\"},\"coordinates\":null,\"grid_line_color\":\"white\",\"group\":null,\"ticker\":null},\"id\":\"6729\",\"type\":\"Grid\"},{\"attributes\":{},\"id\":\"6775\",\"type\":\"SaveTool\"},{\"attributes\":{\"bottom\":{\"value\":0},\"fill_alpha\":{\"value\":0.5},\"fill_color\":{\"value\":\"navy\"},\"left\":{\"field\":\"left\"},\"line_color\":{\"value\":\"white\"},\"right\":{\"field\":\"right\"},\"top\":{\"field\":\"top\"}},\"id\":\"6712\",\"type\":\"Quad\"},{\"attributes\":{},\"id\":\"6738\",\"type\":\"ResetTool\"},{\"attributes\":{},\"id\":\"6737\",\"type\":\"SaveTool\"},{\"attributes\":{\"data\":{\"left\":[0,2,4,6,8,10,12,14,16,18,20,22,24,26,28,30,32,34,36,38,40,42,44,46,48,50,52,54,56,58,60,62,64,66,68,70,72,74,76,78,80,82,84,86,88,90,92,94,96],\"right\":[2,4,6,8,10,12,14,16,18,20,22,24,26,28,30,32,34,36,38,40,42,44,46,48,50,52,54,56,58,60,62,64,66,68,70,72,74,76,78,80,82,84,86,88,90,92,94,96,98],\"top\":[0,0,0,0,0,0,0,0,0,0,0,0,0,0,1,0,1,0,1,0,0,0,1,4,5,5,22,30,10,11,7,14,19,25,20,26,26,44,55,84,81,82,41,35,42,43,53,40,37]},\"selected\":{\"id\":\"6840\"},\"selection_policy\":{\"id\":\"6839\"}},\"id\":\"6710\",\"type\":\"ColumnDataSource\"},{\"attributes\":{\"overlay\":{\"id\":\"6740\"}},\"id\":\"6736\",\"type\":\"BoxZoomTool\"},{\"attributes\":{},\"id\":\"6734\",\"type\":\"PanTool\"},{\"attributes\":{\"data\":{\"left\":[0,2,4,6,8,10,12,14,16,18,20,22,24,26,28,30,32,34,36,38,40,42,44,46,48,50,52,54,56,58,60,62,64,66,68,70,72,74,76,78,80,82,84,86,88,90,92,94,96],\"right\":[2,4,6,8,10,12,14,16,18,20,22,24,26,28,30,32,34,36,38,40,42,44,46,48,50,52,54,56,58,60,62,64,66,68,70,72,74,76,78,80,82,84,86,88,90,92,94,96,98],\"top\":[388,35,34,24,25,34,27,19,22,10,7,4,6,6,11,13,10,11,10,10,17,15,16,17,25,16,12,10,9,12,8,10,5,8,6,4,0,0,0,0,0,0,0,0,0,0,0,0,0]},\"selected\":{\"id\":\"6864\"},\"selection_policy\":{\"id\":\"6863\"}},\"id\":\"6786\",\"type\":\"ColumnDataSource\"},{\"attributes\":{},\"id\":\"6735\",\"type\":\"WheelZoomTool\"},{\"attributes\":{\"axis\":{\"id\":\"6730\"},\"coordinates\":null,\"dimension\":1,\"grid_line_color\":\"white\",\"group\":null,\"ticker\":null},\"id\":\"6733\",\"type\":\"Grid\"},{\"attributes\":{\"below\":[{\"id\":\"6726\"}],\"center\":[{\"id\":\"6729\"},{\"id\":\"6733\"}],\"height\":250,\"left\":[{\"id\":\"6730\"}],\"renderers\":[{\"id\":\"6753\"}],\"title\":{\"id\":\"6843\"},\"toolbar\":{\"id\":\"6741\"},\"toolbar_location\":null,\"width\":250,\"x_range\":{\"id\":\"6718\"},\"x_scale\":{\"id\":\"6722\"},\"y_range\":{\"id\":\"6720\"},\"y_scale\":{\"id\":\"6724\"}},\"id\":\"6717\",\"subtype\":\"Figure\",\"type\":\"Plot\"},{\"attributes\":{},\"id\":\"6731\",\"type\":\"BasicTicker\"},{\"attributes\":{\"axis_label\":\"Occurences\",\"coordinates\":null,\"formatter\":{\"id\":\"6870\"},\"group\":null,\"major_label_policy\":{\"id\":\"6871\"},\"ticker\":{\"id\":\"6807\"}},\"id\":\"6806\",\"type\":\"LinearAxis\"},{\"attributes\":{},\"id\":\"6846\",\"type\":\"BasicTickFormatter\"},{\"attributes\":{},\"id\":\"6807\",\"type\":\"BasicTicker\"},{\"attributes\":{\"axis\":{\"id\":\"6806\"},\"coordinates\":null,\"dimension\":1,\"grid_line_color\":\"white\",\"group\":null,\"ticker\":null},\"id\":\"6809\",\"type\":\"Grid\"},{\"attributes\":{},\"id\":\"6847\",\"type\":\"AllLabels\"},{\"attributes\":{},\"id\":\"6815\",\"type\":\"HelpTool\"},{\"attributes\":{\"coordinates\":null,\"group\":null},\"id\":\"6867\",\"type\":\"Title\"},{\"attributes\":{\"axis_label\":\"I/OWaitPercentage-nodeid:algo-1_total\",\"coordinates\":null,\"formatter\":{\"id\":\"6861\"},\"group\":null,\"major_label_policy\":{\"id\":\"6862\"},\"ticker\":{\"id\":\"6765\"}},\"id\":\"6764\",\"type\":\"LinearAxis\"},{\"attributes\":{\"bottom\":{\"value\":0},\"fill_alpha\":{\"value\":0.5},\"fill_color\":{\"value\":\"navy\"},\"left\":{\"field\":\"left\"},\"line_color\":{\"value\":\"white\"},\"right\":{\"field\":\"right\"},\"top\":{\"field\":\"top\"}},\"id\":\"6826\",\"type\":\"Quad\"},{\"attributes\":{},\"id\":\"6756\",\"type\":\"DataRange1d\"},{\"attributes\":{},\"id\":\"6849\",\"type\":\"BasicTickFormatter\"},{\"attributes\":{},\"id\":\"6811\",\"type\":\"WheelZoomTool\"},{\"attributes\":{},\"id\":\"6810\",\"type\":\"PanTool\"},{\"attributes\":{\"overlay\":{\"id\":\"6816\"}},\"id\":\"6812\",\"type\":\"BoxZoomTool\"},{\"attributes\":{\"axis\":{\"id\":\"6802\"},\"coordinates\":null,\"grid_line_color\":\"white\",\"group\":null,\"ticker\":null},\"id\":\"6805\",\"type\":\"Grid\"},{\"attributes\":{},\"id\":\"6850\",\"type\":\"AllLabels\"},{\"attributes\":{},\"id\":\"6813\",\"type\":\"SaveTool\"},{\"attributes\":{},\"id\":\"6762\",\"type\":\"LinearScale\"},{\"attributes\":{},\"id\":\"6814\",\"type\":\"ResetTool\"},{\"attributes\":{},\"id\":\"6760\",\"type\":\"LinearScale\"},{\"attributes\":{},\"id\":\"6765\",\"type\":\"BasicTicker\"},{\"attributes\":{\"axis\":{\"id\":\"6764\"},\"coordinates\":null,\"grid_line_color\":\"white\",\"group\":null,\"ticker\":null},\"id\":\"6767\",\"type\":\"Grid\"},{\"attributes\":{\"bottom_units\":\"screen\",\"coordinates\":null,\"fill_alpha\":0.5,\"fill_color\":\"lightgrey\",\"group\":null,\"left_units\":\"screen\",\"level\":\"overlay\",\"line_alpha\":1.0,\"line_color\":\"black\",\"line_dash\":[4,4],\"line_width\":2,\"right_units\":\"screen\",\"syncable\":false,\"top_units\":\"screen\"},\"id\":\"6816\",\"type\":\"BoxAnnotation\"},{\"attributes\":{\"coordinates\":null,\"data_source\":{\"id\":\"6824\"},\"glyph\":{\"id\":\"6826\"},\"group\":null,\"hover_glyph\":null,\"muted_glyph\":{\"id\":\"6828\"},\"nonselection_glyph\":{\"id\":\"6827\"},\"view\":{\"id\":\"6830\"}},\"id\":\"6829\",\"type\":\"GlyphRenderer\"},{\"attributes\":{\"axis\":{\"id\":\"6768\"},\"coordinates\":null,\"dimension\":1,\"grid_line_color\":\"white\",\"group\":null,\"ticker\":null},\"id\":\"6771\",\"type\":\"Grid\"},{\"attributes\":{},\"id\":\"6769\",\"type\":\"BasicTicker\"},{\"attributes\":{},\"id\":\"6851\",\"type\":\"UnionRenderers\"},{\"attributes\":{},\"id\":\"6794\",\"type\":\"DataRange1d\"},{\"attributes\":{},\"id\":\"6773\",\"type\":\"WheelZoomTool\"},{\"attributes\":{},\"id\":\"6772\",\"type\":\"PanTool\"},{\"attributes\":{},\"id\":\"6852\",\"type\":\"Selection\"},{\"attributes\":{\"overlay\":{\"id\":\"6778\"}},\"id\":\"6774\",\"type\":\"BoxZoomTool\"},{\"attributes\":{\"axis_label\":\"GPUUtilization-nodeid:algo-1_total\",\"coordinates\":null,\"formatter\":{\"id\":\"6873\"},\"group\":null,\"major_label_policy\":{\"id\":\"6874\"},\"ticker\":{\"id\":\"6803\"}},\"id\":\"6802\",\"type\":\"LinearAxis\"},{\"attributes\":{},\"id\":\"6839\",\"type\":\"UnionRenderers\"},{\"attributes\":{\"tools\":[{\"id\":\"6810\"},{\"id\":\"6811\"},{\"id\":\"6812\"},{\"id\":\"6813\"},{\"id\":\"6814\"},{\"id\":\"6815\"}]},\"id\":\"6817\",\"type\":\"Toolbar\"},{\"attributes\":{},\"id\":\"6870\",\"type\":\"BasicTickFormatter\"},{\"attributes\":{\"coordinates\":null,\"data_source\":{\"id\":\"6748\"},\"glyph\":{\"id\":\"6750\"},\"group\":null,\"hover_glyph\":null,\"muted_glyph\":{\"id\":\"6752\"},\"nonselection_glyph\":{\"id\":\"6751\"},\"view\":{\"id\":\"6754\"}},\"id\":\"6753\",\"type\":\"GlyphRenderer\"},{\"attributes\":{\"source\":{\"id\":\"6786\"}},\"id\":\"6792\",\"type\":\"CDSView\"},{\"attributes\":{},\"id\":\"6871\",\"type\":\"AllLabels\"},{\"attributes\":{\"bottom\":{\"value\":0},\"fill_alpha\":{\"value\":0.1},\"fill_color\":{\"value\":\"navy\"},\"hatch_alpha\":{\"value\":0.1},\"left\":{\"field\":\"left\"},\"line_alpha\":{\"value\":0.1},\"line_color\":{\"value\":\"white\"},\"right\":{\"field\":\"right\"},\"top\":{\"field\":\"top\"}},\"id\":\"6827\",\"type\":\"Quad\"},{\"attributes\":{},\"id\":\"6800\",\"type\":\"LinearScale\"},{\"attributes\":{},\"id\":\"6873\",\"type\":\"BasicTickFormatter\"},{\"attributes\":{\"below\":[{\"id\":\"6802\"}],\"center\":[{\"id\":\"6805\"},{\"id\":\"6809\"}],\"height\":250,\"left\":[{\"id\":\"6806\"}],\"renderers\":[{\"id\":\"6829\"}],\"title\":{\"id\":\"6867\"},\"toolbar\":{\"id\":\"6817\"},\"toolbar_location\":null,\"width\":250,\"x_range\":{\"id\":\"6794\"},\"x_scale\":{\"id\":\"6798\"},\"y_range\":{\"id\":\"6796\"},\"y_scale\":{\"id\":\"6800\"}},\"id\":\"6793\",\"subtype\":\"Figure\",\"type\":\"Plot\"},{\"attributes\":{\"source\":{\"id\":\"6824\"}},\"id\":\"6830\",\"type\":\"CDSView\"},{\"attributes\":{},\"id\":\"6874\",\"type\":\"AllLabels\"},{\"attributes\":{\"data\":{\"left\":[0,2,4,6,8,10,12,14,16,18,20,22,24,26,28,30,32,34,36,38,40,42,44,46,48,50,52,54,56,58,60,62,64,66,68,70,72,74,76,78,80,82,84,86,88,90,92,94,96],\"right\":[2,4,6,8,10,12,14,16,18,20,22,24,26,28,30,32,34,36,38,40,42,44,46,48,50,52,54,56,58,60,62,64,66,68,70,72,74,76,78,80,82,84,86,88,90,92,94,96,98],\"top\":[849,14,13,2,0,0,1,0,0,0,1,0,0,0,1,0,2,1,0,0,0,0,0,0,0,1,0,0,1,1,0,1,1,1,0,0,0,0,0,0,0,0,1,0,0,0,0,1,5]},\"selected\":{\"id\":\"6876\"},\"selection_policy\":{\"id\":\"6875\"}},\"id\":\"6824\",\"type\":\"ColumnDataSource\"},{\"attributes\":{\"bottom\":{\"value\":0},\"fill_alpha\":{\"value\":0.2},\"fill_color\":{\"value\":\"navy\"},\"hatch_alpha\":{\"value\":0.2},\"left\":{\"field\":\"left\"},\"line_alpha\":{\"value\":0.2},\"line_color\":{\"value\":\"white\"},\"right\":{\"field\":\"right\"},\"top\":{\"field\":\"top\"}},\"id\":\"6790\",\"type\":\"Quad\"},{\"attributes\":{\"bottom\":{\"value\":0},\"fill_alpha\":{\"value\":0.2},\"fill_color\":{\"value\":\"navy\"},\"hatch_alpha\":{\"value\":0.2},\"left\":{\"field\":\"left\"},\"line_alpha\":{\"value\":0.2},\"line_color\":{\"value\":\"white\"},\"right\":{\"field\":\"right\"},\"top\":{\"field\":\"top\"}},\"id\":\"6828\",\"type\":\"Quad\"},{\"attributes\":{\"children\":[[{\"id\":\"6679\"},0,0],[{\"id\":\"6717\"},0,1],[{\"id\":\"6755\"},0,2],[{\"id\":\"6793\"},0,3]]},\"id\":\"6879\",\"type\":\"GridBox\"},{\"attributes\":{\"start\":0},\"id\":\"6796\",\"type\":\"DataRange1d\"},{\"attributes\":{},\"id\":\"6875\",\"type\":\"UnionRenderers\"},{\"attributes\":{},\"id\":\"6876\",\"type\":\"Selection\"},{\"attributes\":{\"toolbars\":[{\"id\":\"6703\"},{\"id\":\"6741\"},{\"id\":\"6779\"},{\"id\":\"6817\"}],\"tools\":[{\"id\":\"6696\"},{\"id\":\"6697\"},{\"id\":\"6698\"},{\"id\":\"6699\"},{\"id\":\"6700\"},{\"id\":\"6701\"},{\"id\":\"6734\"},{\"id\":\"6735\"},{\"id\":\"6736\"},{\"id\":\"6737\"},{\"id\":\"6738\"},{\"id\":\"6739\"},{\"id\":\"6772\"},{\"id\":\"6773\"},{\"id\":\"6774\"},{\"id\":\"6775\"},{\"id\":\"6776\"},{\"id\":\"6777\"},{\"id\":\"6810\"},{\"id\":\"6811\"},{\"id\":\"6812\"},{\"id\":\"6813\"},{\"id\":\"6814\"},{\"id\":\"6815\"}]},\"id\":\"6880\",\"type\":\"ProxyToolbar\"},{\"attributes\":{\"coordinates\":null,\"group\":null},\"id\":\"6831\",\"type\":\"Title\"},{\"attributes\":{},\"id\":\"6798\",\"type\":\"LinearScale\"},{\"attributes\":{},\"id\":\"6840\",\"type\":\"Selection\"},{\"attributes\":{\"coordinates\":null,\"data_source\":{\"id\":\"6786\"},\"glyph\":{\"id\":\"6788\"},\"group\":null,\"hover_glyph\":null,\"muted_glyph\":{\"id\":\"6790\"},\"nonselection_glyph\":{\"id\":\"6789\"},\"view\":{\"id\":\"6792\"}},\"id\":\"6791\",\"type\":\"GlyphRenderer\"},{\"attributes\":{},\"id\":\"6803\",\"type\":\"BasicTicker\"},{\"attributes\":{\"bottom\":{\"value\":0},\"fill_alpha\":{\"value\":0.1},\"fill_color\":{\"value\":\"navy\"},\"hatch_alpha\":{\"value\":0.1},\"left\":{\"field\":\"left\"},\"line_alpha\":{\"value\":0.1},\"line_color\":{\"value\":\"white\"},\"right\":{\"field\":\"right\"},\"top\":{\"field\":\"top\"}},\"id\":\"6789\",\"type\":\"Quad\"},{\"attributes\":{\"coordinates\":null,\"group\":null},\"id\":\"6855\",\"type\":\"Title\"},{\"attributes\":{\"source\":{\"id\":\"6710\"}},\"id\":\"6716\",\"type\":\"CDSView\"},{\"attributes\":{\"bottom\":{\"value\":0},\"fill_alpha\":{\"value\":0.1},\"fill_color\":{\"value\":\"navy\"},\"hatch_alpha\":{\"value\":0.1},\"left\":{\"field\":\"left\"},\"line_alpha\":{\"value\":0.1},\"line_color\":{\"value\":\"white\"},\"right\":{\"field\":\"right\"},\"top\":{\"field\":\"top\"}},\"id\":\"6751\",\"type\":\"Quad\"},{\"attributes\":{\"coordinates\":null,\"data_source\":{\"id\":\"6710\"},\"glyph\":{\"id\":\"6712\"},\"group\":null,\"hover_glyph\":null,\"muted_glyph\":{\"id\":\"6714\"},\"nonselection_glyph\":{\"id\":\"6713\"},\"view\":{\"id\":\"6716\"}},\"id\":\"6715\",\"type\":\"GlyphRenderer\"},{\"attributes\":{\"bottom\":{\"value\":0},\"fill_alpha\":{\"value\":0.1},\"fill_color\":{\"value\":\"navy\"},\"hatch_alpha\":{\"value\":0.1},\"left\":{\"field\":\"left\"},\"line_alpha\":{\"value\":0.1},\"line_color\":{\"value\":\"white\"},\"right\":{\"field\":\"right\"},\"top\":{\"field\":\"top\"}},\"id\":\"6713\",\"type\":\"Quad\"},{\"attributes\":{\"source\":{\"id\":\"6748\"}},\"id\":\"6754\",\"type\":\"CDSView\"},{\"attributes\":{\"bottom\":{\"value\":0},\"fill_alpha\":{\"value\":0.2},\"fill_color\":{\"value\":\"navy\"},\"hatch_alpha\":{\"value\":0.2},\"left\":{\"field\":\"left\"},\"line_alpha\":{\"value\":0.2},\"line_color\":{\"value\":\"white\"},\"right\":{\"field\":\"right\"},\"top\":{\"field\":\"top\"}},\"id\":\"6714\",\"type\":\"Quad\"},{\"attributes\":{\"bottom\":{\"value\":0},\"fill_alpha\":{\"value\":0.2},\"fill_color\":{\"value\":\"navy\"},\"hatch_alpha\":{\"value\":0.2},\"left\":{\"field\":\"left\"},\"line_alpha\":{\"value\":0.2},\"line_color\":{\"value\":\"white\"},\"right\":{\"field\":\"right\"},\"top\":{\"field\":\"top\"}},\"id\":\"6752\",\"type\":\"Quad\"},{\"attributes\":{},\"id\":\"6776\",\"type\":\"ResetTool\"},{\"attributes\":{\"bottom\":{\"value\":0},\"fill_alpha\":{\"value\":0.5},\"fill_color\":{\"value\":\"navy\"},\"left\":{\"field\":\"left\"},\"line_color\":{\"value\":\"white\"},\"right\":{\"field\":\"right\"},\"top\":{\"field\":\"top\"}},\"id\":\"6788\",\"type\":\"Quad\"},{\"attributes\":{\"below\":[{\"id\":\"6764\"}],\"center\":[{\"id\":\"6767\"},{\"id\":\"6771\"}],\"height\":250,\"left\":[{\"id\":\"6768\"}],\"renderers\":[{\"id\":\"6791\"}],\"title\":{\"id\":\"6855\"},\"toolbar\":{\"id\":\"6779\"},\"toolbar_location\":null,\"width\":250,\"x_range\":{\"id\":\"6756\"},\"x_scale\":{\"id\":\"6760\"},\"y_range\":{\"id\":\"6758\"},\"y_scale\":{\"id\":\"6762\"}},\"id\":\"6755\",\"subtype\":\"Figure\",\"type\":\"Plot\"},{\"attributes\":{\"bottom\":{\"value\":0},\"fill_alpha\":{\"value\":0.5},\"fill_color\":{\"value\":\"navy\"},\"left\":{\"field\":\"left\"},\"line_color\":{\"value\":\"white\"},\"right\":{\"field\":\"right\"},\"top\":{\"field\":\"top\"}},\"id\":\"6750\",\"type\":\"Quad\"},{\"attributes\":{\"start\":0},\"id\":\"6758\",\"type\":\"DataRange1d\"},{\"attributes\":{\"axis_label\":\"Occurences\",\"coordinates\":null,\"formatter\":{\"id\":\"6858\"},\"group\":null,\"major_label_policy\":{\"id\":\"6859\"},\"ticker\":{\"id\":\"6769\"}},\"id\":\"6768\",\"type\":\"LinearAxis\"},{\"attributes\":{},\"id\":\"6718\",\"type\":\"DataRange1d\"}],\"root_ids\":[\"6882\"]},\"title\":\"Bokeh Application\",\"version\":\"2.4.3\"}};\n  const render_items = [{\"docid\":\"0a432371-c657-479b-955f-493154bef657\",\"notebook_comms_target\":\"7310\",\"root_ids\":[\"6882\"],\"roots\":{\"6882\":\"918b89e6-31f8-4f5b-8607-814d6ea8c4cb\"}}];\n  root.Bokeh.embed.embed_items_notebook(docs_json, render_items);\n  }\n  if (root.Bokeh !== undefined) {\n    embed_document(root);\n  } else {\n    let attempts = 0;\n    const timer = setInterval(function(root) {\n      if (root.Bokeh !== undefined) {\n        clearInterval(timer);\n        embed_document(root);\n      } else {\n        attempts++;\n        if (attempts > 100) {\n          clearInterval(timer);\n          console.log(\"Bokeh: ERROR: Unable to run BokehJS code because BokehJS library is missing\");\n        }\n      }\n    }, 10, root)\n  }\n})(window);",
      "application/vnd.bokehjs_exec.v0+json": ""
     },
     "metadata": {
      "application/vnd.bokehjs_exec.v0+json": {
       "id": "6882"
      }
     },
     "output_type": "display_data"
    },
    {
     "name": "stdout",
     "output_type": "stream",
     "text": [
      "filtered_dimensions:{'CPUUtilization-nodeid:algo-1', 'GPUMemoryUtilization-nodeid:algo-1', 'I/OWaitPercentage-nodeid:algo-1', 'GPUUtilization-nodeid:algo-1'}\n"
     ]
    }
   ],
   "source": [
    "from smdebug.profiler.analysis.notebook_utils.metrics_histogram import MetricsHistogram\n",
    "\n",
    "metrics_histogram = MetricsHistogram(system_metrics_reader)\n",
    "metrics_histogram.plot(\n",
    "    starttime=0, \n",
    "    endtime=system_metrics_reader.get_timestamp_of_latest_available_file(), \n",
    "    select_dimensions=[\"CPU\", \"GPU\", \"I/O\"], # optional\n",
    "    select_events=[\"total\"]                  # optional\n",
    ")"
   ]
  },
  {
   "cell_type": "code",
   "execution_count": 136,
   "metadata": {},
   "outputs": [
    {
     "name": "stdout",
     "output_type": "stream",
     "text": [
      "You will find the profiler report in s3://sagemaker-us-east-1-941656036254/pytorch-smdebug-early-stop-8-2022-06-12-03-07-15-197/rule-output\n"
     ]
    }
   ],
   "source": [
    "#rule_output_path = estimator.output_path + estimator.latest_training_job.job_name + \"/rule-output\"\n",
    "rule_output_path = f\"s3://{bucket}/{training_job_name}/rule-output\"\n",
    "print(f\"You will find the profiler report in {rule_output_path}\")"
   ]
  },
  {
   "cell_type": "code",
   "execution_count": null,
   "metadata": {},
   "outputs": [],
   "source": []
  }
 ],
 "metadata": {
  "interpreter": {
   "hash": "02fb69b38420c3d4e00e3a2af627e83f052bc85ba6fe46654fe57240b48dcaee"
  },
  "kernelspec": {
   "display_name": "Python 3.9.12 ('sagemaker2')",
   "language": "python",
   "name": "python3"
  },
  "language_info": {
   "codemirror_mode": {
    "name": "ipython",
    "version": 3
   },
   "file_extension": ".py",
   "mimetype": "text/x-python",
   "name": "python",
   "nbconvert_exporter": "python",
   "pygments_lexer": "ipython3",
   "version": "3.9.12"
  }
 },
 "nbformat": 4,
 "nbformat_minor": 4
}
