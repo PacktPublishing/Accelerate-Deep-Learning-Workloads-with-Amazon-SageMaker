{
 "cells": [
  {
   "cell_type": "markdown",
   "metadata": {},
   "source": [
    "# A/B testing"
   ]
  },
  {
   "cell_type": "code",
   "execution_count": 8,
   "metadata": {},
   "outputs": [],
   "source": [
    "import sagemaker\n",
    "from sagemaker import get_execution_role\n",
    "from sagemaker.huggingface.model import HuggingFaceModel\n",
    "from sagemaker.serverless import ServerlessInferenceConfig\n",
    "\n",
    "role = get_execution_role()\n",
    "\n",
    "# Specify Model Image_uri\n",
    "image_uri='763104351884.dkr.ecr.us-east-1.amazonaws.com/huggingface-pytorch-inference:1.9.1-transformers4.12.3-cpu-py38-ubuntu20.04'\n",
    "sagemaker_session = sagemaker.Session()"
   ]
  },
  {
   "cell_type": "code",
   "execution_count": 13,
   "metadata": {},
   "outputs": [],
   "source": [
    "# Hub Model configuration. <https://huggingface.co/models>\n",
    "model1_env = {\n",
    "    'HF_MODEL_ID':'distilbert-base-uncased-distilled-squad',\n",
    "    'HF_TASK':'question-answering'\n",
    "}\n",
    "\n",
    "model1_name = \"Model1\"\n",
    "\n",
    "# create Hugging Face Model Class\n",
    "model1 = HuggingFaceModel(\n",
    "   name=model1_name,\n",
    "   env=model1_env,                      # configuration for loading model from Hub\n",
    "   role= role,\n",
    "   transformers_version=\"4.17\",  # transformers version used\n",
    "   pytorch_version=\"1.10\",        # pytorch version used\n",
    "   py_version='py38',            # python version used\n",
    "   image_uri=image_uri,          # image uri\n",
    ")"
   ]
  },
  {
   "cell_type": "code",
   "execution_count": 15,
   "metadata": {},
   "outputs": [],
   "source": [
    "instance_type = \"ml.c5.4xlarge\"\n",
    "container1_def = model1.prepare_container_def(instance_type)"
   ]
  },
  {
   "cell_type": "code",
   "execution_count": 16,
   "metadata": {},
   "outputs": [
    {
     "data": {
      "text/plain": [
       "'Model1'"
      ]
     },
     "execution_count": 16,
     "metadata": {},
     "output_type": "execute_result"
    }
   ],
   "source": [
    "sagemaker_session.create_model(\n",
    "    name=model1_name, role=role, container_defs=container1_def\n",
    ")\n"
   ]
  },
  {
   "cell_type": "code",
   "execution_count": 17,
   "metadata": {},
   "outputs": [],
   "source": [
    "# Hub Model configuration. <https://huggingface.co/models>\n",
    "model2_env = {\n",
    "    'HF_MODEL_ID':'deepset/roberta-base-squad2',\n",
    "    'HF_TASK':'question-answering'\n",
    "}\n",
    "model2_name = \"Model2\"\n",
    "\n",
    "# create Hugging Face Model Class\n",
    "model2 = HuggingFaceModel(\n",
    "   name=model2_name,\n",
    "   env=model2_env,                      # configuration for loading model from Hub\n",
    "   role= role,\n",
    "   transformers_version=\"4.17\",  # transformers version used\n",
    "   pytorch_version=\"1.10\",        # pytorch version used\n",
    "   py_version='py38',            # python version used\n",
    "   image_uri=image_uri,          # image uri\n",
    ")"
   ]
  },
  {
   "cell_type": "code",
   "execution_count": 18,
   "metadata": {},
   "outputs": [
    {
     "data": {
      "text/plain": [
       "'Model2'"
      ]
     },
     "execution_count": 18,
     "metadata": {},
     "output_type": "execute_result"
    }
   ],
   "source": [
    "instance_type = \"ml.c5.4xlarge\"\n",
    "container2_def = model2.prepare_container_def(instance_type)\n",
    "sagemaker_session.create_model(\n",
    "    name=model2_name, role=role, container_defs=container2_def\n",
    ")\n"
   ]
  },
  {
   "cell_type": "code",
   "execution_count": 19,
   "metadata": {},
   "outputs": [
    {
     "name": "stdout",
     "output_type": "stream",
     "text": [
      "{'ModelName': 'Model1', 'VariantName': 'Variant1', 'InitialVariantWeight': 1, 'InitialInstanceCount': 1, 'InstanceType': 'ml.c5.4xlarge'} {'ModelName': 'Model2', 'VariantName': 'Variant2', 'InitialVariantWeight': 1, 'InitialInstanceCount': 1, 'InstanceType': 'ml.c5.4xlarge'}\n"
     ]
    }
   ],
   "source": [
    "from sagemaker.session import production_variant\n",
    "\n",
    "variant1 = production_variant(\n",
    "    model_name=model1_name,\n",
    "    instance_type=\"ml.c5.4xlarge\",\n",
    "    initial_instance_count=1,\n",
    "    variant_name=\"Variant1\",\n",
    "    initial_weight=1,\n",
    ")\n",
    "variant2 = production_variant(\n",
    "    model_name=model2_name,\n",
    "    instance_type=\"ml.c5.4xlarge\",\n",
    "    initial_instance_count=1,\n",
    "    variant_name=\"Variant2\",\n",
    "    initial_weight=1,\n",
    ")\n",
    "\n",
    "print(variant1, variant2)"
   ]
  },
  {
   "cell_type": "code",
   "execution_count": 20,
   "metadata": {},
   "outputs": [
    {
     "name": "stdout",
     "output_type": "stream",
     "text": [
      "EndpointName=ab-testing-2022-08-18-08-49-27\n",
      "-----------!"
     ]
    },
    {
     "data": {
      "text/plain": [
       "'ab-testing-2022-08-18-08-49-27'"
      ]
     },
     "execution_count": 20,
     "metadata": {},
     "output_type": "execute_result"
    }
   ],
   "source": [
    "from datetime import datetime\n",
    "endpoint_name = f\"ab-testing-{datetime.now():%Y-%m-%d-%H-%M-%S}\"\n",
    "print(f\"EndpointName={endpoint_name}\")\n",
    "\n",
    "sagemaker_session.endpoint_from_production_variants(\n",
    "    name=endpoint_name, production_variants=[variant1, variant2]\n",
    ")"
   ]
  },
  {
   "cell_type": "code",
   "execution_count": 21,
   "metadata": {},
   "outputs": [
    {
     "name": "stdout",
     "output_type": "stream",
     "text": [
      "{'context': '\\nThe Amazon rainforest (Portuguese: Floresta Amazônica or Amazônia; Spanish: Selva Amazónica, Amazonía or usually Amazonia; French: Forêt amazonienne; Dutch: Amazoneregenwoud), also known in English as Amazonia or the Amazon Jungle, is a moist broadleaf forest that covers most of the Amazon basin of South America. This basin encompasses 7,000,000 square kilometres (2,700,000 sq mi), of which 5,500,000 square kilometres (2,100,000 sq mi) are covered by the rainforest. This region includes territory belonging to nine nations. The majority of the forest is contained within Brazil, with 60% of the rainforest, followed by Peru with 13%, Colombia with 10%, and with minor amounts in Venezuela, Ecuador, Bolivia, Guyana, Suriname and French Guiana. States or departments in four nations contain \"Amazonas\" in their names. The Amazon represents over half of the planet\\'s remaining rainforests, and comprises the largest and most biodiverse tract of tropical rainforest in the world, with an estimated 390 billion individual trees divided into 16,000 species.\\n', 'question': 'What kind of forest is Amazon?'}\n"
     ]
    }
   ],
   "source": [
    "import json\n",
    "\n",
    "context = r\"\"\"\n",
    "The Amazon rainforest (Portuguese: Floresta Amazônica or Amazônia; Spanish: Selva Amazónica, Amazonía or usually Amazonia; French: Forêt amazonienne; Dutch: Amazoneregenwoud), also known in English as Amazonia or the Amazon Jungle, is a moist broadleaf forest that covers most of the Amazon basin of South America. This basin encompasses 7,000,000 square kilometres (2,700,000 sq mi), of which 5,500,000 square kilometres (2,100,000 sq mi) are covered by the rainforest. This region includes territory belonging to nine nations. The majority of the forest is contained within Brazil, with 60% of the rainforest, followed by Peru with 13%, Colombia with 10%, and with minor amounts in Venezuela, Ecuador, Bolivia, Guyana, Suriname and French Guiana. States or departments in four nations contain \"Amazonas\" in their names. The Amazon represents over half of the planet's remaining rainforests, and comprises the largest and most biodiverse tract of tropical rainforest in the world, with an estimated 390 billion individual trees divided into 16,000 species.\n",
    "\"\"\"\n",
    "\n",
    "question=\"What kind of forest is Amazon?\"\n",
    "\n",
    "\n",
    "data = {\"context\":context, \"question\":question}\n",
    "print(data)"
   ]
  },
  {
   "cell_type": "code",
   "execution_count": 43,
   "metadata": {},
   "outputs": [],
   "source": [
    "sm_runtime_client = sagemaker_session.sagemaker_runtime_client\n",
    "sm_client = sagemaker_session.sagemaker_client\n",
    "\n",
    "results = {\"Variant1\": 0, \"Variant2\": 0, \"total_count\": 0}\n",
    "\n",
    "# Testing \n",
    "for i in range(20):\n",
    "    response = sm_runtime_client.invoke_endpoint(EndpointName=endpoint_name, ContentType=\"application/json\", Body=json.dumps(data))\n",
    "    results[response['InvokedProductionVariant']] += 1\n",
    "    results[\"total_count\"] += 1"
   ]
  },
  {
   "cell_type": "code",
   "execution_count": 37,
   "metadata": {},
   "outputs": [
    {
     "name": "stdout",
     "output_type": "stream",
     "text": [
      "Invokations per endpoint variant: \n",
      " Variant1: 45.0%; \n",
      " Variant2: 55.00000000000001%.\n"
     ]
    }
   ],
   "source": [
    "print(f\"Invokations per endpoint variant: \\n Variant1: {results['Variant1']/results['total_count']*100}%; \\n Variant2: {results['Variant2']/results['total_count']*100}%.\")"
   ]
  },
  {
   "cell_type": "markdown",
   "metadata": {},
   "source": [
    "## Update variant weights "
   ]
  },
  {
   "cell_type": "code",
   "execution_count": 39,
   "metadata": {},
   "outputs": [
    {
     "data": {
      "text/plain": [
       "{'EndpointArn': 'arn:aws:sagemaker:us-east-1:941656036254:endpoint/ab-testing-2022-08-18-08-49-27',\n",
       " 'ResponseMetadata': {'RequestId': 'b084b28d-148d-4591-a76a-dd47f691738d',\n",
       "  'HTTPStatusCode': 200,\n",
       "  'HTTPHeaders': {'x-amzn-requestid': 'b084b28d-148d-4591-a76a-dd47f691738d',\n",
       "   'content-type': 'application/x-amz-json-1.1',\n",
       "   'content-length': '98',\n",
       "   'date': 'Thu, 18 Aug 2022 13:35:17 GMT'},\n",
       "  'RetryAttempts': 0}}"
      ]
     },
     "execution_count": 39,
     "metadata": {},
     "output_type": "execute_result"
    }
   ],
   "source": [
    "sm_client.update_endpoint_weights_and_capacities(\n",
    "    EndpointName=endpoint_name,\n",
    "    DesiredWeightsAndCapacities=[\n",
    "        {\"DesiredWeight\": 10, \"VariantName\": \"Variant1\"},\n",
    "        {\"DesiredWeight\": 90, \"VariantName\": \"Variant2\"},\n",
    "    ],\n",
    ")"
   ]
  },
  {
   "cell_type": "code",
   "execution_count": 41,
   "metadata": {},
   "outputs": [
    {
     "name": "stdout",
     "output_type": "stream",
     "text": [
      "Status: InService\n"
     ]
    }
   ],
   "source": [
    "import time \n",
    "\n",
    "endpoint_description = sm_client.describe_endpoint(EndpointName=endpoint_name)\n",
    "status = endpoint_description['EndpointStatus']\n",
    "print(\"Status: \" + status)\n",
    "\n",
    "while status=='Updating':\n",
    "    time.sleep(1)\n",
    "    endpoint_description = sm_client.describe_endpoint(EndpointName=endpoint_name)\n",
    "    status = endpoint_description['EndpointStatus']\n",
    "    instance_count = endpoint_description['ProductionVariants'][0]['CurrentInstanceCount']\n",
    "    print(f\"Status: {status}\")\n",
    "    print(f\"Current Instance count: {instance_count}\")"
   ]
  },
  {
   "cell_type": "code",
   "execution_count": 44,
   "metadata": {},
   "outputs": [],
   "source": [
    "results = {\"Variant1\": 0, \"Variant2\": 0, \"total_count\": 0}\n",
    "\n",
    "# Testing \n",
    "for i in range(20):\n",
    "    response = sm_runtime_client.invoke_endpoint(EndpointName=endpoint_name, ContentType=\"application/json\", Body=json.dumps(data))\n",
    "    results[response['InvokedProductionVariant']] += 1\n",
    "    results[\"total_count\"] += 1"
   ]
  },
  {
   "cell_type": "code",
   "execution_count": 45,
   "metadata": {},
   "outputs": [
    {
     "name": "stdout",
     "output_type": "stream",
     "text": [
      "Invokations per endpoint variant: \n",
      " Variant1: 10.0%; \n",
      " Variant2: 90.0%.\n"
     ]
    }
   ],
   "source": [
    "print(f\"Invokations per endpoint variant: \\n Variant1: {results['Variant1']/results['total_count']*100}%; \\n Variant2: {results['Variant2']/results['total_count']*100}%.\")"
   ]
  },
  {
   "cell_type": "code",
   "execution_count": null,
   "metadata": {},
   "outputs": [],
   "source": [
    "sm_client.delete_endpoint(EndpointName=endpoint_name)"
   ]
  },
  {
   "cell_type": "code",
   "execution_count": null,
   "metadata": {},
   "outputs": [],
   "source": []
  }
 ],
 "metadata": {
  "interpreter": {
   "hash": "02fb69b38420c3d4e00e3a2af627e83f052bc85ba6fe46654fe57240b48dcaee"
  },
  "kernelspec": {
   "display_name": "Python 3.9.12 ('sagemaker2')",
   "language": "python",
   "name": "python3"
  },
  "language_info": {
   "codemirror_mode": {
    "name": "ipython",
    "version": 3
   },
   "file_extension": ".py",
   "mimetype": "text/x-python",
   "name": "python",
   "nbconvert_exporter": "python",
   "pygments_lexer": "ipython3",
   "version": "3.9.12"
  },
  "orig_nbformat": 4
 },
 "nbformat": 4,
 "nbformat_minor": 2
}
